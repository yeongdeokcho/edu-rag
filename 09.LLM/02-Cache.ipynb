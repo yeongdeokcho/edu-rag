{
 "cells": [
  {
   "cell_type": "markdown",
   "metadata": {},
   "source": [
    "## 캐싱(Caching)\n",
    "\n",
    "LangChain은 LLM을 위한 선택적 캐싱 레이어를 제공합니다.\n",
    "\n",
    "이는 두 가지 이유로 유용합니다.\n",
    "\n",
    "- 동일한 완료를 여러 번 요청하는 경우 LLM 공급자에 대한 **API 호출 횟수를 줄여 비용을 절감**할 수 있습니다.\n",
    "- LLM 제공업체에 대한 **API 호출 횟수를 줄여 애플리케이션의 속도를 높일 수** 있습니다."
   ]
  },
  {
   "cell_type": "code",
   "execution_count": 1,
   "metadata": {},
   "outputs": [
    {
     "data": {
      "text/plain": [
       "True"
      ]
     },
     "execution_count": 1,
     "metadata": {},
     "output_type": "execute_result"
    }
   ],
   "source": [
    "# API KEY를 환경변수로 관리하기 위한 설정 파일\n",
    "from dotenv import load_dotenv\n",
    "\n",
    "# API KEY 정보로드\n",
    "load_dotenv()"
   ]
  },
  {
   "cell_type": "code",
   "execution_count": 2,
   "metadata": {},
   "outputs": [
    {
     "name": "stdout",
     "output_type": "stream",
     "text": [
      "LangSmith 추적을 시작합니다.\n",
      "[프로젝트명]\n",
      "CH09-Models\n"
     ]
    }
   ],
   "source": [
    "# LangSmith 추적을 설정합니다. https://smith.langchain.com\n",
    "# !pip install langchain-teddynote\n",
    "from langchain_teddynote import logging\n",
    "\n",
    "# 프로젝트 이름을 입력합니다.\n",
    "logging.langsmith(\"CH09-Models\")"
   ]
  },
  {
   "cell_type": "markdown",
   "metadata": {},
   "source": [
    "모델과 프롬프트를 생성합니다\n"
   ]
  },
  {
   "cell_type": "code",
   "execution_count": 3,
   "metadata": {},
   "outputs": [],
   "source": [
    "from langchain_openai import ChatOpenAI\n",
    "from langchain_core.prompts import PromptTemplate\n",
    "\n",
    "# 모델을 생성합니다.\n",
    "llm = ChatOpenAI(model_name=\"gpt-3.5-turbo\")\n",
    "\n",
    "# 프롬프트를 생성합니다.\n",
    "prompt = PromptTemplate.from_template(\"{country} 에 대해서 200자 내외로 요약해줘\")\n",
    "\n",
    "# 체인을 생성합니다.\n",
    "chain = prompt | llm"
   ]
  },
  {
   "cell_type": "code",
   "execution_count": 4,
   "metadata": {},
   "outputs": [
    {
     "name": "stdout",
     "output_type": "stream",
     "text": [
      "한국은 동아시아에 위치한 대한민국과 조선민주주의인민공화국으로 구성되어 있는 나라이다. 대한민국은 수도가 서울에 위치하고 있으며, 고도의 경제력과 기술력을 보유한 선진국가로 발전해 왔다. 한류와 K-pop 등의 문화 콘텐츠로 세계적으로 유명하며, 전통문화와 현대문화가 조화를 이루고 있다. 또한, 한반도 북쪽에 위치한 조선민주주의인민공화국은 사회주의 체제를 갖추고 있으며, 국내외에서의 관계가 긴장되어 있는 상황이다. 두 나라는 공통된 역사와 문화를 공유하고 있지만, 이념과 체제 차이로 인해 국가 간 갈등과 분쟁이 계속되고 있다.\n",
      "CPU times: user 73.5 ms, sys: 28.7 ms, total: 102 ms\n",
      "Wall time: 3.02 s\n"
     ]
    }
   ],
   "source": [
    "%%time \n",
    "response = chain.invoke({\"country\": \"한국\"})\n",
    "print(response.content)"
   ]
  },
  {
   "cell_type": "markdown",
   "metadata": {},
   "source": [
    "## InMemoryCache\n",
    "\n",
    "인메모리 캐시를 사용하여 동일 질문에 대한 답변을 저장하고, 캐시에 저장된 답변을 반환합니다."
   ]
  },
  {
   "cell_type": "code",
   "execution_count": 5,
   "metadata": {},
   "outputs": [
    {
     "name": "stdout",
     "output_type": "stream",
     "text": [
      "한국은 동아시아에 위치한 대한민국과 조선민주주의인민공화국으로 구성된 한반도의 국가이다. 서울이라는 수도를 중심으로 다양한 문화와 역사를 자랑하며, 전통적인 한옥과 현대적인 건축물이 공존하는 독특한 모습을 보여준다. 한국은 전통적인 한복을 비롯한 다양한 문화유산과 한류 문화로 유명하며, 한글이라는 독특한 문자체계를 사용하고 있다. 또한, 한반도의 자연환경은 다양한 산악지대와 바다로 둘러싸여 있어 자연경관이 아름다운 편이다. 한국은 선진화된 IT 기술과 경제력을 바탕으로 세계적으로 각광받고 있으며, 한반도 주변 국가와의 관계도 중요한 역할을 하고 있다.\n",
      "CPU times: user 291 ms, sys: 48.2 ms, total: 340 ms\n",
      "Wall time: 4.2 s\n"
     ]
    }
   ],
   "source": [
    "%%time\n",
    "from langchain.globals import set_llm_cache\n",
    "from langchain.cache import InMemoryCache\n",
    "\n",
    "# 인메모리 캐시를 사용합니다.\n",
    "set_llm_cache(InMemoryCache())\n",
    "\n",
    "# 체인을 실행합니다.\n",
    "response = chain.invoke({\"country\": \"한국\"})\n",
    "print(response.content)"
   ]
  },
  {
   "cell_type": "code",
   "execution_count": 6,
   "metadata": {},
   "outputs": [
    {
     "name": "stdout",
     "output_type": "stream",
     "text": [
      "한국은 동아시아에 위치한 대한민국과 조선민주주의인민공화국으로 구성된 한반도의 국가이다. 서울이라는 수도를 중심으로 다양한 문화와 역사를 자랑하며, 전통적인 한옥과 현대적인 건축물이 공존하는 독특한 모습을 보여준다. 한국은 전통적인 한복을 비롯한 다양한 문화유산과 한류 문화로 유명하며, 한글이라는 독특한 문자체계를 사용하고 있다. 또한, 한반도의 자연환경은 다양한 산악지대와 바다로 둘러싸여 있어 자연경관이 아름다운 편이다. 한국은 선진화된 IT 기술과 경제력을 바탕으로 세계적으로 각광받고 있으며, 한반도 주변 국가와의 관계도 중요한 역할을 하고 있다.\n",
      "CPU times: user 5.78 ms, sys: 979 μs, total: 6.76 ms\n",
      "Wall time: 15.3 ms\n"
     ]
    }
   ],
   "source": [
    "%%time\n",
    "# 체인을 실행합니다.\n",
    "response = chain.invoke({\"country\": \"한국\"})\n",
    "print(response.content)"
   ]
  },
  {
   "cell_type": "markdown",
   "metadata": {},
   "source": [
    "## SQLite Cache\n"
   ]
  },
  {
   "cell_type": "code",
   "execution_count": 7,
   "metadata": {},
   "outputs": [],
   "source": [
    "from langchain_community.cache import SQLiteCache\n",
    "from langchain_core.globals import set_llm_cache\n",
    "import os\n",
    "\n",
    "# 캐시 디렉토리를 생성합니다.\n",
    "if not os.path.exists(\"cache\"):\n",
    "    os.makedirs(\"cache\")\n",
    "\n",
    "# SQLiteCache를 사용합니다.\n",
    "set_llm_cache(SQLiteCache(database_path=\"cache/llm_cache.db\"))"
   ]
  },
  {
   "cell_type": "code",
   "execution_count": 10,
   "metadata": {},
   "outputs": [
    {
     "name": "stdout",
     "output_type": "stream",
     "text": [
      "미국은 북아메리카에 위치한 연방 공화국으로, 50개의 주로 이루어져 있다. 세계에서 가장 강대한 국가 중 하나로 경제적, 군사적, 문화적으로 세계적 영향력을 가지고 있다. 원칙적으로 민주주의를 지향하며, 다양한 인종, 문화, 종교가 공존하는 다문화 사회이다. 주요 도시로는 뉴욕, 로스앤젤레스, 시카고, 워싱턴DC 등이 있으며, 세계적으로 유명한 자유의 여신상, 화이트하우스, 할리우드 등이 있다. 미국은 세계 최고의 경제 대국이며, 과학기술, 문화, 엔터테인먼트 분야에서도 선두를 달리고 있다.\n",
      "CPU times: user 35.5 ms, sys: 6.1 ms, total: 41.6 ms\n",
      "Wall time: 3.05 s\n"
     ]
    }
   ],
   "source": [
    "%%time \n",
    "# 체인을 실행합니다.\n",
    "response = chain.invoke({\"country\": \"미국\"})\n",
    "print(response.content)"
   ]
  },
  {
   "cell_type": "code",
   "execution_count": 11,
   "metadata": {},
   "outputs": [
    {
     "name": "stdout",
     "output_type": "stream",
     "text": [
      "미국은 북아메리카에 위치한 연방 공화국으로, 50개의 주로 이루어져 있다. 세계에서 가장 강대한 국가 중 하나로 경제적, 군사적, 문화적으로 세계적 영향력을 가지고 있다. 원칙적으로 민주주의를 지향하며, 다양한 인종, 문화, 종교가 공존하는 다문화 사회이다. 주요 도시로는 뉴욕, 로스앤젤레스, 시카고, 워싱턴DC 등이 있으며, 세계적으로 유명한 자유의 여신상, 화이트하우스, 할리우드 등이 있다. 미국은 세계 최고의 경제 대국이며, 과학기술, 문화, 엔터테인먼트 분야에서도 선두를 달리고 있다.\n",
      "CPU times: user 8.79 ms, sys: 1.4 ms, total: 10.2 ms\n",
      "Wall time: 12.9 ms\n"
     ]
    }
   ],
   "source": [
    "%%time\n",
    "# 체인을 실행합니다.\n",
    "response = chain.invoke({\"country\": \"미국\"})\n",
    "print(response.content)"
   ]
  }
 ],
 "metadata": {
  "kernelspec": {
   "display_name": "edu-rag-h6vp0ZFq-py3.11",
   "language": "python",
   "name": "python3"
  },
  "language_info": {
   "codemirror_mode": {
    "name": "ipython",
    "version": 3
   },
   "file_extension": ".py",
   "mimetype": "text/x-python",
   "name": "python",
   "nbconvert_exporter": "python",
   "pygments_lexer": "ipython3",
   "version": "3.11.9"
  }
 },
 "nbformat": 4,
 "nbformat_minor": 2
}
