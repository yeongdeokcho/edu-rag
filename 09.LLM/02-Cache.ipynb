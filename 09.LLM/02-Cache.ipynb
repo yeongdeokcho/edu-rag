{
 "cells": [
  {
   "cell_type": "markdown",
   "metadata": {},
   "source": [
    "## 캐싱(Caching)\n",
    "\n",
    "LangChain은 LLM을 위한 선택적 캐싱 레이어를 제공합니다.\n",
    "\n",
    "이는 두 가지 이유로 유용합니다.\n",
    "\n",
    "- 동일한 완료를 여러 번 요청하는 경우 LLM 공급자에 대한 **API 호출 횟수를 줄여 비용을 절감**할 수 있습니다.\n",
    "- LLM 제공업체에 대한 **API 호출 횟수를 줄여 애플리케이션의 속도를 높일 수** 있습니다."
   ]
  },
  {
   "cell_type": "code",
   "execution_count": 1,
   "metadata": {},
   "outputs": [
    {
     "data": {
      "text/plain": [
       "True"
      ]
     },
     "execution_count": 1,
     "metadata": {},
     "output_type": "execute_result"
    }
   ],
   "source": [
    "# API KEY를 환경변수로 관리하기 위한 설정 파일\n",
    "from dotenv import load_dotenv\n",
    "\n",
    "# API KEY 정보로드\n",
    "load_dotenv()"
   ]
  },
  {
   "cell_type": "code",
   "execution_count": 2,
   "metadata": {},
   "outputs": [
    {
     "name": "stdout",
     "output_type": "stream",
     "text": [
      "LangSmith 추적을 시작합니다.\n",
      "[프로젝트명]\n",
      "CH09-Models\n"
     ]
    }
   ],
   "source": [
    "# LangSmith 추적을 설정합니다. https://smith.langchain.com\n",
    "# !pip install langchain-teddynote\n",
    "from langchain_teddynote import logging\n",
    "\n",
    "# 프로젝트 이름을 입력합니다.\n",
    "logging.langsmith(\"CH09-Models\")"
   ]
  },
  {
   "cell_type": "markdown",
   "metadata": {},
   "source": [
    "모델과 프롬프트를 생성합니다\n"
   ]
  },
  {
   "cell_type": "code",
   "execution_count": 3,
   "metadata": {},
   "outputs": [],
   "source": [
    "from langchain_openai import ChatOpenAI\n",
    "from langchain_core.prompts import PromptTemplate\n",
    "\n",
    "# 모델을 생성합니다.\n",
    "llm = ChatOpenAI(model_name=\"gpt-3.5-turbo\")\n",
    "\n",
    "# 프롬프트를 생성합니다.\n",
    "prompt = PromptTemplate.from_template(\"{country} 에 대해서 200자 내외로 요약해줘\")\n",
    "\n",
    "# 체인을 생성합니다.\n",
    "chain = prompt | llm"
   ]
  },
  {
   "cell_type": "code",
   "execution_count": 4,
   "metadata": {},
   "outputs": [
    {
     "name": "stdout",
     "output_type": "stream",
     "text": [
      "한반도 동쪽에 위치한 대한민국은 수도는 서울이며 인구는 약 5천만 명이다. 경제는 선진국으로 발전하여 세계에서 세 번째로 큰 경제체제를 갖고 있다. 한국은 전통적인 문화와 현대화가 조화를 이루는 나라로, 한류 문화로 유명하다. 또한 기술력이 뛰어나 IT 분야에서 선두를 달리는 나라이며, K-pop과 영화 등 엔터테인먼트 산업도 세계적으로 유명하다. 한국은 고속철도와 지하철 등 교통 인프라가 잘 구축되어 있고, 자연 경관과 역사적인 유적지도 풍부하다. 현재 분단 상태인 한반도에서 남쪽에 위치한 대한민국은 북한과의 관계와 통일 문제에 대한 과제를 안고 있다.\n",
      "CPU times: user 74.2 ms, sys: 28.7 ms, total: 103 ms\n",
      "Wall time: 6.71 s\n"
     ]
    }
   ],
   "source": [
    "%%time \n",
    "response = chain.invoke({\"country\": \"한국\"})\n",
    "print(response.content)"
   ]
  },
  {
   "cell_type": "markdown",
   "metadata": {},
   "source": [
    "## InMemoryCache\n",
    "\n",
    "인메모리 캐시를 사용하여 동일 질문에 대한 답변을 저장하고, 캐시에 저장된 답변을 반환합니다."
   ]
  },
  {
   "cell_type": "code",
   "execution_count": 5,
   "metadata": {},
   "outputs": [
    {
     "name": "stdout",
     "output_type": "stream",
     "text": [
      "한국은 동아시아에 위치한 대한민국과 북한으로 나뉘는 국가이다. 대한민국은 수도가 서울에 위치하며 민주주의 체제를 따르고 있고 경제적으로 선진국으로 발전하였다. 한국은 전통적인 문화와 현대적인 발전이 공존하는 나라로, K-pop, K-drama, 한국 요리 등이 전 세계적으로 인기를 끌고 있다. 또한 한반도 북쪽에 위치한 북한은 공산주의 체제를 가지고 있으며 국제사회와의 관계가 긴장되어 있는 상태이다. 한국은 뛰어난 기술력과 산업력을 갖추고 있어 세계적인 기업들을 배출하고 있으며, 한류 열풍으로 한국 문화가 전 세계에 널리 알려져 있다.\n",
      "CPU times: user 292 ms, sys: 57.5 ms, total: 349 ms\n",
      "Wall time: 3.19 s\n"
     ]
    }
   ],
   "source": [
    "%%time\n",
    "from langchain.globals import set_llm_cache\n",
    "from langchain.cache import InMemoryCache\n",
    "\n",
    "# 인메모리 캐시를 사용합니다.\n",
    "set_llm_cache(InMemoryCache())\n",
    "\n",
    "# 체인을 실행합니다.\n",
    "response = chain.invoke({\"country\": \"한국\"})\n",
    "print(response.content)"
   ]
  },
  {
   "cell_type": "code",
   "execution_count": 6,
   "metadata": {},
   "outputs": [
    {
     "name": "stdout",
     "output_type": "stream",
     "text": [
      "한국은 동아시아에 위치한 대한민국과 북한으로 나뉘는 국가이다. 대한민국은 수도가 서울에 위치하며 민주주의 체제를 따르고 있고 경제적으로 선진국으로 발전하였다. 한국은 전통적인 문화와 현대적인 발전이 공존하는 나라로, K-pop, K-drama, 한국 요리 등이 전 세계적으로 인기를 끌고 있다. 또한 한반도 북쪽에 위치한 북한은 공산주의 체제를 가지고 있으며 국제사회와의 관계가 긴장되어 있는 상태이다. 한국은 뛰어난 기술력과 산업력을 갖추고 있어 세계적인 기업들을 배출하고 있으며, 한류 열풍으로 한국 문화가 전 세계에 널리 알려져 있다.\n",
      "CPU times: user 7.85 ms, sys: 934 μs, total: 8.79 ms\n",
      "Wall time: 10 ms\n"
     ]
    }
   ],
   "source": [
    "%%time\n",
    "# 체인을 실행합니다.\n",
    "response = chain.invoke({\"country\": \"한국\"})\n",
    "print(response.content)"
   ]
  },
  {
   "cell_type": "markdown",
   "metadata": {},
   "source": [
    "## SQLite Cache\n"
   ]
  },
  {
   "cell_type": "code",
   "execution_count": 9,
   "metadata": {},
   "outputs": [],
   "source": [
    "from langchain_community.cache import SQLiteCache\n",
    "from langchain_core.globals import set_llm_cache\n",
    "import os\n",
    "\n",
    "# 캐시 디렉토리를 생성합니다.\n",
    "if not os.path.exists(\"cache\"):\n",
    "    os.makedirs(\"cache\")\n",
    "\n",
    "# SQLiteCache를 사용합니다.\n",
    "set_llm_cache(SQLiteCache(database_path=\"cache/llm_cache.db\"))"
   ]
  },
  {
   "cell_type": "code",
   "execution_count": 10,
   "metadata": {},
   "outputs": [
    {
     "name": "stdout",
     "output_type": "stream",
     "text": [
      "미국은 북아메리카 대륙의 주요 국가로, 50개의 주로 이루어져 있으며 워싱턴 D.C.를 수도로 갖고 있다. 세계 최대의 경제 규모와 군사력을 보유하고 있으며, 다양한 인종과 문화가 공존하는 다문화국가이다. 미국은 과학기술, 영화, 음악, 문학 등의 분야에서 세계적인 영향력을 행사하고 있으며, 자유주의와 민주주의 원칙을 중시하는 국가로서 국제사회에서도 중요한 역할을 수행하고 있다. 그러나 최근 몇 년간 정치적 분열과 사회적 문제들이 부각되어 있으며, 경제적 불평등과 인종차별 문제 등에 대한 해결이 시급한 과제로 대두되고 있다.\n",
      "CPU times: user 45.3 ms, sys: 8.11 ms, total: 53.4 ms\n",
      "Wall time: 2.97 s\n"
     ]
    }
   ],
   "source": [
    "%%time \n",
    "# 체인을 실행합니다.\n",
    "response = chain.invoke({\"country\": \"미국\"})\n",
    "print(response.content)"
   ]
  },
  {
   "cell_type": "code",
   "execution_count": 11,
   "metadata": {},
   "outputs": [
    {
     "name": "stdout",
     "output_type": "stream",
     "text": [
      "미국은 북아메리카 대륙의 주요 국가로, 50개의 주로 이루어져 있으며 워싱턴 D.C.를 수도로 갖고 있다. 세계 최대의 경제 규모와 군사력을 보유하고 있으며, 다양한 인종과 문화가 공존하는 다문화국가이다. 미국은 과학기술, 영화, 음악, 문학 등의 분야에서 세계적인 영향력을 행사하고 있으며, 자유주의와 민주주의 원칙을 중시하는 국가로서 국제사회에서도 중요한 역할을 수행하고 있다. 그러나 최근 몇 년간 정치적 분열과 사회적 문제들이 부각되어 있으며, 경제적 불평등과 인종차별 문제 등에 대한 해결이 시급한 과제로 대두되고 있다.\n",
      "CPU times: user 12.9 ms, sys: 3.42 ms, total: 16.3 ms\n",
      "Wall time: 74.1 ms\n"
     ]
    }
   ],
   "source": [
    "%%time\n",
    "# 체인을 실행합니다.\n",
    "response = chain.invoke({\"country\": \"미국\"})\n",
    "print(response.content)"
   ]
  }
 ],
 "metadata": {
  "kernelspec": {
   "display_name": "edu-rag-h6vp0ZFq-py3.11",
   "language": "python",
   "name": "python3"
  },
  "language_info": {
   "codemirror_mode": {
    "name": "ipython",
    "version": 3
   },
   "file_extension": ".py",
   "mimetype": "text/x-python",
   "name": "python",
   "nbconvert_exporter": "python",
   "pygments_lexer": "ipython3",
   "version": "3.11.9"
  }
 },
 "nbformat": 4,
 "nbformat_minor": 2
}
