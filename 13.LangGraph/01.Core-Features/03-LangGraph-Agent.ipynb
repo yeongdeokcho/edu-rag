{
 "cells": [
  {
   "cell_type": "markdown",
   "id": "eec680f5",
   "metadata": {},
   "source": [
    "# LangGraph 활용 Agent 구축\n",
    "\n",
    "이번 튜토리얼에서는 웹 검색 도구를 통해 챗봇에 웹 검색 기능수행하는 Agent 을 추가합니다.\n",
    "\n",
    "LLM 에 도구를 바인딩하여 LLM 에 입력된 요청에 따라 필요시 웹 검색 도구(Tool)를 호출하는 Agent 을 구축합니다.\n",
    "\n",
    "뿐만아니라, 조건부 엣지를 통해 도구 호출 여부에 따라 다른 노드로 라우팅하는 방법도 함께 배워봅니다."
   ]
  },
  {
   "cell_type": "code",
   "execution_count": null,
   "id": "de9d9d8d",
   "metadata": {},
   "outputs": [],
   "source": [
    "# API 키를 환경변수로 관리하기 위한 설정 파일\n",
    "from dotenv import load_dotenv\n",
    "\n",
    "# API 키 정보 로드\n",
    "load_dotenv()"
   ]
  },
  {
   "cell_type": "code",
   "execution_count": null,
   "id": "6b5c6228",
   "metadata": {},
   "outputs": [],
   "source": [
    "# LangSmith 추적을 설정합니다. https://smith.langchain.com\n",
    "# !pip install -qU langchain-teddynote\n",
    "from langchain_teddynote import logging\n",
    "\n",
    "# 프로젝트 이름을 입력합니다.\n",
    "logging.langsmith(\"CH13-LangGraph-Modules\")"
   ]
  },
  {
   "cell_type": "markdown",
   "id": "9d5376bf",
   "metadata": {},
   "source": [
    "## 도구(Tool) 사용하기\n",
    "\n",
    "**참고**\n",
    "\n",
    "- [도구(Tools)](https://wikidocs.net/262582)\n",
    "\n",
    "챗봇이 \"기억\"에서 답변할 수 없는 질문을 처리하기 위해 웹 검색 도구를 통합할 것입니다. 이 도구를 사용하여 관련 정보를 찾아 더 나은 응답을 제공할 수 있습니다.\n",
    "\n",
    "### 검색 API 도구\n",
    "\n",
    "Tavily 검색 API를 활용하여 검색 기능을 구현하는 도구입니다. 이 도구는 두 가지 주요 클래스를 제공합니다: `TavilySearchResults`와 `TavilyAnswer`.\n",
    "\n",
    "**API 키 발급 주소**\n",
    "- https://app.tavily.com/\n",
    "\n",
    "발급한 API 키를 환경변수에 설정합니다.\n",
    "\n",
    "`.env` 파일에 아래와 같이 설정합니다.\n",
    "\n",
    "```\n",
    "TAVILY_API_KEY=tvly-abcdefghijklmnopqrstuvwxyz\n",
    "```\n",
    "\n",
    "### TavilySearchResults\n",
    "\n",
    "**설명**\n",
    "- Tavily 검색 API를 쿼리하고 JSON 형식의 결과를 반환합니다.\n",
    "- 포괄적이고 정확하며 신뢰할 수 있는 결과에 최적화된 검색 엔진입니다.\n",
    "- 현재 이벤트에 대한 질문에 답변할 때 유용합니다."
   ]
  },
  {
   "cell_type": "markdown",
   "id": "81cbcea8",
   "metadata": {},
   "source": [
    "다음으로 웹 검색 도구인 `TavilySearchResults`를 생성합니다."
   ]
  },
  {
   "cell_type": "code",
   "execution_count": null,
   "id": "163da255",
   "metadata": {},
   "outputs": [],
   "source": [
    "# !pip install -U langchain-teddynote"
   ]
  },
  {
   "cell_type": "code",
   "execution_count": 1,
   "id": "c04fccdb",
   "metadata": {},
   "outputs": [
    {
     "name": "stdout",
     "output_type": "stream",
     "text": [
      "[{'title': 'kt 5g 요금제 로밍, 이젠 걱정 없는 여행!', 'url': 'https://luluit.tistory.com/288', 'content': '세계 어디서나 자유롭게, kt 5G 요금제 로밍의 매력여행을 떠나는 순간, 우리는 새로운 경험과 감동을 찾고자 하죠. 그런데 모바일 요금 범위와 데이터 사용량에 대한 걱정이 여행의 기쁨을 덜어내기도 합니다. 그래서 나온 것이 바로 kt 5G 요금제 로밍입니다. 이 요금제는 세계 여러 나라에서', 'score': 0.78194773, 'raw_content': 'luluit\\n\\n다국어 번역\\n\\n글자 크기\\n\\n카테고리\\n\\nkt 5g 요금제 로밍, 이젠 걱정 없는 여행!\\n\\n세계 어디서나 자유롭게, kt 5G 요금제 로밍의 매력\\n\\n여행을 떠나는 순간, 우리는 새로운 경험과 감동을 찾고자 하죠. 그런데 모바일 요금 범위와 데이터 사용량에 대한 걱정이 여행의 기쁨을 덜어내기도 합니다. 그래서 나온 것이 바로 kt 5G 요금제 로밍입니다. 이 요금제는 세계 여러 나라에서 안정적이고 빠른 5G 네트워크를 제공하여, 여행지에서의 스마트폰 사용이 한층 더 자유로워졌습니다. 이젠 해외에서도 친구들과 소통하고, 사랑하는 사람들과 실시간으로 연락할 수 있습니다. 여러분이 상상하는 그 전통적인 로밍 걱정, kt 5G 요금제 로밍으로는 이제 사라졌습니다.\\n\\n\\n\\n처음 kt 5G 요금제 로밍에 대해 듣고 나서 \\'과연 이게 진짜일까?\\'라는 의구심이 들었습니다. 여행을 다니면서 데이터 요금 문제로 고민했던 경험이 많으니까요. 하지만 kt의 로밍 서비스가 제공하는 초고속 인터넷 속도와 넉넉한 데이터 용량 덕분에 이것이 사실이라는 것을 곧 깨닫게 되었습니다. 여러분은 여행지에서 멋진 풍경을 배경으로 사진을 찍고, 그 순간을 SNS에 공유할 수 있습니다. kt 5G 요금제 로밍이 여러분의 여행을 훨씬 더 특별하게 만들어 줄 것입니다.\\n\\nkt 5G 요금제 로밍, 어떻게 쓸 수 있나요?\\n\\nkt 5G 요금제 로밍은 매우 간단하고 직관적입니다. 여행을 떠나기 전에 kt 5G 요금제 로밍에 가입하기만 하면 됩니다. 대부분 여행자들이 걱정하는 것은 복잡한 계약 절차이겠지만, kt는 이를 간소화하여 여러분이 걱정 없이 여행을 즐길 수 있도록 배려했습니다. 또한, kt 5G 요금제 로밍은 다양한 국가에서 사용 가능하니, 여행 계획에 맞춰 적절한 요금제 선택이 가능합니다. 예를 들어, 유럽, 아시아 등 다양한 지역에서 로밍 서비스를 이용할 수 있다는 점은 큰 매력입니다.\\n\\n무엇보다도 kt 5G 요금제 로밍의 가장 큰 장점은 대폭 줄어든 요금 부담입니다. 과거에는 로밍 요금이 발등에 떨어진 화살처럼 무서웠지만, 이제는 부담 없이 인터넷을 사용할 수 있으며, 친구와 가족에게 영상 통화도 저전력으로 가능합니다. 여행지에서의 소중한 순간들을 생생하게 공유할 수 있다는 것은 특히나 감정적으로 다가옵니다. 이 얼마나 즐거운 일인가요!\\n\\n여행을 더욱 즐겁게, kt 5G 요금제 로밍의 다양한 혜택\\n\\n여행을 떠날 때, kt 5G 요금제 로밍이 제공하는 다양한 혜택들을 생각해보세요. 첫 번째로, 데이터 과금 걱정이 없다는 점이 가장 큰 혜택 일 것입니다. 실시간으로 제안한 데이터 사용량 내에서만 사용하게 해주셔서, 추가 비용에 대한 불안감이 없습니다. 이러한 이유로 인해 여러분은 정말 여행에만 집중할 수 있습니다. 상황에 따라 긴급상황이 생긴다 해도, kt는 여러분을 위한 로밍 서비스로 CCTV 영상을 안정적으로 스트리밍하는 것부터 간단한 메시지를 주고받기까지 모든 상황을 대비할 수 있습니다.\\n\\n두 번째로, 심지어 kt 5G 요금제 로밍은 품질 보장 서비스를 제공합니다. 여러분이 있는 그곳에서 언제든지 환상적인 속도의 인터넷을 즐길 수 있게끔 배려한 것입니다. 유럽의 작은 카페에서 커피를 마시며, 고속 인터넷으로 영화를 스트리밍하는 상상을 해보세요. 꽤나 럭셔리한 순간이 될 겁니다. 이건 진정한 여행의 재미를 느끼게 합니다.\\n\\nkt 5G 요금제 로밍, 고객 만족도는?\\n\\nkt 5G 요금제 로밍을 사용한 고객들의 만족도는 상당히 높습니다. 고객들은 데이터 로밍 경험이 얼마나 매끄럽고 간편했는지에 대해 긍정적인 반응을 보이고 있습니다. 이용자의 대다수는 여러 번의 여행 중 이 요금제를 이용하여 모든 순간을 만끽했다고 이야기합니다. 다르게 표현하자면, kt 5G 요금제 로밍이 여러분의 여행에 있는 \\'징검다리\\' 역할을 하는 거죠! 여러분의 여행의 발걸음을 더욱 가볍고 자유롭게 만들어줍니다.\\n\\n마지막으로, kt 5G 요금제 로밍은 전 세계 여행자들에게 맞춤형 서비스를 제공합니다. 지역마다 제공하는 패키지가 다르므로 여러분의 여행 스타일에 맞는 요금제를 선택할 수 있습니다. 또, 인플루언서나 여행 블로거의 후기를 살펴보면, 큰 만족감을 느꼈다는 피드백을 자주 볼 수 있죠. 이렇게 다시 생각해보니, kt 5G 요금제 로밍은 여행에 대한 스트레스를 덜어주는 진정한 파트너라고 할 수 있을 것 같습니다.\\n\\nkt 5G 요금제 로밍 이용 시 주의할 점\\n\\nkt 5G 요금제 로밍의 모든 장점에도 불구하고, 몇 가지 유의할 사항이 있습니다. 무엇보다 중요한 것은 미리 로밍 서비스를 신청해야 한다는 점입니다. 일단 여행지에 가면 데이터를 사용할 수 없다고 생각하시면 정말 곤란하죠! 또한, 특정 국가에서는 일부 요금제를 이용할 수 없으니 이 부분을 여행 전 체크하는 것도 잊지 말아야 합니다. 미리미리 준비하는 것이 항상 좋은 결과를 가져올 수 있으니까요.\\n\\n뿐만 아니라, kt 5G 요금제 로밍의 혜택을 무조건 누릴 수 있는 것은 아닙니다. 요금제마다 제공되는 데이터 용량이 다르니, 지나치게 인터넷을 사용할 경우, 추가 요금이 발생할 수 있습니다. 따라서 어느 정도의 데이터 사용량을 예상하고 가는 것도 좋습니다. 여행 중 SNS에 여러 장의 사진을 올린다거나, 영상 통화를 자주 한다면, 주변 네트워크와 공조하여 적절한 요금제를 선택하세요.\\n\\n여행에서 kt 5G 요금제 로밍의 편리함, 이를 확인해보세요!\\n\\n국가 | 요금제 | 데이터 용량 | 요금\\n미국 | 기본형 | 10GB | 20,000원\\n유럽 | 프리미엄형 | 30GB | 40,000원\\n일본 | 스탠다드형 | 15GB | 30,000원\\n위 표를 통해 다양한 나라에서 kt 5G 요금제 로밍의 가격과 요금제를 한눈에 확인할 수 있습니다. 이처럼 여러 선택지가 있어 여러분의 여행 스타일에 맞는 최적의 요금제를 고를 수 있습니다. 그러니까, 어떤 여행이 되든지 kt 5G 요금제 로밍과 함께라면 보다 더 특별하게 기억할 수 있을 것입니다.\\n\\n결론\\n\\nkt 5G 요금제 로밍을 통해 여러분의 여행은 이제 더 이상 데이터 요금 걱정이 없습니다. 과거의 불안함을 뒤로하고, 진정한 여행의 즐거움을 만끽해보세요. 잊지 마세요! 여행이란 단순 힐링이 아니라, 새롭게 경험하는 특별한 순간들로 가득해야 한다는 점을요. kt 5G 요금제 로밍은 여러분의 여행 동반자가 되어줄 것입니다! 아직도 고민하고 계신가요? 그렇다면 지금 바로 kt 5G 요금제 로밍을 시험해보세요!\\n\\n추천 글\\n\\nkt 데이터 무제한 요금제 가격, 이 가격이 진짜일까?\\n\\nkt 데이터 무제한 요금제 가격, 그 진실은?요즘 이동통신 요금제는 소비자들 사이에서 큰 화두입니다. 특히 kt 데이터 무제한 요금제 가격에 대해 많은 이야기들이 오고 가고 있죠. \"무제한\"이라\\n\\nluluit.tistory.com\\n\\n최신 SK알뜰폰 요금제 가입, 꼭 알아야 할 팁!\\n\\nSK알뜰폰 요금제 가입, 먼저 알아야 할 기본 사항최신 SK알뜰폰 요금제 가입을 고려하고 계시다면, 그에 대한 기본적인 이해가 먼저 필요합니다. 요즘은 많은 사람들이 비싼 요금제에서 탈출해\\n\\nluluit.tistory.com\\n\\n5G 요금제, 그 선택이 중요한 순간!\\n\\n5G 요금제: 어떤 선택이 필요할까?우리가 하루하루 살아가는 동안, 기술은 놀랍도록 빠르게 변해가고 있습니다. 그 중에서도 5G 요금제는 특히 그 중요성이 커지고 있습니다. 요즘 사람들은 5G의\\n\\nluluit.tistory.com\\n\\n자주 묻는 질문(FAQ)\\n\\n1. kt 5G 요금제 로밍은 어떻게 신청하나요?\\n\\n여행을 떠나기 전에 kt 5G 요금제 로밍에 가입하면 됩니다. 기본적으로 kt 사이트나 고객 센터를 통해 신청할 수 있으며, 필요에 따라 매장에서 직접 상담받는 것도 가능합니다.\\n\\n2. kt 5G 요금제 로밍의 데이터 용량은 얼마나 되나요?\\n\\n데이터 용량은 선택한 요금제에 따라 다르지만, 일반적으로 10GB에서 30GB까지 다양하게 제공됩니다. 여행 지역에 맞춰 적절한 요금제를 선택해주세요.\\n\\n3. 특정 국가에서 kt 5G 요금제 로밍을 사용할 수 없나요?\\n\\n네, 일부 국가에서는 특정 요금제를 사용할 수 없는 경우가 있으니, 여행 전 kt의 공식 홈페이지나 고객센터를 통해 확인하는 것이 좋습니다.\\n\\n\\n\\n댓글0\\n\\n💲 추천 글\\n\\n\\n\\n\\n\\n티스토리툴바\\n\\n\\n\\n'}, {'title': 'kt 5g 요금제 로밍, 이젠 걱정 없는 여행!', 'url': 'https://luluit.tistory.com/288', 'content': '세계 어디서나 자유롭게, kt 5G 요금제 로밍의 매력여행을 떠나는 순간, 우리는 새로운 경험과 감동을 찾고자 하죠. 그런데 모바일 요금 범위와 데이터 사용량에 대한 걱정이 여행의 기쁨을 덜어내기도 합니다. 그래서 나온 것이 바로 kt 5G 요금제 로밍입니다. 이 요금제는 세계 여러 나라에서', 'score': 0.78194773, 'raw_content': 'luluit\\n\\n다국어 번역\\n\\n글자 크기\\n\\n카테고리\\n\\nkt 5g 요금제 로밍, 이젠 걱정 없는 여행!\\n\\n세계 어디서나 자유롭게, kt 5G 요금제 로밍의 매력\\n\\n여행을 떠나는 순간, 우리는 새로운 경험과 감동을 찾고자 하죠. 그런데 모바일 요금 범위와 데이터 사용량에 대한 걱정이 여행의 기쁨을 덜어내기도 합니다. 그래서 나온 것이 바로 kt 5G 요금제 로밍입니다. 이 요금제는 세계 여러 나라에서 안정적이고 빠른 5G 네트워크를 제공하여, 여행지에서의 스마트폰 사용이 한층 더 자유로워졌습니다. 이젠 해외에서도 친구들과 소통하고, 사랑하는 사람들과 실시간으로 연락할 수 있습니다. 여러분이 상상하는 그 전통적인 로밍 걱정, kt 5G 요금제 로밍으로는 이제 사라졌습니다.\\n\\n\\n\\n처음 kt 5G 요금제 로밍에 대해 듣고 나서 \\'과연 이게 진짜일까?\\'라는 의구심이 들었습니다. 여행을 다니면서 데이터 요금 문제로 고민했던 경험이 많으니까요. 하지만 kt의 로밍 서비스가 제공하는 초고속 인터넷 속도와 넉넉한 데이터 용량 덕분에 이것이 사실이라는 것을 곧 깨닫게 되었습니다. 여러분은 여행지에서 멋진 풍경을 배경으로 사진을 찍고, 그 순간을 SNS에 공유할 수 있습니다. kt 5G 요금제 로밍이 여러분의 여행을 훨씬 더 특별하게 만들어 줄 것입니다.\\n\\nkt 5G 요금제 로밍, 어떻게 쓸 수 있나요?\\n\\nkt 5G 요금제 로밍은 매우 간단하고 직관적입니다. 여행을 떠나기 전에 kt 5G 요금제 로밍에 가입하기만 하면 됩니다. 대부분 여행자들이 걱정하는 것은 복잡한 계약 절차이겠지만, kt는 이를 간소화하여 여러분이 걱정 없이 여행을 즐길 수 있도록 배려했습니다. 또한, kt 5G 요금제 로밍은 다양한 국가에서 사용 가능하니, 여행 계획에 맞춰 적절한 요금제 선택이 가능합니다. 예를 들어, 유럽, 아시아 등 다양한 지역에서 로밍 서비스를 이용할 수 있다는 점은 큰 매력입니다.\\n\\n무엇보다도 kt 5G 요금제 로밍의 가장 큰 장점은 대폭 줄어든 요금 부담입니다. 과거에는 로밍 요금이 발등에 떨어진 화살처럼 무서웠지만, 이제는 부담 없이 인터넷을 사용할 수 있으며, 친구와 가족에게 영상 통화도 저전력으로 가능합니다. 여행지에서의 소중한 순간들을 생생하게 공유할 수 있다는 것은 특히나 감정적으로 다가옵니다. 이 얼마나 즐거운 일인가요!\\n\\n여행을 더욱 즐겁게, kt 5G 요금제 로밍의 다양한 혜택\\n\\n여행을 떠날 때, kt 5G 요금제 로밍이 제공하는 다양한 혜택들을 생각해보세요. 첫 번째로, 데이터 과금 걱정이 없다는 점이 가장 큰 혜택 일 것입니다. 실시간으로 제안한 데이터 사용량 내에서만 사용하게 해주셔서, 추가 비용에 대한 불안감이 없습니다. 이러한 이유로 인해 여러분은 정말 여행에만 집중할 수 있습니다. 상황에 따라 긴급상황이 생긴다 해도, kt는 여러분을 위한 로밍 서비스로 CCTV 영상을 안정적으로 스트리밍하는 것부터 간단한 메시지를 주고받기까지 모든 상황을 대비할 수 있습니다.\\n\\n두 번째로, 심지어 kt 5G 요금제 로밍은 품질 보장 서비스를 제공합니다. 여러분이 있는 그곳에서 언제든지 환상적인 속도의 인터넷을 즐길 수 있게끔 배려한 것입니다. 유럽의 작은 카페에서 커피를 마시며, 고속 인터넷으로 영화를 스트리밍하는 상상을 해보세요. 꽤나 럭셔리한 순간이 될 겁니다. 이건 진정한 여행의 재미를 느끼게 합니다.\\n\\nkt 5G 요금제 로밍, 고객 만족도는?\\n\\nkt 5G 요금제 로밍을 사용한 고객들의 만족도는 상당히 높습니다. 고객들은 데이터 로밍 경험이 얼마나 매끄럽고 간편했는지에 대해 긍정적인 반응을 보이고 있습니다. 이용자의 대다수는 여러 번의 여행 중 이 요금제를 이용하여 모든 순간을 만끽했다고 이야기합니다. 다르게 표현하자면, kt 5G 요금제 로밍이 여러분의 여행에 있는 \\'징검다리\\' 역할을 하는 거죠! 여러분의 여행의 발걸음을 더욱 가볍고 자유롭게 만들어줍니다.\\n\\n마지막으로, kt 5G 요금제 로밍은 전 세계 여행자들에게 맞춤형 서비스를 제공합니다. 지역마다 제공하는 패키지가 다르므로 여러분의 여행 스타일에 맞는 요금제를 선택할 수 있습니다. 또, 인플루언서나 여행 블로거의 후기를 살펴보면, 큰 만족감을 느꼈다는 피드백을 자주 볼 수 있죠. 이렇게 다시 생각해보니, kt 5G 요금제 로밍은 여행에 대한 스트레스를 덜어주는 진정한 파트너라고 할 수 있을 것 같습니다.\\n\\nkt 5G 요금제 로밍 이용 시 주의할 점\\n\\nkt 5G 요금제 로밍의 모든 장점에도 불구하고, 몇 가지 유의할 사항이 있습니다. 무엇보다 중요한 것은 미리 로밍 서비스를 신청해야 한다는 점입니다. 일단 여행지에 가면 데이터를 사용할 수 없다고 생각하시면 정말 곤란하죠! 또한, 특정 국가에서는 일부 요금제를 이용할 수 없으니 이 부분을 여행 전 체크하는 것도 잊지 말아야 합니다. 미리미리 준비하는 것이 항상 좋은 결과를 가져올 수 있으니까요.\\n\\n뿐만 아니라, kt 5G 요금제 로밍의 혜택을 무조건 누릴 수 있는 것은 아닙니다. 요금제마다 제공되는 데이터 용량이 다르니, 지나치게 인터넷을 사용할 경우, 추가 요금이 발생할 수 있습니다. 따라서 어느 정도의 데이터 사용량을 예상하고 가는 것도 좋습니다. 여행 중 SNS에 여러 장의 사진을 올린다거나, 영상 통화를 자주 한다면, 주변 네트워크와 공조하여 적절한 요금제를 선택하세요.\\n\\n여행에서 kt 5G 요금제 로밍의 편리함, 이를 확인해보세요!\\n\\n국가 | 요금제 | 데이터 용량 | 요금\\n미국 | 기본형 | 10GB | 20,000원\\n유럽 | 프리미엄형 | 30GB | 40,000원\\n일본 | 스탠다드형 | 15GB | 30,000원\\n위 표를 통해 다양한 나라에서 kt 5G 요금제 로밍의 가격과 요금제를 한눈에 확인할 수 있습니다. 이처럼 여러 선택지가 있어 여러분의 여행 스타일에 맞는 최적의 요금제를 고를 수 있습니다. 그러니까, 어떤 여행이 되든지 kt 5G 요금제 로밍과 함께라면 보다 더 특별하게 기억할 수 있을 것입니다.\\n\\n결론\\n\\nkt 5G 요금제 로밍을 통해 여러분의 여행은 이제 더 이상 데이터 요금 걱정이 없습니다. 과거의 불안함을 뒤로하고, 진정한 여행의 즐거움을 만끽해보세요. 잊지 마세요! 여행이란 단순 힐링이 아니라, 새롭게 경험하는 특별한 순간들로 가득해야 한다는 점을요. kt 5G 요금제 로밍은 여러분의 여행 동반자가 되어줄 것입니다! 아직도 고민하고 계신가요? 그렇다면 지금 바로 kt 5G 요금제 로밍을 시험해보세요!\\n\\n추천 글\\n\\nkt 데이터 무제한 요금제 가격, 이 가격이 진짜일까?\\n\\nkt 데이터 무제한 요금제 가격, 그 진실은?요즘 이동통신 요금제는 소비자들 사이에서 큰 화두입니다. 특히 kt 데이터 무제한 요금제 가격에 대해 많은 이야기들이 오고 가고 있죠. \"무제한\"이라\\n\\nluluit.tistory.com\\n\\n최신 SK알뜰폰 요금제 가입, 꼭 알아야 할 팁!\\n\\nSK알뜰폰 요금제 가입, 먼저 알아야 할 기본 사항최신 SK알뜰폰 요금제 가입을 고려하고 계시다면, 그에 대한 기본적인 이해가 먼저 필요합니다. 요즘은 많은 사람들이 비싼 요금제에서 탈출해\\n\\nluluit.tistory.com\\n\\n5G 요금제, 그 선택이 중요한 순간!\\n\\n5G 요금제: 어떤 선택이 필요할까?우리가 하루하루 살아가는 동안, 기술은 놀랍도록 빠르게 변해가고 있습니다. 그 중에서도 5G 요금제는 특히 그 중요성이 커지고 있습니다. 요즘 사람들은 5G의\\n\\nluluit.tistory.com\\n\\n자주 묻는 질문(FAQ)\\n\\n1. kt 5G 요금제 로밍은 어떻게 신청하나요?\\n\\n여행을 떠나기 전에 kt 5G 요금제 로밍에 가입하면 됩니다. 기본적으로 kt 사이트나 고객 센터를 통해 신청할 수 있으며, 필요에 따라 매장에서 직접 상담받는 것도 가능합니다.\\n\\n2. kt 5G 요금제 로밍의 데이터 용량은 얼마나 되나요?\\n\\n데이터 용량은 선택한 요금제에 따라 다르지만, 일반적으로 10GB에서 30GB까지 다양하게 제공됩니다. 여행 지역에 맞춰 적절한 요금제를 선택해주세요.\\n\\n3. 특정 국가에서 kt 5G 요금제 로밍을 사용할 수 없나요?\\n\\n네, 일부 국가에서는 특정 요금제를 사용할 수 없는 경우가 있으니, 여행 전 kt의 공식 홈페이지나 고객센터를 통해 확인하는 것이 좋습니다.\\n\\n\\n\\n댓글0\\n\\n💲 추천 글\\n\\n\\n\\n\\n\\n티스토리툴바\\n\\n\\n\\n'}, {'title': 'Kt 로밍 종류와 이용방법. 자동로밍, 데이터무료 쉽네요~ : 네이버 블로그', 'url': 'https://m.blog.naver.com/coa2010/223122403572', 'content': '오늘은 kt 데이터 로밍에 대해 알려드리려고 합니다. 곧 여름을 맞이해서 해외로 휴가 계획을 세우시는 분들이 많으실 거 같은데요. ... kt 5g 슈퍼플랜 베이직 요금제 이상 가입자의 경우 181개국에서 데이터를 무료로 이용할 수 있는 혜택이 있습니다. ... 이렇게 kt', 'score': 0.7272211, 'raw_content': '블로그\\n\\n카테고리 이동\\n\\n\\n\\n\\n옆동네커뮤니티- 휴대폰정보,성지,좌표,인터넷\\n\\nKT 로밍 종류와 이용방법. 자동로밍, 데이터무료 쉽네요~\\n\\n2023. 6. 7. 13:19\\n\\n\\u200b\\n\\n안녕하세요~ 6월 7일 수요일입니다. 오늘은 날씨가 전반적으로 흐리네요. 내일은 소나기가 온다고 하는데 우산을 미리 챙겨두시는 게 좋으실 거 같습니다. 오늘은 KT 데이터 로밍에 대해 알려드리려고 합니다. 곧 여름을 맞이해서 해외로 휴가 계획을 세우시는 분들이 많으실 거 같은데요.\\n\\nKT 로밍 종류와 이용금액을 확인해 보시고 사용하시는 걸 추천드리겠습니다!\\n\\n\\u200b\\n\\n\\u200b\\n\\n\\u200b\\n\\n\\u200b\\n\\n1. KT 로밍 이용방법\\n\\n\\u200b\\n\\nKT 로밍 이용방법은 KT 가입자의 경우 별도의 신청 없이 해외에서 휴대폰 전원을 재부팅하면 자동로밍이 시작됩니다.\\n\\n로밍이 시작되면 현지 제휴 통신망에 연결돼서 통화, 문자, 데이터를 이용할 수 있습니다. 귀국 후 로밍은 종료되고요~\\n\\n자동으로 데이터 로밍 연결이 안 될 때는 다음과 같은 방법으로 로밍 연결을 할 수 있습니다. 자동로밍을 원하지 않을 경우 출국 시 원하는 상품으로 가입하는 방법이 있습니다.\\n\\n\\u200b\\n\\n\\u200b\\n\\n안드로이드\\n\\n1. 스마트폰 전원을 켤 때 알림창에서 사용설정 여부를 체크해 주세요.\\n\\n2. 설정> 연결> 해외 로밍> 데이터 로밍 사용 활성화\\n\\n3. 로밍 연결이 원활하지 않을 때는 이동통신사를 수동으로 선택해서 다른 통신사를 선택해 사용합니다.\\n\\n\\u200b\\n\\n\\u200b\\n\\n아이폰\\n\\n1. 설정> 셀룰러> 셀룰러 데이터 옵션> 데이터 켜기\\n\\n2. 로밍 연결이 안 될 때 셀룰러에서 네트워크 선택> 자동 끔> 제휴 사명 체크\\n\\n\\n\\n\\u200b\\n\\n\\u200b\\n\\n2. 데이터 무료 이용 혜택\\n\\n\\u200b\\n\\nKT 5G 슈퍼플랜 베이직 요금제 이상 가입자의 경우 181개국에서 데이터를 무료로 이용할 수 있는 혜택이 있습니다.\\n\\n요금제별로 데이터 속도는 차이가 있지만 무료로 이용할 수 있는 혜택이니 해외에 나갈 때 잊지 말고 체크하시면 좋겠죠?\\n\\n\\u200b\\n\\n\\u200b\\n\\n\\u200b\\n\\n3. 로밍 종류\\n\\n\\u200b\\n\\n데이터 로밍의 종류는 크게 4가지로 나뉩니다. 데이터, 통화 로밍 요금제로 사용자의 상황에 따라 맞게 신청하시면 됩니다.\\n\\n\\u200b\\n\\n하루종일 ON\\n\\n\\u200b\\n\\n요금제명 | 기본료 및 이용 기간 | 데이터 제공량 | 기타 | 지원 국가\\n하루종일ON프리미엄 | 15,000원/ 1일 | 5GB소진 후 400kbps 속도로 무제한 이용 | 음성: 무제한 | 44개 국가\\n하루종일 ON 플러스 | 13,000원/ 1일 | 800MB소진 후 1Mbps 속도로 무제한 이용 | \\u200b | 181개 국가\\n하루종일 ON | 11,000원/ 1일 | 400MB소진 후 400kbps 속도로 무제한 이용\\n하루종일 ON 톡 | 3,300원/ 1일 | 200kbps 속도로 무제한 이용\\n요금제명\\n\\n기본료 및 이용 기간\\n\\n데이터 제공량\\n\\n기타\\n\\n지원 국가\\n\\n하루종일ON프리미엄\\n\\n15,000원/ 1일\\n\\n5GB 소진 후 400kbps 속도로 무제한 이용\\n\\n음성: 무제한\\n\\n44개 국가\\n\\n하루종일 ON 플러스\\n\\n13,000원/ 1일\\n\\n800MB 소진 후 1Mbps 속도로 무제한 이용\\n\\n\\u200b\\n\\n181개 국가\\n\\n하루종일 ON\\n\\n11,000원/ 1일\\n\\n400MB 소진 후 400kbps 속도로 무제한 이용\\n\\n하루종일 ON 톡\\n\\n3,300원/ 1일\\n\\n200kbps 속도로 무제한 이용\\n\\n\\u200b\\n\\n하루종일 ON 로밍의 특징은 한 사람이 데이터를 이용할 때 추천하는 요금제로 제공 데이터 소진 후 속도제한으로 이용할 수 있다는 점이 특징이며 프리미엄의 경우 음성 통화가 무제한이라는 점도 눈에 띕니다.\\n\\n\\u200b\\n\\n\\u200b\\n\\n데이터 함께 ON\\n\\n\\u200b\\n\\n데이터 용량 | 기본료 및 이용 기간 | 1GB 충전 시 | 기타 | 지원 국가\\n4GB | 33,000원/ 15일 | 14,300원 | 최대 3명이 데이터 함께 사용할 수 있음 | 아시아/ 미주\\n8GB | 44,000원/ 30일\\n12GB | 66,000원/ 30일\\n2GB | 33,000원/ 15일 | 18,700원 | 글로벌 (아시아/미주/유럽/오세아니아/중동)\\n4GB | 44,000원/ 30일\\n6GB | 66,000원/ 30일\\n데이터 용량\\n\\n기본료 및 이용 기간\\n\\n1GB 충전 시\\n\\n기타\\n\\n지원 국가\\n\\n4GB\\n\\n33,000원/ 15일\\n\\n14,300원\\n\\n최대 3명이 데이터 함께 사용할 수 있음\\n\\n아시아/ 미주\\n\\n8GB\\n\\n44,000원/ 30일\\n\\n12GB\\n\\n66,000원/ 30일\\n\\n2GB\\n\\n33,000원/ 15일\\n\\n18,700원\\n\\n글로벌 (아시아/미주/유럽/오세아니아/중동)\\n\\n4GB\\n\\n44,000원/ 30일\\n\\n6GB\\n\\n66,000원/ 30일\\n\\n데이터 함께 ON 요금제는 최대 3명까지 데이터를 공유할 수 있는 점이 특징인데요. 대표 회선으로 가입 후 추가할 번호를 등록해서 사용할 수 있으며 KT 회선만 이용이 가능합니다. 그리고 추가 회선의 경우 별도로 함께ON 부가 서비스를 가입해야 추가적인 데이터 금액이 발생하지 않는다고 하니 꼭 가입하셔야 합니다.\\n\\n\\u200b\\n\\n\\u200b\\n\\n기가팩 중일\\n\\n\\u200b\\n\\n데이터 용량 | 기본료 및 이용 기간 | 지원 국가\\n5GB | 25,000원/ 5일 | 중국, 일본\\n데이터 용량\\n\\n기본료 및 이용 기간\\n\\n지원 국가\\n\\n5GB\\n\\n25,000원/ 5일\\n\\n중국, 일본\\n\\n기가팩 중일 요금제는 중국, 일본에서 사용할 수 있는 요금제인데요. 속도 제한 없이 제공된 데이터를 사용할 수 있고 해당 요금제의 경우 출국 전 미리 신청해야 되는 특징이 있습니다.\\n\\n\\u200b\\n\\n\\u200b\\n\\n로밍ON 음성 하루종일\\n\\n\\u200b\\n\\nKT 가입자의 경우 해외에서 통화를 할 경우 초당 1.98원으로 비교적 저렴하게 이용할 수 있는데요. 이외에도 통화량이 많을 경우 통화 무제한으로 이용할 수 있는 로밍 요금제로 가입도 가능합니다.\\n\\n요금제명 | 기본료 및 이용 기간 | 음성 제공량 | 지원 국가\\n로밍ON 음성 하루종일 | 11,000원/ 1일 | 음성 수신, 발신 무제한 | 45개 국가\\n요금제명\\n\\n기본료 및 이용 기간\\n\\n음성 제공량\\n\\n지원 국가\\n\\n로밍ON 음성 하루종일\\n\\n11,000원/ 1일\\n\\n음성 수신, 발신 무제한\\n\\n45개 국가\\n\\n\\u200b\\n\\n이렇게 KT 로밍 요금제 종류 및 이용방법과 혜택에 대해 알려드렸습니다. 데이터를 공유할 수 있는 로밍 서비스도 눈에 띄었고 데이터를 무료로 이용할 수 있는 부분도 인상적이었습니다. 다만 요금제의 종류에 따라 지원되는 국가가 다르기 때문에 출국 전에 해당 요금제 가입이 가능한지 홈페이지에서 꼭 체크하셔서 잘 사용하시면 좋으실 거 같습니다.\\n\\n알려드린 로밍 서비스로 알찬 여행이 되시면 좋겠고 오늘의 포스팅은 이렇게 마무리하도록 하겠습니다. 감사합니다. ^^\\n\\n\\u200b\\n\\n옆동네커뮤니티,휴대폰 성지,성지좌표,갤럭시S23,플립4,아이폰14 프로맥스,플립5,갤럭시울트라,휴대폰뽐뿌\\n\\ncafe.naver.com\\n\\n\\u200b\\n\\n카테고리\\n\\n'}, {'title': 'Kt 로밍 종류와 이용방법. 자동로밍, 데이터무료 쉽네요~ : 네이버 블로그', 'url': 'https://m.blog.naver.com/coa2010/223122403572', 'content': '오늘은 kt 데이터 로밍에 대해 알려드리려고 합니다. 곧 여름을 맞이해서 해외로 휴가 계획을 세우시는 분들이 많으실 거 같은데요. ... kt 5g 슈퍼플랜 베이직 요금제 이상 가입자의 경우 181개국에서 데이터를 무료로 이용할 수 있는 혜택이 있습니다. ... 이렇게 kt', 'score': 0.7272211, 'raw_content': '블로그\\n\\n카테고리 이동\\n\\n\\n\\n\\n옆동네커뮤니티- 휴대폰정보,성지,좌표,인터넷\\n\\nKT 로밍 종류와 이용방법. 자동로밍, 데이터무료 쉽네요~\\n\\n2023. 6. 7. 13:19\\n\\n\\u200b\\n\\n안녕하세요~ 6월 7일 수요일입니다. 오늘은 날씨가 전반적으로 흐리네요. 내일은 소나기가 온다고 하는데 우산을 미리 챙겨두시는 게 좋으실 거 같습니다. 오늘은 KT 데이터 로밍에 대해 알려드리려고 합니다. 곧 여름을 맞이해서 해외로 휴가 계획을 세우시는 분들이 많으실 거 같은데요.\\n\\nKT 로밍 종류와 이용금액을 확인해 보시고 사용하시는 걸 추천드리겠습니다!\\n\\n\\u200b\\n\\n\\u200b\\n\\n\\u200b\\n\\n\\u200b\\n\\n1. KT 로밍 이용방법\\n\\n\\u200b\\n\\nKT 로밍 이용방법은 KT 가입자의 경우 별도의 신청 없이 해외에서 휴대폰 전원을 재부팅하면 자동로밍이 시작됩니다.\\n\\n로밍이 시작되면 현지 제휴 통신망에 연결돼서 통화, 문자, 데이터를 이용할 수 있습니다. 귀국 후 로밍은 종료되고요~\\n\\n자동으로 데이터 로밍 연결이 안 될 때는 다음과 같은 방법으로 로밍 연결을 할 수 있습니다. 자동로밍을 원하지 않을 경우 출국 시 원하는 상품으로 가입하는 방법이 있습니다.\\n\\n\\u200b\\n\\n\\u200b\\n\\n안드로이드\\n\\n1. 스마트폰 전원을 켤 때 알림창에서 사용설정 여부를 체크해 주세요.\\n\\n2. 설정> 연결> 해외 로밍> 데이터 로밍 사용 활성화\\n\\n3. 로밍 연결이 원활하지 않을 때는 이동통신사를 수동으로 선택해서 다른 통신사를 선택해 사용합니다.\\n\\n\\u200b\\n\\n\\u200b\\n\\n아이폰\\n\\n1. 설정> 셀룰러> 셀룰러 데이터 옵션> 데이터 켜기\\n\\n2. 로밍 연결이 안 될 때 셀룰러에서 네트워크 선택> 자동 끔> 제휴 사명 체크\\n\\n\\n\\n\\u200b\\n\\n\\u200b\\n\\n2. 데이터 무료 이용 혜택\\n\\n\\u200b\\n\\nKT 5G 슈퍼플랜 베이직 요금제 이상 가입자의 경우 181개국에서 데이터를 무료로 이용할 수 있는 혜택이 있습니다.\\n\\n요금제별로 데이터 속도는 차이가 있지만 무료로 이용할 수 있는 혜택이니 해외에 나갈 때 잊지 말고 체크하시면 좋겠죠?\\n\\n\\u200b\\n\\n\\u200b\\n\\n\\u200b\\n\\n3. 로밍 종류\\n\\n\\u200b\\n\\n데이터 로밍의 종류는 크게 4가지로 나뉩니다. 데이터, 통화 로밍 요금제로 사용자의 상황에 따라 맞게 신청하시면 됩니다.\\n\\n\\u200b\\n\\n하루종일 ON\\n\\n\\u200b\\n\\n요금제명 | 기본료 및 이용 기간 | 데이터 제공량 | 기타 | 지원 국가\\n하루종일ON프리미엄 | 15,000원/ 1일 | 5GB소진 후 400kbps 속도로 무제한 이용 | 음성: 무제한 | 44개 국가\\n하루종일 ON 플러스 | 13,000원/ 1일 | 800MB소진 후 1Mbps 속도로 무제한 이용 | \\u200b | 181개 국가\\n하루종일 ON | 11,000원/ 1일 | 400MB소진 후 400kbps 속도로 무제한 이용\\n하루종일 ON 톡 | 3,300원/ 1일 | 200kbps 속도로 무제한 이용\\n요금제명\\n\\n기본료 및 이용 기간\\n\\n데이터 제공량\\n\\n기타\\n\\n지원 국가\\n\\n하루종일ON프리미엄\\n\\n15,000원/ 1일\\n\\n5GB 소진 후 400kbps 속도로 무제한 이용\\n\\n음성: 무제한\\n\\n44개 국가\\n\\n하루종일 ON 플러스\\n\\n13,000원/ 1일\\n\\n800MB 소진 후 1Mbps 속도로 무제한 이용\\n\\n\\u200b\\n\\n181개 국가\\n\\n하루종일 ON\\n\\n11,000원/ 1일\\n\\n400MB 소진 후 400kbps 속도로 무제한 이용\\n\\n하루종일 ON 톡\\n\\n3,300원/ 1일\\n\\n200kbps 속도로 무제한 이용\\n\\n\\u200b\\n\\n하루종일 ON 로밍의 특징은 한 사람이 데이터를 이용할 때 추천하는 요금제로 제공 데이터 소진 후 속도제한으로 이용할 수 있다는 점이 특징이며 프리미엄의 경우 음성 통화가 무제한이라는 점도 눈에 띕니다.\\n\\n\\u200b\\n\\n\\u200b\\n\\n데이터 함께 ON\\n\\n\\u200b\\n\\n데이터 용량 | 기본료 및 이용 기간 | 1GB 충전 시 | 기타 | 지원 국가\\n4GB | 33,000원/ 15일 | 14,300원 | 최대 3명이 데이터 함께 사용할 수 있음 | 아시아/ 미주\\n8GB | 44,000원/ 30일\\n12GB | 66,000원/ 30일\\n2GB | 33,000원/ 15일 | 18,700원 | 글로벌 (아시아/미주/유럽/오세아니아/중동)\\n4GB | 44,000원/ 30일\\n6GB | 66,000원/ 30일\\n데이터 용량\\n\\n기본료 및 이용 기간\\n\\n1GB 충전 시\\n\\n기타\\n\\n지원 국가\\n\\n4GB\\n\\n33,000원/ 15일\\n\\n14,300원\\n\\n최대 3명이 데이터 함께 사용할 수 있음\\n\\n아시아/ 미주\\n\\n8GB\\n\\n44,000원/ 30일\\n\\n12GB\\n\\n66,000원/ 30일\\n\\n2GB\\n\\n33,000원/ 15일\\n\\n18,700원\\n\\n글로벌 (아시아/미주/유럽/오세아니아/중동)\\n\\n4GB\\n\\n44,000원/ 30일\\n\\n6GB\\n\\n66,000원/ 30일\\n\\n데이터 함께 ON 요금제는 최대 3명까지 데이터를 공유할 수 있는 점이 특징인데요. 대표 회선으로 가입 후 추가할 번호를 등록해서 사용할 수 있으며 KT 회선만 이용이 가능합니다. 그리고 추가 회선의 경우 별도로 함께ON 부가 서비스를 가입해야 추가적인 데이터 금액이 발생하지 않는다고 하니 꼭 가입하셔야 합니다.\\n\\n\\u200b\\n\\n\\u200b\\n\\n기가팩 중일\\n\\n\\u200b\\n\\n데이터 용량 | 기본료 및 이용 기간 | 지원 국가\\n5GB | 25,000원/ 5일 | 중국, 일본\\n데이터 용량\\n\\n기본료 및 이용 기간\\n\\n지원 국가\\n\\n5GB\\n\\n25,000원/ 5일\\n\\n중국, 일본\\n\\n기가팩 중일 요금제는 중국, 일본에서 사용할 수 있는 요금제인데요. 속도 제한 없이 제공된 데이터를 사용할 수 있고 해당 요금제의 경우 출국 전 미리 신청해야 되는 특징이 있습니다.\\n\\n\\u200b\\n\\n\\u200b\\n\\n로밍ON 음성 하루종일\\n\\n\\u200b\\n\\nKT 가입자의 경우 해외에서 통화를 할 경우 초당 1.98원으로 비교적 저렴하게 이용할 수 있는데요. 이외에도 통화량이 많을 경우 통화 무제한으로 이용할 수 있는 로밍 요금제로 가입도 가능합니다.\\n\\n요금제명 | 기본료 및 이용 기간 | 음성 제공량 | 지원 국가\\n로밍ON 음성 하루종일 | 11,000원/ 1일 | 음성 수신, 발신 무제한 | 45개 국가\\n요금제명\\n\\n기본료 및 이용 기간\\n\\n음성 제공량\\n\\n지원 국가\\n\\n로밍ON 음성 하루종일\\n\\n11,000원/ 1일\\n\\n음성 수신, 발신 무제한\\n\\n45개 국가\\n\\n\\u200b\\n\\n이렇게 KT 로밍 요금제 종류 및 이용방법과 혜택에 대해 알려드렸습니다. 데이터를 공유할 수 있는 로밍 서비스도 눈에 띄었고 데이터를 무료로 이용할 수 있는 부분도 인상적이었습니다. 다만 요금제의 종류에 따라 지원되는 국가가 다르기 때문에 출국 전에 해당 요금제 가입이 가능한지 홈페이지에서 꼭 체크하셔서 잘 사용하시면 좋으실 거 같습니다.\\n\\n알려드린 로밍 서비스로 알찬 여행이 되시면 좋겠고 오늘의 포스팅은 이렇게 마무리하도록 하겠습니다. 감사합니다. ^^\\n\\n\\u200b\\n\\n옆동네커뮤니티,휴대폰 성지,성지좌표,갤럭시S23,플립4,아이폰14 프로맥스,플립5,갤럭시울트라,휴대폰뽐뿌\\n\\ncafe.naver.com\\n\\n\\u200b\\n\\n카테고리\\n\\n'}, {'title': 'Kt 로밍 요금 진짜 합리적일까? Kt 데이터 로밍 완전 분석!', 'url': 'https://m.blog.naver.com/ummmooh/223758907972', 'content': 'kt는 여행 목적이나 데이터 사용량에 따라 다양한 로밍 요금제를 제공합니다. 이를 잘 활용하면 해외에서도 부담 없이 데이터를 이용할 수 있습니다. 하루종일 로밍 요금제 (일 단위 요금제)-베이직: 11,000원/일 (400mb, 이후 저속)-플러스: 13,000원/일 (800mb, 이후 저속)', 'score': 0.6821721, 'raw_content': '블로그\\n\\n카테고리 이동\\n\\n\\n\\n\\n모아이부부의 하이테크 홈\\n\\nKT 로밍 요금 진짜 합리적일까? KT 데이터 로밍 완전 분석!\\n\\n2025. 2. 13. 9:29\\n\\n해외여행이나 출장 중 스마트폰 데이터를 사용하려면 가장 먼저 고려해야 할 것이 로밍 요금제입니다. 무심코 데이터를 사용했다가 예상치 못한 요금 폭탄을 맞는 경우도 많습니다. 저도 해외 출장을 갈 때마다 로밍 요금제 선택이 고민이었는데요. 데이터 사용량이 많다면 요금제가 적절하지 않을 경우 금액 부담이 상당할 수 있습니다.\\n\\n\\u200b\\n\\n오늘은 KT의 로밍 요금제 종류와 데이터 사용 패턴에 따라 어떤 요금제가 합리적인지 꼼꼼히 분석해보겠습니다. 각 요금제별 특징을 살펴보고, 비용 대비 효율성을 비교하여 최적의 선택 방법까지 알려드리겠습니다.\\n\\n\\u200b\\n\\n목차\\n\\n1. KT 로밍 요금제 종류 및 특징\\n\\n2. 데이터 로밍, 정말 경제적인가?\\n\\n3. 로밍 요금제 선택 가이드\\n\\n4. 로밍 요금 아끼는 팁\\n\\n5. 마무리\\n\\n\\u200b\\n\\n1. KT 로밍 요금제 종류 및 특징\\n\\nKT는 여행 목적이나 데이터 사용량에 따라 다양한 로밍 요금제를 제공합니다. 이를 잘 활용하면 해외에서도 부담 없이 데이터를 이용할 수 있습니다.\\n\\n\\u200b\\n\\n✅ 하루종일 로밍 요금제 (일 단위 요금제)\\n\\n-베이직: 11,000원/일 (400MB, 이후 저속)\\n\\n-플러스: 13,000원/일 (800MB, 이후 저속)\\n\\n-프리미엄: 15,000원/일 (5GB, 이후 저속)\\n\\n\\u200b\\n\\n📌 추천 대상: 짧은 여행(1~7일) 시 적합, 일정에 맞춰 하루 단위 결제 가능\\n\\n\\u200b\\n\\n하루종일 로밍은 짧은 여행이나 출장을 떠나는 사람들에게 적합합니다. 데이터 사용량이 많지 않다면 베이직 요금제도 충분하지만, 동영상 시청이나 업무용 자료 전송이 많다면 프리미엄 요금제가 더 나을 수도 있습니다.\\n\\n\\u200b\\n\\n✅ 함께 쓰는 로밍 (장기 여행자용 데이터 공유 요금제)\\n\\n-아시아/미주 4GB: 33,000원 (15일 사용)\\n\\n-아시아/미주 8GB: 44,000원 (30일 사용)\\n\\n-글로벌 3GB: 33,000원 (15일 사용)\\n\\n-글로벌 6GB: 44,000원 (30일 사용)\\n\\n\\u200b\\n\\n📌 추천 대상: 장기 출장 & 가족 여행 시 유용, 데이터 공유 가능\\n\\n\\u200b\\n\\n이 요금제는 최대 5명이 데이터를 공유할 수 있어 가족 여행이나 출장 팀이 함께 사용하기에 좋습니다. 하지만 데이터를 많이 사용하는 사람과 적게 사용하는 사람이 함께 쓸 경우, 일부 사용자에게 불리할 수도 있습니다.\\n\\n\\u200b\\n\\n✅ 하루종일 로밍 톡 (메신저 전용 요금제)\\n\\n-요금: 3,300원/일\\n\\n-속도: 200Kbps (카카오톡, 라인 등 텍스트 전송 가능)\\n\\n\\u200b\\n\\n📌 추천 대상: 저렴한 비용으로 메신저 사용만 필요한 경우\\n\\n\\u200b\\n\\n저는 개인적으로 하루종일 로밍 톡을 추천하지 않습니다. 200Kbps 속도는 메신저 사용에는 문제가 없지만, 사진 전송이나 간단한 웹 검색도 어려운 속도이기 때문입니다.\\n\\n\\u200b\\n\\n✅ 데이터로밍 12시간 요금제\\n\\n-요금: 6,600원/12시간\\n\\n-데이터: 100MB (이후 저속)\\n\\n\\u200b\\n\\n📌 추천 대상: 공항에서 잠깐 쓰거나, 데이터 사용이 많지 않은 경우\\n\\n\\u200b\\n\\n이 요금제는 공항에서 잠깐 사용할 용도로는 괜찮지만, 100MB는 상당히 빠르게 소진될 수 있습니다. 짧은 시간 내에 데이터를 많이 사용할 계획이라면 하루종일 로밍 요금제가 더 나을 수 있습니다.\\n\\n\\u200b\\n\\n2. 데이터 로밍, 정말 경제적인가?\\n\\nKT 로밍 요금제는 편리하지만, 현지 유심(USIM)이나 eSIM(디지털 유심)과 비교하면 비용이 높은 편입니다.\\n\\n\\u200b\\n\\n-현지 유심 구매: 보통 10~30달러 수준으로 10GB 이상 제공\\n\\n-eSIM 사용: QR코드로 간편하게 개통 가능, 가격이 현지 유심과 비슷함\\n\\n\\u200b\\n\\n개인적으로 해외 체류 기간이 5일 이상이라면 현지 유심을 사용하는 것이 훨씬 경제적이라고 생각합니다. 하지만 단기 여행이나 여러 나라를 방문하는 경우라면 KT 로밍이 편리할 수도 있습니다.\\n\\n\\u200b\\n\\n3. 로밍 요금제 선택 가이드\\n\\n✔ 단기 여행 (1~7일) → 하루종일 로밍 (베이직/플러스/프리미엄)\\n\\n✔ 장기 여행 (2주 이상) → 함께 쓰는 로밍 (아시아/미주/글로벌)\\n\\n✔ 메신저만 사용 → 하루종일 로밍 톡\\n\\n✔ 공항에서 잠깐 사용 → 데이터로밍 12시간\\n\\n\\u200b\\n\\n4. 로밍 요금 아끼는 팁\\n\\n-Wi-Fi 적극 활용: 호텔, 공항, 카페 Wi-Fi 이용\\n\\n-데이터 절약 모드 활성화: 유튜브, SNS 자동 재생 차단\\n\\n-필요 없는 앱 백그라운드 데이터 차단\\n\\n\\u200b\\n\\n5. 마무리\\n\\n✔ KT 로밍 요금제는 여행 일정과 데이터 사용량에 따라 신중하게 선택해야 합니다.\\n\\n✔ 장기 체류라면 현지 유심(eSIM 포함)이 더 경제적일 수 있습니다.\\n\\n✔ 출국 전 미리 로밍 요금제를 신청하면 더욱 편리하게 이용할 수 있습니다.\\n\\n\\u200b\\n\\n해외에서도 데이터 걱정 없이 KT 로밍을 활용해 보세요!\\n\\n\\u200b\\n\\n#KT로밍요금 #KT데이터로밍 #KT로밍할인 #KT로밍방법 #데이터로밍 #통신사로밍 #로밍가격\\n\\n\\u200b\\n\\n\\u200b\\n\\n카테고리\\n\\n'}, {'title': 'Kt 로밍 요금 진짜 합리적일까? Kt 데이터 로밍 완전 분석!', 'url': 'https://m.blog.naver.com/ummmooh/223758907972', 'content': 'kt는 여행 목적이나 데이터 사용량에 따라 다양한 로밍 요금제를 제공합니다. 이를 잘 활용하면 해외에서도 부담 없이 데이터를 이용할 수 있습니다. 하루종일 로밍 요금제 (일 단위 요금제)-베이직: 11,000원/일 (400mb, 이후 저속)-플러스: 13,000원/일 (800mb, 이후 저속)', 'score': 0.6821721, 'raw_content': '블로그\\n\\n카테고리 이동\\n\\n\\n\\n\\n모아이부부의 하이테크 홈\\n\\nKT 로밍 요금 진짜 합리적일까? KT 데이터 로밍 완전 분석!\\n\\n2025. 2. 13. 9:29\\n\\n해외여행이나 출장 중 스마트폰 데이터를 사용하려면 가장 먼저 고려해야 할 것이 로밍 요금제입니다. 무심코 데이터를 사용했다가 예상치 못한 요금 폭탄을 맞는 경우도 많습니다. 저도 해외 출장을 갈 때마다 로밍 요금제 선택이 고민이었는데요. 데이터 사용량이 많다면 요금제가 적절하지 않을 경우 금액 부담이 상당할 수 있습니다.\\n\\n\\u200b\\n\\n오늘은 KT의 로밍 요금제 종류와 데이터 사용 패턴에 따라 어떤 요금제가 합리적인지 꼼꼼히 분석해보겠습니다. 각 요금제별 특징을 살펴보고, 비용 대비 효율성을 비교하여 최적의 선택 방법까지 알려드리겠습니다.\\n\\n\\u200b\\n\\n목차\\n\\n1. KT 로밍 요금제 종류 및 특징\\n\\n2. 데이터 로밍, 정말 경제적인가?\\n\\n3. 로밍 요금제 선택 가이드\\n\\n4. 로밍 요금 아끼는 팁\\n\\n5. 마무리\\n\\n\\u200b\\n\\n1. KT 로밍 요금제 종류 및 특징\\n\\nKT는 여행 목적이나 데이터 사용량에 따라 다양한 로밍 요금제를 제공합니다. 이를 잘 활용하면 해외에서도 부담 없이 데이터를 이용할 수 있습니다.\\n\\n\\u200b\\n\\n✅ 하루종일 로밍 요금제 (일 단위 요금제)\\n\\n-베이직: 11,000원/일 (400MB, 이후 저속)\\n\\n-플러스: 13,000원/일 (800MB, 이후 저속)\\n\\n-프리미엄: 15,000원/일 (5GB, 이후 저속)\\n\\n\\u200b\\n\\n📌 추천 대상: 짧은 여행(1~7일) 시 적합, 일정에 맞춰 하루 단위 결제 가능\\n\\n\\u200b\\n\\n하루종일 로밍은 짧은 여행이나 출장을 떠나는 사람들에게 적합합니다. 데이터 사용량이 많지 않다면 베이직 요금제도 충분하지만, 동영상 시청이나 업무용 자료 전송이 많다면 프리미엄 요금제가 더 나을 수도 있습니다.\\n\\n\\u200b\\n\\n✅ 함께 쓰는 로밍 (장기 여행자용 데이터 공유 요금제)\\n\\n-아시아/미주 4GB: 33,000원 (15일 사용)\\n\\n-아시아/미주 8GB: 44,000원 (30일 사용)\\n\\n-글로벌 3GB: 33,000원 (15일 사용)\\n\\n-글로벌 6GB: 44,000원 (30일 사용)\\n\\n\\u200b\\n\\n📌 추천 대상: 장기 출장 & 가족 여행 시 유용, 데이터 공유 가능\\n\\n\\u200b\\n\\n이 요금제는 최대 5명이 데이터를 공유할 수 있어 가족 여행이나 출장 팀이 함께 사용하기에 좋습니다. 하지만 데이터를 많이 사용하는 사람과 적게 사용하는 사람이 함께 쓸 경우, 일부 사용자에게 불리할 수도 있습니다.\\n\\n\\u200b\\n\\n✅ 하루종일 로밍 톡 (메신저 전용 요금제)\\n\\n-요금: 3,300원/일\\n\\n-속도: 200Kbps (카카오톡, 라인 등 텍스트 전송 가능)\\n\\n\\u200b\\n\\n📌 추천 대상: 저렴한 비용으로 메신저 사용만 필요한 경우\\n\\n\\u200b\\n\\n저는 개인적으로 하루종일 로밍 톡을 추천하지 않습니다. 200Kbps 속도는 메신저 사용에는 문제가 없지만, 사진 전송이나 간단한 웹 검색도 어려운 속도이기 때문입니다.\\n\\n\\u200b\\n\\n✅ 데이터로밍 12시간 요금제\\n\\n-요금: 6,600원/12시간\\n\\n-데이터: 100MB (이후 저속)\\n\\n\\u200b\\n\\n📌 추천 대상: 공항에서 잠깐 쓰거나, 데이터 사용이 많지 않은 경우\\n\\n\\u200b\\n\\n이 요금제는 공항에서 잠깐 사용할 용도로는 괜찮지만, 100MB는 상당히 빠르게 소진될 수 있습니다. 짧은 시간 내에 데이터를 많이 사용할 계획이라면 하루종일 로밍 요금제가 더 나을 수 있습니다.\\n\\n\\u200b\\n\\n2. 데이터 로밍, 정말 경제적인가?\\n\\nKT 로밍 요금제는 편리하지만, 현지 유심(USIM)이나 eSIM(디지털 유심)과 비교하면 비용이 높은 편입니다.\\n\\n\\u200b\\n\\n-현지 유심 구매: 보통 10~30달러 수준으로 10GB 이상 제공\\n\\n-eSIM 사용: QR코드로 간편하게 개통 가능, 가격이 현지 유심과 비슷함\\n\\n\\u200b\\n\\n개인적으로 해외 체류 기간이 5일 이상이라면 현지 유심을 사용하는 것이 훨씬 경제적이라고 생각합니다. 하지만 단기 여행이나 여러 나라를 방문하는 경우라면 KT 로밍이 편리할 수도 있습니다.\\n\\n\\u200b\\n\\n3. 로밍 요금제 선택 가이드\\n\\n✔ 단기 여행 (1~7일) → 하루종일 로밍 (베이직/플러스/프리미엄)\\n\\n✔ 장기 여행 (2주 이상) → 함께 쓰는 로밍 (아시아/미주/글로벌)\\n\\n✔ 메신저만 사용 → 하루종일 로밍 톡\\n\\n✔ 공항에서 잠깐 사용 → 데이터로밍 12시간\\n\\n\\u200b\\n\\n4. 로밍 요금 아끼는 팁\\n\\n-Wi-Fi 적극 활용: 호텔, 공항, 카페 Wi-Fi 이용\\n\\n-데이터 절약 모드 활성화: 유튜브, SNS 자동 재생 차단\\n\\n-필요 없는 앱 백그라운드 데이터 차단\\n\\n\\u200b\\n\\n5. 마무리\\n\\n✔ KT 로밍 요금제는 여행 일정과 데이터 사용량에 따라 신중하게 선택해야 합니다.\\n\\n✔ 장기 체류라면 현지 유심(eSIM 포함)이 더 경제적일 수 있습니다.\\n\\n✔ 출국 전 미리 로밍 요금제를 신청하면 더욱 편리하게 이용할 수 있습니다.\\n\\n\\u200b\\n\\n해외에서도 데이터 걱정 없이 KT 로밍을 활용해 보세요!\\n\\n\\u200b\\n\\n#KT로밍요금 #KT데이터로밍 #KT로밍할인 #KT로밍방법 #데이터로밍 #통신사로밍 #로밍가격\\n\\n\\u200b\\n\\n\\u200b\\n\\n카테고리\\n\\n'}]\n"
     ]
    }
   ],
   "source": [
    "from langchain_teddynote.tools.tavily import TavilySearch\n",
    "\n",
    "# 검색 도구 생성\n",
    "tool = TavilySearch(max_results=3)\n",
    "\n",
    "# 도구 목록에 추가\n",
    "tools = [tool]\n",
    "\n",
    "# 도구 실행\n",
    "# print(tool.invoke(\"테디노트 랭체인 튜토리얼\"))\n",
    "print(tool.invoke(\"kt 5G 요금제 크루즈 로밍에 대해 알려주세요.\"))"
   ]
  },
  {
   "cell_type": "markdown",
   "id": "b51b6ca3",
   "metadata": {},
   "source": [
    "결과는 챗봇이 질문에 답할 수 있도록 사용할 수 있는 페이지 요약입니다.\n",
    "\n",
    "이번에는 LLM에 `bind_tools`를 추가하여 **LLM + 도구** 를 구성합니다. "
   ]
  },
  {
   "cell_type": "code",
   "execution_count": 2,
   "id": "d6166da5",
   "metadata": {},
   "outputs": [],
   "source": [
    "from typing import Annotated\n",
    "from typing_extensions import TypedDict\n",
    "from langgraph.graph.message import add_messages\n",
    "\n",
    "\n",
    "# State 정의\n",
    "class State(TypedDict):\n",
    "    # list 타입에 add_messages 적용(list 에 message 추가)\n",
    "    messages: Annotated[list, add_messages]"
   ]
  },
  {
   "cell_type": "markdown",
   "id": "efe9e3c7",
   "metadata": {},
   "source": [
    "LLM 을 정의하고 도구를 바인딩합니다."
   ]
  },
  {
   "cell_type": "code",
   "execution_count": 4,
   "id": "8c65ea60",
   "metadata": {},
   "outputs": [],
   "source": [
    "from langchain_openai import ChatOpenAI\n",
    "\n",
    "# LLM 초기화\n",
    "llm = ChatOpenAI(model=\"gpt-4o-mini\")\n",
    "\n",
    "# LLM 에 도구 바인딩\n",
    "llm_with_tools = llm.bind_tools(tools)"
   ]
  },
  {
   "cell_type": "markdown",
   "id": "cc0c2841",
   "metadata": {},
   "source": [
    "노드를 정의합니다."
   ]
  },
  {
   "cell_type": "code",
   "execution_count": 5,
   "id": "028d36e5",
   "metadata": {},
   "outputs": [],
   "source": [
    "# 노드 함수 정의\n",
    "def chatbot(state: State):\n",
    "    answer = llm_with_tools.invoke(state[\"messages\"])\n",
    "    # 메시지 목록 반환\n",
    "    return {\"messages\": [answer]}  # 자동으로 add_messages 적용"
   ]
  },
  {
   "cell_type": "markdown",
   "id": "d5c798e0",
   "metadata": {},
   "source": [
    "그래프 생성 및 노드를 추가합니다."
   ]
  },
  {
   "cell_type": "code",
   "execution_count": 6,
   "id": "8e8d16a3",
   "metadata": {},
   "outputs": [
    {
     "data": {
      "text/plain": [
       "<langgraph.graph.state.StateGraph at 0x121eb2f50>"
      ]
     },
     "execution_count": 6,
     "metadata": {},
     "output_type": "execute_result"
    }
   ],
   "source": [
    "from langgraph.graph import StateGraph\n",
    "\n",
    "# 상태 그래프 초기화\n",
    "graph_builder = StateGraph(State)\n",
    "\n",
    "# 노드 추가\n",
    "graph_builder.add_node(\"chatbot\", chatbot)"
   ]
  },
  {
   "cell_type": "markdown",
   "id": "a034ee74",
   "metadata": {},
   "source": [
    "## 도구 노드(Tool Node)"
   ]
  },
  {
   "cell_type": "markdown",
   "id": "89b08e3f",
   "metadata": {},
   "source": [
    "다음으로, 도구가 호출될 경우 실제로 실행할 수 있는 함수를 만들어야 합니다. 이를 위해 새로운 노드에 도구를 추가합니다.\n",
    "\n",
    "가장 최근의 메시지를 확인하고 메시지에 `tool_calls`가 포함되어 있으면 도구를 호출하는 `BasicToolNode`를 구현합니다. \n",
    "\n",
    "지금은 직접 구현하지만, 나중에는 LangGraph의 pre-built 되어있는 [ToolNode](https://langchain-ai.github.io/langgraph/reference/prebuilt/#langgraph.prebuilt.tool_node.ToolNode) 로 대체할 수 있습니다."
   ]
  },
  {
   "cell_type": "code",
   "execution_count": 8,
   "id": "f1437765",
   "metadata": {},
   "outputs": [
    {
     "data": {
      "text/plain": [
       "<langgraph.graph.state.StateGraph at 0x121eb2f50>"
      ]
     },
     "execution_count": 8,
     "metadata": {},
     "output_type": "execute_result"
    }
   ],
   "source": [
    "import json\n",
    "from langchain_core.messages import ToolMessage\n",
    "\n",
    "\n",
    "class BasicToolNode:\n",
    "    \"\"\"Run tools requested in the last AIMessage node\"\"\"\n",
    "\n",
    "    def __init__(self, tools: list) -> None:\n",
    "        # 도구 리스트\n",
    "        self.tools_list = {tool.name: tool for tool in tools}\n",
    "\n",
    "    def __call__(self, inputs: dict):\n",
    "        # 메시지가 존재할 경우 가장 최근 메시지 1개 추출\n",
    "        if messages := inputs.get(\"messages\", []):\n",
    "            message = messages[-1]\n",
    "        else:\n",
    "            raise ValueError(\"No message found in input\")\n",
    "\n",
    "        # 도구 호출 결과\n",
    "        outputs = []\n",
    "        for tool_call in message.tool_calls:\n",
    "            # 도구 호출 후 결과 저장\n",
    "            print(\"========\" + \"tool_call : begin\" + \"=========\")\n",
    "            print(tool_call)\n",
    "            print(\"========\" + \"tool_call : end \" + \"=========\")\n",
    "            tool_result = self.tools_list[tool_call[\"name\"]].invoke(tool_call[\"args\"])\n",
    "            outputs.append(\n",
    "                # 도구 호출 결과를 메시지로 저장\n",
    "                ToolMessage(\n",
    "                    content=json.dumps(\n",
    "                        tool_result, ensure_ascii=False\n",
    "                    ),  # 도구 호출 결과를 문자열로 변환\n",
    "                    name=tool_call[\"name\"],\n",
    "                    tool_call_id=tool_call[\"id\"],\n",
    "                )\n",
    "            )\n",
    "\n",
    "        return {\"messages\": outputs}\n",
    "\n",
    "\n",
    "# 도구 노드 생성\n",
    "# tool_node = BasicToolNode(tools=[tool])\n",
    "tool_node1 = BasicToolNode(tools=[tool])\n",
    "\n",
    "# # 그래프에 도구 노드 추가\n",
    "graph_builder.add_node(\"tools\", tool_node1)"
   ]
  },
  {
   "cell_type": "markdown",
   "id": "de52ecda",
   "metadata": {},
   "source": [
    "## 조건부 엣지(Conditional Edge)\n",
    "\n",
    "도구 노드가 추가되면 `conditional_edges`를 정의할 수 있습니다.\n",
    "\n",
    "**Edges**는 한 노드에서 다음 노드로 제어 흐름을 라우팅합니다. \n",
    "\n",
    "**Conditional edges**는 일반적으로 \"if\" 문을 포함하여 현재 그래프 상태에 따라 다른 노드로 라우팅합니다. 이러한 함수는 현재 그래프 `state`를 받아 다음에 호출할 Node 를 나타내는 **문자열 또는 문자열 목록** 을 반환합니다.\n",
    "\n",
    "아래에서는 `route_tools`라는 라우터 함수를 정의하여 챗봇의 출력에서 `tool_calls`를 확인합니다. \n",
    "\n",
    "이 함수를 `add_conditional_edges`를 호출하여 그래프에 제공하면, `chatbot` 노드가 완료될 때마다 이 함수를 확인하여 다음으로 어디로 갈지 결정합니다.\n",
    "\n",
    "조건은 도구 호출이 있으면 `tools`로, 없으면 `END`로 라우팅됩니다.\n",
    "\n",
    "**참고**\n",
    "\n",
    "- langgraph 에 pre-built 되어 있는 [tools_condition](https://langchain-ai.github.io/langgraph/reference/prebuilt/#tools_condition) 으로 대체할 수 있습니다."
   ]
  },
  {
   "cell_type": "markdown",
   "id": "f758bf4f",
   "metadata": {},
   "source": [
    "### `add_conditional_edges`\n",
    "\n",
    "![add_conditional_edges](./image/langgraph-02.png)\n",
    "\n",
    "`add_conditional_edges` 메서드는 시작 노드에서 여러 대상 노드로의 조건부 엣지를 추가합니다.\n",
    "\n",
    "**매개변수**\n",
    "- `source` (str): 시작 노드. 이 노드를 나갈 때 조건부 엣지가 실행됩니다.\n",
    "- `path` (Union[Callable, Runnable]): 다음 노드를 결정하는 호출 가능한 객체 또는 Runnable. `path_map`을 지정하지 않으면 하나 이상의 노드를 반환해야 합니다. `END`를 반환하면 그래프 실행이 중지됩니다.\n",
    "- `path_map` (Optional[Union[dict[Hashable, str], list[str]]]): 경로와 노드 이름 간의 매핑. 생략하면 `path`가 반환하는 값이 노드 이름이어야 합니다.\n",
    "- `then` (Optional[str]): `path`로 선택된 노드 실행 후 실행할 노드의 이름.\n",
    "\n",
    "**반환값**\n",
    "- Self: 메서드 체이닝을 위해 자기 자신을 반환합니다.\n",
    "\n",
    "**주요 기능**\n",
    "1. 조건부 엣지를 그래프에 추가합니다.\n",
    "2. `path_map`을 딕셔너리로 변환합니다.\n",
    "3. `path` 함수의 반환 타입을 분석하여 자동으로 `path_map`을 생성할 수 있습니다.\n",
    "4. 조건부 분기를 그래프에 저장합니다.\n",
    "\n",
    "**참고**\n",
    "- 이미 컴파일된 그래프에 엣지를 추가하면 경고 메시지가 출력됩니다.\n",
    "- `path` 함수의 반환 값에 대한 타입 힌트가 없거나 `path_map`이 제공되지 않으면, 그래프 시각화 시 해당 엣지가 그래프의 모든 노드로 전환될 수 있다고 가정합니다.\n",
    "- 동일한 이름의 분기가 이미 존재하는 경우 `ValueError`가 발생합니다."
   ]
  },
  {
   "cell_type": "code",
   "execution_count": 9,
   "id": "6a964c74",
   "metadata": {},
   "outputs": [],
   "source": [
    "from langgraph.graph import START, END\n",
    "\n",
    "\n",
    "def route_tools(\n",
    "    state: State,\n",
    "):\n",
    "    if messages := state.get(\"messages\", []):\n",
    "        # 가장 최근 AI 메시지 추출\n",
    "        ai_message = messages[-1]\n",
    "    else:\n",
    "        # 입력 상태에 메시지가 없는 경우 예외 발생\n",
    "        raise ValueError(f\"No messages found in input state to tool_edge: {state}\")\n",
    "\n",
    "    # AI 메시지에 도구 호출이 있는 경우 \"tools\" 반환\n",
    "    if hasattr(ai_message, \"tool_calls\") and len(ai_message.tool_calls) > 0:\n",
    "        # 도구 호출이 있는 경우 \"tools\" 반환\n",
    "        return \"tools\"\n",
    "    # 도구 호출이 없는 경우 \"END\" 반환\n",
    "    return END\n",
    "\n",
    "\n",
    "# `tools_condition` 함수는 챗봇이 도구 사용을 요청하면 \"tools\"를 반환하고, 직접 응답이 가능한 경우 \"END\"를 반환\n",
    "graph_builder.add_conditional_edges(\n",
    "    source=\"chatbot\",\n",
    "    path=route_tools,\n",
    "    # route_tools 의 반환값이 \"tools\" 인 경우 \"tools\" 노드로, 그렇지 않으면 END 노드로 라우팅\n",
    "    path_map={\"tools\": \"tools\", END: END},\n",
    ")\n",
    "\n",
    "# tools > chatbot\n",
    "graph_builder.add_edge(\"tools\", \"chatbot\")\n",
    "\n",
    "# START > chatbot\n",
    "graph_builder.add_edge(START, \"chatbot\")\n",
    "\n",
    "# 그래프 컴파일\n",
    "graph = graph_builder.compile()"
   ]
  },
  {
   "cell_type": "markdown",
   "id": "beab199c",
   "metadata": {},
   "source": [
    "**조건부 엣지**가 단일 노드에서 시작해야 합니다.\n",
    "\n",
    "이는 그래프에 \"`chatbot`\" 노드가 실행될 때마다 도구를 호출하면 'tools'로 이동하고, 직접 응답하면 루프를 종료하라는 의미입니다. \n",
    "\n",
    "사전 구축된 `tools_condition`처럼, 함수는 도구 호출이 없을 경우 `END` 문자열을 반환(그래프 종료) 합니다. 그래프가 `END`로 전환되면 더 이상 완료할 작업이 없으며 실행을 중지합니다."
   ]
  },
  {
   "cell_type": "code",
   "execution_count": 10,
   "id": "8d4d1118",
   "metadata": {},
   "outputs": [
    {
     "data": {
      "image/png": "[encoded data removed]",
      "text/plain": [
       "<IPython.core.display.Image object>"
      ]
     },
     "metadata": {},
     "output_type": "display_data"
    }
   ],
   "source": [
    "from langchain_teddynote.graphs import visualize_graph\n",
    "\n",
    "# 그래프 시각화\n",
    "visualize_graph(graph)"
   ]
  },
  {
   "cell_type": "code",
   "execution_count": null,
   "id": "bb06f338",
   "metadata": {},
   "outputs": [],
   "source": [
    "from IPython.display import Image, display\n",
    "\n",
    "try:\n",
    "    display(Image(graph.get_graph().draw_mermaid_png()))\n",
    "except Exception:\n",
    "    # This requires some extra dependencies and is optional\n",
    "    pass"
   ]
  },
  {
   "cell_type": "markdown",
   "id": "b736b473",
   "metadata": {},
   "source": [
    "이제 봇에게 훈련 데이터 외의 질문을 할 수 있습니다."
   ]
  },
  {
   "cell_type": "code",
   "execution_count": 11,
   "id": "31343b25",
   "metadata": {},
   "outputs": [
    {
     "name": "stdout",
     "output_type": "stream",
     "text": [
      "\n",
      "==============\n",
      "STEP: messages\n",
      "==============\n",
      "\n",
      "content='kt 5G 요금제 크루즈 로밍에 대해 알려주세요.' additional_kwargs={} response_metadata={} id='beee6bf6-f191-4841-b8f3-ecc9479eade4'\n",
      "\n",
      "==============\n",
      "STEP: messages\n",
      "==============\n",
      "\n",
      "content='' additional_kwargs={'tool_calls': [{'id': 'call_eruHgIR5k20lbj1RLhX7vX3F', 'function': {'arguments': '{\"query\":\"kt 5G 요금제 크루즈 로밍\"}', 'name': 'tavily_web_search'}, 'type': 'function'}], 'refusal': None} response_metadata={'token_usage': {'completion_tokens': 29, 'prompt_tokens': 108, 'total_tokens': 137, 'completion_tokens_details': {'accepted_prediction_tokens': 0, 'audio_tokens': 0, 'reasoning_tokens': 0, 'rejected_prediction_tokens': 0}, 'prompt_tokens_details': {'audio_tokens': 0, 'cached_tokens': 0}}, 'model_name': 'gpt-4o-mini-2024-07-18', 'system_fingerprint': 'fp_b8bc95a0ac', 'finish_reason': 'tool_calls', 'logprobs': None} id='run-460af563-b58d-4e3a-bd70-01930138c3c1-0' tool_calls=[{'name': 'tavily_web_search', 'args': {'query': 'kt 5G 요금제 크루즈 로밍'}, 'id': 'call_eruHgIR5k20lbj1RLhX7vX3F', 'type': 'tool_call'}] usage_metadata={'input_tokens': 108, 'output_tokens': 29, 'total_tokens': 137, 'input_token_details': {'audio': 0, 'cache_read': 0}, 'output_token_details': {'audio': 0, 'reasoning': 0}}\n",
      "========tool_call : begin=========\n",
      "{'name': 'tavily_web_search', 'args': {'query': 'kt 5G 요금제 크루즈 로밍'}, 'id': 'call_eruHgIR5k20lbj1RLhX7vX3F', 'type': 'tool_call'}\n",
      "========tool_call : end =========\n",
      "\n",
      "==============\n",
      "STEP: messages\n",
      "==============\n",
      "\n",
      "content='[{\"title\": \"[여행꿀팁] Kt 해외 로밍 무료 5g 요금제 총정리 : 네이버 블로그\", \"url\": \"https://m.blog.naver.com/cat_veling/223592445791\", \"content\": \"KT 해외 로밍 5G 요금제 총정리 바쁘신 분들은 하단의 요약을 참고해 주세요. 제가 KT 로밍 정보를 찾\", \"score\": 0.53881395, \"raw_content\": \"블로그\\\\n\\\\n카테고리 이동\\\\n\\\\n\\\\n\\\\n\\\\n인생 여행중인 고양이\\\\n\\\\n[여행꿀팁] KT 해외 로밍 무료 5G 요금제 총정리\\\\n\\\\n2024. 9. 23. 8:10\\\\n\\\\nKT 해외 로밍 무료 5G 요금제 총정리\\\\n\\\\nKT 해외 로밍 5G 요금제 총정리\\\\n\\\\n#KT로밍 #KT해외로밍 #kt5g요금제로밍 #KT로밍요금제 #KT로밍무료 #KT로밍가격 #KT자동로밍 #KT로밍신청 #KT로밍전화\\\\n\\\\n\\u200b\\\\n\\\\n바쁘신 분들은 하단의 요약을 참고해 주세요.\\\\n\\\\n\\u200b\\\\n\\\\n제가 KT 로밍 정보를 찾아보다\\\\n\\\\n정말 놀랬던 것이 있는데요.\\\\n\\\\n\\u200b\\\\n\\\\n특정 요금제를 사용하면\\\\n\\\\n해외 로밍도 무료로 이용할 수 있더라고요.\\\\n\\\\n\\u200b\\\\n\\\\n해외 갈때마다 무조건 유심 사갔는데,\\\\n\\\\n미리 알아보지 않은 것이\\\\n\\\\n정말 후회됐습니다.\\\\n\\\\n\\u200b\\\\n\\\\n오늘 정리해드리는 요금제를 사용중이시라면\\\\n\\\\n해외에서도 무료 로밍을 사용하실 수 있으니\\\\n\\\\n끝까지 잘 봐주세요.\\\\n\\\\nKT 로밍 무료?\\\\n\\\\n정확히 말하면 지금 사용고 계시는\\\\n\\\\n요금제에 혜택 가격이 포함되어 있는 것이죠.\\\\n\\\\n별도의 신청 없이 해외 나가시면\\\\n\\\\n바로 이용이 가능하다고 해요.\\\\n\\\\n\\u200b\\\\n\\\\n해외 로밍시 별도의 추가금이 없으니\\\\n\\\\n무료라고 할 수도 있겠습니다.\\\\n\\\\nKT 로밍 무료 요금제 정리\\\\n\\\\n출처-공홈\\\\n\\\\n위의 요금제를 사용하시는 분들은\\\\n\\\\n해외 여행시 로밍을 무료로 받으실 수 있어요.\\\\n\\\\n\\u200b\\\\n\\\\n\\u200b\\\\n\\\\n5G 초이스\\\\n\\\\n출처-공홈\\\\n\\\\n초이스 요금제에는\\\\n\\\\n프리미엄/스페셜/베이직이 있는데요.\\\\n\\\\n어떤 요금제냐에 따라\\\\n\\\\n제공받는 데이터도 다릅니다.\\\\n\\\\n\\u200b\\\\n\\\\n프리미엄 같은 경우 최대 3Mbps로\\\\n\\\\n무제한 사용이 가능하고,\\\\n\\\\n\\u200b\\\\n\\\\n스페셜/베이직 같은 경우 100Kbps로\\\\n\\\\n무제한 사용이 가능합니다.\\\\n\\\\n\\u200b\\\\n\\\\n\\u200b\\\\n\\\\n5G 스페셜/베이직\\\\n\\\\n출처-공홈\\\\n\\\\n스페셜/베이직 요금제는\\\\n\\\\n동일하게 100Kbps속도로\\\\n\\\\n무제한 사용 가능합니다.\\\\n\\\\n\\u200b\\\\n\\\\n\\u200b\\\\n\\\\n5G Y슬림/베이직/스페셜\\\\n\\\\n출처-공홈\\\\n\\\\nY스페셜/베이직은 1Mbps로\\\\n\\\\n무제한 사용이 가능하고,\\\\n\\\\n\\u200b\\\\n\\\\nY슬림은 100Kbps로 무제한 사용 가능합니다.\\\\n\\\\n\\u200b\\\\n\\\\n참고로\\\\n\\\\n3Mbps - 유투브 표준 품질 영상 시청, 구글맵\\\\n\\\\n1Mbps - 웹서핑 가능한 속도\\\\n\\\\n100Kbps - SNS, 카카오톡 등의 텍스트 사용\\\\n\\\\n이용이 가능합니다.\\\\n\\\\n\\u200b\\\\n\\\\n | 5G 요금제(초이스 포함) | 5G Y요금제\\\\n스페셜 | 베이직 | 프리미엄 | Y 스페셜 | Y 베이직 | Y 슬림\\\\n제공 데이터 | 최대 100Kbps | 최대 3Mbps | 최대 1Mbps | 최대 100Kbps\\\\n5G 요금제(초이스 포함)\\\\n\\\\n5G Y요금제\\\\n\\\\n스페셜\\\\n\\\\n베이직\\\\n\\\\n프리미엄\\\\n\\\\nY 스페셜\\\\n\\\\nY 베이직\\\\n\\\\nY 슬림\\\\n\\\\n제공 데이터\\\\n\\\\n최대 100Kbps\\\\n\\\\n최대 3Mbps\\\\n\\\\n최대 1Mbps\\\\n\\\\n최대 100Kbps\\\\n\\\\n위의 표로 편하게 보세요!\\\\n\\\\n사용 가능 국가\\\\n\\\\n출처-공홈\\\\n\\\\n사용 가능 국가는 위의 182개국인데요.\\\\n\\\\n대부분의 국가에서 사용이 가능해요.\\\\n\\\\n\\u200b\\\\n\\\\n찾이 편하시도록 텍스트로 적어 두었으니\\\\n\\\\ncontrol + F로 찾아보세요!\\\\n\\\\n대륙 | 제공 국가\\\\n아시아 | 괌, 네팔, 대만, 동티모르, 라오스, 마카오, 말레이시아, 몽골, 방글라데시, 베트남, 브루나이, 사이판, 스리랑카, 싱가포르, 우즈베키스탄, 인도, 인도네시아, 일본, 중국, 카자흐스탄, 캄보디아, 키르키즈스탄, 타지키스탄, 태국, 파키스탄, 필리핀, 홍콩\\\\n미주/남미 | 가이아나, 과달루페, 과테말라, 그레나다, 그린란드, 니카라과, 데시라데, 도미니카, 도미니카 공화국, 마르티니크, 마리갈란테, 멕시코, 몬체러트, 미국, 미국령 버진 아일랜드, 바베이도스, 버뮤다, 보네르, 볼리비아, 브라질, 생피에르미클롱, 세인트루시아, 세인트마틴, 세인트빈센트, 세인트키츠네비스, 셍박뗄레미, 수리남, 아루바, 아르헨티나, 아이티, 앤티가바부다, 앵귈라, 에콰도르, 엘살바도르, 영국령버진아일랜드, 온두라스, 우루과이, 자메이카, 칠레, 캐나다, 케이만군도, 코스타리카, 콜롬비아, 쿠라소, 터크스앤카이코스군도, 트리니다드토바고, 파나마, 파라과이, 페루, 푸에르토리코, 프랑스령기아나\\\\n유럽 | 건지섬, 그리스, 네덜란드, 노르웨이, 덴마크, 독일, 라트비아, 러시아, 루마니아, 룩셈부르크, 리투아니아, 리히텐슈타인, 마케도니아, 맨섬, 모나코, 몬테네그로, 몰도바, 몰타, 바티칸시국, 벨기에, 벨라루스, 보스니아, 불가리아, 산마리노, 세르비아, 세우타, 스발바르, 스웨덴, 스위스, 스페인, 슬로바키아, 슬로베니아, 아르메니아, 아이슬란드, 아일랜드, 알바니아, 에스토니아, 영국, 오스트리아, 올란드제도, 우크라이나, 이탈리아, 저지섬, 조지아, 지브롤터, 체코, 카나리제도, 코소보, 크로아티아, 키프로스, 터키_튀르키예, 파로제도, 포르투갈, 폴란드, 프랑스, 핀란드, 헝가리\\\\n중동 | 바레인, 사우디아라비아, 아랍에미리트, 아제르바이잔, 아프가니스탄, 오만, 요르단, 이라크, 이란, 이스라엘, 카타르, 쿠웨이트, 팔레스타인\\\\n아프리카 | 가나, 나이지리아, 남아프리카공화국, 라이베리아, 르완다, 마다가스카르, 모로코, 모리셔스, 모리타니, 모잠비크, 보츠와나, 부르키나파소, 세이셸, 수단, 알제리, 우간다, 이집트, 차드, 카메룬, 케냐, 콩고민주공화국, 탄자니아, 튀니지\\\\n오세아니아 | 나우루, 뉴질랜드, 바누아투, 사모아, 솔로몬 제도, 크리스마스섬, 타히티_프랑스령폴리네시아, 통가, 파푸아뉴기니, 피지, 호주\\\\n대륙\\\\n\\\\n제공 국가\\\\n\\\\n아시아\\\\n\\\\n괌, 네팔, 대만, 동티모르, 라오스, 마카오, 말레이시아, 몽골, 방글라데시, 베트남, 브루나이, 사이판, 스리랑카, 싱가포르, 우즈베키스탄, 인도, 인도네시아, 일본, 중국, 카자흐스탄, 캄보디아, 키르키즈스탄, 타지키스탄, 태국, 파키스탄, 필리핀, 홍콩\\\\n\\\\n미주/남미\\\\n\\\\n가이아나, 과달루페, 과테말라, 그레나다, 그린란드, 니카라과, 데시라데, 도미니카, 도미니카 공화국, 마르티니크, 마리갈란테, 멕시코, 몬체러트, 미국, 미국령 버진 아일랜드, 바베이도스, 버뮤다, 보네르, 볼리비아, 브라질, 생피에르미클롱, 세인트루시아, 세인트마틴, 세인트빈센트, 세인트키츠네비스, 셍박뗄레미, 수리남, 아루바, 아르헨티나, 아이티, 앤티가바부다, 앵귈라, 에콰도르, 엘살바도르, 영국령버진아일랜드, 온두라스, 우루과이, 자메이카, 칠레, 캐나다, 케이만군도, 코스타리카, 콜롬비아, 쿠라소, 터크스앤카이코스군도, 트리니다드토바고, 파나마, 파라과이, 페루, 푸에르토리코, 프랑스령기아나\\\\n\\\\n유럽\\\\n\\\\n건지섬, 그리스, 네덜란드, 노르웨이, 덴마크, 독일, 라트비아, 러시아, 루마니아, 룩셈부르크, 리투아니아, 리히텐슈타인, 마케도니아, 맨섬, 모나코, 몬테네그로, 몰도바, 몰타, 바티칸시국, 벨기에, 벨라루스, 보스니아, 불가리아, 산마리노, 세르비아, 세우타, 스발바르, 스웨덴, 스위스, 스페인, 슬로바키아, 슬로베니아, 아르메니아, 아이슬란드, 아일랜드, 알바니아, 에스토니아, 영국, 오스트리아, 올란드제도, 우크라이나, 이탈리아, 저지섬, 조지아, 지브롤터, 체코, 카나리제도, 코소보, 크로아티아, 키프로스, 터키_튀르키예, 파로제도, 포르투갈, 폴란드, 프랑스, 핀란드, 헝가리\\\\n\\\\n중동\\\\n\\\\n바레인, 사우디아라비아, 아랍에미리트, 아제르바이잔, 아프가니스탄, 오만, 요르단, 이라크, 이란, 이스라엘, 카타르, 쿠웨이트, 팔레스타인\\\\n\\\\n아프리카\\\\n\\\\n가나, 나이지리아, 남아프리카공화국, 라이베리아, 르완다, 마다가스카르, 모로코, 모리셔스, 모리타니, 모잠비크, 보츠와나, 부르키나파소, 세이셸, 수단, 알제리, 우간다, 이집트, 차드, 카메룬, 케냐, 콩고민주공화국, 탄자니아, 튀니지\\\\n\\\\n오세아니아\\\\n\\\\n나우루, 뉴질랜드, 바누아투, 사모아, 솔로몬 제도, 크리스마스섬, 타히티_프랑스령폴리네시아, 통가, 파푸아뉴기니, 피지, 호주\\\\n\\\\n사용 방법\\\\n\\\\n로밍은 해외 입국하시자마자\\\\n\\\\n자동으로 되니까 따로 설정할 것이 없습니다.\\\\n\\\\n\\u200b\\\\n\\\\n하지만 이제 통화, 데이터 사용은\\\\n\\\\n설정해 줄 것이 있는데요.\\\\n\\\\n하나씩 알아보겠습니다.\\\\n\\\\n\\u200b\\\\n\\\\n해외에서 통화 하는 방법\\\\n\\\\n출처-공홈\\\\n\\\\n위에서 설명한 대로\\\\n\\\\n한국 번호로 발신할 경우\\\\n\\\\n0을 길게 누르시고,\\\\n\\\\n국가 번호인 82를 입력하신 뒤\\\\n\\\\n상대방 번호를 입력하시면 됩니다.\\\\n\\\\n\\u200b\\\\n\\\\n현지인에게 전화할 경우\\\\n\\\\n한국에서 전화 거시는 것 처럼\\\\n\\\\n현지인 번호를 입력하시고\\\\n\\\\n발신하시면 됩니다.\\\\n\\\\n\\u200b\\\\n\\\\n해외에서 데이터 사용하는 방법\\\\n\\\\n출처-공홈\\\\n\\\\n핸드폰에 있는 데이터 로밍만 켜주시면 됩니다.\\\\n\\\\n정말 간단하죠?\\\\n\\\\n요약\\\\n\\\\n* KT 5G 특정 요금제를 사용하는 분들은\\\\n\\\\n해외 로밍이 무제한 무료이다.\\\\n\\\\n* 만약 사용하고 있다면 체크해 보면 좋다.\\\\n\\\\n* 최소 메세지만 가능부터 최대 유투브까지\\\\n\\\\n볼 수 있는 데이터를 무제한으로 준다.\\\\n\\\\n그럼 모두들 즐겨운 해외 여행 되세요!\\\\n\\\\n\\u200b\\\\n\\\\n카테고리\\\\n\\\\n\"}, {\"title\": \"[여행꿀팁] Kt 해외 로밍 무료 5g 요금제 총정리 : 네이버 블로그\", \"url\": \"https://m.blog.naver.com/cat_veling/223592445791\", \"content\": \"KT 해외 로밍 5G 요금제 총정리 바쁘신 분들은 하단의 요약을 참고해 주세요. 제가 KT 로밍 정보를 찾\", \"score\": 0.53881395, \"raw_content\": \"블로그\\\\n\\\\n카테고리 이동\\\\n\\\\n\\\\n\\\\n\\\\n인생 여행중인 고양이\\\\n\\\\n[여행꿀팁] KT 해외 로밍 무료 5G 요금제 총정리\\\\n\\\\n2024. 9. 23. 8:10\\\\n\\\\nKT 해외 로밍 무료 5G 요금제 총정리\\\\n\\\\nKT 해외 로밍 5G 요금제 총정리\\\\n\\\\n#KT로밍 #KT해외로밍 #kt5g요금제로밍 #KT로밍요금제 #KT로밍무료 #KT로밍가격 #KT자동로밍 #KT로밍신청 #KT로밍전화\\\\n\\\\n\\u200b\\\\n\\\\n바쁘신 분들은 하단의 요약을 참고해 주세요.\\\\n\\\\n\\u200b\\\\n\\\\n제가 KT 로밍 정보를 찾아보다\\\\n\\\\n정말 놀랬던 것이 있는데요.\\\\n\\\\n\\u200b\\\\n\\\\n특정 요금제를 사용하면\\\\n\\\\n해외 로밍도 무료로 이용할 수 있더라고요.\\\\n\\\\n\\u200b\\\\n\\\\n해외 갈때마다 무조건 유심 사갔는데,\\\\n\\\\n미리 알아보지 않은 것이\\\\n\\\\n정말 후회됐습니다.\\\\n\\\\n\\u200b\\\\n\\\\n오늘 정리해드리는 요금제를 사용중이시라면\\\\n\\\\n해외에서도 무료 로밍을 사용하실 수 있으니\\\\n\\\\n끝까지 잘 봐주세요.\\\\n\\\\nKT 로밍 무료?\\\\n\\\\n정확히 말하면 지금 사용고 계시는\\\\n\\\\n요금제에 혜택 가격이 포함되어 있는 것이죠.\\\\n\\\\n별도의 신청 없이 해외 나가시면\\\\n\\\\n바로 이용이 가능하다고 해요.\\\\n\\\\n\\u200b\\\\n\\\\n해외 로밍시 별도의 추가금이 없으니\\\\n\\\\n무료라고 할 수도 있겠습니다.\\\\n\\\\nKT 로밍 무료 요금제 정리\\\\n\\\\n출처-공홈\\\\n\\\\n위의 요금제를 사용하시는 분들은\\\\n\\\\n해외 여행시 로밍을 무료로 받으실 수 있어요.\\\\n\\\\n\\u200b\\\\n\\\\n\\u200b\\\\n\\\\n5G 초이스\\\\n\\\\n출처-공홈\\\\n\\\\n초이스 요금제에는\\\\n\\\\n프리미엄/스페셜/베이직이 있는데요.\\\\n\\\\n어떤 요금제냐에 따라\\\\n\\\\n제공받는 데이터도 다릅니다.\\\\n\\\\n\\u200b\\\\n\\\\n프리미엄 같은 경우 최대 3Mbps로\\\\n\\\\n무제한 사용이 가능하고,\\\\n\\\\n\\u200b\\\\n\\\\n스페셜/베이직 같은 경우 100Kbps로\\\\n\\\\n무제한 사용이 가능합니다.\\\\n\\\\n\\u200b\\\\n\\\\n\\u200b\\\\n\\\\n5G 스페셜/베이직\\\\n\\\\n출처-공홈\\\\n\\\\n스페셜/베이직 요금제는\\\\n\\\\n동일하게 100Kbps속도로\\\\n\\\\n무제한 사용 가능합니다.\\\\n\\\\n\\u200b\\\\n\\\\n\\u200b\\\\n\\\\n5G Y슬림/베이직/스페셜\\\\n\\\\n출처-공홈\\\\n\\\\nY스페셜/베이직은 1Mbps로\\\\n\\\\n무제한 사용이 가능하고,\\\\n\\\\n\\u200b\\\\n\\\\nY슬림은 100Kbps로 무제한 사용 가능합니다.\\\\n\\\\n\\u200b\\\\n\\\\n참고로\\\\n\\\\n3Mbps - 유투브 표준 품질 영상 시청, 구글맵\\\\n\\\\n1Mbps - 웹서핑 가능한 속도\\\\n\\\\n100Kbps - SNS, 카카오톡 등의 텍스트 사용\\\\n\\\\n이용이 가능합니다.\\\\n\\\\n\\u200b\\\\n\\\\n | 5G 요금제(초이스 포함) | 5G Y요금제\\\\n스페셜 | 베이직 | 프리미엄 | Y 스페셜 | Y 베이직 | Y 슬림\\\\n제공 데이터 | 최대 100Kbps | 최대 3Mbps | 최대 1Mbps | 최대 100Kbps\\\\n5G 요금제(초이스 포함)\\\\n\\\\n5G Y요금제\\\\n\\\\n스페셜\\\\n\\\\n베이직\\\\n\\\\n프리미엄\\\\n\\\\nY 스페셜\\\\n\\\\nY 베이직\\\\n\\\\nY 슬림\\\\n\\\\n제공 데이터\\\\n\\\\n최대 100Kbps\\\\n\\\\n최대 3Mbps\\\\n\\\\n최대 1Mbps\\\\n\\\\n최대 100Kbps\\\\n\\\\n위의 표로 편하게 보세요!\\\\n\\\\n사용 가능 국가\\\\n\\\\n출처-공홈\\\\n\\\\n사용 가능 국가는 위의 182개국인데요.\\\\n\\\\n대부분의 국가에서 사용이 가능해요.\\\\n\\\\n\\u200b\\\\n\\\\n찾이 편하시도록 텍스트로 적어 두었으니\\\\n\\\\ncontrol + F로 찾아보세요!\\\\n\\\\n대륙 | 제공 국가\\\\n아시아 | 괌, 네팔, 대만, 동티모르, 라오스, 마카오, 말레이시아, 몽골, 방글라데시, 베트남, 브루나이, 사이판, 스리랑카, 싱가포르, 우즈베키스탄, 인도, 인도네시아, 일본, 중국, 카자흐스탄, 캄보디아, 키르키즈스탄, 타지키스탄, 태국, 파키스탄, 필리핀, 홍콩\\\\n미주/남미 | 가이아나, 과달루페, 과테말라, 그레나다, 그린란드, 니카라과, 데시라데, 도미니카, 도미니카 공화국, 마르티니크, 마리갈란테, 멕시코, 몬체러트, 미국, 미국령 버진 아일랜드, 바베이도스, 버뮤다, 보네르, 볼리비아, 브라질, 생피에르미클롱, 세인트루시아, 세인트마틴, 세인트빈센트, 세인트키츠네비스, 셍박뗄레미, 수리남, 아루바, 아르헨티나, 아이티, 앤티가바부다, 앵귈라, 에콰도르, 엘살바도르, 영국령버진아일랜드, 온두라스, 우루과이, 자메이카, 칠레, 캐나다, 케이만군도, 코스타리카, 콜롬비아, 쿠라소, 터크스앤카이코스군도, 트리니다드토바고, 파나마, 파라과이, 페루, 푸에르토리코, 프랑스령기아나\\\\n유럽 | 건지섬, 그리스, 네덜란드, 노르웨이, 덴마크, 독일, 라트비아, 러시아, 루마니아, 룩셈부르크, 리투아니아, 리히텐슈타인, 마케도니아, 맨섬, 모나코, 몬테네그로, 몰도바, 몰타, 바티칸시국, 벨기에, 벨라루스, 보스니아, 불가리아, 산마리노, 세르비아, 세우타, 스발바르, 스웨덴, 스위스, 스페인, 슬로바키아, 슬로베니아, 아르메니아, 아이슬란드, 아일랜드, 알바니아, 에스토니아, 영국, 오스트리아, 올란드제도, 우크라이나, 이탈리아, 저지섬, 조지아, 지브롤터, 체코, 카나리제도, 코소보, 크로아티아, 키프로스, 터키_튀르키예, 파로제도, 포르투갈, 폴란드, 프랑스, 핀란드, 헝가리\\\\n중동 | 바레인, 사우디아라비아, 아랍에미리트, 아제르바이잔, 아프가니스탄, 오만, 요르단, 이라크, 이란, 이스라엘, 카타르, 쿠웨이트, 팔레스타인\\\\n아프리카 | 가나, 나이지리아, 남아프리카공화국, 라이베리아, 르완다, 마다가스카르, 모로코, 모리셔스, 모리타니, 모잠비크, 보츠와나, 부르키나파소, 세이셸, 수단, 알제리, 우간다, 이집트, 차드, 카메룬, 케냐, 콩고민주공화국, 탄자니아, 튀니지\\\\n오세아니아 | 나우루, 뉴질랜드, 바누아투, 사모아, 솔로몬 제도, 크리스마스섬, 타히티_프랑스령폴리네시아, 통가, 파푸아뉴기니, 피지, 호주\\\\n대륙\\\\n\\\\n제공 국가\\\\n\\\\n아시아\\\\n\\\\n괌, 네팔, 대만, 동티모르, 라오스, 마카오, 말레이시아, 몽골, 방글라데시, 베트남, 브루나이, 사이판, 스리랑카, 싱가포르, 우즈베키스탄, 인도, 인도네시아, 일본, 중국, 카자흐스탄, 캄보디아, 키르키즈스탄, 타지키스탄, 태국, 파키스탄, 필리핀, 홍콩\\\\n\\\\n미주/남미\\\\n\\\\n가이아나, 과달루페, 과테말라, 그레나다, 그린란드, 니카라과, 데시라데, 도미니카, 도미니카 공화국, 마르티니크, 마리갈란테, 멕시코, 몬체러트, 미국, 미국령 버진 아일랜드, 바베이도스, 버뮤다, 보네르, 볼리비아, 브라질, 생피에르미클롱, 세인트루시아, 세인트마틴, 세인트빈센트, 세인트키츠네비스, 셍박뗄레미, 수리남, 아루바, 아르헨티나, 아이티, 앤티가바부다, 앵귈라, 에콰도르, 엘살바도르, 영국령버진아일랜드, 온두라스, 우루과이, 자메이카, 칠레, 캐나다, 케이만군도, 코스타리카, 콜롬비아, 쿠라소, 터크스앤카이코스군도, 트리니다드토바고, 파나마, 파라과이, 페루, 푸에르토리코, 프랑스령기아나\\\\n\\\\n유럽\\\\n\\\\n건지섬, 그리스, 네덜란드, 노르웨이, 덴마크, 독일, 라트비아, 러시아, 루마니아, 룩셈부르크, 리투아니아, 리히텐슈타인, 마케도니아, 맨섬, 모나코, 몬테네그로, 몰도바, 몰타, 바티칸시국, 벨기에, 벨라루스, 보스니아, 불가리아, 산마리노, 세르비아, 세우타, 스발바르, 스웨덴, 스위스, 스페인, 슬로바키아, 슬로베니아, 아르메니아, 아이슬란드, 아일랜드, 알바니아, 에스토니아, 영국, 오스트리아, 올란드제도, 우크라이나, 이탈리아, 저지섬, 조지아, 지브롤터, 체코, 카나리제도, 코소보, 크로아티아, 키프로스, 터키_튀르키예, 파로제도, 포르투갈, 폴란드, 프랑스, 핀란드, 헝가리\\\\n\\\\n중동\\\\n\\\\n바레인, 사우디아라비아, 아랍에미리트, 아제르바이잔, 아프가니스탄, 오만, 요르단, 이라크, 이란, 이스라엘, 카타르, 쿠웨이트, 팔레스타인\\\\n\\\\n아프리카\\\\n\\\\n가나, 나이지리아, 남아프리카공화국, 라이베리아, 르완다, 마다가스카르, 모로코, 모리셔스, 모리타니, 모잠비크, 보츠와나, 부르키나파소, 세이셸, 수단, 알제리, 우간다, 이집트, 차드, 카메룬, 케냐, 콩고민주공화국, 탄자니아, 튀니지\\\\n\\\\n오세아니아\\\\n\\\\n나우루, 뉴질랜드, 바누아투, 사모아, 솔로몬 제도, 크리스마스섬, 타히티_프랑스령폴리네시아, 통가, 파푸아뉴기니, 피지, 호주\\\\n\\\\n사용 방법\\\\n\\\\n로밍은 해외 입국하시자마자\\\\n\\\\n자동으로 되니까 따로 설정할 것이 없습니다.\\\\n\\\\n\\u200b\\\\n\\\\n하지만 이제 통화, 데이터 사용은\\\\n\\\\n설정해 줄 것이 있는데요.\\\\n\\\\n하나씩 알아보겠습니다.\\\\n\\\\n\\u200b\\\\n\\\\n해외에서 통화 하는 방법\\\\n\\\\n출처-공홈\\\\n\\\\n위에서 설명한 대로\\\\n\\\\n한국 번호로 발신할 경우\\\\n\\\\n0을 길게 누르시고,\\\\n\\\\n국가 번호인 82를 입력하신 뒤\\\\n\\\\n상대방 번호를 입력하시면 됩니다.\\\\n\\\\n\\u200b\\\\n\\\\n현지인에게 전화할 경우\\\\n\\\\n한국에서 전화 거시는 것 처럼\\\\n\\\\n현지인 번호를 입력하시고\\\\n\\\\n발신하시면 됩니다.\\\\n\\\\n\\u200b\\\\n\\\\n해외에서 데이터 사용하는 방법\\\\n\\\\n출처-공홈\\\\n\\\\n핸드폰에 있는 데이터 로밍만 켜주시면 됩니다.\\\\n\\\\n정말 간단하죠?\\\\n\\\\n요약\\\\n\\\\n* KT 5G 특정 요금제를 사용하는 분들은\\\\n\\\\n해외 로밍이 무제한 무료이다.\\\\n\\\\n* 만약 사용하고 있다면 체크해 보면 좋다.\\\\n\\\\n* 최소 메세지만 가능부터 최대 유투브까지\\\\n\\\\n볼 수 있는 데이터를 무제한으로 준다.\\\\n\\\\n그럼 모두들 즐겨운 해외 여행 되세요!\\\\n\\\\n\\u200b\\\\n\\\\n카테고리\\\\n\\\\n\"}, {\"title\": \"Kt 5g 사용자라면, 해외 로밍하지 않아도 된다?! : 네이버 블로그\", \"url\": \"https://m.blog.naver.com/aiwositai/221579847166\", \"content\": \"또한, 프리미엄 요금제가 아니여도 KT 5G 사용자라면 받을 수 있는 추가 적용되는 혜택도 넉넉하니, 잘 비교해보시고 추가 서비스 가입할지 말지 고민해보세요. 저는 7월이 되기 전에 여행을 다녀와서 로밍 에그를 빌려갔었는데요!\", \"score\": 0.52612424, \"raw_content\": \"블로그\\\\n\\\\n카테고리 이동\\\\n\\\\n\\\\n\\\\n\\\\n코예커플 IT\\\\n\\\\nKT 5G 사용자라면, 해외 로밍하지 않아도 된다?!\\\\n\\\\n2019. 7. 7. 17:52\\\\n\\\\n안녕하세요. 코예커플입니다. 요즘 날이 더워지고 있어, 여행 준비하시는 분들이 많을텐데요. 국내말고 해외로 멀리 떠나려고 계획하시는 분들도 많죠? 저희는 성수기가 오기 전에 다녀온 터라, 다시 여행을 떠나고 싶네요. ㅎㅎ\\\\n\\\\n\\u200b\\\\n\\\\n오늘 포스팅에서는 해외로 여행을 떠날 준비를 하시는 분들에게 도움이 될 포스팅입니다. 바로 KT 5G 사용자를 위한 로밍과 관련된 내용입니다. 그럼 조금 더 자세히 알아보도록 하겠습니다.\\\\n\\\\n\\u200b\\\\n\\\\n\\u200b\\\\n\\\\n해외 로밍 신청 안해도 된다고?\\\\n\\\\nKT 5G 요금제는 출시부터 다른 통신사와는 다른 파격적인 모습으로 많은 사람들의 관심을 끌었는데요. 사용하시는 분들 중에도 해외 로밍과 관련된 서비스가 포함되어 있다는 것을 모르는 경우가 있더라고요. 별도로 가입하거나 할인해주는 것이 아니라 포함된 서비스이기 때문에 그대로 이용하시면 됩니다. ㅎㅎ 짱!\\\\n\\\\n\\u200b\\\\n\\\\n\\u200b\\\\n\\\\n요금제는 슈퍼플랜(프리미엄, 스페셜, 베이직)과 슬림으로 나뉘어 있습니다. 요금제에 따라서 데이터로밍 속도 제한이 다르긴 한데, 슈퍼플랜 사용자는 데이터를 무제한으로 이용할 수 있다는 점이 눈에 띄네요.\\\\n\\\\n\\u200b\\\\n\\\\n슈퍼플랜 관련 유의사항\\\\n\\\\n\\u200b\\\\n\\\\n저의 경우에는 슬림 요금제를 사용하고 있어, 기존에 받을 수 있는 혜택이 없는 상황이었는데요. kt에서 여름 휴가시즌을 맞이하여 7월부터 아주 넉넉한 12월 31일까지 다양한 프로모션을 통해 데이터 로밍 혜택을 쏩니다.\\\\n\\\\n\\u200b\\\\n\\\\n\\u200b\\\\n\\\\n | 기존 | 추가 적용\\\\n슈퍼플랜 프리미엄 | 데이터로밍 최대3Mbps 무제한 무료\\\\n슈퍼플랜 스페셜/베이직 | 데이터로밍 최대100kbps 무제한 무료 | 데이터 로밍 1Mbps 무제한 무료*7/1~12/31\\\\n슬림 | - | 데이터 로밍 하루종일 톡 무료 이용*별도 가입 시 청구 할인*7/1~12/31\\\\n매월 30분 통화 무료 (미/일/중)*7/1~8/31\\\\n기존\\\\n\\\\n추가 적용\\\\n\\\\n슈퍼플랜 프리미엄\\\\n\\\\n데이터로밍 최대3Mbps 무제한 무료\\\\n\\\\n슈퍼플랜 스페셜/베이직\\\\n\\\\n데이터로밍 최대100kbps 무제한 무료\\\\n\\\\n데이터 로밍 1Mbps 무제한 무료\\\\n\\\\n*7/1~12/31\\\\n\\\\n슬림\\\\n\\\\n-\\\\n\\\\n데이터 로밍 하루종일 톡 무료 이용\\\\n\\\\n*별도 가입 시 청구 할인\\\\n\\\\n*7/1~12/31\\\\n\\\\n매월 30분 통화 무료 (미/일/중)\\\\n\\\\n*7/1~8/31\\\\n\\\\n표로 정리하면 위 내용과 같습니다. 저의 경우에는 슬림 요금제를 쓰고 있어서, 받을 수 있는 부분이 없겠구나 하고 조금 아쉬웠는데요. 올해 안으로 업그레이드된 혜택을 받을 수 있겠더라고요.\\\\n\\\\n\\u200b\\\\n\\\\n\\u200b\\\\n\\\\n슈퍼플랜 스페셜 또는 베이직을 사용하시는 분들이라면, 기간 동안은 로밍 최대 속도가 업그레이드되어 자동 적용되는데요. 기존에는 카톡 정도만 보낼 수 있는 수준이었다면, 이제는 코예커플 블로그 웹서핑도 가능한 수준이 된 거예요. 별도 신청없이 185 개의 국가에서 사용할 수 있으니 정말 편하게 쓸 수 있습니다.\\\\n\\\\n\\u200b\\\\n\\\\n\\u200b\\\\n\\\\n슬림 요금제의 경우에는 하루종일 톡 무료를 별도로 가입하면, 톡이 가능한 수준으로 데이터 로밍을 활용할 수 있고요. 미국, 일본, 중국에 여행을 떠나는 경우에는 매월 30분의 통화 비용이 자동으로 청구할인 된다는 점도 놓치지 말고 이용하세요! 참고로 통화 무료 서비스는 8월 31일까지만 이용할 수 있습니다.\\\\n\\\\n\\u200b\\\\n\\\\n\\u200b\\\\n\\\\n물론 데이터 사용량이 많은 분들이라면, 별도의 서비스를 가입하는 것도 좋겠습니다. 하지만, 5G를 쓰는 분들 중에서 프리미엄 요금제를 쓰시는 분들은 유튜브 재생도 가능한 최대 속도를 무제한으로, 그것도 무료로 이용할 수 있습니다. 그러므로 별도의 금액을 내는 것은 아까울 수 있을 것같아요!! 잘 계산해보세요. ㅎㅎ\\\\n\\\\n\\u200b\\\\n\\\\n슈퍼플랜 요금제 확인 사항\\\\n\\\\n\\u200b\\\\n\\\\n* 스마트기기/테더링 데이터는 별도 제공하며 (프리미엄 100GB, 스페셜 50GB, 베이직 20GB) 소진 후\\\\n\\\\n최대 200kbps 속도로 이용 가능합니다.\\\\n\\\\n*  데이터 로밍 무제한은 프리미엄 최대 3Mbps, 스페셜/베이직 최대 100kbps 속도로 이용 가능합니다.\\\\n\\\\n또한, 프리미엄 요금제가 아니여도 KT 5G 사용자라면 받을 수 있는 추가 적용되는 혜택도 넉넉하니, 잘 비교해보시고 추가 서비스 가입할지 말지 고민해보세요. 저는 7월이 되기 전에 여행을 다녀와서 로밍 에그를 빌려갔었는데요!  개인적으로 너무 만족하며 사용했거든요. 도움될 분들이 있을 거란 생각이 들어, 포스팅 URL도 첨부하였습니다.\\\\n\\\\n\\u200b\\\\n\\\\n\\u200b\\\\n\\\\n\\u200b\\\\n\\\\n안녕하세요. 코예커플입니다. 여행 다녀온 지가 꽤 되었는데, 아직도 여독이 있는 걸 보면 저희 부부는 집...\\\\n\\\\nblog.naver.com\\\\n\\\\n\\u200b\\\\n\\\\n슈퍼플랜으로 해외 로밍이 무료로 적용되는 국가는 185개이고, 슬림의 경우에는 하루종일 톡 지원국가와 동일한 180개 국이에요. 일일이적어드릴 수 없을 정도로 대부분의 국가에 적용된다라고 표현할 수 있겠어요. ^^;  아시아, 미주, 남미, 유럽, 중동, 아프리카, 오세아니아 대륙에서 쓸 수 있어요.\\\\n\\\\n\\u200b\\\\n\\\\n\\u200b\\\\n\\\\n적용 국가 등 궁금한 내용은 kt 홈페이지에서 확인할 수 있습니다. 사용할 수 있는 국가정보는 물론이고, 해외 도착시 로밍 서비스를 어떻게 이용할 수 있는지 등을 간단 명료하게 정리해두었으니, 꼭 참고하세요.\\\\n\\\\n\\u200b\\\\n\\\\n\\u200b\\\\n\\\\n저는 kt쓰고, 남편은 다른 통신사를 사용 중인데요. ㅎㅎ 이런 혜택이 있다고 알려주니까 엄청 부러워하더라고요. 게다가 슈퍼플랜 요금제일 경우에는 별도 서비스 가입하는 번거로움 없이 자동으로 활용할 수 있다니 너무 편할 것같아요!!!\\\\n\\\\n\\u200b\\\\n\\\\n모바일에서 안보일까봐 이미지로도 한번 더 올려요!\\\\n\\\\nkt 5g 사용하시나요? 그렇다면 여러분들도 이번 여름 휴가 그리고 겨울 휴가까지 해외 로밍 서비스 신청하지 않으셔도  되겠어요. ㅎㅎ 모르고 지나치면 너무 아까운 혜택에 대한 정보였습니다. 즐거운 여행길 되시기 바랍니다. 끝!\\\\n\\\\n\\u200b\\\\n\\\\n\\u200b\\\\n\\\\n카테고리\\\\n\\\\n\"}, {\"title\": \"Kt 5g 사용자라면, 해외 로밍하지 않아도 된다?! : 네이버 블로그\", \"url\": \"https://m.blog.naver.com/aiwositai/221579847166\", \"content\": \"또한, 프리미엄 요금제가 아니여도 KT 5G 사용자라면 받을 수 있는 추가 적용되는 혜택도 넉넉하니, 잘 비교해보시고 추가 서비스 가입할지 말지 고민해보세요. 저는 7월이 되기 전에 여행을 다녀와서 로밍 에그를 빌려갔었는데요!\", \"score\": 0.52612424, \"raw_content\": \"블로그\\\\n\\\\n카테고리 이동\\\\n\\\\n\\\\n\\\\n\\\\n코예커플 IT\\\\n\\\\nKT 5G 사용자라면, 해외 로밍하지 않아도 된다?!\\\\n\\\\n2019. 7. 7. 17:52\\\\n\\\\n안녕하세요. 코예커플입니다. 요즘 날이 더워지고 있어, 여행 준비하시는 분들이 많을텐데요. 국내말고 해외로 멀리 떠나려고 계획하시는 분들도 많죠? 저희는 성수기가 오기 전에 다녀온 터라, 다시 여행을 떠나고 싶네요. ㅎㅎ\\\\n\\\\n\\u200b\\\\n\\\\n오늘 포스팅에서는 해외로 여행을 떠날 준비를 하시는 분들에게 도움이 될 포스팅입니다. 바로 KT 5G 사용자를 위한 로밍과 관련된 내용입니다. 그럼 조금 더 자세히 알아보도록 하겠습니다.\\\\n\\\\n\\u200b\\\\n\\\\n\\u200b\\\\n\\\\n해외 로밍 신청 안해도 된다고?\\\\n\\\\nKT 5G 요금제는 출시부터 다른 통신사와는 다른 파격적인 모습으로 많은 사람들의 관심을 끌었는데요. 사용하시는 분들 중에도 해외 로밍과 관련된 서비스가 포함되어 있다는 것을 모르는 경우가 있더라고요. 별도로 가입하거나 할인해주는 것이 아니라 포함된 서비스이기 때문에 그대로 이용하시면 됩니다. ㅎㅎ 짱!\\\\n\\\\n\\u200b\\\\n\\\\n\\u200b\\\\n\\\\n요금제는 슈퍼플랜(프리미엄, 스페셜, 베이직)과 슬림으로 나뉘어 있습니다. 요금제에 따라서 데이터로밍 속도 제한이 다르긴 한데, 슈퍼플랜 사용자는 데이터를 무제한으로 이용할 수 있다는 점이 눈에 띄네요.\\\\n\\\\n\\u200b\\\\n\\\\n슈퍼플랜 관련 유의사항\\\\n\\\\n\\u200b\\\\n\\\\n저의 경우에는 슬림 요금제를 사용하고 있어, 기존에 받을 수 있는 혜택이 없는 상황이었는데요. kt에서 여름 휴가시즌을 맞이하여 7월부터 아주 넉넉한 12월 31일까지 다양한 프로모션을 통해 데이터 로밍 혜택을 쏩니다.\\\\n\\\\n\\u200b\\\\n\\\\n\\u200b\\\\n\\\\n | 기존 | 추가 적용\\\\n슈퍼플랜 프리미엄 | 데이터로밍 최대3Mbps 무제한 무료\\\\n슈퍼플랜 스페셜/베이직 | 데이터로밍 최대100kbps 무제한 무료 | 데이터 로밍 1Mbps 무제한 무료*7/1~12/31\\\\n슬림 | - | 데이터 로밍 하루종일 톡 무료 이용*별도 가입 시 청구 할인*7/1~12/31\\\\n매월 30분 통화 무료 (미/일/중)*7/1~8/31\\\\n기존\\\\n\\\\n추가 적용\\\\n\\\\n슈퍼플랜 프리미엄\\\\n\\\\n데이터로밍 최대3Mbps 무제한 무료\\\\n\\\\n슈퍼플랜 스페셜/베이직\\\\n\\\\n데이터로밍 최대100kbps 무제한 무료\\\\n\\\\n데이터 로밍 1Mbps 무제한 무료\\\\n\\\\n*7/1~12/31\\\\n\\\\n슬림\\\\n\\\\n-\\\\n\\\\n데이터 로밍 하루종일 톡 무료 이용\\\\n\\\\n*별도 가입 시 청구 할인\\\\n\\\\n*7/1~12/31\\\\n\\\\n매월 30분 통화 무료 (미/일/중)\\\\n\\\\n*7/1~8/31\\\\n\\\\n표로 정리하면 위 내용과 같습니다. 저의 경우에는 슬림 요금제를 쓰고 있어서, 받을 수 있는 부분이 없겠구나 하고 조금 아쉬웠는데요. 올해 안으로 업그레이드된 혜택을 받을 수 있겠더라고요.\\\\n\\\\n\\u200b\\\\n\\\\n\\u200b\\\\n\\\\n슈퍼플랜 스페셜 또는 베이직을 사용하시는 분들이라면, 기간 동안은 로밍 최대 속도가 업그레이드되어 자동 적용되는데요. 기존에는 카톡 정도만 보낼 수 있는 수준이었다면, 이제는 코예커플 블로그 웹서핑도 가능한 수준이 된 거예요. 별도 신청없이 185 개의 국가에서 사용할 수 있으니 정말 편하게 쓸 수 있습니다.\\\\n\\\\n\\u200b\\\\n\\\\n\\u200b\\\\n\\\\n슬림 요금제의 경우에는 하루종일 톡 무료를 별도로 가입하면, 톡이 가능한 수준으로 데이터 로밍을 활용할 수 있고요. 미국, 일본, 중국에 여행을 떠나는 경우에는 매월 30분의 통화 비용이 자동으로 청구할인 된다는 점도 놓치지 말고 이용하세요! 참고로 통화 무료 서비스는 8월 31일까지만 이용할 수 있습니다.\\\\n\\\\n\\u200b\\\\n\\\\n\\u200b\\\\n\\\\n물론 데이터 사용량이 많은 분들이라면, 별도의 서비스를 가입하는 것도 좋겠습니다. 하지만, 5G를 쓰는 분들 중에서 프리미엄 요금제를 쓰시는 분들은 유튜브 재생도 가능한 최대 속도를 무제한으로, 그것도 무료로 이용할 수 있습니다. 그러므로 별도의 금액을 내는 것은 아까울 수 있을 것같아요!! 잘 계산해보세요. ㅎㅎ\\\\n\\\\n\\u200b\\\\n\\\\n슈퍼플랜 요금제 확인 사항\\\\n\\\\n\\u200b\\\\n\\\\n* 스마트기기/테더링 데이터는 별도 제공하며 (프리미엄 100GB, 스페셜 50GB, 베이직 20GB) 소진 후\\\\n\\\\n최대 200kbps 속도로 이용 가능합니다.\\\\n\\\\n*  데이터 로밍 무제한은 프리미엄 최대 3Mbps, 스페셜/베이직 최대 100kbps 속도로 이용 가능합니다.\\\\n\\\\n또한, 프리미엄 요금제가 아니여도 KT 5G 사용자라면 받을 수 있는 추가 적용되는 혜택도 넉넉하니, 잘 비교해보시고 추가 서비스 가입할지 말지 고민해보세요. 저는 7월이 되기 전에 여행을 다녀와서 로밍 에그를 빌려갔었는데요!  개인적으로 너무 만족하며 사용했거든요. 도움될 분들이 있을 거란 생각이 들어, 포스팅 URL도 첨부하였습니다.\\\\n\\\\n\\u200b\\\\n\\\\n\\u200b\\\\n\\\\n\\u200b\\\\n\\\\n안녕하세요. 코예커플입니다. 여행 다녀온 지가 꽤 되었는데, 아직도 여독이 있는 걸 보면 저희 부부는 집...\\\\n\\\\nblog.naver.com\\\\n\\\\n\\u200b\\\\n\\\\n슈퍼플랜으로 해외 로밍이 무료로 적용되는 국가는 185개이고, 슬림의 경우에는 하루종일 톡 지원국가와 동일한 180개 국이에요. 일일이적어드릴 수 없을 정도로 대부분의 국가에 적용된다라고 표현할 수 있겠어요. ^^;  아시아, 미주, 남미, 유럽, 중동, 아프리카, 오세아니아 대륙에서 쓸 수 있어요.\\\\n\\\\n\\u200b\\\\n\\\\n\\u200b\\\\n\\\\n적용 국가 등 궁금한 내용은 kt 홈페이지에서 확인할 수 있습니다. 사용할 수 있는 국가정보는 물론이고, 해외 도착시 로밍 서비스를 어떻게 이용할 수 있는지 등을 간단 명료하게 정리해두었으니, 꼭 참고하세요.\\\\n\\\\n\\u200b\\\\n\\\\n\\u200b\\\\n\\\\n저는 kt쓰고, 남편은 다른 통신사를 사용 중인데요. ㅎㅎ 이런 혜택이 있다고 알려주니까 엄청 부러워하더라고요. 게다가 슈퍼플랜 요금제일 경우에는 별도 서비스 가입하는 번거로움 없이 자동으로 활용할 수 있다니 너무 편할 것같아요!!!\\\\n\\\\n\\u200b\\\\n\\\\n모바일에서 안보일까봐 이미지로도 한번 더 올려요!\\\\n\\\\nkt 5g 사용하시나요? 그렇다면 여러분들도 이번 여름 휴가 그리고 겨울 휴가까지 해외 로밍 서비스 신청하지 않으셔도  되겠어요. ㅎㅎ 모르고 지나치면 너무 아까운 혜택에 대한 정보였습니다. 즐거운 여행길 되시기 바랍니다. 끝!\\\\n\\\\n\\u200b\\\\n\\\\n\\u200b\\\\n\\\\n카테고리\\\\n\\\\n\"}, {\"title\": \"로밍 한눈에 보기 | Kt\", \"url\": \"https://globalroaming.kt.com/\", \"content\": \"회사소개 About KT Global Biz 이용약관 법적고지 개인정보처리방침 개인정보 이용내역 청소년 보호정책 문의/안내처 웹접근성 도움말 해지미환급금 조회/환급 청소년 유해차단 안내 이용자피해예방 가이드 명의도용방지서비스 불공정행위 신고센터 개인정보보호\", \"score\": 0.200793, \"raw_content\": null}]' name='tavily_web_search' id='fd36789b-1fb5-4f7c-9a1a-76b991de2eaf' tool_call_id='call_eruHgIR5k20lbj1RLhX7vX3F'\n",
      "\n",
      "==============\n",
      "STEP: messages\n",
      "==============\n",
      "\n",
      "content='KT의 5G 요금제를 이용하는 고객들은 해외에서 로밍 서비스를 무료로 이용할 수 있는 혜택이 있습니다. 이 혜택은 특정 요금제를 사용하는 경우에 적용됩니다. 주요 내용은 다음과 같습니다:\\n\\n1. **무료 로밍 요금제**:\\n   - **5G 초이스 요금제**:\\n     - **프리미엄**: 최대 3Mbps 속도로 무제한 데이터 사용 가능.\\n     - **스페셜/베이직**: 최대 100Kbps 속도로 무제한 데이터 사용 가능.\\n   - **5G Y요금제**:\\n     - **Y 스페셜/베이직**: 최대 1Mbps 속도로 무제한 데이터 사용 가능.\\n     - **Y 슬림**: 최대 100Kbps 속도로 무제한 데이터 사용 가능.\\n\\n2. **로밍 국가**: \\n   - 이 서비스는 총 185개국에서 이용 가능하며, 아시아, 미주, 유럽, 중동, 아프리카, 오세아니아 등 대부분의 국가에서 사용할 수 있습니다.\\n\\n3. **이용 방법**:\\n   - 해외에 도착하면 자동으로 로밍이 활성화되며, 별도의 설정이나 신청이 필요 없습니다. 단, 데이터 사용을 위해 데이터 로밍 기능을 활성화해야 합니다.\\n\\n4. **추가 혜택**:\\n   - 특정 기간 동안 데이터 로밍 속도가 업그레이드되거나, 슬림 요금제를 사용하는 경우 추가적인 혜택이 제공될 수 있습니다.\\n\\n자세한 사항은 KT 공식 웹사이트나 관련 블로그에서 확인할 수 있습니다. 추가적인 정보가 필요하시면 언제든지 말씀해 주세요!' additional_kwargs={'refusal': None} response_metadata={'token_usage': {'completion_tokens': 366, 'prompt_tokens': 10902, 'total_tokens': 11268, 'completion_tokens_details': {'accepted_prediction_tokens': 0, 'audio_tokens': 0, 'reasoning_tokens': 0, 'rejected_prediction_tokens': 0}, 'prompt_tokens_details': {'audio_tokens': 0, 'cached_tokens': 0}}, 'model_name': 'gpt-4o-mini-2024-07-18', 'system_fingerprint': 'fp_b8bc95a0ac', 'finish_reason': 'stop', 'logprobs': None} id='run-7faa941c-f6ca-42e0-a80d-bf5447c881bc-0' usage_metadata={'input_tokens': 10902, 'output_tokens': 366, 'total_tokens': 11268, 'input_token_details': {'audio': 0, 'cache_read': 0}, 'output_token_details': {'audio': 0, 'reasoning': 0}}\n"
     ]
    }
   ],
   "source": [
    "# inputs = {\"messages\": \"테디노트 YouTube 채널에 대해서 검색해 줘\"}\n",
    "inputs = {\"messages\": \"kt 5G 요금제 크루즈 로밍에 대해 알려주세요.\"}\n",
    "\n",
    "for event in graph.stream(inputs, stream_mode=\"values\"):\n",
    "    for key, value in event.items():\n",
    "        print(f\"\\n==============\\nSTEP: {key}\\n==============\\n\")\n",
    "        # display_message_tree(value[\"messages\"][-1])\n",
    "        print(value[-1])"
   ]
  },
  {
   "cell_type": "markdown",
   "id": "f4c6c5ac",
   "metadata": {},
   "source": [
    "도구 호출 후 구조에 대한 이미지"
   ]
  },
  {
   "cell_type": "markdown",
   "id": "23623eec",
   "metadata": {},
   "source": [
    "![](./image/tool-message-01.png)"
   ]
  },
  {
   "cell_type": "markdown",
   "id": "ff003852",
   "metadata": {},
   "source": [
    "- [이전 실행에 대한 LangSmith 추적](https://smith.langchain.com/public/4f82ddfa-a452-40f3-ab09-4eb088b812a4/r)"
   ]
  }
 ],
 "metadata": {
  "kernelspec": {
   "display_name": "edu-rag-h6vp0ZFq-py3.11",
   "language": "python",
   "name": "python3"
  },
  "language_info": {
   "codemirror_mode": {
    "name": "ipython",
    "version": 3
   },
   "file_extension": ".py",
   "mimetype": "text/x-python",
   "name": "python",
   "nbconvert_exporter": "python",
   "pygments_lexer": "ipython3",
   "version": "3.11.9"
  }
 },
 "nbformat": 4,
 "nbformat_minor": 5
}
