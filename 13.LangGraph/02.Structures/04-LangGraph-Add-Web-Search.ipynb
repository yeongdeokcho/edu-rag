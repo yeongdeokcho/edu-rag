{
 "cells": [
  {
   "cell_type": "markdown",
   "id": "6fa6fb7f",
   "metadata": {},
   "source": [
    "# 웹 검색 모듈 추가\n",
    "\n",
    "**절차**\n",
    "\n",
    "1. Naive RAG 수행\n",
    "2. 검색된 문서에 대한 관련성 체크(Groundedness Check)\n",
    "3. (이번 튜토리얼) Web Search 추가\n",
    "\n",
    "**참고**\n",
    "\n",
    "- 이전 튜토리얼에서 확장된 내용이므로, 겹치는 부분이 있을 수 있습니다. 부족한 설명은 이전 튜토리얼을 참고해주세요.\n",
    "\n",
    "![langgraph-web-search](assets/langgraph-web-search.png)"
   ]
  },
  {
   "cell_type": "markdown",
   "id": "f21c872b",
   "metadata": {},
   "source": [
    "## 환경 설정"
   ]
  },
  {
   "cell_type": "code",
   "execution_count": 1,
   "id": "62c08760",
   "metadata": {},
   "outputs": [],
   "source": [
    "# !pip install -U langchain-teddynote"
   ]
  },
  {
   "cell_type": "code",
   "execution_count": 1,
   "id": "064d5c8c",
   "metadata": {},
   "outputs": [
    {
     "data": {
      "text/plain": [
       "True"
      ]
     },
     "execution_count": 1,
     "metadata": {},
     "output_type": "execute_result"
    }
   ],
   "source": [
    "# API 키를 환경변수로 관리하기 위한 설정 파일\n",
    "from dotenv import load_dotenv\n",
    "\n",
    "# API 키 정보 로드\n",
    "load_dotenv()"
   ]
  },
  {
   "cell_type": "code",
   "execution_count": 2,
   "id": "562b0043",
   "metadata": {},
   "outputs": [
    {
     "name": "stdout",
     "output_type": "stream",
     "text": [
      "LangSmith 추적을 시작합니다.\n",
      "[프로젝트명]\n",
      "CH13-LangGraph-Structures\n"
     ]
    }
   ],
   "source": [
    "# LangSmith 추적을 설정합니다. https://smith.langchain.com\n",
    "# !pip install -qU langchain-teddynote\n",
    "from langchain_teddynote import logging\n",
    "\n",
    "# 프로젝트 이름을 입력합니다.\n",
    "logging.langsmith(\"CH13-LangGraph-Structures\")"
   ]
  },
  {
   "cell_type": "markdown",
   "id": "06468c1c",
   "metadata": {},
   "source": [
    "## 기본 PDF 기반 Retrieval Chain 생성\n",
    "\n",
    "여기서는 PDF 문서를 기반으로 Retrieval Chain 을 생성합니다. 가장 단순한 구조의 Retrieval Chain 입니다.\n",
    "\n",
    "단, LangGraph 에서는 Retirever 와 Chain 을 따로 생성합니다. 그래야 각 노드별로 세부 처리를 할 수 있습니다.\n",
    "\n",
    "**참고**\n",
    "\n",
    "- 이전 튜토리얼에서 다룬 내용이므로, 자세한 설명은 생략합니다."
   ]
  },
  {
   "cell_type": "code",
   "execution_count": 3,
   "id": "f905df18",
   "metadata": {},
   "outputs": [],
   "source": [
    "from rag.pdf import PDFRetrievalChain\n",
    "\n",
    "# PDF 문서를 로드합니다.\n",
    "pdf = PDFRetrievalChain([\"data/SPRI_AI_Brief_2023년12월호_F.pdf\"]).create_chain()\n",
    "\n",
    "# retriever와 chain을 생성합니다.\n",
    "pdf_retriever = pdf.retriever\n",
    "pdf_chain = pdf.chain"
   ]
  },
  {
   "cell_type": "markdown",
   "id": "d047f938",
   "metadata": {},
   "source": [
    "## State 정의\n",
    "\n",
    "`State`: Graph 의 노드와 노드 간 공유하는 상태를 정의합니다.\n",
    "\n",
    "일반적으로 `TypedDict` 형식을 사용합니다."
   ]
  },
  {
   "cell_type": "markdown",
   "id": "de58d48d",
   "metadata": {},
   "source": [
    "이번에는 상태(State)에 관련성(relevance) 체크 결과를 추가합니다."
   ]
  },
  {
   "cell_type": "code",
   "execution_count": 4,
   "id": "f19a3df5",
   "metadata": {},
   "outputs": [],
   "source": [
    "from typing import Annotated, TypedDict\n",
    "from langgraph.graph.message import add_messages\n",
    "\n",
    "\n",
    "# GraphState 상태 정의\n",
    "class GraphState(TypedDict):\n",
    "    question: Annotated[str, \"Question\"]  # 질문\n",
    "    context: Annotated[str, \"Context\"]  # 문서의 검색 결과\n",
    "    answer: Annotated[str, \"Answer\"]  # 답변\n",
    "    messages: Annotated[list, add_messages]  # 메시지(누적되는 list)\n",
    "    relevance: Annotated[str, \"Relevance\"]  # 관련성"
   ]
  },
  {
   "cell_type": "markdown",
   "id": "c56d4095",
   "metadata": {},
   "source": [
    "## 노드(Node) 정의\n",
    "\n",
    "- `Nodes`: 각 단계를 처리하는 노드입니다. 보통은 Python 함수로 구현합니다. 입력과 출력이 상태(State) 값입니다.\n",
    "  \n",
    "**참고**  \n",
    "\n",
    "- `State`를 입력으로 받아 정의된 로직을 수행한 후 업데이트된 `State`를 반환합니다."
   ]
  },
  {
   "cell_type": "code",
   "execution_count": 5,
   "id": "9ef0c055",
   "metadata": {},
   "outputs": [],
   "source": [
    "from langchain_openai import ChatOpenAI\n",
    "from langchain_teddynote.evaluator import GroundednessChecker\n",
    "from langchain_teddynote.messages import messages_to_history\n",
    "from rag.utils import format_docs\n",
    "\n",
    "\n",
    "# 문서 검색 노드\n",
    "def retrieve_document(state: GraphState) -> GraphState:\n",
    "    # 질문을 상태에서 가져옵니다.\n",
    "    latest_question = state[\"question\"]\n",
    "\n",
    "    # 문서에서 검색하여 관련성 있는 문서를 찾습니다.\n",
    "    retrieved_docs = pdf_retriever.invoke(latest_question)\n",
    "\n",
    "    # 검색된 문서를 형식화합니다.(프롬프트 입력으로 넣어주기 위함)\n",
    "    retrieved_docs = format_docs(retrieved_docs)\n",
    "\n",
    "    # 검색된 문서를 context 키에 저장합니다.\n",
    "    return GraphState(context=retrieved_docs)\n",
    "\n",
    "\n",
    "# 답변 생성 노드\n",
    "def llm_answer(state: GraphState) -> GraphState:\n",
    "    # 질문을 상태에서 가져옵니다.\n",
    "    latest_question = state[\"question\"]\n",
    "\n",
    "    # 검색된 문서를 상태에서 가져옵니다.\n",
    "    context = state[\"context\"]\n",
    "\n",
    "    # 체인을 호출하여 답변을 생성합니다.\n",
    "    response = pdf_chain.invoke(\n",
    "        {\n",
    "            \"question\": latest_question,\n",
    "            \"context\": context,\n",
    "            \"chat_history\": messages_to_history(state[\"messages\"]),\n",
    "        }\n",
    "    )\n",
    "    # 생성된 답변, (유저의 질문, 답변) 메시지를 상태에 저장합니다.\n",
    "    return GraphState(\n",
    "        answer=response, messages=[(\"user\", latest_question), (\"assistant\", response)]\n",
    "    )\n",
    "\n",
    "\n",
    "# 관련성 체크 노드\n",
    "def relevance_check(state: GraphState) -> GraphState:\n",
    "    # 관련성 평가기를 생성합니다.\n",
    "    question_answer_relevant = GroundednessChecker(\n",
    "        llm=ChatOpenAI(model=\"gpt-4o-mini\", temperature=0), target=\"question-retrieval\"\n",
    "    ).create()\n",
    "\n",
    "    # 관련성 체크를 실행(\"yes\" or \"no\")\n",
    "    response = question_answer_relevant.invoke(\n",
    "        {\"question\": state[\"question\"], \"context\": state[\"context\"]}\n",
    "    )\n",
    "\n",
    "    print(\"==== [RELEVANCE CHECK] ====\")\n",
    "    print(response.score)\n",
    "\n",
    "    # 참고: 여기서의 관련성 평가기는 각자의 Prompt 를 사용하여 수정할 수 있습니다. 여러분들의 Groundedness Check 를 만들어 사용해 보세요!\n",
    "    return GraphState(relevance=response.score)\n",
    "\n",
    "\n",
    "# 관련성 체크하는 함수(router)\n",
    "def is_relevant(state: GraphState) -> GraphState:\n",
    "    if state[\"relevance\"] == \"yes\":\n",
    "        return \"relevant\"\n",
    "    else:\n",
    "        return \"not relevant\""
   ]
  },
  {
   "cell_type": "markdown",
   "id": "7ef23fae",
   "metadata": {},
   "source": [
    "## 검색 노드 추가\n",
    "\n",
    "이번에는 `TavilySearch` 도구를 사용하여 Web Search 를 수행합니다.\n",
    "\n",
    "아래는 `TavilySearch` 도구를 사용한 예제입니다."
   ]
  },
  {
   "cell_type": "code",
   "execution_count": 6,
   "id": "bb908735",
   "metadata": {},
   "outputs": [
    {
     "name": "stdout",
     "output_type": "stream",
     "text": [
      "['<document><title>\\\\\"사우스 코리아, 한강\\\\\"…韓 최초 노벨문학상 탄생 역사적 순간(종합) | 연합뉴스</title><url>https://www.yna.co.kr/view/AKR20241010167651009</url><content>(서울=연합뉴스) 소설가 한강이 한국 작가로 최초로 10일 노벨 문학상 수상의 영예를 안았다. 2016년 5월 한국 작가 최초로 세계 3대 문학상인 \\'맨부커상\\'을 수상한 소설가 한강이 서울 마포구 서교동 한 카페에서 열린 신작 소설 \\'흰\\' 출간 기자간담회에서 취재진의 질문에 답하고 있다. 2024.10.10 [연합뉴스 자료사진] photo@yna.co.kr (서울=연합뉴스) 임지우 기자 = \\\\\"2024년 노벨 문학상 수상자는…한국의 작가, 한강(South Korean author HanKang\\\\\" 10일 현지시간 오후 1시(한국시간 오후 8시) 스웨덴 스톡홀롬 한림원 발표장에 들어선 마츠 말름 한림원 상무이사는 \\\\\"한림원은 이제 노벨 문학상 결정을 발표할 수 있게 됐다\\\\\"고 말문을 연 뒤 차분히 발표문을 읽어내렸다. 한국인 최초의 노벨 문학상 수상자가 탄생하는 역사적 순간이었다. 말름 이사는 이날 한강과 전화 통화를 한 내용도 전했다. 소설 \\'채식주의자\\' 등을 쓴 한강은 이날 한국 작가 최초로 노벨 문학상 수상의 영예를 안았다. https://youtu.be/esM8d2QhhD4 https://youtu.be/Wx4dyjxww7c <저작권자(c) 연합뉴스,</content><raw>자동완성 기능이 켜져 있습니다.\\n\"사우스 코리아, 한강\"…韓 최초 노벨문학상 탄생 역사적 순간(종합)\\n\\n송고시간2024-10-10 22:32\\n\\n\"한강, 노벨상 연락에 예상못해…아들과 저녁식사 평범한 하루\"\\n(서울=연합뉴스) 소설가 한강이 한국 작가로 최초로 10일 노벨 문학상 수상의 영예를 안았다. 2016년 5월 한국 작가 최초로 세계 3대 문학상인 \\'맨부커상\\'을 수상한 소설가 한강이 서울 마포구 서교동 한 카페에서 열린 신작 소설 \\'흰\\' 출간 기자간담회에서 취재진의 질문에 답하고 있다. 2024.10.10 [연합뉴스 자료사진] photo@yna.co.kr\\n\\n (서울=연합뉴스) 임지우 기자 = \"2024년 노벨 문학상 수상자는…한국의 작가, 한강(South Korean author HanKang\"\\n 10일 현지시간 오후 1시(한국시간 오후 8시) 스웨덴 스톡홀롬 한림원 발표장에 들어선 마츠 말름 한림원 상무이사는 \"한림원은 이제 노벨 문학상 결정을 발표할 수 있게 됐다\"고 말문을 연 뒤 차분히 발표문을 읽어내렸다.\\n 먼저 스웨덴어로 수상자를 발표한 말름 이사는 이어 영어로도 수상자를 발표한 뒤 \"역사적 트라우마에 맞서고 인간의 삶의 연약함을 드러낸 강렬한 시적 산문\"이라며 선정 이유를 밝혔다.\\n 한국인 최초의 노벨 문학상 수상자가 탄생하는 역사적 순간이었다.\\n한강의 노벨문학상 수상을 발표하는 스웨덴 한림원 마츠 말름 이사. 2024.10.10 [AP=연합뉴스]\\n\\n 말름 이사는 이날 한강과 전화 통화를 한 내용도 전했다.\\n 그는 \"한강과 전화로 얘기할 수 있었다\"며 \"그는 평범한 하루를 보내고 있는 것처럼 보였다. 아들과 막 저녁 식사를 마친 참이었다\"고 말했다.\\n 그러면서 \"그는 (수상에) 준비가 되어 있지 않았다\"면서 한강과 오는 12월 열릴 노벨상 시상식 준비에 대해 논의했다고 덧붙였다.\\n 소설 \\'채식주의자\\' 등을 쓴 한강은 이날 한국 작가 최초로 노벨 문학상 수상의 영예를 안았다.\\n 아시아 여성이 123년 역사의 노벨 문학상을 받은 것도 이번이 처음이다. \\n 한국인의 노벨상 수상은 지난 2000년 평화상을 탄 고(故) 김대중 전 대통령에 이어 두 번째로, 24년 만이다. \\n wisefool@yna.co.kr\\n\\nhttps://youtu.be/esM8d2QhhD4\\n\\nhttps://youtu.be/Wx4dyjxww7c\\n\\n\\n제보는 카카오톡 okjebo\\n<저작권자(c) 연합뉴스,\\n무단 전재-재배포, AI 학습 및 활용 금지>\\n2024/10/10 22:32 송고\\n\\n(C) Yonhapnews[대표이사] 황대일\\n\\n</raw></document>', '<document><title>[영상] \\\\\"온몸에 전율, 소리 질렀다\\\\\"…한강, 첫 한국인 노벨 문학상 쾌거 | 연합뉴스</title><url>https://www.yna.co.kr/view/MYH20241010024300704</url><content>[영상] \\\\\"온몸에 전율, 소리 질렀다\\\\\"…한강, 첫 한국인 노벨 문학상 쾌거 | 연합뉴스 뉴스, 포토, 영상, 그래픽을 검색하실 수 있습니다. 영상 영상 플레이어 닫기 [영상] \\\\\"온몸에 전율, 소리 질렀다\\\\\"…한강, 첫 한국인 노벨 문학상 쾌거 (서울=연합뉴스) \\\\\"2024년 노벨문학상 수상자는 한국 작가 한강입니다\\\\\" 한강은 한국 작가 최초로 노벨 문학상을 받게 됐으며 한국인으로는 지난 2000년 평화상을 탄 고(故) 김대중 전 대통령에 이어 두 번째 노벨상 수상자가 됐습니다. [속보] 스노보드 이채운, 하얼빈 아시안게임 남자 슬로프스타일 금메달 02-08 16:24 [속보] 김길리, 하얼빈 아시안게임 여자 쇼트트랙 1,500m 금메달 02-08 12:45 [속보] 한국 쇼트트랙 혼성계주, 하얼빈 아시안게임 첫 금메달 02-08 12:01 [아시안게임] 쇼트트랙 혼성 계주, 중국 린샤오쥔 실수로 대회 첫 금메달(종합) [아시안게임] 한국 상대한 린샤오쥔…계주 좌절 뒤 500ｍ서 감격의 눈물(종합) 영상 뉴스 영상 모바일 뉴스 연합뉴스</content><raw>[영상] \"온몸에 전율, 소리 질렀다\"…한강, 첫 한국인 노벨 문학상 쾌거 | 연합뉴스\\n연합뉴스 본문 바로가기 메뉴 바로가기 하단 메뉴 바로가기\\n국가기간뉴스통신사 연합뉴스\\n배너\\n검색 영역\\n뉴스, 포토, 영상, 그래픽을 검색하실 수 있습니다.  GO\\n\\n비주얼 뉴스홈\\n영상\\n영상홈\\n영상뉴스\\n통통컬처\\n현장영상\\n많이본영상\\n날짜별영상\\n\\n\\n포토\\n포토홈\\n정치\\n북한\\n경제\\n산업\\n사회\\n전국\\n세계\\n문화\\n연예\\n스포츠\\n모멘트\\n\\n\\n화보\\nD스토리\\n그래픽\\n\\n검색 열기 검색 닫기\\n광고\\n광고\\n영상 플레이어 닫기\\n[영상] \"온몸에 전율, 소리 질렀다\"…한강, 첫 한국인 노벨 문학상 쾌거\\n2024-10-10 22:19\\n공유\\n이 뉴스 공유하기 닫기 카카오톡 페이스북 X 카카오\\n스토리 페이스북\\n메신저 네이버\\n밴드 네이버\\n블로그 URL\\n복사\\nURL이 복사되었습니다.\\n댓글\\n글자크기조정\\n본문 글자 크기 조정 닫기 폰트 1단계 15px 폰트 2단계 16px 폰트 3단계 17px 폰트 4단계 18px (기본설정) 폰트 5단계 19px 폰트 6단계 20px 폰트 7단계 21px\\n인쇄\\n(서울=연합뉴스) \"2024년 노벨문학상 수상자는 한국 작가 한강입니다\"\\n올해 노벨 문학상의 영예는 \\'채식주의자\\', \\'소년이 온다\\'로 잘 알려진 우리나라 소설가 한강(53)에게 돌아갔습니다.\\n스웨덴 한림원은 10일(현지시간) 2024 노벨문학상 수상자로 한강을 선정했다고 발표했습니다.\\n한림원은 이날 홈페이지에 \"역사적 트라우마에 맞서고 인간 생의 연약함을 드러낸 강렬한 시적 산문\"이라며 선정 이유를 밝혔습니다.\\n한강은 한국 작가 최초로 노벨 문학상을 받게 됐으며 한국인으로는 지난 2000년 평화상을 탄 고(故) 김대중 전 대통령에 이어 두 번째 노벨상 수상자가 됐습니다.\\n1970년 11월 전라남도 광주에서 소설가 한승원의 딸로 태어난 그는 이후 서울로 올라와 풍문여고를 거쳐 연세대 국문과를 졸업했습니다.\\n한강은 지난 2016년 \\'채식주의자\\'로 세계적 권위의 맨부커상에서 영연방 이외 지역 작가에게 주는 인터내셔널 부문을 한국인 최초로 수상하면서 국제적인 명성을 쌓았습니다.\\n지난해에는 제주 4·3 사건의 비극을 다룬 장편 \\'작별하지 않는다\\'로 프랑스 4대 문학상 중 하나인 메디치 외국문학상을 수상하기도 했습니다.\\n노벨문학상 수상자에게는 약 14억 원에 달하는 상금 1천100만 크로나와 메달, 증서가 수여됩니다.\\n시민들은 한국 작가 최초 노벨 문학상 수상자 탄생에 \"온몸에 전율이 흘렀다\", \"퇴근길에 소리를 질렀다\", \"눈물이 고였다\"는 반응을 보이며 감격스러워했습니다.\\n제작: 진혜숙·한성은\\n영상: 로이터·AFP·연합뉴스TV·노벨상 홈페이지\\n제보는 카카오톡 okjebo <저작권자(c) 연합뉴스, 무단 전재-재배포, AI 학습 및 활용 금지> 2024/10/10 22:19 송고\\n\\n#한강\\n#노벨상\\n#한국인\\n#최초\\n#김대중\\n\\n함께 보면 좋은 콘텐츠\\n댓글쓰기\\n광고\\n함께 읽기 좋은 콘텐츠\\n최신 영상\\n\\n [속보] 스노보드 이채운, 하얼빈 아시안게임 남자 슬로프스타일 금메달 02-08 16:24\\n [속보] 김길리, 하얼빈 아시안게임 여자 쇼트트랙 1,500m 금메달 02-08 12:45\\n [속보] 한국 쇼트트랙 혼성계주, 하얼빈 아시안게임 첫 금메달 02-08 12:01\\n [속보] 컬링 믹스더블, 하얼빈 아시안게임 은메달 획득 02-08 11:46\\n [속보] 234명 성착취 \\'목사방\\' 총책은 33세 김녹완…신상공개 02-08 09:30\\n [영상] \\'시진핑\\' 입력하니 먹통?…보안 우려에 딥시크 줄차단 02-08 09:00\\n 검찰, \\'부당합병\\' 이재용 무죄에 대법 상고 02-07 18:32\\n [속보] 검찰, \\'부당합병\\' 이재용 무죄에 대법 상고 02-07 18:00\\n [영상] \\'동맹도 먹어치울 기세\\'…트럼프 무역전쟁의 시작은 02-07 17:58\\n\\n광고\\n광고\\n핫뉴스\\n\\n\\n\\n[아시안게임] 한국 상대한 린샤오쥔…계주 좌절 뒤 500ｍ서 감격의 눈물\\n\\n\\n\\n태국여성들, 조지아로 유인돼 \\'난자 적출\\'…\"100명 감금 추정\"\\n\\n\\n\\n우크라전쟁 비판 러 가수, 경찰 수색받던 중 추락사\\n\\n\\n\\n\"르망 몰고 일본 가요\"…대우차 유산 보존에 시동 건 MZ들\\n\\n\\n카녜이 웨스트 \"나는 나치…히틀러 사랑해\" 또 폭언 물의\\n\\n\\n트럼프, 비판 보도 WP 언론인 실명 저격…\"즉시 해고돼야\"\\n\\n\\n집트랙 타다 8ｍ 아래 추락해 숨진 30대…시설 관계자들 처벌\\n\\n\\n10년간 14억 뜯어 가정파탄 내놓고는…또 사기행각 벌인 40대\\n\\n\\n많이 본 뉴스\\n종합\\n정치\\n경제\\n사회\\n세계\\n스포츠\\n연예\\n이전 다음\\n\\n\\n\\n소시지 잘못 삼켰다 식물인간 된 아이…기적적으로 생환\\n\\n\\n234명 성착취 \\'목사방\\' 총책은 33세 김녹완…경찰, 신상공개\\n\\n\\n태국여성들, 조지아로 유인돼 \\'난자 적출\\'…\"100명 감금 추정\"\\n\\n\\n\"르망 몰고 일본 가요\"…대우차 유산 보존에 시동 건 MZ들\\n\\n\\n우크라전쟁 비판 러 가수, 경찰 수색받던 중 추락사\\n\\n\\n\\n강추위 속 주말 전국 곳곳서 尹 탄핵 찬반 집회\\n\\n\\n尹측, 헌재 진행 문제제기…\"시간제한·질문 미리 제출 불공정\"\\n\\n\\n북한 \"우리 핵은 흥정물 아닌 실전용\"…비핵화 협상에 선 그어\\n\\n\\n與 \"이재명, 개딸에 광화문 동원령…지지율 하락에 마음 급한가\"\\n\\n\\n칼바람에도 서울 도심 尹탄핵 찬반 집결…\"파면\" vs \"석방\"\\n\\n\\n\\n[다음주 경제] 작년 30조원 \\'세수펑크\\' 세부내역 공개\\n\\n\\n美연준인사 \"美노동시장 건강…트럼프 정책에 상당한 불확실성\"\\n\\n\\n천정부지 금값…돌 반지 진열대서 사라지고 골드바 문의 빗발\\n\\n\\n애플 연구진, 탁상형 램프 같은 가정용 로봇 공개\\n\\n\\n주유소 휘발윳값 17주만에 소폭 하락…\"다음주도 내릴 듯\"\\n\\n\\n\\n234명 성착취 \\'목사방\\' 총책은 33세 김녹완…경찰, 신상공개\\n\\n\\n집트랙 타다 8ｍ 아래 추락해 숨진 30대…시설 관계자들 처벌\\n\\n\\n대구 관문 동대구역 광장서 \"尹 탄핵 반대\" 대규모 집회\\n\\n\\n10년간 14억 뜯어 가정파탄 내놓고는…또 사기행각 벌인 40대\\n\\n\\n온라인 커뮤니티서 \\'헌재 폭동\\' 모의 정황…경찰, 작성자 추적\\n\\n\\n\\n태국여성들, 조지아로 유인돼 \\'난자 적출\\'…\"100명 감금 추정\"\\n\\n\\n우크라전쟁 비판 러 가수, 경찰 수색받던 중 추락사\\n\\n\\n이시바 \\'美관세 시 보복\\' 질문에 답피하자 트럼프 웃으며 \"와우\"\\n\\n\\n[아시안게임] 김길리는 왜 황금 헬멧을 쓸까…\\'세계 1위 특전\\'\\n\\n\\n카녜이 웨스트 \"나는 나치…히틀러 사랑해\" 또 폭언 물의\\n\\n\\n\\n[아시안게임] 김길리는 왜 황금 헬멧을 쓸까…\\'세계 1위 특전\\'\\n\\n\\n[아시안게임] 쇼트트랙 혼성 계주, 중국 린샤오쥔 실수로 대회 첫 금메달(종합)\\n\\n\\n[아시안게임] 한국 상대한 린샤오쥔…계주 좌절 뒤 500ｍ서 감격의 눈물(종합)\\n\\n\\n한국, 하얼빈 동계AG 메달 레이스 첫날 金 7개…\\'슈퍼 골든데이\\'\\n\\n\\n\\'이강인 교체 출전\\' PSG, 모나코에 4-1 완승…흐비차 이적 첫 골\\n\\n\\n\\n소시지 잘못 삼켰다 식물인간 된 아이…기적적으로 생환\\n\\n\\n\"가요계 텅 비어있는 느낌\"…송대관 빈소에 이틀째 추모 발길\\n\\n\\n이미배 \"밝은 칸초네와 차분한 샹송처럼 인생도 굴곡 있죠\"\\n\\n\\n로제 \\'아파트\\' 英싱글차트 6주 연속 2위…지민 23위·제니 64위\\n\\n\\n청각장애 김동준 신부 \"더 열심히 사는 농인에게서 용기 얻어\"\\n\\n\\n광고\\n광고\\n에디터스 픽Editor\\'s Picks\\n영상\\n영상 기사  \\n[영상] \\'시진핑\\' 입력하니 먹통?…보안 우려에 딥시크 줄차단\\n영상 기사  \\n[영상] 1천억 쓴 대왕고래 \"경제성 없다\"…오징어·명태 시추 가능성은?\\n영상 기사  \\n[영상] \\'쨍하고 해뜰날\\' 송대관 별세…\\'절친\\' 태진아 \"30년 내 동반자\"\\n뉴스\\n\\n\\n\\n강추위 속 주말 전국 곳곳서 尹 탄핵 찬반 집회\\n\\n\\n한국, 하얼빈 동계AG 메달 레이스 첫날 金 7개…\\'슈퍼 골든데이\\'\\n\\n\\n\\n이나현, 김민선 제치고 빙속 여자 100ｍ 금메달\\n\\n\\n트럼프, \\'완전한 北비핵화·한미일협력 중시\\' 재집권후 첫 천명\\n\\n\\n\\n[날씨] 한파에 찬바람 쌩쌩…서울 아침 최저 -10도\\n\\n\\n광고\\n광고\\n광고\\n맨위로\\n전체메뉴\\n뉴스 홈\\n최신기사\\n정치\\n북한\\n경제\\n마켓 +\\n산업\\n사회\\n전국\\n세계\\n문화\\n건강\\n연예\\n스포츠\\n오피니언\\n사람들\\n사람들\\n인사\\n부고\\n동정\\nCEO\\n인터뷰\\n비주얼뉴스\\n영상\\n포토\\n화보\\nD스토리\\n그래픽\\n이슈돋보기\\n이 시각 헤드라인\\n재난/북한 포털\\n재난포털\\n북한포털\\n날씨\\n테마별뉴스\\n핫뉴스\\n주요뉴스\\n긴급뉴스\\n단독뉴스\\n많이본뉴스\\n오래머문뉴스\\n모바일 뉴스\\n모바일앱\\n모바일웹\\n비주얼뉴스\\n외국어\\nEnglish\\n中文\\n日本語\\nعربي\\nEspañol\\nFrançais\\n뉴스 상품\\n프리미엄뉴스\\n뉴스리더\\n인터넷 맞춤형\\n보도자료 해외배포\\n보도자료 국내배포\\n출판물\\n이매진\\n연합연감\\n영문연감\\n단행본\\n월간 마이더스\\n광고\\nKTX열차\\nAREX 공항철도\\n모바일\\nPC/홈페이지\\n출판물\\n콘텐츠 판매\\n보도사진\\n이미지\\n그래픽\\n동영상\\n인물\\n관련사이트\\n한민족센터\\nK-VIBE\\n채용\\nIR 클럽\\n유튜브\\n연합뉴스\\n통통컬처\\nKorea Now\\n계약사/제휴문의\\n\\n회사소개\\n윤리헌장\\n저작권규약\\n수용자권익위원회\\n콘텐츠자문위원회\\n고충처리\\n이용약관\\n개인정보처리방침\\n독자게시판\\n기사제보(02-398-3000)\\nRSS\\n사이트맵\\n\\n연합뉴스 서울시 종로구 율곡로2길 25 | 등록번호 문화, 나00009 | 등록일자 1980.12.29 | 발행일자 1980.12.29 | Tel. 02-398-3114\\n\\n(C) Yonhapnews\\n[대표이사] 황대일\\n[편집인] 심인성\\n\\n연합뉴스 페이스북 연합뉴스 트위터\\n서비스안내 전체보기 서비스안내 전체보기 닫기\\n연합뉴스 연합뉴스TV 인포맥스\\nADVERTISEMENT\\nADVERTISEMENT</raw></document>', '<document><title>전세계 휩쓴 한강 신드롬 … \\'빛의 속도\\'로 \\'날개\\' 단 K문학 [2025 신년특집-한국문학의 힘] | 세계일보</title><url>https://www.segye.com/newsView/20241229511764</url><content>전세계 휩쓴 한강 신드롬 … ‘빛의 속도’로 ‘날개’ 단 K문학 [2025 신년특집-한국문학의 힘] | 세계일보 2024년 가장 많이 팔린 책을 한강의 장편 ‘소년이 온다’가 차지하고 연간 베스트셀러에 5종이 오를 정도로 서점가에서도 한강 신드롬이 거셌다. 이 같은 전망은 한강 작품을 제외한 2024년 문학도서 판매 신장률을 살펴보면 유추할 수 있다. 즉 2024년 소설 판매 신장률은 한강의 노벨문학상 수상 전에는 5.8%에 그쳤지만 수상 이후에는 무려 30%로 급증했고, 시·에세이 분야 역시 수상 전 12.6%에서 수상 후 26.6%로 크게 증가한 것으로 나타나 한강 효과가 한강 작품뿐만 아니라 소설과 시 분야 전반으로 확산된 것을 알 수 있기 때문이다. 20241229511764 0101050100000 0 2025-01-02 11:8:16 2025-01-02 11:8:13 0 전세계 휩쓴 한강 신드롬 … ‘빛의 속도’로 ‘날개’ 단 K문학 [2025 신년특집-한국문학의 힘] 세계일보 김용출 e073e75f-1fac-4e6f-9979-5c0e5ffc58c9 kimgija@segye.com</content><raw>전세계 휩쓴 한강 신드롬 … ‘빛의 속도’로 ‘날개’ 단 K문학 [2025 신년특집-한국문학의 힘] | 세계일보\\n\\n스포츠월드\\n세계비즈\\n\\n구독신청\\n\\n\\nmPaper\\n\\nRSS\\n로그인\\n회원가입\\n로그아웃\\n회원정보수정\\n회원탈퇴\\n\\n세계일보\\n\\n페이스북\\n네이버 포스트\\nX 트위터\\n유튜브\\n\\n문화\\n\\n뉴스\\n정치\\n사회\\n문화\\n전국\\n피플\\n\\n오피니언\\n\\n\\n일반\\n\\n미디어\\n종교ㆍ학술\\n음악ㆍ공연\\n미술ㆍ전시\\n건강ㆍ의료\\n관광ㆍ레저\\n문학ㆍ출판\\n음식\\n패션ㆍ뷰티\\n\\n결혼ㆍ육아\\n\\n\\n연재물\\n\\n선학평화상\\n환경\\n드론\\n\\n전체메뉴\\n검색\\n뉴스\\n\\n정치\\n일반\\n대통령실\\n국회ㆍ정당\\n선거ㆍ선관위\\n외교ㆍ안보\\n국방\\n북한ㆍ통일\\n\\n\\n사회\\n일반\\n검찰·법원\\n노동·복지\\n환경·날씨\\n교통·항공\\n교육·학교\\n사건\\n해외\\n\\n\\n국제\\n일반\\n미국·캐나다\\n중국\\n일본\\n아태\\n유럽\\n중동·아프리카\\n특파원\\n러시아\\n중남미\\n\\n\\n문화\\n일반\\n미디어\\n종교·학술\\n공연\\n미술\\n건강\\n레저\\n문학\\n음식\\n위크엔드\\n패션·뷰티\\n결혼·육아\\n\\n\\n전국\\n일반\\n서울\\n경기\\n강원\\n충청\\n영남\\n호남\\n제주\\n\\n\\n피플\\n일반\\n부음\\n동정·인사\\n인터뷰\\n\\n\\n오피니언\\n사설\\n오늘의 칼럼\\n기자·데스크\\n논설위원칼럼\\n전문가칼럼\\n외부칼럼\\n기고·독자\\n월드\\n\\n\\n\\n이슈\\n비즈\\n\\n일반\\n금융·증권\\n보험\\n재테크\\n부동산\\nIT / 과학\\n산업·기업\\n자동차\\n쇼핑·유통\\n취업·창업\\n\\n연예\\n\\n일반\\n스타\\nTV·방송\\n영화\\n대중음악\\n해외연예\\n\\n스포츠\\n\\n일반\\n야구\\n축구\\n농구\\n배구\\n골프\\n\\n포토\\n\\n핫갤러리\\n렌즈로보는세상\\n포토에세이\\n\\n영상 부가서비스\\n\\n환경\\n드론\\ninno북스\\n오늘의 운세\\n해커스톡\\n파고다 강남\\n시사일본어\\n시사중국어\\nmPaper\\nRSS\\n\\n뉴스\\n\\n정치\\n일반\\n대통령실\\n국회ㆍ정당\\n선거ㆍ선관위\\n외교ㆍ안보\\n국방\\n북한ㆍ통일\\n\\n\\n사회\\n일반\\n검찰·법원\\n노동·복지\\n환경·날씨\\n교통·항공\\n교육·학교\\n사건\\n해외\\n\\n\\n국제\\n일반\\n미국·캐나다\\n중국\\n일본\\n아태\\n유럽\\n중동·아프리카\\n특파원\\n러시아\\n중남미\\n\\n\\n문화\\n일반\\n미디어\\n종교·학술\\n공연\\n미술\\n건강\\n레저\\n문학\\n음식\\n위크엔드\\n패션·뷰티\\n결혼·육아\\n\\n\\n전국\\n일반\\n서울\\n경기\\n강원\\n충청\\n영남\\n호남\\n제주\\n\\n\\n피플\\n일반\\n부음\\n동정·인사\\n인터뷰\\n\\n\\n오피니언\\n사설\\n오늘의 칼럼\\n기자·데스크\\n논설위원칼럼\\n전문가칼럼\\n외부칼럼\\n기고·독자\\n월드\\n\\n\\n\\n이슈\\n비즈\\n\\n일반\\n금융·증권\\n보험\\n재테크\\n부동산\\nIT / 과학\\n산업\\n자동차\\n쇼핑·유통\\n취업·창업\\n\\n연예\\n\\n일반\\n스타\\nTV·방송\\n영화\\n대중음악\\n해외연예\\n\\n스포츠\\n\\n일반\\n야구\\n축구\\n농구\\n배구\\n골프\\n\\n포토\\n\\n핫갤러리\\n렌즈로보는세상\\n포토에세이\\n\\n영상 부가서비스\\n\\n환경\\n드론\\ninno북스\\n오늘의 운세\\n해커스톡\\n파고다 강남\\n시사일본어\\n시사중국어\\nmPaper\\nRSS\\n\\n \\n전세계 휩쓴 한강 신드롬 … ‘빛의 속도’로 ‘날개’ 단 K문학 [2025 신년특집-한국문학의 힘]\\n, 세계뉴스룸\\n입력 : 2025-01-01 07:00:00 수정 : 2025-01-02 11:08:13\\n인쇄 메일 글씨 크기 선택 가장 작은 크기 글자 한 단계 작은 크기 글자 기본 크기 글자 한 단계 큰 크기 글자 가장 큰 크기 글자\\n_작년 서점가 강타한 ‘한강 효과’에\\n소설 판매 전년 대비 35.7% 늘어\\n‘노벨상’ 이후 50대 이상 독자 급증\\n시·에세이 등 문학 전반으로 ‘훈풍’  \\n한강, 이르면 올해 상반기 차기작\\n황석영·김애란 등 신작 발표 예정\\n톨스토이문학상 거머쥔 김주혜도\\n6월 새 소설 ‘밤새들의 도시’ 출간_“2024년 노벨문학상 수상자는 대한민국 작가 한강입니다!” 지난 10월10일, 작가 한강은 한국 작가 및 아시아 여성 작가로서는 처음으로 노벨문학상을 수상했다. 스웨덴 한림원은 “역사적 트라우마에 맞서며 인간 삶의 연약함을 드러내는 강력한 시적 산문”이라는 사유로 그를 수상자로 선정했다고 밝혔다.\\n\\n서울 종로구 교보문고 광화문점에서 한 시민이 노벨문학상을 수상한 소설가 한강의 책을 구매하고 있다. 연합뉴스\\n2024년 한국문학은 이후 전례 없는 ‘한강 신드롬’ 속에서 국내외에서 큰 주목을 받았다. 많은 한국 소설과 시가 고가에 판권이 팔려나가는가 하면, 서점가에선 한강의 장편 ‘소년이 온다’를 비롯해 많은 문학작품이 불티나게 팔려나갔다. 도서관마다 한국문학 작품을 읽기 위해서 대출하려는 사람들로 긴 줄을 이루기도 했다.\\n새해에도 한강 작가를 필두로 한국문학의 선전은 이어질 것으로 보인다. 당장 2024년 노벨문학상을 수상한 한 작가는 새해 신작을 발표할 가능성이 작지 않다. 한 작가 이외에도 많은 작가가 앞다퉈 신작을 발표할 것으로 보인다. 서점가나 도서관에서도 2024년 막바지에 불었던 문학 열풍이 한동안 더 이어질 것으로 관측된다.\\n◆“세계문학으로 편입된 한국문학”  \\n지난 10일 스웨덴 스톡홀름의 명소 콘서트홀에서 열린 노벨상 시상식에서 한강 작가가 블루카펫을 밟으며 칼 구스타브 스웨덴 국왕으로부터 노벨상 메달과 증서를 받았을 때 정점에 달했다. 한국문학은 2024년 한강의 노벨문학상 수상을 비롯해 어느 때보다 주목을 받아왔다.\\n\\n거장 황석영은 철도원 삼대의 삶을 통해서 한국 근현대사 100년을 조망한 장편 ‘철도원 삼대’로 영향력이 막강한 부커상 최종 후보에 올랐다. 한국계 미국인 소설가 김주혜는 일제강점기 평범한 이들의 독립운동을 다룬 ‘작은 땅의 야수들’로 러시아 톨스토이 문학상 해외문학상을 수상했고, 김초엽은 ‘우리가 빛의 속도로 갈 수 없다면’으로 제34회 은하상 ‘최고인기외국작가상’과 제14회 중국성운상 번역 작품 부문 금상 등 중국의 양대 에스에프(SF) 문학상을 거머쥐기도 했다. 한강과 함께 노벨문학상 후보로 거론되기도 했던 시인 김혜순 역시 ‘날개 환상통’으로 지난 3월 한국인 최초 전미도서비평가협회상을 수상하기도 했다.  \\n2010년 출간된 여성 액션물인 강지영의 ‘심여사는 킬러’가 영국 대형 출판사인 노프 더블데이에 2억원대의 선인세를 받는 조건으로 판권이 팔렸고, 다른 영미권 및 유럽 등 15개국 출판사들과 총 10억원대의 계약을 체결하는 등 최근 한국문학 작품에 대한 해외 출판사들의 러브콜도 이어지고 있다. 분야도 힐링소설을 넘어서 장르 소설, 순문학, 에세이를 가리지 않고 확산 추세다.\\n\\n\\n◆서점가 강타한 한강 효과와 한국문학  \\n2024년 가장 많이 팔린 책을 한강의 장편 ‘소년이 온다’가 차지하고 연간 베스트셀러에 5종이 오를 정도로 서점가에서도 한강 신드롬이 거셌다. 교보문고가 연말 발표한 ‘2024년 연간 도서판매 및 베스트셀러 분석’에 따르면, 한강의 장편 ‘소년이 온다’는 노벨문학상 수상 이후 판매가 폭증하면서 연간 종합 베스트셀러 1위를 차지했다. 더구나 2015년부터 10년간 종합 1위를 한 도서와 비교했을 때에도 가장 많은 판매고를 기록한 것으로 조사됐다. 한강의 작품은 연간 베스트셀러 10위 안에 무려 5종이나 포함됐고, 한강의 소설들은 소설 분야 베스트셀러 30위 가운데 무려 7종이나 오르기도 했다.  \\n한강 효과를 바탕으로 한국문학도 크게 약진했다. 2024년 소설 분야 판매 실적(판매권수 기준)은 전년 대비 무려 35.7%나 증가했다. 이른바 ‘한강 효과’라 부를 만했다. 김애란의 신작 ‘이중 하나는 거짓말’과 정유정의 신작 ‘영원한 천국’ 등 기성작가의 신작들도 한강 효과를 배경으로 판매가 증진된 것으로 분석됐다. 3년 연속 마이너스를 기록한 시·에세이 분야도 이례적으로 17.1% 신장률을 기록했다. 반면 몇 해 전부터 열풍이 불었던 자기계발 분야는 뚜렷한 두각을 보이지 못하면서 마이너스 22.3%를 기록해 대비됐다.  \\n한 작가의 노벨문학상 수상으로 가장 많이 움직인 연령대는 50대 이상 독자인 것으로 조사되기도 했다. 즉, 노벨문학상 수상 전에는 20대 독자가 가장 많이 문학책을 구입했지만 수상 이후에는 40대 이상의 구매가 크게 늘어난 것으로 조사됐다.\\n\\n사진=세계일보 자료사진\\n◆한강 신작 발표 가능성… 황석영, 김숨 신작도  \\n한 작가는 이르면 새해 상반기에 새로운 작품을 발표할 가능성도 있다. 한강은 노벨문학상 수상 다음날인 지난 11일 스웨덴 스톡홀름에서 한국 언론사들과 가진 간담회에서 차기작 두 편의 집필 계획을 밝혔다. 그 중 한 편인 ‘눈 한 송이가 녹는 동안’과 ‘작별’에 이은 ‘겨울 3부작’의 마지막 작품이 출간될 것으로 관측된다. 한 작가는 지난 노벨 시즌 “이제 일상으로 돌아가 조용히, 열심히 신작을 쓸 것”이라고 말한 바 있다. 당초 지난해 겨울까지 마무리할 계획이었지만 노벨상 수상으로 인해 계획보다 다소 늦어졌다고 한다.  \\n한국 문단의 거목인 황석영의 신작 장편소설도 새해 출간된다. 황석영이 장편을 펴내는 것은 2024년 부커상 인터내셔널 부문 최종후보에 올랐던 ‘철도원 삼대’를 펴낸 2020년 이후 약 5년 만이다.  \\n역사성과 현장성이 강한 작품 세계를 구축해온 김숨 작가는 연초에 시각장애인의 삶과 사고를 펼쳐보이는 연작소설을 발표할 예정이고, ‘작은 땅의 야수들’로 2024년 톨스토이문학상을 거머쥔 한국계 미국인 작가 김주혜도 완벽을 향해 질주하는 프리마 발레리나의 예술과 사랑을 그린 성장 소설 ‘밤새들의 도시’를 6월 다산북스를 통해 발표할 예정이다. 구병모도\\xa0장편소설 출간을 앞두고 있다.  \\n두꺼운 팬층이 있는 작가 조경란도 아홉 번째 소설집을 펴내고, 팬덤을 갖고 있는 정이현과 김애란도 소설집을 출간한다. 정이현은 ‘상냥한 폭력의 시대’ 이후 9년 만에, 김애란은 ‘바깥은 여름’ 이후 8년 만에 선보이는 소설집인 만큼 중단편 소설을 기다리는 독자들에게 희소식이다. 정호승 시인의 시집도 새해 하반기에 출간 예정이다.\\n\\n◆새해도 한국문학 선전 이어질 듯  \\n서점가에서 한강 신드롬은 한동안 더 이어질 것으로 보인다. 상반기 중에도 ‘소년이 온다’, ‘채식주의자’, ‘작별하지 않는다’ 등 한 작가의 대표작을 중심으로 꾸준히 판매가 이어질 것으로 관측된다. 한강의 신작도 기대를 모은다. ‘겨울 3부작’의 출판사 문학동네는 “노벨상 수상 후 첫 출간작으로 한강 문학의 현재와 새로운 지향점을 가늠해볼 수 있는 작품이 될 것”이라고 설명했다. 이에 따라 한국문학 역시 한강 효과를 배경으로 상당 기간 호조를 이어갈 것이라는 전망이 나온다.  \\n이 같은 전망은 한강 작품을 제외한 2024년 문학도서 판매 신장률을 살펴보면 유추할 수 있다. 즉 2024년 소설 판매 신장률은 한강의 노벨문학상 수상 전에는 5.8%에 그쳤지만 수상 이후에는 무려 30%로 급증했고, 시·에세이 분야 역시 수상 전 12.6%에서 수상 후 26.6%로 크게 증가한 것으로 나타나 한강 효과가 한강 작품뿐만 아니라 소설과 시 분야 전반으로 확산된 것을 알 수 있기 때문이다.\\n김용출 선임기자 kimgija@segye.com\\n[ⓒ 세계일보 & Segye.com, 무단전재 및 재배포 금지]\\n20241229511764 0101050100000 0 2025-01-02 11:8:16 2025-01-02 11:8:13 0 전세계 휩쓴 한강 신드롬 … ‘빛의 속도’로 ‘날개’ 단 K문학 [2025 신년특집-한국문학의 힘] 세계일보 김용출 e073e75f-1fac-4e6f-9979-5c0e5ffc58c9 kimgija@segye.com\\n오피니언\\n\\n [설왕설래] 타이거맘 교육의 재조명 미국 학교에선 아시아 학생들의 성적이 돋보인다. 교육 방식에서 비롯했을 가능성이 크다. 한국이나 중국, 인도 등이 모두 아이들을 어릴 때부터 무한 경쟁을 시키는 교육 문화다. 2011년 에이미 추아 예일대 교수의 책을 통해 미국에 소개되면서 큰 파문을 낳았다. 책 제목에 사용된 ‘타이거맘(Tiger Mom·호랑이 엄마)’은 2등조차 용납하지 않는 아시아식\\n [기자가만난세상] 밀려난 의료 이슈에 불안한 현장 “선생님, 아이 받아주셔서 너무 감사합니다.” 지난달 아주대병원 응급실에서 한 환자의 가족이 눈물을 흘리며 연신 고개를 숙였다. 장중첩으로 응급실을 찾아 헤매던 소아가 경북에서 충청 지역을 거쳐 경기 남부 아주대병원까지 이송돼 치료를 받게 된 직후였다. 병원에 가지 못한 채 고통에 짓눌린 아이를 보며 발을 동동 구르던 부모는 “치료 잘해주셔서”가 아니라\\n [삶과문화] 삼일마다 다시 작심하기로 했다 새해다. 많은 이가 그렇듯, 내게도 이맘때면 연례행사처럼 도지는 병이 있다. ‘작심삼일(作心三日)’이라는 병이다. 마음에 품은 결심들이 3일을 버티지 못하고 죽어 나간다. 이럴 수가. 어쩜 매번, 이렇게 조로할 수가. 계획의 빠른 사멸 원인 중 하나는 지나친 ‘자기 과신’이다. 날짜 하나 바뀌었을 뿐인데, 괜히 나도 새로 리부트된 것 같은 착각에 목표를 높\\n [노광우의시네마트랩] ‘오징어 게임 2’ 그리고 ‘설국열차’ ‘오징어 게임 시즌2’가 지난해 12월26일에 공개되었고 넷플릭스의 전 세계 시청 순위에서 1위를 차지했다. ‘오징어 게임’ 시리즈는 우리에게는 대중음악의 BTS, 영화의 ‘기생충’, 게임의 ‘페이커’와 함께 전 세계적으로 성공한 한류 콘텐츠라는 관점에서 거론될 작품이다. 그렇지만, 누가 언제 어디서 무슨 언어로 쓰든 미래에 출간될 온라인동영상서비스(OTT\\n\\nHOT뉴스\\n\\n1  美쇼핑몰 화재로 펫숍 동물 500마리 떼죽음\\n2  \"정력에 좋다\"…잉어 담즙 먹은 中 남성 응급실행\\n3  거리서 쓰러진 견주, 반려견 충성심에 사망?\\n4  1300만원짜리→11만원?…美월마트서 \\'워킨백\\' 인기\\n5  홍해 휴양지서 수영하던 남성…상어 공격 받아 사망\\n\\n포토\\n\\n\\n\\n\\n\\n\\n\\n\\n\\n회사소개\\n지면광고\\n온라인광고\\n전광판 광고\\n사업제휴\\n독자인권위원회 및 고충처리\\n정정보도신청\\n개인정보취급방침\\n청소년보호정책\\n이용자약관\\n디지털뉴스이용규칙\\n고객센터\\n\\n제호 : 세계일보\\n서울특별시 용산구 서빙고로 17\\n등록번호 : 서울, 아03959\\n등록일(발행일) : 2015년 11월 2일\\n발행인 : 정희택\\n편집인 : 황정미\\n전화번호 : 02-2000-1234\\n청소년보호 책임자 : 임인섭\\nCopyright ⓒ 세계일보 All rights reserved.\\n문화사업\\n\\n세계농업기술상\\n세계문학상\\n신춘문예\\n음악콩쿠르\\n무용콩쿠르\\n\\n글로벌미디어\\n\\nWashington Times\\nTiempos Del Mundo\\n일본 세계일보\\n</raw></document>']\n"
     ]
    }
   ],
   "source": [
    "from langchain_teddynote.tools.tavily import TavilySearch\n",
    "\n",
    "# 검색 도구 생성\n",
    "tavily_tool = TavilySearch()\n",
    "\n",
    "search_query = \"2024년 노벨 문학상 수상자는?\"\n",
    "\n",
    "# 다양한 파라미터를 사용한 검색 예제\n",
    "search_result = tavily_tool.search(\n",
    "    query=search_query,  # 검색 쿼리\n",
    "    max_results=3,  # 최대 검색 결과\n",
    "    format_output=True,  # 결과 포맷팅\n",
    ")\n",
    "\n",
    "# 검색 결과 출력\n",
    "print(search_result)"
   ]
  },
  {
   "cell_type": "markdown",
   "id": "9a2ce55a",
   "metadata": {},
   "source": [
    "검색 노드로 패키징하여 추가합니다. (함수 생성)"
   ]
  },
  {
   "cell_type": "code",
   "execution_count": 7,
   "id": "2f59acb1",
   "metadata": {},
   "outputs": [],
   "source": [
    "# Web Search 노드\n",
    "def web_search(state: GraphState) -> GraphState:\n",
    "    # 검색 도구 생성\n",
    "    tavily_tool = TavilySearch()\n",
    "\n",
    "    search_query = state[\"question\"]\n",
    "\n",
    "    # 다양한 파라미터를 사용한 검색 예제\n",
    "    search_result = tavily_tool.search(\n",
    "        query=search_query,  # 검색 쿼리\n",
    "        topic=\"general\",  # 일반 주제\n",
    "        max_results=6,  # 최대 검색 결과\n",
    "        format_output=True,  # 결과 포맷팅\n",
    "    )\n",
    "\n",
    "    return {\"context\": search_result}"
   ]
  },
  {
   "cell_type": "markdown",
   "id": "a3f7785d",
   "metadata": {},
   "source": [
    "## Edges\n",
    "\n",
    "- `Edges`: 현재 `State`를 기반으로 다음에 실행할 `Node`를 결정하는 Python 함수.\n",
    "\n",
    "일반 엣지, 조건부 엣지 등이 있습니다."
   ]
  },
  {
   "cell_type": "code",
   "execution_count": 8,
   "id": "a6015807",
   "metadata": {},
   "outputs": [],
   "source": [
    "from langgraph.graph import END, StateGraph\n",
    "from langgraph.checkpoint.memory import MemorySaver\n",
    "\n",
    "# 그래프 정의\n",
    "workflow = StateGraph(GraphState)\n",
    "\n",
    "# 노드 추가\n",
    "workflow.add_node(\"retrieve\", retrieve_document)\n",
    "workflow.add_node(\"relevance_check\", relevance_check)\n",
    "workflow.add_node(\"llm_answer\", llm_answer)\n",
    "\n",
    "# Web Search 노드 추가\n",
    "workflow.add_node(\"web_search\", web_search)\n",
    "\n",
    "# 엣지 추가\n",
    "workflow.add_edge(\"retrieve\", \"relevance_check\")  # 검색 -> 관련성 체크\n",
    "\n",
    "\n",
    "# 조건부 엣지를 추가합니다.\n",
    "workflow.add_conditional_edges(\n",
    "    \"relevance_check\",  # 관련성 체크 노드에서 나온 결과를 is_relevant 함수에 전달합니다.\n",
    "    is_relevant,\n",
    "    {\n",
    "        \"relevant\": \"llm_answer\",  # 관련성이 있으면 답변을 생성합니다.\n",
    "        \"not relevant\": \"web_search\",  # 관련성이 없으면 웹 검색을 수행합니다.\n",
    "    },\n",
    ")\n",
    "\n",
    "workflow.add_edge(\"web_search\", \"llm_answer\")  # 검색 -> 답변\n",
    "workflow.add_edge(\"llm_answer\", END)  # 답변 -> 종료\n",
    "\n",
    "# 그래프 진입점 설정\n",
    "workflow.set_entry_point(\"retrieve\")\n",
    "\n",
    "# 체크포인터 설정\n",
    "memory = MemorySaver()\n",
    "\n",
    "# 그래프 컴파일\n",
    "app = workflow.compile(checkpointer=memory)"
   ]
  },
  {
   "cell_type": "markdown",
   "id": "d9a15c32",
   "metadata": {},
   "source": [
    "컴파일한 그래프를 시각화 합니다."
   ]
  },
  {
   "cell_type": "code",
   "execution_count": 9,
   "id": "9a4a9e16",
   "metadata": {},
   "outputs": [
    {
     "data": {
      "image/png": "[encoded data removed]",
      "text/plain": [
       "<IPython.core.display.Image object>"
      ]
     },
     "metadata": {},
     "output_type": "display_data"
    }
   ],
   "source": [
    "from langchain_teddynote.graphs import visualize_graph\n",
    "\n",
    "visualize_graph(app)"
   ]
  },
  {
   "cell_type": "markdown",
   "id": "110daa16",
   "metadata": {},
   "source": [
    "## 그래프 실행\n",
    "\n",
    "- `config` 파라미터는 그래프 실행 시 필요한 설정 정보를 전달합니다.\n",
    "- `recursion_limit`: 그래프 실행 시 재귀 최대 횟수를 설정합니다.\n",
    "- `inputs`: 그래프 실행 시 필요한 입력 정보를 전달합니다."
   ]
  },
  {
   "cell_type": "markdown",
   "id": "4af077a6",
   "metadata": {},
   "source": [
    "검색 결과의 `relevance_check` 가 실패할 경우, 검색을 수행하여 웹 검색 결과를 제공합니다."
   ]
  },
  {
   "cell_type": "code",
   "execution_count": 10,
   "id": "79fd31f2",
   "metadata": {},
   "outputs": [
    {
     "name": "stdout",
     "output_type": "stream",
     "text": [
      "==== [RELEVANCE CHECK] ====\n",
      "no\n",
      "\n",
      "==================================================\n",
      "🔄 Node: \u001b[1;36mrelevance_check\u001b[0m 🔄\n",
      "- - - - - - - - - - - - - - - - - - - - - - - - - \n",
      "\u001b[1;32mrelevance\u001b[0m:\n",
      "no\n",
      "==================================================\n",
      "\n",
      "==================================================\n",
      "🔄 Node: \u001b[1;36mllm_answer\u001b[0m 🔄\n",
      "- - - - - - - - - - - - - - - - - - - - - - - - - \n",
      "\u001b[1;32manswer\u001b[0m:\n",
      "2024년 노벨 문학상 수상자는 대한민국 작가 한강입니다. 그는 2024년 10월 10일에 수상자로 선정되었습니다.\n",
      "\n",
      "**Source**\n",
      "- [한강(소설가)/노벨문학상 수상 - 나무위키](https://namu.wiki/w/한강(소설가)/노벨문학상+수상)\n",
      "- [연합뉴스](https://www.yna.co.kr/view/AKR20241010167651009)\n",
      "- [MBC 뉴스](https://imnews.imbc.com/replay/2024/nwtoday/article/6645060_36523.html)\n",
      "('user', '2024년 노벨 문학상 수상자는?')\n",
      "('assistant', '2024년 노벨 문학상 수상자는 대한민국 작가 한강입니다. 그는 2024년 10월 10일에 수상자로 선정되었습니다.\\n\\n**Source**\\n- [한강(소설가)/노벨문학상 수상 - 나무위키](https://namu.wiki/w/한강(소설가)/노벨문학상+수상)\\n- [연합뉴스](https://www.yna.co.kr/view/AKR20241010167651009)\\n- [MBC 뉴스](https://imnews.imbc.com/replay/2024/nwtoday/article/6645060_36523.html)')\n",
      "==================================================\n"
     ]
    }
   ],
   "source": [
    "from langchain_core.runnables import RunnableConfig\n",
    "from langchain_teddynote.messages import stream_graph, invoke_graph, random_uuid\n",
    "\n",
    "\n",
    "# config 설정(재귀 최대 횟수, thread_id)\n",
    "config = RunnableConfig(recursion_limit=10, configurable={\"thread_id\": random_uuid()})\n",
    "\n",
    "# 질문 입력\n",
    "inputs = GraphState(question=\"2024년 노벨 문학상 수상자는?\")\n",
    "\n",
    "# 그래프 실행\n",
    "invoke_graph(app, inputs, config, [\"relevance_check\", \"llm_answer\"])"
   ]
  },
  {
   "cell_type": "code",
   "execution_count": 14,
   "id": "5556ce49",
   "metadata": {},
   "outputs": [
    {
     "name": "stdout",
     "output_type": "stream",
     "text": [
      "\n",
      "==================================================\n",
      "🔄 Node: \u001b[1;36mrelevance_check\u001b[0m 🔄\n",
      "- - - - - - - - - - - - - - - - - - - - - - - - - \n",
      "==== [RELEVANCE CHECK] ====\n",
      "no\n",
      "\n",
      "==================================================\n",
      "🔄 Node: \u001b[1;36mllm_answer\u001b[0m 🔄\n",
      "- - - - - - - - - - - - - - - - - - - - - - - - - \n",
      "2024년 노벨 문학상 수상자는 대한민국 작가 한강입니다. 그는 2024년 10월 10일에 수상자로 선정되었습니다.\n",
      "\n",
      "**Source**\n",
      "- [한강(소설가)/노벨문학상 수상 - 나무위키](https://namu.wiki/w/한강(소설가)/노벨문학상+수상)\n",
      "- [연합뉴스](https://www.yna.co.kr/view/AKR20241010167651009)\n",
      "- [MBC 뉴스](https://imnews.imbc.com/replay/2024/nwtoday/article/6645060_36523.html)\n",
      "- [한국일보](https://www.hankookilbo.com/News/Read/A2024121014420003976)\n",
      "- [세계일보](https://www.segye.com/newsView/20241229511764)"
     ]
    }
   ],
   "source": [
    "# 그래프 스트리밍 출력\n",
    "stream_graph(app, inputs, config, [\"relevance_check\", \"llm_answer\"])"
   ]
  },
  {
   "cell_type": "code",
   "execution_count": 15,
   "id": "08e7f1d5",
   "metadata": {},
   "outputs": [
    {
     "name": "stdout",
     "output_type": "stream",
     "text": [
      "Question: 2024년 노벨 문학상 수상자는?\n",
      "============================================================\n",
      "Answer:\n",
      "2024년 노벨 문학상 수상자는 대한민국 작가 한강입니다. 그는 2024년 10월 10일에 수상자로 선정되었습니다.\n",
      "\n",
      "**Source**\n",
      "- [한강(소설가)/노벨문학상 수상 - 나무위키](https://namu.wiki/w/한강(소설가)/노벨문학상+수상)\n",
      "- [연합뉴스](https://www.yna.co.kr/view/AKR20241010167651009)\n",
      "- [MBC 뉴스](https://imnews.imbc.com/replay/2024/nwtoday/article/6645060_36523.html)\n",
      "- [한국일보](https://www.hankookilbo.com/News/Read/A2024121014420003976)\n",
      "- [세계일보](https://www.segye.com/newsView/20241229511764)\n"
     ]
    }
   ],
   "source": [
    "# 최종 출력 확인\n",
    "outputs = app.get_state(config).values\n",
    "\n",
    "print(f'Question: {outputs[\"question\"]}')\n",
    "print(\"===\" * 20)\n",
    "print(f'Answer:\\n{outputs[\"answer\"]}')"
   ]
  }
 ],
 "metadata": {
  "kernelspec": {
   "display_name": "edu-rag-h6vp0ZFq-py3.11",
   "language": "python",
   "name": "python3"
  },
  "language_info": {
   "codemirror_mode": {
    "name": "ipython",
    "version": 3
   },
   "file_extension": ".py",
   "mimetype": "text/x-python",
   "name": "python",
   "nbconvert_exporter": "python",
   "pygments_lexer": "ipython3",
   "version": "3.11.9"
  }
 },
 "nbformat": 4,
 "nbformat_minor": 5
}
