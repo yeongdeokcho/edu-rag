{
 "cells": [
  {
   "cell_type": "markdown",
   "id": "6fa6fb7f",
   "metadata": {},
   "source": [
    "# 웹 검색 모듈 추가\n",
    "\n",
    "**절차**\n",
    "\n",
    "1. Naive RAG 수행\n",
    "2. 검색된 문서에 대한 관련성 체크(Groundedness Check)\n",
    "3. (이번 튜토리얼) Web Search 추가\n",
    "\n",
    "**참고**\n",
    "\n",
    "- 이전 튜토리얼에서 확장된 내용이므로, 겹치는 부분이 있을 수 있습니다. 부족한 설명은 이전 튜토리얼을 참고해주세요.\n",
    "\n",
    "![langgraph-web-search](assets/langgraph-web-search.png)"
   ]
  },
  {
   "cell_type": "markdown",
   "id": "f21c872b",
   "metadata": {},
   "source": [
    "## 환경 설정"
   ]
  },
  {
   "cell_type": "code",
   "execution_count": 1,
   "id": "62c08760",
   "metadata": {},
   "outputs": [],
   "source": [
    "# !pip install -U langchain-teddynote"
   ]
  },
  {
   "cell_type": "code",
   "execution_count": 1,
   "id": "064d5c8c",
   "metadata": {},
   "outputs": [
    {
     "data": {
      "text/plain": [
       "True"
      ]
     },
     "execution_count": 1,
     "metadata": {},
     "output_type": "execute_result"
    }
   ],
   "source": [
    "# API 키를 환경변수로 관리하기 위한 설정 파일\n",
    "from dotenv import load_dotenv\n",
    "\n",
    "# API 키 정보 로드\n",
    "load_dotenv()"
   ]
  },
  {
   "cell_type": "code",
   "execution_count": 1,
   "id": "562b0043",
   "metadata": {},
   "outputs": [
    {
     "name": "stdout",
     "output_type": "stream",
     "text": [
      "LangSmith 추적을 시작합니다.\n",
      "[프로젝트명]\n",
      "CH13-LangGraph-Structures\n"
     ]
    }
   ],
   "source": [
    "# LangSmith 추적을 설정합니다. https://smith.langchain.com\n",
    "# !pip install -qU langchain-teddynote\n",
    "from langchain_teddynote import logging\n",
    "\n",
    "# 프로젝트 이름을 입력합니다.\n",
    "logging.langsmith(\"CH13-LangGraph-Structures\")"
   ]
  },
  {
   "cell_type": "markdown",
   "id": "06468c1c",
   "metadata": {},
   "source": [
    "## 기본 PDF 기반 Retrieval Chain 생성\n",
    "\n",
    "여기서는 PDF 문서를 기반으로 Retrieval Chain 을 생성합니다. 가장 단순한 구조의 Retrieval Chain 입니다.\n",
    "\n",
    "단, LangGraph 에서는 Retirever 와 Chain 을 따로 생성합니다. 그래야 각 노드별로 세부 처리를 할 수 있습니다.\n",
    "\n",
    "**참고**\n",
    "\n",
    "- 이전 튜토리얼에서 다룬 내용이므로, 자세한 설명은 생략합니다."
   ]
  },
  {
   "cell_type": "code",
   "execution_count": 2,
   "id": "f905df18",
   "metadata": {},
   "outputs": [],
   "source": [
    "from rag.pdf import PDFRetrievalChain\n",
    "\n",
    "# PDF 문서를 로드합니다.\n",
    "pdf = PDFRetrievalChain([\"data/SPRI_AI_Brief_2023년12월호_F.pdf\"]).create_chain()\n",
    "\n",
    "# retriever와 chain을 생성합니다.\n",
    "pdf_retriever = pdf.retriever\n",
    "pdf_chain = pdf.chain"
   ]
  },
  {
   "cell_type": "markdown",
   "id": "d047f938",
   "metadata": {},
   "source": [
    "## State 정의\n",
    "\n",
    "`State`: Graph 의 노드와 노드 간 공유하는 상태를 정의합니다.\n",
    "\n",
    "일반적으로 `TypedDict` 형식을 사용합니다."
   ]
  },
  {
   "cell_type": "markdown",
   "id": "de58d48d",
   "metadata": {},
   "source": [
    "이번에는 상태(State)에 관련성(relevance) 체크 결과를 추가합니다."
   ]
  },
  {
   "cell_type": "code",
   "execution_count": 3,
   "id": "f19a3df5",
   "metadata": {},
   "outputs": [],
   "source": [
    "from typing import Annotated, TypedDict\n",
    "from langgraph.graph.message import add_messages\n",
    "\n",
    "\n",
    "# GraphState 상태 정의\n",
    "class GraphState(TypedDict):\n",
    "    question: Annotated[str, \"Question\"]  # 질문\n",
    "    context: Annotated[str, \"Context\"]  # 문서의 검색 결과\n",
    "    answer: Annotated[str, \"Answer\"]  # 답변\n",
    "    messages: Annotated[list, add_messages]  # 메시지(누적되는 list)\n",
    "    relevance: Annotated[str, \"Relevance\"]  # 관련성"
   ]
  },
  {
   "cell_type": "markdown",
   "id": "c56d4095",
   "metadata": {},
   "source": [
    "## 노드(Node) 정의\n",
    "\n",
    "- `Nodes`: 각 단계를 처리하는 노드입니다. 보통은 Python 함수로 구현합니다. 입력과 출력이 상태(State) 값입니다.\n",
    "  \n",
    "**참고**  \n",
    "\n",
    "- `State`를 입력으로 받아 정의된 로직을 수행한 후 업데이트된 `State`를 반환합니다."
   ]
  },
  {
   "cell_type": "code",
   "execution_count": 4,
   "id": "9ef0c055",
   "metadata": {},
   "outputs": [],
   "source": [
    "from langchain_openai import ChatOpenAI\n",
    "from langchain_teddynote.evaluator import GroundednessChecker\n",
    "from langchain_teddynote.messages import messages_to_history\n",
    "from rag.utils import format_docs\n",
    "\n",
    "\n",
    "# 문서 검색 노드\n",
    "def retrieve_document(state: GraphState) -> GraphState:\n",
    "    # 질문을 상태에서 가져옵니다.\n",
    "    latest_question = state[\"question\"]\n",
    "\n",
    "    # 문서에서 검색하여 관련성 있는 문서를 찾습니다.\n",
    "    retrieved_docs = pdf_retriever.invoke(latest_question)\n",
    "\n",
    "    # 검색된 문서를 형식화합니다.(프롬프트 입력으로 넣어주기 위함)\n",
    "    retrieved_docs = format_docs(retrieved_docs)\n",
    "\n",
    "    # 검색된 문서를 context 키에 저장합니다.\n",
    "    return GraphState(context=retrieved_docs)\n",
    "\n",
    "\n",
    "# 답변 생성 노드\n",
    "def llm_answer(state: GraphState) -> GraphState:\n",
    "    # 질문을 상태에서 가져옵니다.\n",
    "    latest_question = state[\"question\"]\n",
    "\n",
    "    # 검색된 문서를 상태에서 가져옵니다.\n",
    "    context = state[\"context\"]\n",
    "\n",
    "    # 체인을 호출하여 답변을 생성합니다.\n",
    "    response = pdf_chain.invoke(\n",
    "        {\n",
    "            \"question\": latest_question,\n",
    "            \"context\": context,\n",
    "            \"chat_history\": messages_to_history(state[\"messages\"]),\n",
    "        }\n",
    "    )\n",
    "    # 생성된 답변, (유저의 질문, 답변) 메시지를 상태에 저장합니다.\n",
    "    return GraphState(\n",
    "        answer=response, messages=[(\"user\", latest_question), (\"assistant\", response)]\n",
    "    )\n",
    "\n",
    "\n",
    "# 관련성 체크 노드\n",
    "def relevance_check(state: GraphState) -> GraphState:\n",
    "    # 관련성 평가기를 생성합니다.\n",
    "    question_answer_relevant = GroundednessChecker(\n",
    "        llm=ChatOpenAI(model=\"gpt-4o-mini\", temperature=0), target=\"question-retrieval\"\n",
    "    ).create()\n",
    "\n",
    "    # 관련성 체크를 실행(\"yes\" or \"no\")\n",
    "    response = question_answer_relevant.invoke(\n",
    "        {\"question\": state[\"question\"], \"context\": state[\"context\"]}\n",
    "    )\n",
    "\n",
    "    print(\"==== [RELEVANCE CHECK] ====\")\n",
    "    print(response.score)\n",
    "\n",
    "    # 참고: 여기서의 관련성 평가기는 각자의 Prompt 를 사용하여 수정할 수 있습니다. 여러분들의 Groundedness Check 를 만들어 사용해 보세요!\n",
    "    return GraphState(relevance=response.score)\n",
    "\n",
    "\n",
    "# 관련성 체크하는 함수(router)\n",
    "def is_relevant(state: GraphState) -> GraphState:\n",
    "    if state[\"relevance\"] == \"yes\":\n",
    "        return \"relevant\"\n",
    "    else:\n",
    "        return \"not relevant\""
   ]
  },
  {
   "cell_type": "markdown",
   "id": "7ef23fae",
   "metadata": {},
   "source": [
    "## 검색 노드 추가\n",
    "\n",
    "이번에는 `TavilySearch` 도구를 사용하여 Web Search 를 수행합니다.\n",
    "\n",
    "아래는 `TavilySearch` 도구를 사용한 예제입니다."
   ]
  },
  {
   "cell_type": "code",
   "execution_count": 5,
   "id": "bb908735",
   "metadata": {},
   "outputs": [
    {
     "name": "stdout",
     "output_type": "stream",
     "text": [
      "['<document><title>[영상] \\\\\"온몸에 전율, 소리 질렀다\\\\\"…한강, 첫 한국인 노벨 문학상 쾌거 | 연합뉴스</title><url>https://www.yna.co.kr/view/MYH20241010024300704</url><content>[영상] \\\\\"온몸에 전율, 소리 질렀다\\\\\"…한강, 첫 한국인 노벨 문학상 쾌거 | 연합뉴스 뉴스, 포토, 영상, 그래픽을 검색하실 수 있습니다. 영상 영상 플레이어 닫기 [영상] \\\\\"온몸에 전율, 소리 질렀다\\\\\"…한강, 첫 한국인 노벨 문학상 쾌거 (서울=연합뉴스) \\\\\"2024년 노벨문학상 수상자는 한국 작가 한강입니다\\\\\" 한강은 한국 작가 최초로 노벨 문학상을 받게 됐으며 한국인으로는 지난 2000년 평화상을 탄 고(故) 김대중 전 대통령에 이어 두 번째 노벨상 수상자가 됐습니다. [속보] 스노보드 이채운, 하얼빈 아시안게임 남자 슬로프스타일 금메달 02-08 16:24 [속보] 김길리, 하얼빈 아시안게임 여자 쇼트트랙 1,500m 금메달 02-08 12:45 [속보] 한국 쇼트트랙 혼성계주, 하얼빈 아시안게임 첫 금메달 02-08 12:01 [아시안게임] 쇼트트랙 혼성 계주, 중국 린샤오쥔 실수로 대회 첫 금메달(종합) [아시안게임] 한국 상대한 린샤오쥔…계주 좌절 뒤 500ｍ서 감격의 눈물(종합) 영상 뉴스 영상 모바일 뉴스 연합뉴스</content><raw>[영상] \"온몸에 전율, 소리 질렀다\"…한강, 첫 한국인 노벨 문학상 쾌거 | 연합뉴스\\n연합뉴스 본문 바로가기 메뉴 바로가기 하단 메뉴 바로가기\\n국가기간뉴스통신사 연합뉴스\\n배너\\n검색 영역\\n뉴스, 포토, 영상, 그래픽을 검색하실 수 있습니다.  GO\\n\\n비주얼 뉴스홈\\n영상\\n영상홈\\n영상뉴스\\n통통컬처\\n현장영상\\n많이본영상\\n날짜별영상\\n\\n\\n포토\\n포토홈\\n정치\\n북한\\n경제\\n산업\\n사회\\n전국\\n세계\\n문화\\n연예\\n스포츠\\n모멘트\\n\\n\\n화보\\nD스토리\\n그래픽\\n\\n검색 열기 검색 닫기\\n광고\\n광고\\n영상 플레이어 닫기\\n[영상] \"온몸에 전율, 소리 질렀다\"…한강, 첫 한국인 노벨 문학상 쾌거\\n2024-10-10 22:19\\n공유\\n이 뉴스 공유하기 닫기 카카오톡 페이스북 X 카카오\\n스토리 페이스북\\n메신저 네이버\\n밴드 네이버\\n블로그 URL\\n복사\\nURL이 복사되었습니다.\\n댓글\\n글자크기조정\\n본문 글자 크기 조정 닫기 폰트 1단계 15px 폰트 2단계 16px 폰트 3단계 17px 폰트 4단계 18px (기본설정) 폰트 5단계 19px 폰트 6단계 20px 폰트 7단계 21px\\n인쇄\\n(서울=연합뉴스) \"2024년 노벨문학상 수상자는 한국 작가 한강입니다\"\\n올해 노벨 문학상의 영예는 \\'채식주의자\\', \\'소년이 온다\\'로 잘 알려진 우리나라 소설가 한강(53)에게 돌아갔습니다.\\n스웨덴 한림원은 10일(현지시간) 2024 노벨문학상 수상자로 한강을 선정했다고 발표했습니다.\\n한림원은 이날 홈페이지에 \"역사적 트라우마에 맞서고 인간 생의 연약함을 드러낸 강렬한 시적 산문\"이라며 선정 이유를 밝혔습니다.\\n한강은 한국 작가 최초로 노벨 문학상을 받게 됐으며 한국인으로는 지난 2000년 평화상을 탄 고(故) 김대중 전 대통령에 이어 두 번째 노벨상 수상자가 됐습니다.\\n1970년 11월 전라남도 광주에서 소설가 한승원의 딸로 태어난 그는 이후 서울로 올라와 풍문여고를 거쳐 연세대 국문과를 졸업했습니다.\\n한강은 지난 2016년 \\'채식주의자\\'로 세계적 권위의 맨부커상에서 영연방 이외 지역 작가에게 주는 인터내셔널 부문을 한국인 최초로 수상하면서 국제적인 명성을 쌓았습니다.\\n지난해에는 제주 4·3 사건의 비극을 다룬 장편 \\'작별하지 않는다\\'로 프랑스 4대 문학상 중 하나인 메디치 외국문학상을 수상하기도 했습니다.\\n노벨문학상 수상자에게는 약 14억 원에 달하는 상금 1천100만 크로나와 메달, 증서가 수여됩니다.\\n시민들은 한국 작가 최초 노벨 문학상 수상자 탄생에 \"온몸에 전율이 흘렀다\", \"퇴근길에 소리를 질렀다\", \"눈물이 고였다\"는 반응을 보이며 감격스러워했습니다.\\n제작: 진혜숙·한성은\\n영상: 로이터·AFP·연합뉴스TV·노벨상 홈페이지\\n제보는 카카오톡 okjebo <저작권자(c) 연합뉴스, 무단 전재-재배포, AI 학습 및 활용 금지> 2024/10/10 22:19 송고\\n\\n#한강\\n#노벨상\\n#한국인\\n#최초\\n#김대중\\n\\n함께 보면 좋은 콘텐츠\\n댓글쓰기\\n광고\\n함께 읽기 좋은 콘텐츠\\n최신 영상\\n\\n [속보] 스노보드 이채운, 하얼빈 아시안게임 남자 슬로프스타일 금메달 02-08 16:24\\n [속보] 김길리, 하얼빈 아시안게임 여자 쇼트트랙 1,500m 금메달 02-08 12:45\\n [속보] 한국 쇼트트랙 혼성계주, 하얼빈 아시안게임 첫 금메달 02-08 12:01\\n [속보] 컬링 믹스더블, 하얼빈 아시안게임 은메달 획득 02-08 11:46\\n [속보] 234명 성착취 \\'목사방\\' 총책은 33세 김녹완…신상공개 02-08 09:30\\n [영상] \\'시진핑\\' 입력하니 먹통?…보안 우려에 딥시크 줄차단 02-08 09:00\\n 검찰, \\'부당합병\\' 이재용 무죄에 대법 상고 02-07 18:32\\n [속보] 검찰, \\'부당합병\\' 이재용 무죄에 대법 상고 02-07 18:00\\n [영상] \\'동맹도 먹어치울 기세\\'…트럼프 무역전쟁의 시작은 02-07 17:58\\n\\n광고\\n광고\\n핫뉴스\\n\\n\\n\\n[아시안게임] 한국 상대한 린샤오쥔…계주 좌절 뒤 500ｍ서 감격의 눈물\\n\\n\\n\\n태국여성들, 조지아로 유인돼 \\'난자 적출\\'…\"100명 감금 추정\"\\n\\n\\n\\n우크라전쟁 비판 러 가수, 경찰 수색받던 중 추락사\\n\\n\\n\\n\"르망 몰고 일본 가요\"…대우차 유산 보존에 시동 건 MZ들\\n\\n\\n카녜이 웨스트 \"나는 나치…히틀러 사랑해\" 또 폭언 물의\\n\\n\\n트럼프, 비판 보도 WP 언론인 실명 저격…\"즉시 해고돼야\"\\n\\n\\n집트랙 타다 8ｍ 아래 추락해 숨진 30대…시설 관계자들 처벌\\n\\n\\n10년간 14억 뜯어 가정파탄 내놓고는…또 사기행각 벌인 40대\\n\\n\\n많이 본 뉴스\\n종합\\n정치\\n경제\\n사회\\n세계\\n스포츠\\n연예\\n이전 다음\\n\\n\\n\\n소시지 잘못 삼켰다 식물인간 된 아이…기적적으로 생환\\n\\n\\n234명 성착취 \\'목사방\\' 총책은 33세 김녹완…경찰, 신상공개\\n\\n\\n태국여성들, 조지아로 유인돼 \\'난자 적출\\'…\"100명 감금 추정\"\\n\\n\\n\"르망 몰고 일본 가요\"…대우차 유산 보존에 시동 건 MZ들\\n\\n\\n우크라전쟁 비판 러 가수, 경찰 수색받던 중 추락사\\n\\n\\n\\n강추위 속 주말 전국 곳곳서 尹 탄핵 찬반 집회\\n\\n\\n尹측, 헌재 진행 문제제기…\"시간제한·질문 미리 제출 불공정\"\\n\\n\\n북한 \"우리 핵은 흥정물 아닌 실전용\"…비핵화 협상에 선 그어\\n\\n\\n與 \"이재명, 개딸에 광화문 동원령…지지율 하락에 마음 급한가\"\\n\\n\\n칼바람에도 서울 도심 尹탄핵 찬반 집결…\"파면\" vs \"석방\"\\n\\n\\n\\n[다음주 경제] 작년 30조원 \\'세수펑크\\' 세부내역 공개\\n\\n\\n美연준인사 \"美노동시장 건강…트럼프 정책에 상당한 불확실성\"\\n\\n\\n천정부지 금값…돌 반지 진열대서 사라지고 골드바 문의 빗발\\n\\n\\n애플 연구진, 탁상형 램프 같은 가정용 로봇 공개\\n\\n\\n주유소 휘발윳값 17주만에 소폭 하락…\"다음주도 내릴 듯\"\\n\\n\\n\\n234명 성착취 \\'목사방\\' 총책은 33세 김녹완…경찰, 신상공개\\n\\n\\n집트랙 타다 8ｍ 아래 추락해 숨진 30대…시설 관계자들 처벌\\n\\n\\n대구 관문 동대구역 광장서 \"尹 탄핵 반대\" 대규모 집회\\n\\n\\n10년간 14억 뜯어 가정파탄 내놓고는…또 사기행각 벌인 40대\\n\\n\\n온라인 커뮤니티서 \\'헌재 폭동\\' 모의 정황…경찰, 작성자 추적\\n\\n\\n\\n태국여성들, 조지아로 유인돼 \\'난자 적출\\'…\"100명 감금 추정\"\\n\\n\\n우크라전쟁 비판 러 가수, 경찰 수색받던 중 추락사\\n\\n\\n이시바 \\'美관세 시 보복\\' 질문에 답피하자 트럼프 웃으며 \"와우\"\\n\\n\\n[아시안게임] 김길리는 왜 황금 헬멧을 쓸까…\\'세계 1위 특전\\'\\n\\n\\n카녜이 웨스트 \"나는 나치…히틀러 사랑해\" 또 폭언 물의\\n\\n\\n\\n[아시안게임] 김길리는 왜 황금 헬멧을 쓸까…\\'세계 1위 특전\\'\\n\\n\\n[아시안게임] 쇼트트랙 혼성 계주, 중국 린샤오쥔 실수로 대회 첫 금메달(종합)\\n\\n\\n[아시안게임] 한국 상대한 린샤오쥔…계주 좌절 뒤 500ｍ서 감격의 눈물(종합)\\n\\n\\n한국, 하얼빈 동계AG 메달 레이스 첫날 金 7개…\\'슈퍼 골든데이\\'\\n\\n\\n\\'이강인 교체 출전\\' PSG, 모나코에 4-1 완승…흐비차 이적 첫 골\\n\\n\\n\\n소시지 잘못 삼켰다 식물인간 된 아이…기적적으로 생환\\n\\n\\n\"가요계 텅 비어있는 느낌\"…송대관 빈소에 이틀째 추모 발길\\n\\n\\n이미배 \"밝은 칸초네와 차분한 샹송처럼 인생도 굴곡 있죠\"\\n\\n\\n로제 \\'아파트\\' 英싱글차트 6주 연속 2위…지민 23위·제니 64위\\n\\n\\n청각장애 김동준 신부 \"더 열심히 사는 농인에게서 용기 얻어\"\\n\\n\\n광고\\n광고\\n에디터스 픽Editor\\'s Picks\\n영상\\n영상 기사  \\n[영상] \\'시진핑\\' 입력하니 먹통?…보안 우려에 딥시크 줄차단\\n영상 기사  \\n[영상] 1천억 쓴 대왕고래 \"경제성 없다\"…오징어·명태 시추 가능성은?\\n영상 기사  \\n[영상] \\'쨍하고 해뜰날\\' 송대관 별세…\\'절친\\' 태진아 \"30년 내 동반자\"\\n뉴스\\n\\n\\n\\n강추위 속 주말 전국 곳곳서 尹 탄핵 찬반 집회\\n\\n\\n한국, 하얼빈 동계AG 메달 레이스 첫날 金 7개…\\'슈퍼 골든데이\\'\\n\\n\\n\\n이나현, 김민선 제치고 빙속 여자 100ｍ 금메달\\n\\n\\n트럼프, \\'완전한 北비핵화·한미일협력 중시\\' 재집권후 첫 천명\\n\\n\\n\\n[날씨] 한파에 찬바람 쌩쌩…서울 아침 최저 -10도\\n\\n\\n광고\\n광고\\n광고\\n맨위로\\n전체메뉴\\n뉴스 홈\\n최신기사\\n정치\\n북한\\n경제\\n마켓 +\\n산업\\n사회\\n전국\\n세계\\n문화\\n건강\\n연예\\n스포츠\\n오피니언\\n사람들\\n사람들\\n인사\\n부고\\n동정\\nCEO\\n인터뷰\\n비주얼뉴스\\n영상\\n포토\\n화보\\nD스토리\\n그래픽\\n이슈돋보기\\n이 시각 헤드라인\\n재난/북한 포털\\n재난포털\\n북한포털\\n날씨\\n테마별뉴스\\n핫뉴스\\n주요뉴스\\n긴급뉴스\\n단독뉴스\\n많이본뉴스\\n오래머문뉴스\\n모바일 뉴스\\n모바일앱\\n모바일웹\\n비주얼뉴스\\n외국어\\nEnglish\\n中文\\n日本語\\nعربي\\nEspañol\\nFrançais\\n뉴스 상품\\n프리미엄뉴스\\n뉴스리더\\n인터넷 맞춤형\\n보도자료 해외배포\\n보도자료 국내배포\\n출판물\\n이매진\\n연합연감\\n영문연감\\n단행본\\n월간 마이더스\\n광고\\nKTX열차\\nAREX 공항철도\\n모바일\\nPC/홈페이지\\n출판물\\n콘텐츠 판매\\n보도사진\\n이미지\\n그래픽\\n동영상\\n인물\\n관련사이트\\n한민족센터\\nK-VIBE\\n채용\\nIR 클럽\\n유튜브\\n연합뉴스\\n통통컬처\\nKorea Now\\n계약사/제휴문의\\n\\n회사소개\\n윤리헌장\\n저작권규약\\n수용자권익위원회\\n콘텐츠자문위원회\\n고충처리\\n이용약관\\n개인정보처리방침\\n독자게시판\\n기사제보(02-398-3000)\\nRSS\\n사이트맵\\n\\n연합뉴스 서울시 종로구 율곡로2길 25 | 등록번호 문화, 나00009 | 등록일자 1980.12.29 | 발행일자 1980.12.29 | Tel. 02-398-3114\\n\\n(C) Yonhapnews\\n[대표이사] 황대일\\n[편집인] 심인성\\n\\n연합뉴스 페이스북 연합뉴스 트위터\\n서비스안내 전체보기 서비스안내 전체보기 닫기\\n연합뉴스 연합뉴스TV 인포맥스\\nADVERTISEMENT\\nADVERTISEMENT</raw></document>', '<document><title>한국 첫 노벨 문학상 받은 한강‥\\\\\"놀랍고 영광\\\\\" - Mbc News</title><url>https://imnews.imbc.com/replay/2024/nw1200/article/6645171_36486.html</url><content>한국 첫 노벨 문학상 받은 한강‥\\\\\"놀랍고 영광\\\\\" 12MBC 뉴스 한국 첫 노벨 문학상 받은 한강‥\\\\\"놀랍고 영광\\\\\" 한국 첫 노벨 문학상 받은 한강‥\\\\\"놀랍고 영광\\\\\" 본문 복사 다음 뉴스 재생 광고 자세히 보기 광고\\xa0\\xa0중 \\xa0\\xa0초 초\\xa0\\xa0후\\xa0\\xa0SKIP SKIP 다음 뉴스 재생 다음 뉴스 재생 레이어 닫기 다음 뉴스 보기 자막켜기/자막끄기 전체화면 올해 노벨 문학상 수상자로 우리나라 작가, 한강 씨가 선정됐습니다. 한국 사상 최초의 노벨 문학상 수상이고, 123년 노벨 문학상 역사에서 아시아 여성 최초 수상입니다. \\\\\"2024년 노벨 문학상 수상자는 한국의 작가, 한강입니다.\\\\\"   한승원 소설가의 딸로 문인 집안에서 자라난 작가는, 2016년, 한국인 최초로 세계 3대 문학상 중 하나인 부커상을 받은 데 이어, 작년엔 프랑스 4대 문학상인 메디치상을 수상했습니다. #노벨 문학상 #소설가 한강 #소년이 온다 #채식주의자 본문 복사</content><raw>한국 첫 노벨 문학상 받은 한강‥\"놀랍고 영광\"\\n본문 바로가기 메뉴 바로가기\\n12MBC 뉴스\\n 조재영\\n한국 첫 노벨 문학상 받은 한강‥\"놀랍고 영광\"\\n한국 첫 노벨 문학상 받은 한강‥\"놀랍고 영광\"\\n입력 2024-10-11 12:03 | 수정 2024-10-11 12:04\\n\\n\\n가\\n가\\n가\\n\\n해당 기사를 북마크했습니다.\\n확인 내 북마크 보기\\n\\n페이스북\\n트위터\\n카카오 스토리\\n카카오톡\\n밴드\\n링크 복사\\n본문 복사\\n\\n레이어 닫기\\n로딩 중\\n해외에서는 서비스를 이용할 수 없습니다.\\n양해 부탁 드립니다.\\nService is not available overseas.\\n죄송합니다.\\n뉴스를 재생할 수 없습니다.\\n재생/일시정지\\n10초 이전 10초 이후\\n다음 뉴스 재생\\n다시재생\\n광고 중입니다\\n광고 /\\n광고 자세히 보기 광고\\xa0\\xa0중 \\xa0\\xa0초 초\\xa0\\xa0후\\xa0\\xa0SKIP SKIP\\n\\n다음 뉴스 재생\\n국민 78%가 불매운동…절반 이상 \"단호히 맞서야\"상 \"단호히 맞상 \"단호히맞서야~~\\n다음 뉴스 재생 레이어 닫기\\n00:00\\nmute\\n5\\nLive\\n00:00\\n00:00\\n다음 뉴스 보기 자막켜기/자막끄기 전체화면\\nPrevious Next\\n전체재생\\n상세 기사보기\\n재생목록\\n연속재생\\n닫기\\n◀ 앵커 ▶  \\n올해 노벨 문학상 수상자로 우리나라 작가, 한강 씨가 선정됐습니다.  \\n한국 사상 최초의 노벨 문학상 수상이고, 123년 노벨 문학상 역사에서 아시아 여성 최초 수상입니다.  \\n조재영 기자가 보도합니다.  \\n◀ 리포트 ▶  \\n[마츠 말름/스웨덴 한림원 사무총장]\\n\"2024년 노벨 문학상 수상자는 한국의 작가, 한강입니다.\"  \\n\\'채식주의자\\', \\'소년이 온다\\'를 쓴 소설가, 한강이 한국인 사상 최초 노벨 문학상의 영광을 차지했습니다.  \\n올해의 유력 후보는 호주 작가 제럴드 머네인과 \\'중국의 카프카\\'로 불리는 찬쉐였습니다.  \\n그만큼 누구도 예상치 못했던 \\'깜짝\\' 수상인데, 외신들은 \"놀라운 일\", \"예상을 뒤엎었다\"며 긴급 뉴스를 타전했습니다.  \\n주최 측은 한강을 \\'현대 산문의 혁신가\\'라고 평가하며, 선정 이유를 밝혔습니다.  \\n[마츠 말름/스웨덴 한림원 사무총장]\\n\"그녀의 강렬한 시적 산문은 역사적 트라우마에 맞서고 인간 삶의 연약함을 드러냅니다.\"  \\n작가는 노벨위원회와의 전화 인터뷰에서 \"책 읽고 산책을 한 평범한 하루였고, 아들과 저녁식사를 막 마쳤을 때 소식을 들었다\"고 전했습니다.  \\n[한강 작가(노벨위원회 인터뷰)]\\n\"매우 놀랐고 정말 영광스럽습니다. 아주 평화로운 저녁이었습니다. 저는 정말로 놀랐습니다.\"  \\n한승원 소설가의 딸로 문인 집안에서 자라난 작가는, 2016년, 한국인 최초로 세계 3대 문학상 중 하나인 부커상을 받은 데 이어, 작년엔 프랑스 4대 문학상인 메디치상을 수상했습니다.  \\n이번 노벨상 수상까지, 세계 문학에 한 획을 긋는 성취에도, 특유의 담담함은 여전했습니다.  \\n[한강 작가(노벨위원회 인터뷰)]\\n\"전 술을 마시지 않아서요. 그래서 아들과 차를 마시면서 오늘 밤 조용히 축하하고 싶습니다.\"  \\n\"선배 작가들의 노력과 힘이 영감이 됐다\", \"한국 문학 독자들과 동료 작가들에게 좋은 일이 되길 바란다\"는 말도 잊지 않았습니다.  \\n라오스를 방문 중인 윤석열 대통령은 \"대한민국 문학사상 위대한 업적이자 온 국민이 기뻐할 국가적 경사\"라며 SNS를 통해 축하를 보냈습니다.  \\n노벨상 수상자에게는 상금 약 13억 원과 메달, 증서가 수여되고, 문학상 시상식은 12월 10일 스웨덴 스톡홀름에서 열립니다.  \\nMBC뉴스 조재영입니다.  \\nMBC 뉴스는 24시간 여러분의 제보를 기다립니다. \\n▷ 전화 02-784-4000\\n▷ 이메일 mbcjebo@mbc.co.kr\\n▷ 카카오톡 @mbc제보  \\n#노벨 문학상 #소설가 한강 #소년이 온다 #채식주의자\\n\\n\\n가\\n가\\n가\\n\\n해당 기사를 북마크했습니다.\\n확인 내 북마크 보기\\n\\n페이스북\\n트위터\\n카카오 스토리\\n카카오톡\\n밴드\\n링크 복사\\n본문 복사\\n\\n레이어 닫기\\n이 기사 어땠나요?\\n\\n좋아요\\n훌륭해요\\n슬퍼요\\n화나요\\n후속요청\\n\\n당신의 의견을 남겨주세요\\n0/300\\n등록\\n최신순 공감순 반대순\\n더보기\\n이시각 주요뉴스\\n많이 본 뉴스\\n\\nMBC\\n포털\\nSNS\\n유튜브\\n\\n분야별 추천 뉴스\\n관련 뉴스\\n인기 키워드\\n취재플러스\\n14F\\n엠빅뉴스</raw></document>', '<document><title>\\\\\"5·18이 내 인생 바꿨다\\\\\" 한국 첫 노벨문학상, 한강은 누구?</title><url>https://www.chosun.com/national/national_general/2024/10/10/NYUFG2FRHRFONLBT6BP6DAEUFQ/</url><content>“5·18이 내 인생 바꿨다” 한국 첫 노벨문학상, 한강은 누구? 2025년 2월 9일(일) 신문구독|中文|English|日本語 \\\\\"5·18이 내 인생 바꿨다\\\\\" 한국 첫 노벨문학상, 한강은 누구? 한국 소설가 한강(54)이 2024년 노벨문학상 수상자로 선정됐다. 한강은 1970년 11월 전라남도 광주(현 광주광역시)에서 태어났다. 한강은 특히 지난 2016년 한국인 최초로 세계 3대 문학상 중 하나인 ‘맨부커상’을 수상한 바 있다. 한강은 과거 한 인터뷰에서 이 같은 작품세계가 형성된 계기는 1980년 광주민주화운동이었다고 밝혔다. 한강은 서울로 이사한 뒤 아버지 한승원이 80년 5월 광주에서 학살된 이들의 모습을 담은 사진첩을 보여주었다며 “열세살 때 본 그 사진첩은 내가 인간에 대한 근원적인 질문을 하게 된 비밀스러운 계기가 됐다”고 밝혔다. 강추위도 뚫은 서울 도심 \\'尹 탄핵 찬반 집회\\' 강추위도 뚫은 서울 도심 \\'尹 탄핵 찬반 집회\\' 강추위도 뚫은 서울 도심 \\'尹 탄핵 찬반 집회\\' 등록(발행)일자: 2011년 07월 26일</content><raw>“5·18이 내 인생 바꿨다” 한국 첫 노벨문학상, 한강은 누구?\\n2025년 2월 9일(일)\\n\\n신문구독|中文|English|日本語\\n\\n53\\n뉴스홈\\n조선경제\\n오피니언\\n정치\\n사회\\n국제\\n건강\\n재테크\\n스포츠\\n문화·연예\\n쇼핑의맛\\n콘텐츠판\\n땅집고BEMIL 군사세계헬스조선IT조선조선에듀어린이조선일보산&트래블이코노미조선신문은 선생님THE BOUTIQUE행복플러스주간조선여성조선월간조선민학수 올댓골프TopclassLife&Learning\\n\\n\\n\\n\\n\\n\\n\\n\\n\\n\\n\\n中文\\nEnglish\\n日本語\\n검색\\n사회사회 일반\\n\"5·18이 내 인생 바꿨다\" 한국 첫 노벨문학상, 한강은 누구?\\n김명일 기자\\n입력 2024.10.10. 20:59업데이트\\xa02024.10.10. 22:32\\n53\\n53\\n\\n소설가 한강. /뉴스1\\n한국 소설가 한강(54)이 2024년 노벨문학상 수상자로 선정됐다. 한국인이 노벨문학상을 수상한 것은 이번이 처음이다. 지난 2000년 고(故) 김대중 전 대통령은 노벨평화상을 수상한 바 있다.\\n스웨덴 한림원은 10일(현지 시각) 한강을 노벨문학상 수상자로 선정했다고 발표하면서 선정 이유로 “역사의 트라우마에 맞서는 동시에 인간 생의 연약함을 드러내는 시적인 산문”을 꼽았다.\\n한강은 1970년 11월 전라남도 광주(현 광주광역시)에서 태어났다. 아버지는 소설가인 한승원씨다. 한강은 어린 시절 서울로 올라와 풍문여고를 거쳐 연세대 국문과를 졸업했다.\\n대학 졸업 후 잡지사 ‘샘터’에서 근무하다 1993년 시인으로 먼저 등단한 후 이듬해에 소설가로 등단했다. 서울예대 문예창작과 교수를 지냈고 스페인 산클레멘테 문학상, 이상문학상, 황순원문학상, 김유정문학상 등을 받으며 가장 주목받는 한국 문인으로 떠올랐다.\\n한강은 특히 지난 2016년 한국인 최초로 세계 3대 문학상 중 하나인 ‘맨부커상’을 수상한 바 있다. 당시 수상작인 ‘채식주의자’는 트라우마(강한 충격을 겪은 뒤 나타나는 정신적인 질병)를 지닌 한 여자가 폭력을 거부하기 위해 극단적인 채식을 하는 이야기다. 심사위원장을 맡은 영국 일간지 인디펜던트 문학 선임기자 보이드 턴킨은 “잊히지 않는 강력하고 근원적인 소설”이라며 “아름다움과 공포가 기묘한 조화를 이룬다”고 말했다. 이어 “서정적이면서도 통렬한 작품”이란 찬사를 보냈다.\\n한강은 초기작부터 일관되게 인간의 폭력성과 그에 따른 상처를 작품으로 다뤄왔다. 한강은 과거 한 인터뷰에서 이 같은 작품세계가 형성된 계기는 1980년 광주민주화운동이었다고 밝혔다.\\n한강은 서울로 이사한 뒤 아버지 한승원이 80년 5월 광주에서 학살된 이들의 모습을 담은 사진첩을 보여주었다며 “열세살 때 본 그 사진첩은 내가 인간에 대한 근원적인 질문을 하게 된 비밀스러운 계기가 됐다”고 밝혔다.\\n한편 노벨상 수상자에게는 상금 1100만 크로나(한화 약 13억4000만원)와 메달, 증서가 수여된다. 이날 문학상에 이어 오는 11일 평화상, 14일 경제학상 수상자가 발표될 예정이다.\\n\\n김명일 기자\\xa0\\xa0\\n조선NS 김명일 기자입니다. 많은 제보 부탁드립니다. 제보 메일 mi737@chosun.com\\n\\n구독\\n구독수\\n804\\n \\n많이 본 뉴스\\n\\n동대구역 \\'尹 탄핵 반대 집회\\'에 5만2000명 모여\\n8일 오후 2시 대구 동대구역 광장은 영하 1도의 날씨에도 ‘탄핵 무효’\\'윤석열 석방’ 등 윤 대통령 탄핵 반대를 외치는 시민들로 가득...\\n\\n광주서 \\'尹 탄핵 반대\\' 첫 집회…매주 열리는 탄핵 찬성 집회도 계속돼\\n윤석열 대통령 탄핵을 반대하는 집회가 광주광역시에서 처음 열렸다. 또 매주 토요일 탄핵 찬성 집회도 이어졌다. 8일 광주 동구 금남로...\\n\\n강추위도 뚫은 서울 도심 \\'尹 탄핵 찬반 집회\\'\\n기온이 영하로 떨어지며 맹추위가 이어지고 있는 가운데 광화문 광장과 여의도 등 서울 도심 곳곳에서 탄핵 찬반 집회가 열렸다. 주말을 맞...\\n\\n강추위도 뚫은 서울 도심 \\'尹 탄핵 찬반 집회\\'\\n기온이 영하로 떨어지며 맹추위가 이어지고 있는 가운데 광화문 광장과 여의도 등 서울 도심 곳곳에서 탄핵 찬반 집회가 열렸다. 주말을 맞...\\n100자평\\n53\\n도움말삭제기준\\n최신순찬성순반대순관심순\\nIwon\\n2024.10.13 14:17:41\\n518, 43사건으로 왜곡편향된 시각으로 글을 쓰고, 역 넘치는 번역으로 각색된 글로 노벨 문학상을 받았으니, 김대중의 그것과 큰틀에서 비슷한 씁씁함.\\n답글작성\\n2\\n0\\n\\n에어컨 완전 냉방\\n2024.10.12 23:25:02\\n좌파 좌익들은 사람들 혼을 뺄 정도 순진 순수 기획 포장 전문가들입니다. 북한의 남침 625전쟁 전범 김일성 손자 김정은의 북한은 연일 오물 풍선 핵위협이고 이미 사망한\"북한이 핵을 만들믄 내가 책임저블어~\"라고 했던 김대중씨의 햇볕 정책은 대 국민사기였고 저는 국민의 한사람으로 속상합니다. 또 저는 전남 출신이고 오십팔도 직접 목격했었던 이제는 서울특별 시민이고 자유대한민국 국민으로 호소드려보았습니다.ㅎㅎ~)\\n답글작성\\n2\\n0\\n\\n짤짜리\\n2024.10.11 20:50:55\\n그렇다면 518 에 대해서 알고 있는것을 논의해볼 생각이 있는지 궁금하다.얼마큼 정확하게.,알고 있을까.\\n답글작성\\n2\\n0\\n더보기\\n많이 본 뉴스\\n1\\n동대구역 \\'尹 탄핵 반대 집회\\'에 5만2000명 모여\\n2\\n\"손으로 린샤오쥔 밀어줬나\"… 말 나온 쇼트트랙 이 장면\\n3\\n광주서 \\'尹 탄핵 반대\\' 첫 집회…매주 열리는 탄핵 찬성 집회도 계속돼\\n4\\n[박정훈 칼럼] 흔들리는 \\'내란 프레임\\'\\n5\\n故서희원 숨진 뒤 라이브방송…전 남편·시모 SNS 영구 정지\\n6\\n강추위도 뚫은 서울 도심 \\'尹 탄핵 찬반 집회\\'\\n7\\n\\'中 귀화\\' 린샤오쥔, 금메달에 무릎 꿇고 눈물 펑펑…박지원도 축하\\n8\\n노화를 늦추는 가장 간편한 식사 방법\\n9\\n[김별아의 문화산책] 공무원 \\'홍 누나\\'의 조용한 죽음\\n10\\n국민의힘 \"이재명 대표 광화문 집회 동원령\" 비판\\n6\\n강추위도 뚫은 서울 도심 \\'尹 탄핵 찬반 집회\\'\\n7\\n\\'中 귀화\\' 린샤오쥔, 금메달에 무릎 꿇고 눈물 펑펑…박지원도 축하\\n8\\n노화를 늦추는 가장 간편한 식사 방법\\n9\\n[김별아의 문화산책] 공무원 \\'홍 누나\\'의 조용한 죽음\\n10\\n국민의힘 \"이재명 대표 광화문 집회 동원령\" 비판\\n오피니언\\n\\n사설\\n칼럼\\n朝鮮칼럼 The Column\\n태평로\\n동서남북\\n경제포커스\\n만물상\\n에스프레소\\n데스크에서\\n기자의 시각\\n특파원 칼럼\\n기자수첩\\n팔면봉\\nESSAY\\n전문가 칼럼\\n\\n정치\\n\\n정치 일반\\n대통령실\\n국회·정당\\n북한\\n외교·국방\\n행정\\n\\n국제\\n\\n국제 일반\\n미국\\n중국 | 일본\\n아시아\\n유럽\\n중동·아프리카·중남미\\n해외토픽\\n\\n사회\\n\\n사회 일반\\n사건사고\\n법조\\n교육\\n노동\\n교통·환경\\n복지·의료\\n취업\\n피플\\n부음·인사\\n아무튼, 주말\\n전국\\n\\n조선경제\\n\\nWEEKLY BIZ\\n테크\\n과학\\n산업·재계\\n자동차\\n부동산\\n생활경제\\n중기·벤처\\n스타트업 취중잡담\\n경제 일반\\n머니\\n증권·금융\\n국제경제\\n재테크\\n\\n스포츠\\n\\n스포츠 일반\\n야구\\n해외야구\\n축구\\n해외축구\\n농구\\n배구\\n골프\\n스포츠포토\\n\\n건강\\n쇼핑의맛\\n문화·연예\\n\\n연예 일반\\n스타 | 방송\\n영화 소식 | 음악\\n연예 포토\\n문화 일반\\n책 | 영화\\n음악 | 공연\\n미술·전시\\n종교·학술\\n방송·미디어\\n건축·디자인\\n패션·뷰티\\n여행 | 음식·맛집\\n리빙\\n\\n조선멤버스\\n\\n조선일보 구독신청\\n초판서비스\\n독자 멤버십\\n신문은 선생님\\n오늘의 운세\\n\\nDB조선\\n\\n지면 PDF보기\\n인물검색\\n사진검색\\n뉴스 라이브러리\\n뉴스Q\\n\\n뉴스레터\\n\\n\\n오피니언\\n\\n정치\\n국제\\n사회\\n\\n조선경제\\n\\n\\n스포츠\\n\\n건강\\n문화· 연예\\xa0\\n조선 멤버스\\n쇼핑의맛\\n\\n조선일보 공식 SNS\\n\\n페이스북\\n트위터\\n유튜브\\n인스타그램\\n\\n주소: 서울특별시 중구 세종대로21길 30, 4층(태평로1가) | 대표번호 02)724-5114\\n인터넷신문등록번호: 서울 아 01718\\n등록(발행)일자: 2011년 07월 26일\\n발행인·편집인: 홍준호\\n개인정보처리방침청소년보호정책(책임자: 나민수)\\nCopyright 조선일보 All rights reserved. 무단 전재 및 재배포 금지.\\n\\n회사소개기자채용고객센터독자권익보호위원회기사제보뉴지엄광고안내콘텐츠구매제휴문의사이트맵\\n조선미디어 관계사\\n개인정보처리방침사이트맵\\nCopyright 조선일보 All rights reserved. 무단 전재 및 재배포 금지.\\n로그인을 하시면 모든 기사를 읽을 수 있습니다\\n로그인\\n휴대폰 로그인이메일 로그인\\n이메일 혹은 아이디\\n비밀번호\\n로그인\\n로그인 상태 유지\\n아이디 찾기|비밀번호 재설정\\n\\n소셜 로그인\\n\\n\\n\\nSign in with Google\\n\\n로그인 아이디가 없으신가요? 회원가입\\n로그인이 어려우신가요?상세설명 보기</raw></document>']\n"
     ]
    }
   ],
   "source": [
    "from langchain_teddynote.tools.tavily import TavilySearch\n",
    "\n",
    "# 검색 도구 생성\n",
    "tavily_tool = TavilySearch()\n",
    "\n",
    "search_query = \"2024년 노벨 문학상 수상자는?\"\n",
    "\n",
    "# 다양한 파라미터를 사용한 검색 예제\n",
    "search_result = tavily_tool.search(\n",
    "    query=search_query,  # 검색 쿼리\n",
    "    max_results=3,  # 최대 검색 결과\n",
    "    format_output=True,  # 결과 포맷팅\n",
    ")\n",
    "\n",
    "# 검색 결과 출력\n",
    "print(search_result)"
   ]
  },
  {
   "cell_type": "markdown",
   "id": "9a2ce55a",
   "metadata": {},
   "source": [
    "검색 노드로 패키징하여 추가합니다. (함수 생성)"
   ]
  },
  {
   "cell_type": "code",
   "execution_count": 7,
   "id": "2f59acb1",
   "metadata": {},
   "outputs": [],
   "source": [
    "# Web Search 노드\n",
    "def web_search(state: GraphState) -> GraphState:\n",
    "    # 검색 도구 생성\n",
    "    tavily_tool = TavilySearch()\n",
    "\n",
    "    search_query = state[\"question\"]\n",
    "\n",
    "    # 다양한 파라미터를 사용한 검색 예제\n",
    "    search_result = tavily_tool.search(\n",
    "        query=search_query,  # 검색 쿼리\n",
    "        topic=\"general\",  # 일반 주제\n",
    "        max_results=6,  # 최대 검색 결과\n",
    "        format_output=True,  # 결과 포맷팅\n",
    "    )\n",
    "\n",
    "    return {\"context\": search_result}"
   ]
  },
  {
   "cell_type": "markdown",
   "id": "a3f7785d",
   "metadata": {},
   "source": [
    "## Edges\n",
    "\n",
    "- `Edges`: 현재 `State`를 기반으로 다음에 실행할 `Node`를 결정하는 Python 함수.\n",
    "\n",
    "일반 엣지, 조건부 엣지 등이 있습니다."
   ]
  },
  {
   "cell_type": "code",
   "execution_count": 8,
   "id": "a6015807",
   "metadata": {},
   "outputs": [],
   "source": [
    "from langgraph.graph import END, StateGraph\n",
    "from langgraph.checkpoint.memory import MemorySaver\n",
    "\n",
    "# 그래프 정의\n",
    "workflow = StateGraph(GraphState)\n",
    "\n",
    "# 노드 추가\n",
    "workflow.add_node(\"retrieve\", retrieve_document)\n",
    "workflow.add_node(\"relevance_check\", relevance_check)\n",
    "workflow.add_node(\"llm_answer\", llm_answer)\n",
    "\n",
    "# Web Search 노드 추가\n",
    "workflow.add_node(\"web_search\", web_search)\n",
    "\n",
    "# 엣지 추가\n",
    "workflow.add_edge(\"retrieve\", \"relevance_check\")  # 검색 -> 관련성 체크\n",
    "\n",
    "\n",
    "# 조건부 엣지를 추가합니다.\n",
    "workflow.add_conditional_edges(\n",
    "    \"relevance_check\",  # 관련성 체크 노드에서 나온 결과를 is_relevant 함수에 전달합니다.\n",
    "    is_relevant,\n",
    "    {\n",
    "        \"relevant\": \"llm_answer\",  # 관련성이 있으면 답변을 생성합니다.\n",
    "        \"not relevant\": \"web_search\",  # 관련성이 없으면 웹 검색을 수행합니다.\n",
    "    },\n",
    ")\n",
    "\n",
    "workflow.add_edge(\"web_search\", \"llm_answer\")  # 검색 -> 답변\n",
    "workflow.add_edge(\"llm_answer\", END)  # 답변 -> 종료\n",
    "\n",
    "# 그래프 진입점 설정\n",
    "workflow.set_entry_point(\"retrieve\")\n",
    "\n",
    "# 체크포인터 설정\n",
    "memory = MemorySaver()\n",
    "\n",
    "# 그래프 컴파일\n",
    "app = workflow.compile(checkpointer=memory)"
   ]
  },
  {
   "cell_type": "markdown",
   "id": "d9a15c32",
   "metadata": {},
   "source": [
    "컴파일한 그래프를 시각화 합니다."
   ]
  },
  {
   "cell_type": "code",
   "execution_count": 9,
   "id": "9a4a9e16",
   "metadata": {},
   "outputs": [
    {
     "data": {
      "image/png": "[encoded data removed]",
      "text/plain": [
       "<IPython.core.display.Image object>"
      ]
     },
     "metadata": {},
     "output_type": "display_data"
    }
   ],
   "source": [
    "from langchain_teddynote.graphs import visualize_graph\n",
    "\n",
    "visualize_graph(app)"
   ]
  },
  {
   "cell_type": "markdown",
   "id": "110daa16",
   "metadata": {},
   "source": [
    "## 그래프 실행\n",
    "\n",
    "- `config` 파라미터는 그래프 실행 시 필요한 설정 정보를 전달합니다.\n",
    "- `recursion_limit`: 그래프 실행 시 재귀 최대 횟수를 설정합니다.\n",
    "- `inputs`: 그래프 실행 시 필요한 입력 정보를 전달합니다."
   ]
  },
  {
   "cell_type": "markdown",
   "id": "4af077a6",
   "metadata": {},
   "source": [
    "검색 결과의 `relevance_check` 가 실패할 경우, 검색을 수행하여 웹 검색 결과를 제공합니다."
   ]
  },
  {
   "cell_type": "code",
   "execution_count": 10,
   "id": "79fd31f2",
   "metadata": {},
   "outputs": [
    {
     "name": "stdout",
     "output_type": "stream",
     "text": [
      "==== [RELEVANCE CHECK] ====\n",
      "no\n",
      "\n",
      "==================================================\n",
      "🔄 Node: \u001b[1;36mrelevance_check\u001b[0m 🔄\n",
      "- - - - - - - - - - - - - - - - - - - - - - - - - \n",
      "\u001b[1;32mrelevance\u001b[0m:\n",
      "no\n",
      "==================================================\n",
      "\n",
      "==================================================\n",
      "🔄 Node: \u001b[1;36mllm_answer\u001b[0m 🔄\n",
      "- - - - - - - - - - - - - - - - - - - - - - - - - \n",
      "\u001b[1;32manswer\u001b[0m:\n",
      "2024년 노벨 문학상 수상자는 대한민국 작가 한강입니다. 그는 2024년 10월 10일에 수상자로 선정되었습니다.\n",
      "\n",
      "**Source**\n",
      "- [한강(소설가)/노벨문학상 수상 - 나무위키](https://namu.wiki/w/한강(소설가)/노벨문학상+수상)\n",
      "- [연합뉴스](https://www.yna.co.kr/view/AKR20241010167651009)\n",
      "- [한국일보](https://www.hankookilbo.com/News/Read/A2024121014420003976)\n",
      "('user', '2024년 노벨 문학상 수상자는?')\n",
      "('assistant', '2024년 노벨 문학상 수상자는 대한민국 작가 한강입니다. 그는 2024년 10월 10일에 수상자로 선정되었습니다.\\n\\n**Source**\\n- [한강(소설가)/노벨문학상 수상 - 나무위키](https://namu.wiki/w/한강(소설가)/노벨문학상+수상)\\n- [연합뉴스](https://www.yna.co.kr/view/AKR20241010167651009)\\n- [한국일보](https://www.hankookilbo.com/News/Read/A2024121014420003976)')\n",
      "==================================================\n"
     ]
    }
   ],
   "source": [
    "from langchain_core.runnables import RunnableConfig\n",
    "from langchain_teddynote.messages import stream_graph, invoke_graph, random_uuid\n",
    "\n",
    "\n",
    "# config 설정(재귀 최대 횟수, thread_id)\n",
    "config = RunnableConfig(recursion_limit=10, configurable={\"thread_id\": random_uuid()})\n",
    "\n",
    "# 질문 입력\n",
    "inputs = GraphState(question=\"2024년 노벨 문학상 수상자는?\")\n",
    "\n",
    "# 그래프 실행\n",
    "invoke_graph(app, inputs, config, [\"relevance_check\", \"llm_answer\"])"
   ]
  },
  {
   "cell_type": "code",
   "execution_count": 14,
   "id": "5556ce49",
   "metadata": {},
   "outputs": [
    {
     "name": "stdout",
     "output_type": "stream",
     "text": [
      "\n",
      "==================================================\n",
      "🔄 Node: \u001b[1;36mrelevance_check\u001b[0m 🔄\n",
      "- - - - - - - - - - - - - - - - - - - - - - - - - \n",
      "==== [RELEVANCE CHECK] ====\n",
      "no\n",
      "\n",
      "==================================================\n",
      "🔄 Node: \u001b[1;36mllm_answer\u001b[0m 🔄\n",
      "- - - - - - - - - - - - - - - - - - - - - - - - - \n",
      "2024년 노벨 문학상 수상자는 대한민국 작가 한강입니다. 그는 2024년 10월 10일에 수상자로 선정되었습니다.\n",
      "\n",
      "**Source**\n",
      "- [한강(소설가)/노벨문학상 수상 - 나무위키](https://namu.wiki/w/한강(소설가)/노벨문학상+수상)\n",
      "- [연합뉴스](https://www.yna.co.kr/view/AKR20241010167651009)\n",
      "- [MBC 뉴스](https://imnews.imbc.com/replay/2024/nwtoday/article/6645060_36523.html)\n",
      "- [한국일보](https://www.hankookilbo.com/News/Read/A2024121014420003976)\n",
      "- [세계일보](https://www.segye.com/newsView/20241229511764)"
     ]
    }
   ],
   "source": [
    "# 그래프 스트리밍 출력\n",
    "stream_graph(app, inputs, config, [\"relevance_check\", \"llm_answer\"])"
   ]
  },
  {
   "cell_type": "code",
   "execution_count": 15,
   "id": "08e7f1d5",
   "metadata": {},
   "outputs": [
    {
     "name": "stdout",
     "output_type": "stream",
     "text": [
      "Question: 2024년 노벨 문학상 수상자는?\n",
      "============================================================\n",
      "Answer:\n",
      "2024년 노벨 문학상 수상자는 대한민국 작가 한강입니다. 그는 2024년 10월 10일에 수상자로 선정되었습니다.\n",
      "\n",
      "**Source**\n",
      "- [한강(소설가)/노벨문학상 수상 - 나무위키](https://namu.wiki/w/한강(소설가)/노벨문학상+수상)\n",
      "- [연합뉴스](https://www.yna.co.kr/view/AKR20241010167651009)\n",
      "- [MBC 뉴스](https://imnews.imbc.com/replay/2024/nwtoday/article/6645060_36523.html)\n",
      "- [한국일보](https://www.hankookilbo.com/News/Read/A2024121014420003976)\n",
      "- [세계일보](https://www.segye.com/newsView/20241229511764)\n"
     ]
    }
   ],
   "source": [
    "# 최종 출력 확인\n",
    "outputs = app.get_state(config).values\n",
    "\n",
    "print(f'Question: {outputs[\"question\"]}')\n",
    "print(\"===\" * 20)\n",
    "print(f'Answer:\\n{outputs[\"answer\"]}')"
   ]
  }
 ],
 "metadata": {
  "kernelspec": {
   "display_name": "edu-rag-h6vp0ZFq-py3.11",
   "language": "python",
   "name": "python3"
  },
  "language_info": {
   "codemirror_mode": {
    "name": "ipython",
    "version": 3
   },
   "file_extension": ".py",
   "mimetype": "text/x-python",
   "name": "python",
   "nbconvert_exporter": "python",
   "pygments_lexer": "ipython3",
   "version": "3.11.9"
  }
 },
 "nbformat": 4,
 "nbformat_minor": 5
}
