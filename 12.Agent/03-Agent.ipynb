{
 "cells": [
  {
   "cell_type": "markdown",
   "metadata": {},
   "source": [
    "# 도구 호출 에이전트(Tool Calling Agent)\n",
    "\n",
    "도구 호출을 사용하면 모델이 하나 이상의 **도구(tool)** 가 **호출되어야 하는 시기를 감지하고 해당 도구에 전달해야 하는 입력** 으로 전달할 수 있습니다. \n",
    "\n",
    "API 호출에서 도구를 설명하고 모델이 이러한 도구를 호출하기 위한 인수가 포함된 JSON과 같은 구조화된 객체를 출력하도록 지능적으로 선택할 수 있습니다. \n",
    "\n",
    "도구 API 의 목표는 일반 텍스트 완성이나 채팅 API를 사용하여 수행할 수 있는 것보다 더 안정적으로 유효하고 유용한 **도구 호출(tool call)** 을 반환하는 것입니다.\n",
    "\n",
    "이러한 구조화된 출력을 도구 호출 채팅 모델에 여러 도구를 바인딩하고 모델이 호출할 도구를 선택할 수 있다는 사실과 결합하여 쿼리가 해결될 때까지 반복적으로 도구를 호출하고 결과를 수신하는 에이전트를 만들 수 있습니다.\n",
    "\n",
    "이것은 OpenAI 의 특정 도구 호출 스타일에 맞게 설계된 OpenAI 도구 에이전트의 보다 **일반화된 버전** 입니다.\n",
    "\n",
    " 이 에이전트는 LangChain의 ToolCall 인터페이스를 사용하여 OpenAI 외에도 `Anthropic`, `Google Gemini`, `Mistral`과 같은 더 광범위한 공급자 구현을 지원합니다.\n",
    "\n",
    "**참고 링크**\n",
    "\n",
    "- [LangChain 공식 도큐먼트](https://python.langchain.com/v0.1/docs/modules/agents/agent_types/tool_calling/)\n",
    "\n",
    "![](./assets/agent-concept.png)"
   ]
  },
  {
   "cell_type": "code",
   "execution_count": 1,
   "metadata": {},
   "outputs": [
    {
     "data": {
      "text/plain": [
       "True"
      ]
     },
     "execution_count": 1,
     "metadata": {},
     "output_type": "execute_result"
    }
   ],
   "source": [
    "# API 키를 환경변수로 관리하기 위한 설정 파일\n",
    "from dotenv import load_dotenv\n",
    "\n",
    "# API 키 정보 로드\n",
    "load_dotenv()"
   ]
  },
  {
   "cell_type": "code",
   "execution_count": 2,
   "metadata": {},
   "outputs": [
    {
     "name": "stdout",
     "output_type": "stream",
     "text": [
      "LangSmith 추적을 시작합니다.\n",
      "[프로젝트명]\n",
      "CH12-Agents\n"
     ]
    }
   ],
   "source": [
    "# LangSmith 추적을 설정합니다. https://smith.langchain.com\n",
    "# !pip install -qU langchain-teddynote\n",
    "from langchain_teddynote import logging\n",
    "\n",
    "# 프로젝트 이름을 입력합니다.\n",
    "logging.langsmith(\"CH12-Agents\")"
   ]
  },
  {
   "cell_type": "code",
   "execution_count": 3,
   "metadata": {},
   "outputs": [
    {
     "name": "stdout",
     "output_type": "stream",
     "text": [
      "도구 이름: search_news\n",
      "도구 설명: Search Google News by input keyword\n",
      "도구 이름: python_repl_tool\n",
      "도구 설명: Use this to execute python code. If you want to see the output of a value,\n",
      "    you should print it out with `print(...)`. This is visible to the user.\n"
     ]
    }
   ],
   "source": [
    "from langchain.tools import tool\n",
    "from typing import List, Dict, Annotated\n",
    "from langchain_teddynote.tools import GoogleNews\n",
    "from langchain_experimental.utilities import PythonREPL\n",
    "\n",
    "\n",
    "# 도구 생성\n",
    "@tool\n",
    "def search_news(query: str) -> List[Dict[str, str]]:\n",
    "    \"\"\"Search Google News by input keyword\"\"\"\n",
    "    news_tool = GoogleNews()\n",
    "    return news_tool.search_by_keyword(query, k=5)\n",
    "\n",
    "\n",
    "# 도구 생성\n",
    "@tool\n",
    "def python_repl_tool(\n",
    "    code: Annotated[str, \"The python code to execute to generate your chart.\"],\n",
    "):\n",
    "    \"\"\"Use this to execute python code. If you want to see the output of a value,\n",
    "    you should print it out with `print(...)`. This is visible to the user.\"\"\"\n",
    "    result = \"\"\n",
    "    try:\n",
    "        result = PythonREPL().run(code)\n",
    "    except BaseException as e:\n",
    "        print(f\"Failed to execute. Error: {repr(e)}\")\n",
    "    finally:\n",
    "        return result\n",
    "\n",
    "\n",
    "print(f\"도구 이름: {search_news.name}\")\n",
    "print(f\"도구 설명: {search_news.description}\")\n",
    "print(f\"도구 이름: {python_repl_tool.name}\")\n",
    "print(f\"도구 설명: {python_repl_tool.description}\")"
   ]
  },
  {
   "cell_type": "code",
   "execution_count": 4,
   "metadata": {},
   "outputs": [],
   "source": [
    "# tools 정의\n",
    "tools = [search_news, python_repl_tool]"
   ]
  },
  {
   "cell_type": "markdown",
   "metadata": {},
   "source": [
    "## Agent 프롬프트 생성\n",
    "\n",
    "- `chat_history` : 이전 대화 내용을 저장하는 변수 (멀티턴을 지원하지 않는다면, 생략 가능합니다.)\n",
    "- `agent_scratchpad` : 에이전트가 임시로 저장하는 변수\n",
    "- `input` : 사용자의 입력"
   ]
  },
  {
   "cell_type": "code",
   "execution_count": 5,
   "metadata": {},
   "outputs": [],
   "source": [
    "from langchain_core.prompts import ChatPromptTemplate\n",
    "\n",
    "# 프롬프트 생성\n",
    "# 프롬프트는 에이전트에게 모델이 수행할 작업을 설명하는 텍스트를 제공합니다. (도구의 이름과 역할을 입력)\n",
    "prompt = ChatPromptTemplate.from_messages(\n",
    "    [\n",
    "        (\n",
    "            \"system\",\n",
    "            \"You are a helpful assistant. \"\n",
    "            \"Make sure to use the `search_news` tool for searching keyword related news.\",\n",
    "        ),\n",
    "        (\"placeholder\", \"{chat_history}\"),    ## 이전 대화(멀티턴 대화)를 기억하게 하기 위해 사용\n",
    "        (\"human\", \"{input}\"),\n",
    "        (\"placeholder\", \"{agent_scratchpad}\"),   ## llm이 판단(생각)을 위해 필요한 작업을 한 것을 기록 해 놓는것 (검색 했으면 검색결과 ..)\n",
    "    ]\n",
    ")"
   ]
  },
  {
   "cell_type": "markdown",
   "metadata": {},
   "source": [
    "## Agent 생성"
   ]
  },
  {
   "cell_type": "code",
   "execution_count": 6,
   "metadata": {},
   "outputs": [],
   "source": [
    "from langchain_openai import ChatOpenAI\n",
    "from langchain.agents import create_tool_calling_agent\n",
    "\n",
    "# LLM 정의\n",
    "llm = ChatOpenAI(model=\"gpt-4o-mini\", temperature=0)\n",
    "\n",
    "# Agent 생성\n",
    "agent = create_tool_calling_agent(llm, tools, prompt)"
   ]
  },
  {
   "cell_type": "markdown",
   "metadata": {},
   "source": [
    "## AgentExecutor\n",
    "\n",
    "- AgentExecutor는 도구를 사용하는 에이전트를 실행하는 클래스입니다. \n",
    "- Agent를 관리(컨트롤) 하는 Agent\n",
    "\n",
    "**주요 속성**\n",
    "- `agent`: 실행 루프의 각 단계에서 계획을 생성하고 행동을 결정하는 에이전트\n",
    "- `tools`: 에이전트가 사용할 수 있는 유효한 도구 목록\n",
    "- `return_intermediate_steps`: 최종 출력과 함께 에이전트의 중간 단계 경로를 반환할지 여부\n",
    "- `max_iterations`: 실행 루프를 종료하기 전 최대 단계 수\n",
    "- `max_execution_time`: 실행 루프에 소요될 수 있는 최대 시간\n",
    "- `early_stopping_method`: 에이전트가 `AgentFinish`를 반환하지 않을 때 사용할 조기 종료 방법. (\"force\" or \"generate\")\n",
    "  - `\"force\"` 는 시간 또는 반복 제한에 도달하여 중지되었다는 문자열을 반환합니다.\n",
    "  - `\"generate\"` 는 에이전트의 LLM 체인을 마지막으로 한 번 호출하여 이전 단계에 따라 최종 답변을 생성합니다.\n",
    "- `handle_parsing_errors`: 에이전트의 출력 파서에서 발생한 오류 처리 방법. (True, False, 또는 오류 처리 함수)\n",
    "- `trim_intermediate_steps`: 중간 단계를 트리밍하는 방법. (-1 trim 하지 않음, 또는 트리밍 함수)\n",
    "\n",
    "**주요 메서드**\n",
    "1. `invoke`: 에이전트 실행\n",
    "2. `stream`: 최종 출력에 도달하는 데 필요한 단계를 스트리밍\n",
    "\n",
    "**주요 기능**\n",
    "1. **도구 검증**: 에이전트와 호환되는 도구인지 확인\n",
    "2. **실행 제어**: 최대 반복 횟수 및 실행 시간 제한 설정 가능\n",
    "3. **오류 처리**: 출력 파싱 오류에 대한 다양한 처리 옵션 제공\n",
    "4. **중간 단계 관리**: 중간 단계 트리밍 및 반환 옵션\n",
    "5. **비동기 지원**: 비동기 실행 및 스트리밍 지원\n",
    "\n",
    "**최적화 팁**\n",
    "- `max_iterations`와 `max_execution_time`을 적절히 설정하여 실행 시간 관리\n",
    "- `trim_intermediate_steps`를 활용하여 메모리 사용량 최적화\n",
    "- 복잡한 작업의 경우 `stream` 메서드를 사용하여 단계별 결과 모니터링"
   ]
  },
  {
   "cell_type": "code",
   "execution_count": 7,
   "metadata": {},
   "outputs": [
    {
     "name": "stdout",
     "output_type": "stream",
     "text": [
      "\n",
      "\n",
      "\u001b[1m> Entering new AgentExecutor chain...\u001b[0m\n",
      "\u001b[32;1m\u001b[1;3m\n",
      "Invoking: `search_news` with `{'query': 'AI 투자'}`\n",
      "\n",
      "\n",
      "\u001b[0m\u001b[36;1m\u001b[1;3m[{'url': 'https://news.google.com/rss/articles/CBMiaEFVX3lxTFB3NzRrZ2JfU2dXV1lVSEtSSG96N2xlMDlURUh0T215UzE2MlQwMzNnSGZtQ0ZkOEhNdmlieUpPQmw4ZC1fNmw2RmJoRW9fT3h2bERVVnp5UFpGSkpLdHhnamVBTXhWUkY30gFsQVVfeXFMTk1BajBPdHBoSU1mMVZRM1E2SWU4N01HZHhDY0JMMDY3cVZ5NEYyOVpUZjlrVjdWamxSZHhkOUtuYVo0dkQ1TnZrQm5Ydkd2bWJfRTZTa2h3T1FRQnlyQ25QV1dQalJ0dTViMENr?oc=5', 'content': \"'AI 전략 투자' 늘리는 SKT, 경쟁력·지분가치 모두 잡는다 - 블로터\"}, {'url': 'https://news.google.com/rss/articles/CBMiTkFVX3lxTE5EUUttaTNITVd4Y2ZPbzlmR0drWWx4TUF3NlpiV0s0X29PWk5vNVhQQ19IbnduNUdWYVFwakluVU52eEpObHktaW9RamU3Zw?oc=5', 'content': \"이재명·이재용, 'AI 인재 육성' 공감…“대기업 감당 어려운 투자는 국가가 함께 해야” - 전자신문\"}, {'url': 'https://news.google.com/rss/articles/CBMiU0FVX3lxTE1EWFQySF9NRlItclQ0VXVHeGFwLVZFWHhIekx1bkdCbExOaklYWkxNM1cxOGJvQ2daUzRsODVGYUQ3TzdXYWlJT3NJNzNwNHFJMUFF?oc=5', 'content': '이재명 \"안전성 담보되는 차원에서 정부가 AI투자 직접 참여해야\" - 네이트 뉴스'}, {'url': 'https://news.google.com/rss/articles/CBMiZkFVX3lxTE1taEo5ZnRYeFBmYWlNeHdaMURXanFjXzV3RjBpV01ZSEJBR1VZSzM5YzNFajcyVnFQb3dJR1czRlBtbUhxWWxTTmxicTN2Wnhwdkxodnl4b1EwUWZrZXRhdnd2R2Zld9IBbkFVX3lxTE45QlNsdWNiQ0dHbEtMOS1TdzA2djViNS1jcVVONTZYMlE5NHJ0NF84aTFEME1kZWRxY0pzYmFXRFFTajl3UUlHLWZxV1pDN0tOakxybFZwSDRCSmktdHBldDZJa2lnSEZOZGRoQjdn?oc=5', 'content': '이재용 만난 이재명 \"정부, AI 지원에 그쳤다면 이제 투자 뛰어들어야\" - 머니투데이'}, {'url': 'https://news.google.com/rss/articles/CBMiU0FVX3lxTE9kRVRWQmNrOUZYQ2J3NzhFVmhyM1hxMENsSUFJTWF3VHBWMEhNYkF5aTMxN0ZXeHlJRW9ORXY3OEJuYTZ3VG1RZWNqbWxvWjU0SmxV0gFYQVVfeXFMT1JjQ2VRX01TYUdxZlhoaEVVQkNYLUZfeXlIaHF0S0M3UENQZUJyUGw5U0pfV3Bnb3BXTS1ZQk8yMV9jWDF2cjhDclY1dUU3TnhPU3hpemd1dA?oc=5', 'content': '[강정수의 AI 투자전략] 최근 조정 받았던 뉴욕증시…진짜 바닥은 아직? - SBS Biz'}]\u001b[0m\u001b[32;1m\u001b[1;3m다음은 AI 투자와 관련된 최근 뉴스입니다:\n",
      "\n",
      "1. **[AI 전략 투자' 늘리는 SKT, 경쟁력·지분가치 모두 잡는다 - 블로터](https://news.google.com/rss/articles/CBMiaEFVX3lxTFB3NzRrZ2JfU2dXV1lVSEtSSG96N2xlMDlURUh0T215UzE2MlQwMzNnSGZtQ0ZkOEhNdmlieUpPQmw4ZC1fNmw2RmJoRW9fT3h2bERVVnp5UFpGSkpLdHhnamVBTXhWUkY30gFsQVVfeXFMTk1BajBPdHBoSU1mMVZRM1E2SWU4N01HZHhDY0JMMDY3cVZ5NEYyOVpUZjlrVjdWamxSZHhkOUtuYVo0dkQ1TnZrQm5Ydkd2bWJfRTZTa2h3T1FRQnlyQ25QV1dQalJ0dTViMENr?oc=5)**  \n",
      "   SKT가 AI 전략 투자를 늘리고 있으며, 이를 통해 경쟁력과 지분 가치를 모두 확보하고 있다는 내용입니다.\n",
      "\n",
      "2. **[이재명·이재용, 'AI 인재 육성' 공감…“대기업 감당 어려운 투자는 국가가 함께 해야” - 전자신문](https://news.google.com/rss/articles/CBMiTkFVX3lxTE5EUUttaTNITVd4Y2ZPbzlmR0drWWx4TUF3NlpiV0s0X29PWk5vNVhQQ19IbnduNUdWYVFwakluVU52eEpObHktaW9RamU3Zw?oc=5)**  \n",
      "   이재명과 이재용이 AI 인재 육성의 중요성에 대해 공감하며, 대기업이 감당하기 어려운 투자는 국가가 함께 해야 한다고 언급했습니다.\n",
      "\n",
      "3. **[이재명 \"안전성 담보되는 차원에서 정부가 AI투자 직접 참여해야\" - 네이트 뉴스](https://news.google.com/rss/articles/CBMiU0FVX3lxTE1EWFQySF9NRlItclQ0VXVHeGFwLVZFWHhIekx1bkdCbExOaklYWkxNM1cxOGJvQ2daUzRsODVGYUQ3TzdXYWlJT3NJNzNwNHFJMUFF?oc=5)**  \n",
      "   이재명은 정부가 AI 투자에 직접 참여해야 한다고 주장하며, 안전성을 담보해야 한다고 강조했습니다.\n",
      "\n",
      "4. **[이재용 만난 이재명 \"정부, AI 지원에 그쳤다면 이제 투자 뛰어들어야\" - 머니투데이](https://news.google.com/rss/articles/CBMiZkFVX3lxTE1taEo5ZnRYeFBmYWlNeHdaMURXanFjXzV3RjBpV01ZSEJBR1VZSzM5YzNFajcyVnFQb3dJR1czRlBtbUhxWWxTTmxicTN2Wnhwdkxodnl4b1EwUWZrZXRhdnd2R2Zld9IBbkFVX3lxTE45QlNsdWNiQ0dHbEtMOS1TdzA2djViNS1jcVVONTZYMlE5NHJ0NF84aTFEME1kZWRxY0pzYmFXRFFTajl3UUlHLWZxV1pDN0tOakxybFZwSDRCSmktdHBldDZJa2lnSEZOZGRoQjdn?oc=5)**  \n",
      "   이재명은 이재용과의 만남에서 정부가 AI 지원에 그쳤다면 이제는 투자에 뛰어들어야 한다고 말했습니다.\n",
      "\n",
      "5. **[강정수의 AI 투자전략] 최근 조정 받았던 뉴욕증시…진짜 바닥은 아직? - SBS Biz](https://news.google.com/rss/articles/CBMiU0FVX3lxTE9kRVRWQmNrOUZYQ2J3NzhFVmhyM1hxMENsSUFJTWF3VHBWMEhNYkF5aTMxN0ZXeHlJRW9ORXY3OEJuYTZ3VG1RZWNqbWxvWjU0SmxV0gFYQVVfeXFMT1JjQ2VRX01TYUdxZlhoaEVVQkNYLUZfeXlIaHF0S0M3UENQZUJyUGw5U0pfV3Bnb3BXTS1ZQk8yMV9jWDF2cjhDclY1dUU3TnhPU3hpemd1dA?oc=5)**  \n",
      "   최근 뉴욕 증시의 조정과 관련하여 AI 투자 전략에 대한 분석이 다뤄졌습니다.\n",
      "\n",
      "이 뉴스들은 AI 투자와 관련된 다양한 시각과 의견을 제공합니다.\u001b[0m\n",
      "\n",
      "\u001b[1m> Finished chain.\u001b[0m\n",
      "Agent 실행 결과:\n",
      "다음은 AI 투자와 관련된 최근 뉴스입니다:\n",
      "\n",
      "1. **[AI 전략 투자' 늘리는 SKT, 경쟁력·지분가치 모두 잡는다 - 블로터](https://news.google.com/rss/articles/CBMiaEFVX3lxTFB3NzRrZ2JfU2dXV1lVSEtSSG96N2xlMDlURUh0T215UzE2MlQwMzNnSGZtQ0ZkOEhNdmlieUpPQmw4ZC1fNmw2RmJoRW9fT3h2bERVVnp5UFpGSkpLdHhnamVBTXhWUkY30gFsQVVfeXFMTk1BajBPdHBoSU1mMVZRM1E2SWU4N01HZHhDY0JMMDY3cVZ5NEYyOVpUZjlrVjdWamxSZHhkOUtuYVo0dkQ1TnZrQm5Ydkd2bWJfRTZTa2h3T1FRQnlyQ25QV1dQalJ0dTViMENr?oc=5)**  \n",
      "   SKT가 AI 전략 투자를 늘리고 있으며, 이를 통해 경쟁력과 지분 가치를 모두 확보하고 있다는 내용입니다.\n",
      "\n",
      "2. **[이재명·이재용, 'AI 인재 육성' 공감…“대기업 감당 어려운 투자는 국가가 함께 해야” - 전자신문](https://news.google.com/rss/articles/CBMiTkFVX3lxTE5EUUttaTNITVd4Y2ZPbzlmR0drWWx4TUF3NlpiV0s0X29PWk5vNVhQQ19IbnduNUdWYVFwakluVU52eEpObHktaW9RamU3Zw?oc=5)**  \n",
      "   이재명과 이재용이 AI 인재 육성의 중요성에 대해 공감하며, 대기업이 감당하기 어려운 투자는 국가가 함께 해야 한다고 언급했습니다.\n",
      "\n",
      "3. **[이재명 \"안전성 담보되는 차원에서 정부가 AI투자 직접 참여해야\" - 네이트 뉴스](https://news.google.com/rss/articles/CBMiU0FVX3lxTE1EWFQySF9NRlItclQ0VXVHeGFwLVZFWHhIekx1bkdCbExOaklYWkxNM1cxOGJvQ2daUzRsODVGYUQ3TzdXYWlJT3NJNzNwNHFJMUFF?oc=5)**  \n",
      "   이재명은 정부가 AI 투자에 직접 참여해야 한다고 주장하며, 안전성을 담보해야 한다고 강조했습니다.\n",
      "\n",
      "4. **[이재용 만난 이재명 \"정부, AI 지원에 그쳤다면 이제 투자 뛰어들어야\" - 머니투데이](https://news.google.com/rss/articles/CBMiZkFVX3lxTE1taEo5ZnRYeFBmYWlNeHdaMURXanFjXzV3RjBpV01ZSEJBR1VZSzM5YzNFajcyVnFQb3dJR1czRlBtbUhxWWxTTmxicTN2Wnhwdkxodnl4b1EwUWZrZXRhdnd2R2Zld9IBbkFVX3lxTE45QlNsdWNiQ0dHbEtMOS1TdzA2djViNS1jcVVONTZYMlE5NHJ0NF84aTFEME1kZWRxY0pzYmFXRFFTajl3UUlHLWZxV1pDN0tOakxybFZwSDRCSmktdHBldDZJa2lnSEZOZGRoQjdn?oc=5)**  \n",
      "   이재명은 이재용과의 만남에서 정부가 AI 지원에 그쳤다면 이제는 투자에 뛰어들어야 한다고 말했습니다.\n",
      "\n",
      "5. **[강정수의 AI 투자전략] 최근 조정 받았던 뉴욕증시…진짜 바닥은 아직? - SBS Biz](https://news.google.com/rss/articles/CBMiU0FVX3lxTE9kRVRWQmNrOUZYQ2J3NzhFVmhyM1hxMENsSUFJTWF3VHBWMEhNYkF5aTMxN0ZXeHlJRW9ORXY3OEJuYTZ3VG1RZWNqbWxvWjU0SmxV0gFYQVVfeXFMT1JjQ2VRX01TYUdxZlhoaEVVQkNYLUZfeXlIaHF0S0M3UENQZUJyUGw5U0pfV3Bnb3BXTS1ZQk8yMV9jWDF2cjhDclY1dUU3TnhPU3hpemd1dA?oc=5)**  \n",
      "   최근 뉴욕 증시의 조정과 관련하여 AI 투자 전략에 대한 분석이 다뤄졌습니다.\n",
      "\n",
      "이 뉴스들은 AI 투자와 관련된 다양한 시각과 의견을 제공합니다.\n"
     ]
    }
   ],
   "source": [
    "from langchain.agents import AgentExecutor\n",
    "\n",
    "# AgentExecutor 생성\n",
    "agent_executor = AgentExecutor(\n",
    "    agent=agent,\n",
    "    tools=tools,\n",
    "    verbose=True,\n",
    "    max_iterations=10,\n",
    "    max_execution_time=10,\n",
    "    handle_parsing_errors=True,\n",
    ")\n",
    "\n",
    "# AgentExecutor 실행\n",
    "result = agent_executor.invoke({\"input\": \"AI 투자와 관련된 뉴스를 검색해 주세요.\"})\n",
    "\n",
    "print(\"Agent 실행 결과:\")\n",
    "print(result[\"output\"])"
   ]
  },
  {
   "cell_type": "markdown",
   "metadata": {},
   "source": [
    "## Stream 출력으로 단계별 결과 확인\n",
    "\n",
    "AgentExecutor의 `stream()` 메소드를 사용하여 에이전트의 중간 단계를 스트리밍할 것입니다.\n",
    "\n",
    "`stream()`의 출력은 (Action, Observation) 쌍 사이에서 번갈아 나타나며, 최종적으로 에이전트가 목표를 달성했다면 답변으로 마무리됩니다.\n",
    "\n",
    "다음과 같은 형태로 보일 것입니다.\n",
    "\n",
    "1. Action 출력\n",
    "2. Observation 출력\n",
    "3. Action 출력\n",
    "4. Observation 출력\n",
    "\n",
    "... (목표 달성까지 계속) ...\n",
    "\n",
    "그 다음, 최종 목표가 달성되면 에이전트는 최종 답변을 출력할 것입니다.\n",
    "\n",
    "이러한 출력의 내용은 다음과 같이 요약됩니다.\n",
    "\n",
    "| 출력 | 내용 |\n",
    "|--------|----------|\n",
    "| Action | `actions`: AgentAction 또는 그 하위 클래스<br>`messages`: 액션 호출에 해당하는 채팅 메시지 |\n",
    "| Observation | `steps`: 현재 액션과 그 관찰을 포함한 에이전트가 지금까지 수행한 작업의 기록<br>`messages`: 함수 호출 결과(즉, 관찰)를 포함한 채팅 메시지 |\n",
    "| Final Answer | `output`: AgentFinish<br>`messages`: 최종 출력을 포함한 채팅 메시지 |\n",
    "```"
   ]
  },
  {
   "cell_type": "code",
   "execution_count": 12,
   "metadata": {},
   "outputs": [],
   "source": [
    "from langchain.agents import AgentExecutor\n",
    "\n",
    "# AgentExecutor 생성\n",
    "agent_executor = AgentExecutor(\n",
    "    agent=agent,\n",
    "    tools=tools,\n",
    "    verbose=False,\n",
    "    handle_parsing_errors=True,\n",
    ")"
   ]
  },
  {
   "cell_type": "code",
   "execution_count": 8,
   "metadata": {},
   "outputs": [
    {
     "name": "stdout",
     "output_type": "stream",
     "text": [
      "\n",
      "\n",
      "\u001b[1m> Entering new None chain...\u001b[0m\n",
      "{'actions': [ToolAgentAction(tool='search_news', tool_input={'query': 'AI 투자'}, log=\"\\nInvoking: `search_news` with `{'query': 'AI 투자'}`\\n\\n\\n\", message_log=[AIMessageChunk(content='', additional_kwargs={'tool_calls': [{'index': 0, 'id': 'call_Gsx2MFvPFbgMEVOr1Qr72QSq', 'function': {'arguments': '{\"query\":\"AI 투자\"}', 'name': 'search_news'}, 'type': 'function'}]}, response_metadata={'finish_reason': 'tool_calls', 'model_name': 'gpt-4o-mini-2024-07-18', 'system_fingerprint': 'fp_b8bc95a0ac'}, id='run-8692879d-7345-4b95-8338-8fef4a047e79', tool_calls=[{'name': 'search_news', 'args': {'query': 'AI 투자'}, 'id': 'call_Gsx2MFvPFbgMEVOr1Qr72QSq', 'type': 'tool_call'}], tool_call_chunks=[{'name': 'search_news', 'args': '{\"query\":\"AI 투자\"}', 'id': 'call_Gsx2MFvPFbgMEVOr1Qr72QSq', 'index': 0, 'type': 'tool_call_chunk'}])], tool_call_id='call_Gsx2MFvPFbgMEVOr1Qr72QSq')], 'messages': [AIMessageChunk(content='', additional_kwargs={'tool_calls': [{'index': 0, 'id': 'call_Gsx2MFvPFbgMEVOr1Qr72QSq', 'function': {'arguments': '{\"query\":\"AI 투자\"}', 'name': 'search_news'}, 'type': 'function'}]}, response_metadata={'finish_reason': 'tool_calls', 'model_name': 'gpt-4o-mini-2024-07-18', 'system_fingerprint': 'fp_b8bc95a0ac'}, id='run-8692879d-7345-4b95-8338-8fef4a047e79', tool_calls=[{'name': 'search_news', 'args': {'query': 'AI 투자'}, 'id': 'call_Gsx2MFvPFbgMEVOr1Qr72QSq', 'type': 'tool_call'}], tool_call_chunks=[{'name': 'search_news', 'args': '{\"query\":\"AI 투자\"}', 'id': 'call_Gsx2MFvPFbgMEVOr1Qr72QSq', 'index': 0, 'type': 'tool_call_chunk'}])]}\n",
      "============================================================\n",
      "\u001b[32;1m\u001b[1;3m\n",
      "Invoking: `search_news` with `{'query': 'AI 투자'}`\n",
      "\n",
      "\n",
      "\u001b[0m\u001b[36;1m\u001b[1;3m[{'url': 'https://news.google.com/rss/articles/CBMiaEFVX3lxTFB3NzRrZ2JfU2dXV1lVSEtSSG96N2xlMDlURUh0T215UzE2MlQwMzNnSGZtQ0ZkOEhNdmlieUpPQmw4ZC1fNmw2RmJoRW9fT3h2bERVVnp5UFpGSkpLdHhnamVBTXhWUkY30gFsQVVfeXFMTk1BajBPdHBoSU1mMVZRM1E2SWU4N01HZHhDY0JMMDY3cVZ5NEYyOVpUZjlrVjdWamxSZHhkOUtuYVo0dkQ1TnZrQm5Ydkd2bWJfRTZTa2h3T1FRQnlyQ25QV1dQalJ0dTViMENr?oc=5', 'content': \"'AI 전략 투자' 늘리는 SKT, 경쟁력·지분가치 모두 잡는다 - 블로터\"}, {'url': 'https://news.google.com/rss/articles/CBMiTkFVX3lxTE5EUUttaTNITVd4Y2ZPbzlmR0drWWx4TUF3NlpiV0s0X29PWk5vNVhQQ19IbnduNUdWYVFwakluVU52eEpObHktaW9RamU3Zw?oc=5', 'content': \"이재명·이재용, 'AI 인재 육성' 공감…“대기업 감당 어려운 투자는 국가가 함께 해야” - 전자신문\"}, {'url': 'https://news.google.com/rss/articles/CBMiU0FVX3lxTE1EWFQySF9NRlItclQ0VXVHeGFwLVZFWHhIekx1bkdCbExOaklYWkxNM1cxOGJvQ2daUzRsODVGYUQ3TzdXYWlJT3NJNzNwNHFJMUFF?oc=5', 'content': '이재명 \"안전성 담보되는 차원에서 정부가 AI투자 직접 참여해야\" - 네이트 뉴스'}, {'url': 'https://news.google.com/rss/articles/CBMiZkFVX3lxTE1taEo5ZnRYeFBmYWlNeHdaMURXanFjXzV3RjBpV01ZSEJBR1VZSzM5YzNFajcyVnFQb3dJR1czRlBtbUhxWWxTTmxicTN2Wnhwdkxodnl4b1EwUWZrZXRhdnd2R2Zld9IBbkFVX3lxTE45QlNsdWNiQ0dHbEtMOS1TdzA2djViNS1jcVVONTZYMlE5NHJ0NF84aTFEME1kZWRxY0pzYmFXRFFTajl3UUlHLWZxV1pDN0tOakxybFZwSDRCSmktdHBldDZJa2lnSEZOZGRoQjdn?oc=5', 'content': '이재용 만난 이재명 \"정부, AI 지원에 그쳤다면 이제 투자 뛰어들어야\" - 머니투데이'}, {'url': 'https://news.google.com/rss/articles/CBMiU0FVX3lxTE9kRVRWQmNrOUZYQ2J3NzhFVmhyM1hxMENsSUFJTWF3VHBWMEhNYkF5aTMxN0ZXeHlJRW9ORXY3OEJuYTZ3VG1RZWNqbWxvWjU0SmxV0gFYQVVfeXFMT1JjQ2VRX01TYUdxZlhoaEVVQkNYLUZfeXlIaHF0S0M3UENQZUJyUGw5U0pfV3Bnb3BXTS1ZQk8yMV9jWDF2cjhDclY1dUU3TnhPU3hpemd1dA?oc=5', 'content': '[강정수의 AI 투자전략] 최근 조정 받았던 뉴욕증시…진짜 바닥은 아직? - SBS Biz'}]\u001b[0m{'steps': [AgentStep(action=ToolAgentAction(tool='search_news', tool_input={'query': 'AI 투자'}, log=\"\\nInvoking: `search_news` with `{'query': 'AI 투자'}`\\n\\n\\n\", message_log=[AIMessageChunk(content='', additional_kwargs={'tool_calls': [{'index': 0, 'id': 'call_Gsx2MFvPFbgMEVOr1Qr72QSq', 'function': {'arguments': '{\"query\":\"AI 투자\"}', 'name': 'search_news'}, 'type': 'function'}]}, response_metadata={'finish_reason': 'tool_calls', 'model_name': 'gpt-4o-mini-2024-07-18', 'system_fingerprint': 'fp_b8bc95a0ac'}, id='run-8692879d-7345-4b95-8338-8fef4a047e79', tool_calls=[{'name': 'search_news', 'args': {'query': 'AI 투자'}, 'id': 'call_Gsx2MFvPFbgMEVOr1Qr72QSq', 'type': 'tool_call'}], tool_call_chunks=[{'name': 'search_news', 'args': '{\"query\":\"AI 투자\"}', 'id': 'call_Gsx2MFvPFbgMEVOr1Qr72QSq', 'index': 0, 'type': 'tool_call_chunk'}])], tool_call_id='call_Gsx2MFvPFbgMEVOr1Qr72QSq'), observation=[{'url': 'https://news.google.com/rss/articles/CBMiaEFVX3lxTFB3NzRrZ2JfU2dXV1lVSEtSSG96N2xlMDlURUh0T215UzE2MlQwMzNnSGZtQ0ZkOEhNdmlieUpPQmw4ZC1fNmw2RmJoRW9fT3h2bERVVnp5UFpGSkpLdHhnamVBTXhWUkY30gFsQVVfeXFMTk1BajBPdHBoSU1mMVZRM1E2SWU4N01HZHhDY0JMMDY3cVZ5NEYyOVpUZjlrVjdWamxSZHhkOUtuYVo0dkQ1TnZrQm5Ydkd2bWJfRTZTa2h3T1FRQnlyQ25QV1dQalJ0dTViMENr?oc=5', 'content': \"'AI 전략 투자' 늘리는 SKT, 경쟁력·지분가치 모두 잡는다 - 블로터\"}, {'url': 'https://news.google.com/rss/articles/CBMiTkFVX3lxTE5EUUttaTNITVd4Y2ZPbzlmR0drWWx4TUF3NlpiV0s0X29PWk5vNVhQQ19IbnduNUdWYVFwakluVU52eEpObHktaW9RamU3Zw?oc=5', 'content': \"이재명·이재용, 'AI 인재 육성' 공감…“대기업 감당 어려운 투자는 국가가 함께 해야” - 전자신문\"}, {'url': 'https://news.google.com/rss/articles/CBMiU0FVX3lxTE1EWFQySF9NRlItclQ0VXVHeGFwLVZFWHhIekx1bkdCbExOaklYWkxNM1cxOGJvQ2daUzRsODVGYUQ3TzdXYWlJT3NJNzNwNHFJMUFF?oc=5', 'content': '이재명 \"안전성 담보되는 차원에서 정부가 AI투자 직접 참여해야\" - 네이트 뉴스'}, {'url': 'https://news.google.com/rss/articles/CBMiZkFVX3lxTE1taEo5ZnRYeFBmYWlNeHdaMURXanFjXzV3RjBpV01ZSEJBR1VZSzM5YzNFajcyVnFQb3dJR1czRlBtbUhxWWxTTmxicTN2Wnhwdkxodnl4b1EwUWZrZXRhdnd2R2Zld9IBbkFVX3lxTE45QlNsdWNiQ0dHbEtMOS1TdzA2djViNS1jcVVONTZYMlE5NHJ0NF84aTFEME1kZWRxY0pzYmFXRFFTajl3UUlHLWZxV1pDN0tOakxybFZwSDRCSmktdHBldDZJa2lnSEZOZGRoQjdn?oc=5', 'content': '이재용 만난 이재명 \"정부, AI 지원에 그쳤다면 이제 투자 뛰어들어야\" - 머니투데이'}, {'url': 'https://news.google.com/rss/articles/CBMiU0FVX3lxTE9kRVRWQmNrOUZYQ2J3NzhFVmhyM1hxMENsSUFJTWF3VHBWMEhNYkF5aTMxN0ZXeHlJRW9ORXY3OEJuYTZ3VG1RZWNqbWxvWjU0SmxV0gFYQVVfeXFMT1JjQ2VRX01TYUdxZlhoaEVVQkNYLUZfeXlIaHF0S0M3UENQZUJyUGw5U0pfV3Bnb3BXTS1ZQk8yMV9jWDF2cjhDclY1dUU3TnhPU3hpemd1dA?oc=5', 'content': '[강정수의 AI 투자전략] 최근 조정 받았던 뉴욕증시…진짜 바닥은 아직? - SBS Biz'}])], 'messages': [FunctionMessage(content='[{\"url\": \"https://news.google.com/rss/articles/CBMiaEFVX3lxTFB3NzRrZ2JfU2dXV1lVSEtSSG96N2xlMDlURUh0T215UzE2MlQwMzNnSGZtQ0ZkOEhNdmlieUpPQmw4ZC1fNmw2RmJoRW9fT3h2bERVVnp5UFpGSkpLdHhnamVBTXhWUkY30gFsQVVfeXFMTk1BajBPdHBoSU1mMVZRM1E2SWU4N01HZHhDY0JMMDY3cVZ5NEYyOVpUZjlrVjdWamxSZHhkOUtuYVo0dkQ1TnZrQm5Ydkd2bWJfRTZTa2h3T1FRQnlyQ25QV1dQalJ0dTViMENr?oc=5\", \"content\": \"\\'AI 전략 투자\\' 늘리는 SKT, 경쟁력·지분가치 모두 잡는다 - 블로터\"}, {\"url\": \"https://news.google.com/rss/articles/CBMiTkFVX3lxTE5EUUttaTNITVd4Y2ZPbzlmR0drWWx4TUF3NlpiV0s0X29PWk5vNVhQQ19IbnduNUdWYVFwakluVU52eEpObHktaW9RamU3Zw?oc=5\", \"content\": \"이재명·이재용, \\'AI 인재 육성\\' 공감…“대기업 감당 어려운 투자는 국가가 함께 해야” - 전자신문\"}, {\"url\": \"https://news.google.com/rss/articles/CBMiU0FVX3lxTE1EWFQySF9NRlItclQ0VXVHeGFwLVZFWHhIekx1bkdCbExOaklYWkxNM1cxOGJvQ2daUzRsODVGYUQ3TzdXYWlJT3NJNzNwNHFJMUFF?oc=5\", \"content\": \"이재명 \\\\\"안전성 담보되는 차원에서 정부가 AI투자 직접 참여해야\\\\\" - 네이트 뉴스\"}, {\"url\": \"https://news.google.com/rss/articles/CBMiZkFVX3lxTE1taEo5ZnRYeFBmYWlNeHdaMURXanFjXzV3RjBpV01ZSEJBR1VZSzM5YzNFajcyVnFQb3dJR1czRlBtbUhxWWxTTmxicTN2Wnhwdkxodnl4b1EwUWZrZXRhdnd2R2Zld9IBbkFVX3lxTE45QlNsdWNiQ0dHbEtMOS1TdzA2djViNS1jcVVONTZYMlE5NHJ0NF84aTFEME1kZWRxY0pzYmFXRFFTajl3UUlHLWZxV1pDN0tOakxybFZwSDRCSmktdHBldDZJa2lnSEZOZGRoQjdn?oc=5\", \"content\": \"이재용 만난 이재명 \\\\\"정부, AI 지원에 그쳤다면 이제 투자 뛰어들어야\\\\\" - 머니투데이\"}, {\"url\": \"https://news.google.com/rss/articles/CBMiU0FVX3lxTE9kRVRWQmNrOUZYQ2J3NzhFVmhyM1hxMENsSUFJTWF3VHBWMEhNYkF5aTMxN0ZXeHlJRW9ORXY3OEJuYTZ3VG1RZWNqbWxvWjU0SmxV0gFYQVVfeXFMT1JjQ2VRX01TYUdxZlhoaEVVQkNYLUZfeXlIaHF0S0M3UENQZUJyUGw5U0pfV3Bnb3BXTS1ZQk8yMV9jWDF2cjhDclY1dUU3TnhPU3hpemd1dA?oc=5\", \"content\": \"[강정수의 AI 투자전략] 최근 조정 받았던 뉴욕증시…진짜 바닥은 아직? - SBS Biz\"}]', additional_kwargs={}, response_metadata={}, name='search_news')]}\n",
      "============================================================\n",
      "\u001b[32;1m\u001b[1;3m다음은 AI 투자와 관련된 최근 뉴스 기사들입니다:\n",
      "\n",
      "1. **[AI 전략 투자' 늘리는 SKT, 경쟁력·지분가치 모두 잡는다 - 블로터](https://news.google.com/rss/articles/CBMiaEFVX3lxTFB3NzRrZ2JfU2dXV1lVSEtSSG96N2xlMDlURUh0T215UzE2MlQwMzNnSGZtQ0ZkOEhNdmlieUpPQmw4ZC1fNmw2RmJoRW9fT3h2bERVVnp5UFpGSkpLdHhnamVBTXhWUkY30gFsQVVfeXFMTk1BajBPdHBoSU1mMVZRM1E2SWU4N01HZHhDY0JMMDY3cVZ5NEYyOVpUZjlrVjdWamxSZHhkOUtuYVo0dkQ1TnZrQm5Ydkd2bWJfRTZTa2h3T1FRQnlyQ25QV1dQalJ0dTViMENr?oc=5)**  \n",
      "   SKT가 AI 전략 투자를 늘리고 있으며, 이를 통해 경쟁력과 지분 가치를 모두 확보하고 있다는 내용입니다.\n",
      "\n",
      "2. **[이재명·이재용, 'AI 인재 육성' 공감…“대기업 감당 어려운 투자는 국가가 함께 해야” - 전자신문](https://news.google.com/rss/articles/CBMiTkFVX3lxTE5EUUttaTNITVd4Y2ZPbzlmR0drWWx4TUF3NlpiV0s0X29PWk5vNVhQQ19IbnduNUdWYVFwakluVU52eEpObHktaW9RamU3Zw?oc=5)**  \n",
      "   이재명과 이재용이 AI 인재 육성의 중요성에 대해 공감하며, 대기업이 감당하기 어려운 투자는 국가가 함께 해야 한다고 언급했습니다.\n",
      "\n",
      "3. **[이재명 \"안전성 담보되는 차원에서 정부가 AI투자 직접 참여해야\" - 네이트 뉴스](https://news.google.com/rss/articles/CBMiU0FVX3lxTE1EWFQySF9NRlItclQ0VXVHeGFwLVZFWHhIekx1bkdCbExOaklYWkxNM1cxOGJvQ2daUzRsODVGYUQ3TzdXYWlJT3NJNzNwNHFJMUFF?oc=5)**  \n",
      "   이재명은 정부가 AI 투자에 직접 참여해야 한다고 주장하며, 안전성을 담보해야 한다고 강조했습니다.\n",
      "\n",
      "4. **[이재용 만난 이재명 \"정부, AI 지원에 그쳤다면 이제 투자 뛰어들어야\" - 머니투데이](https://news.google.com/rss/articles/CBMiZkFVX3lxTE1taEo5ZnRYeFBmYWlNeHdaMURXanFjXzV3RjBpV01ZSEJBR1VZSzM5YzNFajcyVnFQb3dJR1czRlBtbUhxWWxTTmxicTN2Wnhwdkxodnl4b1EwUWZrZXRhdnd2R2Zld9IBbkFVX3lxTE45QlNsdWNiQ0dHbEtMOS1TdzA2djViNS1jcVVONTZYMlE5NHJ0NF84aTFEME1kZWRxY0pzYmFXRFFTajl3UUlHLWZxV1pDN0tOakxybFZwSDRCSmktdHBldDZJa2lnSEZOZGRoQjdn?oc=5)**  \n",
      "   이재명은 이재용과의 만남에서 정부가 AI 지원에 그쳤다면 이제는 투자에 뛰어들어야 한다고 말했습니다.\n",
      "\n",
      "5. **[강정수의 AI 투자전략] 최근 조정 받았던 뉴욕증시…진짜 바닥은 아직? - SBS Biz](https://news.google.com/rss/articles/CBMiU0FVX3lxTE9kRVRWQmNrOUZYQ2J3NzhFVmhyM1hxMENsSUFJTWF3VHBWMEhNYkF5aTMxN0ZXeHlJRW9ORXY3OEJuYTZ3VG1RZWNqbWxvWjU0SmxV0gFYQVVfeXFMT1JjQ2VRX01TYUdxZlhoaEVVQkNYLUZfeXlIaHF0S0M3UENQZUJyUGw5U0pfV3Bnb3BXTS1ZQk8yMV9jWDF2cjhDclY1dUU3TnhPU3hpemd1dA?oc=5)**  \n",
      "   최근 뉴욕 증시의 조정과 관련하여 AI 투자 전략에 대한 분석이 담긴 기사입니다.\n",
      "\n",
      "이 기사들은 AI 투자에 대한 다양한 관점과 최근 동향을 다루고 있습니다.\u001b[0m\n",
      "\n",
      "\u001b[1m> Finished chain.\u001b[0m\n",
      "{'output': '다음은 AI 투자와 관련된 최근 뉴스 기사들입니다:\\n\\n1. **[AI 전략 투자\\' 늘리는 SKT, 경쟁력·지분가치 모두 잡는다 - 블로터](https://news.google.com/rss/articles/CBMiaEFVX3lxTFB3NzRrZ2JfU2dXV1lVSEtSSG96N2xlMDlURUh0T215UzE2MlQwMzNnSGZtQ0ZkOEhNdmlieUpPQmw4ZC1fNmw2RmJoRW9fT3h2bERVVnp5UFpGSkpLdHhnamVBTXhWUkY30gFsQVVfeXFMTk1BajBPdHBoSU1mMVZRM1E2SWU4N01HZHhDY0JMMDY3cVZ5NEYyOVpUZjlrVjdWamxSZHhkOUtuYVo0dkQ1TnZrQm5Ydkd2bWJfRTZTa2h3T1FRQnlyQ25QV1dQalJ0dTViMENr?oc=5)**  \\n   SKT가 AI 전략 투자를 늘리고 있으며, 이를 통해 경쟁력과 지분 가치를 모두 확보하고 있다는 내용입니다.\\n\\n2. **[이재명·이재용, \\'AI 인재 육성\\' 공감…“대기업 감당 어려운 투자는 국가가 함께 해야” - 전자신문](https://news.google.com/rss/articles/CBMiTkFVX3lxTE5EUUttaTNITVd4Y2ZPbzlmR0drWWx4TUF3NlpiV0s0X29PWk5vNVhQQ19IbnduNUdWYVFwakluVU52eEpObHktaW9RamU3Zw?oc=5)**  \\n   이재명과 이재용이 AI 인재 육성의 중요성에 대해 공감하며, 대기업이 감당하기 어려운 투자는 국가가 함께 해야 한다고 언급했습니다.\\n\\n3. **[이재명 \"안전성 담보되는 차원에서 정부가 AI투자 직접 참여해야\" - 네이트 뉴스](https://news.google.com/rss/articles/CBMiU0FVX3lxTE1EWFQySF9NRlItclQ0VXVHeGFwLVZFWHhIekx1bkdCbExOaklYWkxNM1cxOGJvQ2daUzRsODVGYUQ3TzdXYWlJT3NJNzNwNHFJMUFF?oc=5)**  \\n   이재명은 정부가 AI 투자에 직접 참여해야 한다고 주장하며, 안전성을 담보해야 한다고 강조했습니다.\\n\\n4. **[이재용 만난 이재명 \"정부, AI 지원에 그쳤다면 이제 투자 뛰어들어야\" - 머니투데이](https://news.google.com/rss/articles/CBMiZkFVX3lxTE1taEo5ZnRYeFBmYWlNeHdaMURXanFjXzV3RjBpV01ZSEJBR1VZSzM5YzNFajcyVnFQb3dJR1czRlBtbUhxWWxTTmxicTN2Wnhwdkxodnl4b1EwUWZrZXRhdnd2R2Zld9IBbkFVX3lxTE45QlNsdWNiQ0dHbEtMOS1TdzA2djViNS1jcVVONTZYMlE5NHJ0NF84aTFEME1kZWRxY0pzYmFXRFFTajl3UUlHLWZxV1pDN0tOakxybFZwSDRCSmktdHBldDZJa2lnSEZOZGRoQjdn?oc=5)**  \\n   이재명은 이재용과의 만남에서 정부가 AI 지원에 그쳤다면 이제는 투자에 뛰어들어야 한다고 말했습니다.\\n\\n5. **[강정수의 AI 투자전략] 최근 조정 받았던 뉴욕증시…진짜 바닥은 아직? - SBS Biz](https://news.google.com/rss/articles/CBMiU0FVX3lxTE9kRVRWQmNrOUZYQ2J3NzhFVmhyM1hxMENsSUFJTWF3VHBWMEhNYkF5aTMxN0ZXeHlJRW9ORXY3OEJuYTZ3VG1RZWNqbWxvWjU0SmxV0gFYQVVfeXFMT1JjQ2VRX01TYUdxZlhoaEVVQkNYLUZfeXlIaHF0S0M3UENQZUJyUGw5U0pfV3Bnb3BXTS1ZQk8yMV9jWDF2cjhDclY1dUU3TnhPU3hpemd1dA?oc=5)**  \\n   최근 뉴욕 증시의 조정과 관련하여 AI 투자 전략에 대한 분석이 담긴 기사입니다.\\n\\n이 기사들은 AI 투자에 대한 다양한 관점과 최근 동향을 다루고 있습니다.', 'messages': [AIMessage(content='다음은 AI 투자와 관련된 최근 뉴스 기사들입니다:\\n\\n1. **[AI 전략 투자\\' 늘리는 SKT, 경쟁력·지분가치 모두 잡는다 - 블로터](https://news.google.com/rss/articles/CBMiaEFVX3lxTFB3NzRrZ2JfU2dXV1lVSEtSSG96N2xlMDlURUh0T215UzE2MlQwMzNnSGZtQ0ZkOEhNdmlieUpPQmw4ZC1fNmw2RmJoRW9fT3h2bERVVnp5UFpGSkpLdHhnamVBTXhWUkY30gFsQVVfeXFMTk1BajBPdHBoSU1mMVZRM1E2SWU4N01HZHhDY0JMMDY3cVZ5NEYyOVpUZjlrVjdWamxSZHhkOUtuYVo0dkQ1TnZrQm5Ydkd2bWJfRTZTa2h3T1FRQnlyQ25QV1dQalJ0dTViMENr?oc=5)**  \\n   SKT가 AI 전략 투자를 늘리고 있으며, 이를 통해 경쟁력과 지분 가치를 모두 확보하고 있다는 내용입니다.\\n\\n2. **[이재명·이재용, \\'AI 인재 육성\\' 공감…“대기업 감당 어려운 투자는 국가가 함께 해야” - 전자신문](https://news.google.com/rss/articles/CBMiTkFVX3lxTE5EUUttaTNITVd4Y2ZPbzlmR0drWWx4TUF3NlpiV0s0X29PWk5vNVhQQ19IbnduNUdWYVFwakluVU52eEpObHktaW9RamU3Zw?oc=5)**  \\n   이재명과 이재용이 AI 인재 육성의 중요성에 대해 공감하며, 대기업이 감당하기 어려운 투자는 국가가 함께 해야 한다고 언급했습니다.\\n\\n3. **[이재명 \"안전성 담보되는 차원에서 정부가 AI투자 직접 참여해야\" - 네이트 뉴스](https://news.google.com/rss/articles/CBMiU0FVX3lxTE1EWFQySF9NRlItclQ0VXVHeGFwLVZFWHhIekx1bkdCbExOaklYWkxNM1cxOGJvQ2daUzRsODVGYUQ3TzdXYWlJT3NJNzNwNHFJMUFF?oc=5)**  \\n   이재명은 정부가 AI 투자에 직접 참여해야 한다고 주장하며, 안전성을 담보해야 한다고 강조했습니다.\\n\\n4. **[이재용 만난 이재명 \"정부, AI 지원에 그쳤다면 이제 투자 뛰어들어야\" - 머니투데이](https://news.google.com/rss/articles/CBMiZkFVX3lxTE1taEo5ZnRYeFBmYWlNeHdaMURXanFjXzV3RjBpV01ZSEJBR1VZSzM5YzNFajcyVnFQb3dJR1czRlBtbUhxWWxTTmxicTN2Wnhwdkxodnl4b1EwUWZrZXRhdnd2R2Zld9IBbkFVX3lxTE45QlNsdWNiQ0dHbEtMOS1TdzA2djViNS1jcVVONTZYMlE5NHJ0NF84aTFEME1kZWRxY0pzYmFXRFFTajl3UUlHLWZxV1pDN0tOakxybFZwSDRCSmktdHBldDZJa2lnSEZOZGRoQjdn?oc=5)**  \\n   이재명은 이재용과의 만남에서 정부가 AI 지원에 그쳤다면 이제는 투자에 뛰어들어야 한다고 말했습니다.\\n\\n5. **[강정수의 AI 투자전략] 최근 조정 받았던 뉴욕증시…진짜 바닥은 아직? - SBS Biz](https://news.google.com/rss/articles/CBMiU0FVX3lxTE9kRVRWQmNrOUZYQ2J3NzhFVmhyM1hxMENsSUFJTWF3VHBWMEhNYkF5aTMxN0ZXeHlJRW9ORXY3OEJuYTZ3VG1RZWNqbWxvWjU0SmxV0gFYQVVfeXFMT1JjQ2VRX01TYUdxZlhoaEVVQkNYLUZfeXlIaHF0S0M3UENQZUJyUGw5U0pfV3Bnb3BXTS1ZQk8yMV9jWDF2cjhDclY1dUU3TnhPU3hpemd1dA?oc=5)**  \\n   최근 뉴욕 증시의 조정과 관련하여 AI 투자 전략에 대한 분석이 담긴 기사입니다.\\n\\n이 기사들은 AI 투자에 대한 다양한 관점과 최근 동향을 다루고 있습니다.', additional_kwargs={}, response_metadata={})]}\n",
      "============================================================\n"
     ]
    }
   ],
   "source": [
    "# 스트리밍 모드로 실행합니다\n",
    "result = agent_executor.stream({\"input\": \"AI 투자와 관련된 뉴스를 검색해 주세요.\"})\n",
    "\n",
    "for step in result:\n",
    "    # 중간 단계 출력\n",
    "    print(step)\n",
    "    print(\"===\" * 20)"
   ]
  },
  {
   "cell_type": "markdown",
   "metadata": {},
   "source": [
    "### 중간 단계 출력을 사용자 정의 함수로 출력\n",
    "\n",
    "다음의 3개 함수를 정의하고 이를 통해 중간 단계 출력을 사용자 정의합니다.\n",
    "\n",
    "- `tool_callback`: 도구 호출 출력을 처리하는 함수\n",
    "- `observation_callback`: 관찰(Observation) 출력을 처리하는 함수\n",
    "- `result_callback`: 최종 답변 출력을 처리하는 함수"
   ]
  },
  {
   "cell_type": "code",
   "execution_count": 10,
   "metadata": {},
   "outputs": [],
   "source": [
    "# 업데이트\n",
    "# !pip install -U langchain-teddynote"
   ]
  },
  {
   "cell_type": "markdown",
   "metadata": {},
   "source": [
    "아래는 Agent 의 중간 단계 과정을 깔끔하게 출력하기 위하여 사용되는 콜백 함수입니다.\n",
    "\n",
    "이 콜백 함수는 Streamlit 에서 중간 단계를 출력하여 사용자에게 제공할 때 유용할 수 있습니다."
   ]
  },
  {
   "cell_type": "code",
   "execution_count": 9,
   "metadata": {},
   "outputs": [],
   "source": [
    "from langchain_teddynote.messages import AgentStreamParser\n",
    "\n",
    "agent_stream_parser = AgentStreamParser()"
   ]
  },
  {
   "cell_type": "markdown",
   "metadata": {},
   "source": [
    "스트리밍 방식으로 Agent 의 응답 과정을 확인합니다."
   ]
  },
  {
   "cell_type": "code",
   "execution_count": 10,
   "metadata": {},
   "outputs": [
    {
     "name": "stdout",
     "output_type": "stream",
     "text": [
      "\n",
      "\n",
      "\u001b[1m> Entering new None chain...\u001b[0m\n"
     ]
    },
    {
     "name": "stderr",
     "output_type": "stream",
     "text": [
      "Python REPL can execute arbitrary code. Use with caution.\n"
     ]
    },
    {
     "name": "stdout",
     "output_type": "stream",
     "text": [
      "[도구 호출]\n",
      "Tool: python_repl_tool\n",
      "code: import matplotlib.pyplot as plt\n",
      "\n",
      "# 데이터\n",
      "sizes = [15, 30, 45, 10]\n",
      "labels = ['A', 'B', 'C', 'D']\n",
      "colors = ['gold', 'lightcoral', 'lightskyblue', 'lightgreen']\n",
      "\n",
      "# 파이 차트 그리기\n",
      "plt.figure(figsize=(8, 6))\n",
      "plt.pie(sizes, labels=labels, colors=colors, autopct='%1.1f%%', startangle=140)\n",
      "plt.axis('equal')  # Equal aspect ratio ensures that pie is drawn as a circle.\n",
      "plt.title('Sample Pie Chart')\n",
      "\n",
      "# 차트 보여주기\n",
      "plt.show()\n",
      "Log: \n",
      "Invoking: `python_repl_tool` with `{'code': \"import matplotlib.pyplot as plt\\n\\n# 데이터\\nsizes = [15, 30, 45, 10]\\nlabels = ['A', 'B', 'C', 'D']\\ncolors = ['gold', 'lightcoral', 'lightskyblue', 'lightgreen']\\n\\n# 파이 차트 그리기\\nplt.figure(figsize=(8, 6))\\nplt.pie(sizes, labels=labels, colors=colors, autopct='%1.1f%%', startangle=140)\\nplt.axis('equal')  # Equal aspect ratio ensures that pie is drawn as a circle.\\nplt.title('Sample Pie Chart')\\n\\n# 차트 보여주기\\nplt.show()\"}`\n",
      "\n",
      "\n",
      "\n",
      "\u001b[32;1m\u001b[1;3m\n",
      "Invoking: `python_repl_tool` with `{'code': \"import matplotlib.pyplot as plt\\n\\n# 데이터\\nsizes = [15, 30, 45, 10]\\nlabels = ['A', 'B', 'C', 'D']\\ncolors = ['gold', 'lightcoral', 'lightskyblue', 'lightgreen']\\n\\n# 파이 차트 그리기\\nplt.figure(figsize=(8, 6))\\nplt.pie(sizes, labels=labels, colors=colors, autopct='%1.1f%%', startangle=140)\\nplt.axis('equal')  # Equal aspect ratio ensures that pie is drawn as a circle.\\nplt.title('Sample Pie Chart')\\n\\n# 차트 보여주기\\nplt.show()\"}`\n",
      "\n",
      "\n",
      "\u001b[0m"
     ]
    },
    {
     "data": {
      "image/png": "[encoded data removed]",
      "text/plain": [
       "<Figure size 800x600 with 1 Axes>"
      ]
     },
     "metadata": {},
     "output_type": "display_data"
    },
    {
     "name": "stdout",
     "output_type": "stream",
     "text": [
      "\u001b[33;1m\u001b[1;3m\u001b[0m[관찰 내용]\n",
      "Observation: \n",
      "\u001b[32;1m\u001b[1;3m파이 차트가 성공적으로 그려졌습니다. 차트에는 A, B, C, D의 네 가지 카테고리가 포함되어 있으며, 각 카테고리의 비율이 표시되어 있습니다. 차트의 제목은 \"Sample Pie Chart\"입니다. \n",
      "\n",
      "추가적으로 다른 차트를 원하시거나 다른 질문이 있으시면 말씀해 주세요!\u001b[0m\n",
      "\n",
      "\u001b[1m> Finished chain.\u001b[0m\n",
      "[최종 답변]\n",
      "파이 차트가 성공적으로 그려졌습니다. 차트에는 A, B, C, D의 네 가지 카테고리가 포함되어 있으며, 각 카테고리의 비율이 표시되어 있습니다. 차트의 제목은 \"Sample Pie Chart\"입니다. \n",
      "\n",
      "추가적으로 다른 차트를 원하시거나 다른 질문이 있으시면 말씀해 주세요!\n"
     ]
    }
   ],
   "source": [
    "# 질의에 대한 답변을 스트리밍으로 출력 요청\n",
    "result = agent_executor.stream(\n",
    "    {\"input\": \"matplotlib 을 사용하여 pie 차트를 그리는 코드를 작성하고 실행하세요.\"}\n",
    ")\n",
    "\n",
    "for step in result:\n",
    "    # 중간 단계를 parser 를 사용하여 단계별로 출력\n",
    "    # print(step)\n",
    "    agent_stream_parser.process_agent_steps(step)"
   ]
  },
  {
   "cell_type": "markdown",
   "metadata": {},
   "source": [
    "다음은 callback 을 수정하여 사용하는 방법입니다."
   ]
  },
  {
   "cell_type": "code",
   "execution_count": 11,
   "metadata": {},
   "outputs": [],
   "source": [
    "# AgentCallbacks와 AgentStreamParser를 langchain_teddynote.messages에서 가져옵니다.\n",
    "from langchain_teddynote.messages import AgentCallbacks, AgentStreamParser\n",
    "\n",
    "\n",
    "# 도구 호출 시 실행되는 콜백 함수입니다.\n",
    "def tool_callback(tool) -> None:\n",
    "    print(\"<<<<<<< 도구 호출 >>>>>>\")\n",
    "    print(f\"Tool: {tool.get('tool')}\")  # 사용된 도구의 이름을 출력합니다.\n",
    "    print(\"<<<<<<< 도구 호출 >>>>>>\")\n",
    "\n",
    "\n",
    "# 관찰 결과를 출력하는 콜백 함수입니다.\n",
    "def observation_callback(observation) -> None:\n",
    "    print(\"<<<<<<< 관찰 내용 >>>>>>\")\n",
    "    print(\n",
    "        f\"Observation: {observation.get('observation')[0]}\"\n",
    "    )  # 관찰 내용을 출력합니다.\n",
    "    print(\"<<<<<<< 관찰 내용 >>>>>>\")\n",
    "\n",
    "\n",
    "# 최종 결과를 출력하는 콜백 함수입니다.\n",
    "def result_callback(result: str) -> None:\n",
    "    print(\"<<<<<<< 최종 답변 >>>>>>\")\n",
    "    print(result)  # 최종 답변을 출력합니다.\n",
    "    print(\"<<<<<<< 최종 답변 >>>>>>\")\n",
    "\n",
    "\n",
    "# AgentCallbacks 객체를 생성하여 각 단계별 콜백 함수를 설정합니다.\n",
    "agent_callbacks = AgentCallbacks(\n",
    "    tool_callback=tool_callback,\n",
    "    observation_callback=observation_callback,\n",
    "    result_callback=result_callback,\n",
    ")\n",
    "\n",
    "# AgentStreamParser 객체를 생성하여 에이전트의 실행 과정을 파싱합니다.\n",
    "agent_stream_parser = AgentStreamParser(agent_callbacks)"
   ]
  },
  {
   "cell_type": "markdown",
   "metadata": {},
   "source": [
    "아래의 출력 내용을 확인해 보면 중간 내용의 출력 값이 내가 변경한 콜백 함수의 출력 값으로 변경된 것을 확인할 수 있습니다."
   ]
  },
  {
   "cell_type": "code",
   "execution_count": 12,
   "metadata": {},
   "outputs": [
    {
     "name": "stdout",
     "output_type": "stream",
     "text": [
      "\n",
      "\n",
      "\u001b[1m> Entering new None chain...\u001b[0m\n",
      "<<<<<<< 도구 호출 >>>>>>\n",
      "Tool: search_news\n",
      "<<<<<<< 도구 호출 >>>>>>\n",
      "\u001b[32;1m\u001b[1;3m\n",
      "Invoking: `search_news` with `{'query': 'AI 투자'}`\n",
      "\n",
      "\n",
      "\u001b[0m\u001b[36;1m\u001b[1;3m[{'url': 'https://news.google.com/rss/articles/CBMiaEFVX3lxTFB3NzRrZ2JfU2dXV1lVSEtSSG96N2xlMDlURUh0T215UzE2MlQwMzNnSGZtQ0ZkOEhNdmlieUpPQmw4ZC1fNmw2RmJoRW9fT3h2bERVVnp5UFpGSkpLdHhnamVBTXhWUkY30gFsQVVfeXFMTk1BajBPdHBoSU1mMVZRM1E2SWU4N01HZHhDY0JMMDY3cVZ5NEYyOVpUZjlrVjdWamxSZHhkOUtuYVo0dkQ1TnZrQm5Ydkd2bWJfRTZTa2h3T1FRQnlyQ25QV1dQalJ0dTViMENr?oc=5', 'content': \"'AI 전략 투자' 늘리는 SKT, 경쟁력·지분가치 모두 잡는다 - 블로터\"}, {'url': 'https://news.google.com/rss/articles/CBMiTkFVX3lxTE5EUUttaTNITVd4Y2ZPbzlmR0drWWx4TUF3NlpiV0s0X29PWk5vNVhQQ19IbnduNUdWYVFwakluVU52eEpObHktaW9RamU3Zw?oc=5', 'content': \"이재명·이재용, 'AI 인재 육성' 공감…“대기업 감당 어려운 투자는 국가가 함께 해야” - 전자신문\"}, {'url': 'https://news.google.com/rss/articles/CBMiU0FVX3lxTE1EWFQySF9NRlItclQ0VXVHeGFwLVZFWHhIekx1bkdCbExOaklYWkxNM1cxOGJvQ2daUzRsODVGYUQ3TzdXYWlJT3NJNzNwNHFJMUFF?oc=5', 'content': '이재명 \"안전성 담보되는 차원에서 정부가 AI투자 직접 참여해야\" - 네이트 뉴스'}, {'url': 'https://news.google.com/rss/articles/CBMiZkFVX3lxTE1taEo5ZnRYeFBmYWlNeHdaMURXanFjXzV3RjBpV01ZSEJBR1VZSzM5YzNFajcyVnFQb3dJR1czRlBtbUhxWWxTTmxicTN2Wnhwdkxodnl4b1EwUWZrZXRhdnd2R2Zld9IBbkFVX3lxTE45QlNsdWNiQ0dHbEtMOS1TdzA2djViNS1jcVVONTZYMlE5NHJ0NF84aTFEME1kZWRxY0pzYmFXRFFTajl3UUlHLWZxV1pDN0tOakxybFZwSDRCSmktdHBldDZJa2lnSEZOZGRoQjdn?oc=5', 'content': '이재용 만난 이재명 \"정부, AI 지원에 그쳤다면 이제 투자 뛰어들어야\" - 머니투데이'}, {'url': 'https://news.google.com/rss/articles/CBMiU0FVX3lxTE9kRVRWQmNrOUZYQ2J3NzhFVmhyM1hxMENsSUFJTWF3VHBWMEhNYkF5aTMxN0ZXeHlJRW9ORXY3OEJuYTZ3VG1RZWNqbWxvWjU0SmxV0gFYQVVfeXFMT1JjQ2VRX01TYUdxZlhoaEVVQkNYLUZfeXlIaHF0S0M3UENQZUJyUGw5U0pfV3Bnb3BXTS1ZQk8yMV9jWDF2cjhDclY1dUU3TnhPU3hpemd1dA?oc=5', 'content': '[강정수의 AI 투자전략] 최근 조정 받았던 뉴욕증시…진짜 바닥은 아직? - SBS Biz'}]\u001b[0m<<<<<<< 관찰 내용 >>>>>>\n",
      "Observation: {'url': 'https://news.google.com/rss/articles/CBMiaEFVX3lxTFB3NzRrZ2JfU2dXV1lVSEtSSG96N2xlMDlURUh0T215UzE2MlQwMzNnSGZtQ0ZkOEhNdmlieUpPQmw4ZC1fNmw2RmJoRW9fT3h2bERVVnp5UFpGSkpLdHhnamVBTXhWUkY30gFsQVVfeXFMTk1BajBPdHBoSU1mMVZRM1E2SWU4N01HZHhDY0JMMDY3cVZ5NEYyOVpUZjlrVjdWamxSZHhkOUtuYVo0dkQ1TnZrQm5Ydkd2bWJfRTZTa2h3T1FRQnlyQ25QV1dQalJ0dTViMENr?oc=5', 'content': \"'AI 전략 투자' 늘리는 SKT, 경쟁력·지분가치 모두 잡는다 - 블로터\"}\n",
      "<<<<<<< 관찰 내용 >>>>>>\n",
      "\u001b[32;1m\u001b[1;3m다음은 AI 투자와 관련된 최근 뉴스 기사들입니다:\n",
      "\n",
      "1. **[AI 전략 투자' 늘리는 SKT, 경쟁력·지분가치 모두 잡는다 - 블로터](https://news.google.com/rss/articles/CBMiaEFVX3lxTFB3NzRrZ2JfU2dXV1lVSEtSSG96N2xlMDlURUh0T215UzE2MlQwMzNnSGZtQ0ZkOEhNdmlieUpPQmw4ZC1fNmw2RmJoRW9fT3h2bERVVnp5UFpGSkpLdHhnamVBTXhWUkY30gFsQVVfeXFMTk1BajBPdHBoSU1mMVZRM1E2SWU4N01HZHhDY0JMMDY3cVZ5NEYyOVpUZjlrVjdWamxSZHhkOUtuYVo0dkQ1TnZrQm5Ydkd2bWJfRTZTa2h3T1FRQnlyQ25QV1dQalJ0dTViMENr?oc=5)**  \n",
      "   SKT가 AI 전략 투자를 늘리며 경쟁력과 지분 가치를 동시에 확보하고 있다는 내용입니다.\n",
      "\n",
      "2. **[이재명·이재용, 'AI 인재 육성' 공감…“대기업 감당 어려운 투자는 국가가 함께 해야” - 전자신문](https://news.google.com/rss/articles/CBMiTkFVX3lxTE5EUUttaTNITVd4Y2ZPbzlmR0drWWx4TUF3NlpiV0s0X29PWk5vNVhQQ19IbnduNUdWYVFwakluVU52eEpObHktaW9RamU3Zw?oc=5)**  \n",
      "   이재명과 이재용이 AI 인재 육성의 중요성에 대해 논의하며, 대기업이 감당하기 어려운 투자는 국가가 함께 해야 한다고 강조했습니다.\n",
      "\n",
      "3. **[이재명 \"안전성 담보되는 차원에서 정부가 AI투자 직접 참여해야\" - 네이트 뉴스](https://news.google.com/rss/articles/CBMiU0FVX3lxTE1EWFQySF9NRlItclQ0VXVHeGFwLVZFWHhIekx1bkdCbExOaklYWkxNM1cxOGJvQ2daUzRsODVGYUQ3TzdXYWlJT3NJNzNwNHFJMUFF?oc=5)**  \n",
      "   이재명은 정부가 AI 투자에 직접 참여해야 한다고 주장했습니다.\n",
      "\n",
      "4. **[이재용 만난 이재명 \"정부, AI 지원에 그쳤다면 이제 투자 뛰어들어야\" - 머니투데이](https://news.google.com/rss/articles/CBMiZkFVX3lxTE1taEo5ZnRYeFBmYWlNeHdaMURXanFjXzV3RjBpV01ZSEJBR1VZSzM5YzNFajcyVnFQb3dJR1czRlBtbUhxWWxTTmxicTN2Wnhwdkxodnl4b1EwUWZrZXRhdnd2R2Zld9IBbkFVX3lxTE45QlNsdWNiQ0dHbEtMOS1TdzA2djViNS1jcVVONTZYMlE5NHJ0NF84aTFEME1kZWRxY0pzYmFXRFFTajl3UUlHLWZxV1pDN0tOakxybFZwSDRCSmktdHBldDZJa2lnSEZOZGRoQjdn?oc=5)**  \n",
      "   이재명은 이재용과의 만남에서 정부가 AI 지원에 그쳤다면 이제는 투자에 뛰어들어야 한다고 말했습니다.\n",
      "\n",
      "5. **[강정수의 AI 투자전략] 최근 조정 받았던 뉴욕증시…진짜 바닥은 아직? - SBS Biz](https://news.google.com/rss/articles/CBMiU0FVX3lxTE9kRVRWQmNrOUZYQ2J3NzhFVmhyM1hxMENsSUFJTWF3VHBWMEhNYkF5aTMxN0ZXeHlJRW9ORXY3OEJuYTZ3VG1RZWNqbWxvWjU0SmxV0gFYQVVfeXFMT1JjQ2VRX01TYUdxZlhoaEVVQkNYLUZfeXlIaHF0S0M3UENQZUJyUGw5U0pfV3Bnb3BXTS1ZQk8yMV9jWDF2cjhDclY1dUU3TnhPU3hpemd1dA?oc=5)**  \n",
      "   최근 뉴욕 증시의 조정과 관련된 AI 투자 전략에 대한 분석입니다.\n",
      "\n",
      "이 기사를 통해 AI 투자에 대한 다양한 시각과 의견을 확인할 수 있습니다.\u001b[0m\n",
      "\n",
      "\u001b[1m> Finished chain.\u001b[0m\n",
      "<<<<<<< 최종 답변 >>>>>>\n",
      "다음은 AI 투자와 관련된 최근 뉴스 기사들입니다:\n",
      "\n",
      "1. **[AI 전략 투자' 늘리는 SKT, 경쟁력·지분가치 모두 잡는다 - 블로터](https://news.google.com/rss/articles/CBMiaEFVX3lxTFB3NzRrZ2JfU2dXV1lVSEtSSG96N2xlMDlURUh0T215UzE2MlQwMzNnSGZtQ0ZkOEhNdmlieUpPQmw4ZC1fNmw2RmJoRW9fT3h2bERVVnp5UFpGSkpLdHhnamVBTXhWUkY30gFsQVVfeXFMTk1BajBPdHBoSU1mMVZRM1E2SWU4N01HZHhDY0JMMDY3cVZ5NEYyOVpUZjlrVjdWamxSZHhkOUtuYVo0dkQ1TnZrQm5Ydkd2bWJfRTZTa2h3T1FRQnlyQ25QV1dQalJ0dTViMENr?oc=5)**  \n",
      "   SKT가 AI 전략 투자를 늘리며 경쟁력과 지분 가치를 동시에 확보하고 있다는 내용입니다.\n",
      "\n",
      "2. **[이재명·이재용, 'AI 인재 육성' 공감…“대기업 감당 어려운 투자는 국가가 함께 해야” - 전자신문](https://news.google.com/rss/articles/CBMiTkFVX3lxTE5EUUttaTNITVd4Y2ZPbzlmR0drWWx4TUF3NlpiV0s0X29PWk5vNVhQQ19IbnduNUdWYVFwakluVU52eEpObHktaW9RamU3Zw?oc=5)**  \n",
      "   이재명과 이재용이 AI 인재 육성의 중요성에 대해 논의하며, 대기업이 감당하기 어려운 투자는 국가가 함께 해야 한다고 강조했습니다.\n",
      "\n",
      "3. **[이재명 \"안전성 담보되는 차원에서 정부가 AI투자 직접 참여해야\" - 네이트 뉴스](https://news.google.com/rss/articles/CBMiU0FVX3lxTE1EWFQySF9NRlItclQ0VXVHeGFwLVZFWHhIekx1bkdCbExOaklYWkxNM1cxOGJvQ2daUzRsODVGYUQ3TzdXYWlJT3NJNzNwNHFJMUFF?oc=5)**  \n",
      "   이재명은 정부가 AI 투자에 직접 참여해야 한다고 주장했습니다.\n",
      "\n",
      "4. **[이재용 만난 이재명 \"정부, AI 지원에 그쳤다면 이제 투자 뛰어들어야\" - 머니투데이](https://news.google.com/rss/articles/CBMiZkFVX3lxTE1taEo5ZnRYeFBmYWlNeHdaMURXanFjXzV3RjBpV01ZSEJBR1VZSzM5YzNFajcyVnFQb3dJR1czRlBtbUhxWWxTTmxicTN2Wnhwdkxodnl4b1EwUWZrZXRhdnd2R2Zld9IBbkFVX3lxTE45QlNsdWNiQ0dHbEtMOS1TdzA2djViNS1jcVVONTZYMlE5NHJ0NF84aTFEME1kZWRxY0pzYmFXRFFTajl3UUlHLWZxV1pDN0tOakxybFZwSDRCSmktdHBldDZJa2lnSEZOZGRoQjdn?oc=5)**  \n",
      "   이재명은 이재용과의 만남에서 정부가 AI 지원에 그쳤다면 이제는 투자에 뛰어들어야 한다고 말했습니다.\n",
      "\n",
      "5. **[강정수의 AI 투자전략] 최근 조정 받았던 뉴욕증시…진짜 바닥은 아직? - SBS Biz](https://news.google.com/rss/articles/CBMiU0FVX3lxTE9kRVRWQmNrOUZYQ2J3NzhFVmhyM1hxMENsSUFJTWF3VHBWMEhNYkF5aTMxN0ZXeHlJRW9ORXY3OEJuYTZ3VG1RZWNqbWxvWjU0SmxV0gFYQVVfeXFMT1JjQ2VRX01TYUdxZlhoaEVVQkNYLUZfeXlIaHF0S0M3UENQZUJyUGw5U0pfV3Bnb3BXTS1ZQk8yMV9jWDF2cjhDclY1dUU3TnhPU3hpemd1dA?oc=5)**  \n",
      "   최근 뉴욕 증시의 조정과 관련된 AI 투자 전략에 대한 분석입니다.\n",
      "\n",
      "이 기사를 통해 AI 투자에 대한 다양한 시각과 의견을 확인할 수 있습니다.\n",
      "<<<<<<< 최종 답변 >>>>>>\n"
     ]
    }
   ],
   "source": [
    "# 질의에 대한 답변을 스트리밍으로 출력 요청\n",
    "result = agent_executor.stream({\"input\": \"AI 투자관련 뉴스를 검색해 주세요.\"})\n",
    "\n",
    "for step in result:\n",
    "    # 중간 단계를 parser 를 사용하여 단계별로 출력\n",
    "    agent_stream_parser.process_agent_steps(step)"
   ]
  },
  {
   "cell_type": "markdown",
   "metadata": {},
   "source": [
    "## 이전 대화내용 기억하는 Agent\n",
    "\n",
    "이전의 대화내용을 기억하기 위해서는 `RunnableWithMessageHistory` 를 사용하여 `AgentExecutor` 를 감싸줍니다.\n",
    "\n",
    "`RunnableWithMessageHistory` 에 대한 자세한 내용은 아래 링크를 참고해 주세요.\n",
    "\n",
    "**참고**\n",
    "- [RunnableWithMessageHistory](https://wikidocs.net/254682)"
   ]
  },
  {
   "cell_type": "code",
   "execution_count": 14,
   "metadata": {},
   "outputs": [],
   "source": [
    "from langchain_community.chat_message_histories import ChatMessageHistory\n",
    "from langchain_core.runnables.history import RunnableWithMessageHistory\n",
    "\n",
    "# session_id 를 저장할 딕셔너리 생성\n",
    "store = {}\n",
    "\n",
    "\n",
    "# session_id 를 기반으로 세션 기록을 가져오는 함수\n",
    "def get_session_history(session_ids):\n",
    "    if session_ids not in store:  # session_id 가 store에 없는 경우\n",
    "        # 새로운 ChatMessageHistory 객체를 생성하여 store에 저장\n",
    "        store[session_ids] = ChatMessageHistory()\n",
    "    return store[session_ids]  # 해당 세션 ID에 대한 세션 기록 반환\n",
    "\n",
    "\n",
    "# 채팅 메시지 기록이 추가된 에이전트를 생성합니다.\n",
    "agent_with_chat_history = RunnableWithMessageHistory(\n",
    "    agent_executor,\n",
    "    # 대화 session_id\n",
    "    get_session_history,\n",
    "    # 프롬프트의 질문이 입력되는 key: \"input\"\n",
    "    input_messages_key=\"input\",\n",
    "    # 프롬프트의 메시지가 입력되는 key: \"chat_history\"\n",
    "    history_messages_key=\"chat_history\",\n",
    ")"
   ]
  },
  {
   "cell_type": "code",
   "execution_count": 15,
   "metadata": {},
   "outputs": [
    {
     "name": "stdout",
     "output_type": "stream",
     "text": [
      "\n",
      "\n",
      "\u001b[1m> Entering new None chain...\u001b[0m\n",
      "\u001b[32;1m\u001b[1;3m안녕하세요, 테디님! 어떻게 도와드릴까요?\u001b[0m\n",
      "\n",
      "\u001b[1m> Finished chain.\u001b[0m\n",
      "<<<<<<< 최종 답변 >>>>>>\n",
      "안녕하세요, 테디님! 어떻게 도와드릴까요?\n",
      "<<<<<<< 최종 답변 >>>>>>\n"
     ]
    }
   ],
   "source": [
    "# 질의에 대한 답변을 스트리밍으로 출력 요청\n",
    "response = agent_with_chat_history.stream(\n",
    "    {\"input\": \"안녕? 내 이름은 테디야!\"},\n",
    "    # session_id 설정\n",
    "    config={\"configurable\": {\"session_id\": \"abc123\"}},\n",
    ")\n",
    "\n",
    "# 출력 확인\n",
    "for step in response:\n",
    "    agent_stream_parser.process_agent_steps(step)"
   ]
  },
  {
   "cell_type": "code",
   "execution_count": 16,
   "metadata": {},
   "outputs": [
    {
     "name": "stdout",
     "output_type": "stream",
     "text": [
      "\n",
      "\n",
      "\u001b[1m> Entering new None chain...\u001b[0m\n",
      "\u001b[32;1m\u001b[1;3m당신의 이름은 테디입니다!\u001b[0m\n",
      "\n",
      "\u001b[1m> Finished chain.\u001b[0m\n",
      "<<<<<<< 최종 답변 >>>>>>\n",
      "당신의 이름은 테디입니다!\n",
      "<<<<<<< 최종 답변 >>>>>>\n"
     ]
    }
   ],
   "source": [
    "# 질의에 대한 답변을 스트리밍으로 출력 요청\n",
    "response = agent_with_chat_history.stream(\n",
    "    {\"input\": \"내 이름이 뭐라고?\"},\n",
    "    # session_id 설정\n",
    "    config={\"configurable\": {\"session_id\": \"abc123\"}},\n",
    ")\n",
    "\n",
    "# 출력 확인\n",
    "for step in response:\n",
    "    agent_stream_parser.process_agent_steps(step)"
   ]
  },
  {
   "cell_type": "code",
   "execution_count": 17,
   "metadata": {},
   "outputs": [
    {
     "name": "stdout",
     "output_type": "stream",
     "text": [
      "\n",
      "\n",
      "\u001b[1m> Entering new None chain...\u001b[0m\n",
      "\u001b[32;1m\u001b[1;3m감사합니다, 테디님! 테디노트 주식회사에 대해 궁금한 점이 있으신가요? 아니면 다른 도움이 필요하신가요?\u001b[0m\n",
      "\n",
      "\u001b[1m> Finished chain.\u001b[0m\n",
      "<<<<<<< 최종 답변 >>>>>>\n",
      "감사합니다, 테디님! 테디노트 주식회사에 대해 궁금한 점이 있으신가요? 아니면 다른 도움이 필요하신가요?\n",
      "<<<<<<< 최종 답변 >>>>>>\n"
     ]
    }
   ],
   "source": [
    "# 질의에 대한 답변을 스트리밍으로 출력 요청\n",
    "response = agent_with_chat_history.stream(\n",
    "    {\n",
    "        \"input\": \"내 이메일 주소는 teddy@teddynote.com 이야. 회사 이름은 테디노트 주식회사야.\"\n",
    "    },\n",
    "    # session_id 설정\n",
    "    config={\"configurable\": {\"session_id\": \"abc123\"}},\n",
    ")\n",
    "\n",
    "# 출력 확인\n",
    "for step in response:\n",
    "    agent_stream_parser.process_agent_steps(step)"
   ]
  },
  {
   "cell_type": "code",
   "execution_count": 18,
   "metadata": {},
   "outputs": [
    {
     "name": "stdout",
     "output_type": "stream",
     "text": [
      "\n",
      "\n",
      "\u001b[1m> Entering new None chain...\u001b[0m\n",
      "<<<<<<< 도구 호출 >>>>>>\n",
      "Tool: search_news\n",
      "<<<<<<< 도구 호출 >>>>>>\n",
      "\u001b[32;1m\u001b[1;3m\n",
      "Invoking: `search_news` with `{'query': '최신 뉴스'}`\n",
      "\n",
      "\n",
      "\u001b[0m\u001b[36;1m\u001b[1;3m[{'url': 'https://news.google.com/rss/articles/CBMiX0FVX3lxTE0wVk1xdEdKWTRTT2pkQzVDOVk0UkFucHBxdHpHMzFvQ1NiLUdLQjBsZTctV3A4MmtxSFotTGN4bUthbjU2SzFKc0Zrel9oVGhfNG10OWVrU0VISk45NEpv?oc=5', 'content': '에이수스, GTC 2025에서 최신 AI POD 공개 - 뉴스와이어'}, {'url': 'https://news.google.com/rss/articles/CBMiYEFVX3lxTE84UHlaRGRJWDZ4b1d1NFRhRGpsVzFFd2dYaTVRZE9MQWI3ZW90TjBPSHo2bWpHSnlsTjRmQ0lRTWMtRjhQa1VWbjZLcnppdEg4alRKWFpXMVpZcm9Xck9ibdIBYEFVX3lxTE84UHlaRGRJWDZ4b1d1NFRhRGpsVzFFd2dYaTVRZE9MQWI3ZW90TjBPSHo2bWpHSnlsTjRmQ0lRTWMtRjhQa1VWbjZLcnppdEg4alRKWFpXMVpZcm9Xck9ibQ?oc=5', 'content': '북 \"최신 반항공미사일 시험발사 성공\"…김정은 참관 - 연합뉴스'}, {'url': 'https://news.google.com/rss/articles/CBMiZ0FVX3lxTE1oWThlTV9MMUFwbTFjQlNyMkh2bUZLRjZvcE41RUhfR2Rwa1lhU2FLUWpHVGQyYmNwZ29TY2hyU0o4d2xkS0pGYjBOaDNmcGdFTi1CXzBlZ0VsUVo3cDJYQmNUSTRySjQ?oc=5', 'content': '북 \"최신 반항공미사일 시험발사 성공\"…김정은 참관 - 연합뉴스TV'}, {'url': 'https://news.google.com/rss/articles/CBMibEFVX3lxTE02VWR3d0JVZjMtMXNjbWFMZ0RxQ01TRWc4eXZ4bGNITGZGbk9CLVlWd0FZMTRJTHhPRGhxREFnNjNXTWRsZjVScUtuSm5iOEFiRVFPeWtWVUVKVW84ckp1Sng4TWt4MWt3NHJEdw?oc=5', 'content': '밸로프, 라스트오리진 대만 정식 출시 - 플레이포럼'}, {'url': 'https://news.google.com/rss/articles/CBMieEFVX3lxTFA1SmJvdW9oM0Q3XzhNVG1RRWVaa2N5VjJkY2NUWVozZWM1Q3hOWkNiTWx5eVZHNkFJc3lHT01KNE1oWUdyNlpBRFRpZHJNMkl0ZHBnaXczRDM0Xy1yb0FXWmNJRDhBRVFmN0RxQUhOcWI4N1BrOElXeQ?oc=5', 'content': '북 \"최신 반항공미사일 시험발사 성공\"…김정은 참관 - 연합뉴스'}]\u001b[0m<<<<<<< 관찰 내용 >>>>>>\n",
      "Observation: {'url': 'https://news.google.com/rss/articles/CBMiX0FVX3lxTE0wVk1xdEdKWTRTT2pkQzVDOVk0UkFucHBxdHpHMzFvQ1NiLUdLQjBsZTctV3A4MmtxSFotTGN4bUthbjU2SzFKc0Zrel9oVGhfNG10OWVrU0VISk45NEpv?oc=5', 'content': '에이수스, GTC 2025에서 최신 AI POD 공개 - 뉴스와이어'}\n",
      "<<<<<<< 관찰 내용 >>>>>>\n",
      "\u001b[32;1m\u001b[1;3m아래는 셜리 상무님께 보낼 이메일 본문입니다.\n",
      "\n",
      "---\n",
      "\n",
      "제목: 최신 뉴스 업데이트\n",
      "\n",
      "안녕하세요, 셜리 상무님.\n",
      "\n",
      "최근의 주요 뉴스들을 아래와 같이 정리하였습니다. 확인해 주시기 바랍니다.\n",
      "\n",
      "1. **에이수스, GTC 2025에서 최신 AI POD 공개**  \n",
      "   [자세히 보기](https://news.google.com/rss/articles/CBMiX0FVX3lxTE0wVk1xdEdKWTRTT2pkQzVDOVk0UkFucHBxdHpHMzFvQ1NiLUdLQjBsZTctV3A4MmtxSFotTGN4bUthbjU2SzFKc0Zrel9oVGhfNG10OWVrU0VISk45NEpv?oc=5)\n",
      "\n",
      "2. **북 \"최신 반항공미사일 시험발사 성공\"…김정은 참관**  \n",
      "   [자세히 보기](https://news.google.com/rss/articles/CBMiYEFVX3lxTE84UHlaRGRJWDZ4b1d1NFRhRGpsVzFFd2dYaTVRZE9MQWI3ZW90TjBPSHo2bWpHSnlsTjRmQ0lRTWMtRjhQa1VWbjZLcnppdEg4alRKWFpXMVpZcm9Xck9ibdIBYEFVX3lxTE84UHlaRGRJWDZ4b1d1NFRhRGpsVzFFd2dYaTVRZE9MQWI3ZW90TjBPSHo2bWpHSnlsTjRmQ0lRTWMtRjhQa1VWbjZLcnppdEg4alRKWFpXMVpZcm9Xck9ibQ?oc=5)\n",
      "\n",
      "3. **북 \"최신 반항공미사일 시험발사 성공\"…김정은 참관**  \n",
      "   [자세히 보기](https://news.google.com/rss/articles/CBMiZ0FVX3lxTE1oWThlTV9MMUFwbTFjQlNyMkh2bUZLRjZvcE41RUhfR2Rwa1lhU2FLUWpHVGQyYmNwZ29TY2hyU0o4d2xkS0pGYjBOaDNmcGdFTi1CXzBlZ0VsUVo3cDJYQmNUSTRySjQ?oc=5)\n",
      "\n",
      "4. **밸로프, 라스트오리진 대만 정식 출시**  \n",
      "   [자세히 보기](https://news.google.com/rss/articles/CBMibEFVX3lxTE02VWR3d0JVZjMtMXNjbWFMZ0RxQ01TRWc4eXZ4bGNITGZGbk9CLVlWd0FZMTRJTHhPRGhxREFnNjNXTWRsZjVScUtuSm5iOEFiRVFPeWtWVUVKVW84ckp1Sng4TWt4MWt3NHJEdw?oc=5)\n",
      "\n",
      "5. **북 \"최신 반항공미사일 시험발사 성공\"…김정은 참관**  \n",
      "   [자세히 보기](https://news.google.com/rss/articles/CBMieEFVX3lxTFA1SmJvdW9oM0Q3XzhNVG1RRWVaa2N5VjJkY2NUWVozZWM1Q3hOWkNiTWx5eVZHNkFJc3lHT01KNE1oWUdyNlpBRFRpZHJNMkl0ZHBnaXczRDM0Xy1yb0FXWmNJRDhBRVFmN0RxQUhOcWI4N1BrOElXeQ?oc=5)\n",
      "\n",
      "이 뉴스들이 상무님께 도움이 되길 바랍니다. 추가적인 정보가 필요하시거나 궁금한 점이 있으시면 언제든지 말씀해 주세요.\n",
      "\n",
      "감사합니다.\n",
      "\n",
      "테디  \n",
      "teddy@teddynote.com  \n",
      "테디노트 주식회사\n",
      "\n",
      "--- \n",
      "\n",
      "이메일을 보내실 준비가 되셨나요? 추가로 수정할 부분이 있으면 말씀해 주세요!\u001b[0m\n",
      "\n",
      "\u001b[1m> Finished chain.\u001b[0m\n",
      "<<<<<<< 최종 답변 >>>>>>\n",
      "아래는 셜리 상무님께 보낼 이메일 본문입니다.\n",
      "\n",
      "---\n",
      "\n",
      "제목: 최신 뉴스 업데이트\n",
      "\n",
      "안녕하세요, 셜리 상무님.\n",
      "\n",
      "최근의 주요 뉴스들을 아래와 같이 정리하였습니다. 확인해 주시기 바랍니다.\n",
      "\n",
      "1. **에이수스, GTC 2025에서 최신 AI POD 공개**  \n",
      "   [자세히 보기](https://news.google.com/rss/articles/CBMiX0FVX3lxTE0wVk1xdEdKWTRTT2pkQzVDOVk0UkFucHBxdHpHMzFvQ1NiLUdLQjBsZTctV3A4MmtxSFotTGN4bUthbjU2SzFKc0Zrel9oVGhfNG10OWVrU0VISk45NEpv?oc=5)\n",
      "\n",
      "2. **북 \"최신 반항공미사일 시험발사 성공\"…김정은 참관**  \n",
      "   [자세히 보기](https://news.google.com/rss/articles/CBMiYEFVX3lxTE84UHlaRGRJWDZ4b1d1NFRhRGpsVzFFd2dYaTVRZE9MQWI3ZW90TjBPSHo2bWpHSnlsTjRmQ0lRTWMtRjhQa1VWbjZLcnppdEg4alRKWFpXMVpZcm9Xck9ibdIBYEFVX3lxTE84UHlaRGRJWDZ4b1d1NFRhRGpsVzFFd2dYaTVRZE9MQWI3ZW90TjBPSHo2bWpHSnlsTjRmQ0lRTWMtRjhQa1VWbjZLcnppdEg4alRKWFpXMVpZcm9Xck9ibQ?oc=5)\n",
      "\n",
      "3. **북 \"최신 반항공미사일 시험발사 성공\"…김정은 참관**  \n",
      "   [자세히 보기](https://news.google.com/rss/articles/CBMiZ0FVX3lxTE1oWThlTV9MMUFwbTFjQlNyMkh2bUZLRjZvcE41RUhfR2Rwa1lhU2FLUWpHVGQyYmNwZ29TY2hyU0o4d2xkS0pGYjBOaDNmcGdFTi1CXzBlZ0VsUVo3cDJYQmNUSTRySjQ?oc=5)\n",
      "\n",
      "4. **밸로프, 라스트오리진 대만 정식 출시**  \n",
      "   [자세히 보기](https://news.google.com/rss/articles/CBMibEFVX3lxTE02VWR3d0JVZjMtMXNjbWFMZ0RxQ01TRWc4eXZ4bGNITGZGbk9CLVlWd0FZMTRJTHhPRGhxREFnNjNXTWRsZjVScUtuSm5iOEFiRVFPeWtWVUVKVW84ckp1Sng4TWt4MWt3NHJEdw?oc=5)\n",
      "\n",
      "5. **북 \"최신 반항공미사일 시험발사 성공\"…김정은 참관**  \n",
      "   [자세히 보기](https://news.google.com/rss/articles/CBMieEFVX3lxTFA1SmJvdW9oM0Q3XzhNVG1RRWVaa2N5VjJkY2NUWVozZWM1Q3hOWkNiTWx5eVZHNkFJc3lHT01KNE1oWUdyNlpBRFRpZHJNMkl0ZHBnaXczRDM0Xy1yb0FXWmNJRDhBRVFmN0RxQUhOcWI4N1BrOElXeQ?oc=5)\n",
      "\n",
      "이 뉴스들이 상무님께 도움이 되길 바랍니다. 추가적인 정보가 필요하시거나 궁금한 점이 있으시면 언제든지 말씀해 주세요.\n",
      "\n",
      "감사합니다.\n",
      "\n",
      "테디  \n",
      "teddy@teddynote.com  \n",
      "테디노트 주식회사\n",
      "\n",
      "--- \n",
      "\n",
      "이메일을 보내실 준비가 되셨나요? 추가로 수정할 부분이 있으면 말씀해 주세요!\n",
      "<<<<<<< 최종 답변 >>>>>>\n"
     ]
    }
   ],
   "source": [
    "# 질의에 대한 답변을 스트리밍으로 출력 요청\n",
    "response = agent_with_chat_history.stream(\n",
    "    {\n",
    "        \"input\": \"최신 뉴스 5개를 검색해서 이메일의 본문으로 작성해줘. \"\n",
    "        \"수신인에는 `셜리 상무님` 그리고, 발신인에는 내 인적정보를 적어줘.\"\n",
    "        \"정중한 어조로 작성하고, 메일의 시작과 끝에는 적절한 인사말과 맺음말을 적어줘.\"\n",
    "    },\n",
    "    # session_id 설정\n",
    "    config={\"configurable\": {\"session_id\": \"abc123\"}},\n",
    ")\n",
    "\n",
    "# 출력 확인\n",
    "for step in response:\n",
    "    agent_stream_parser.process_agent_steps(step)"
   ]
  },
  {
   "cell_type": "code",
   "execution_count": 19,
   "metadata": {},
   "outputs": [
    {
     "name": "stdout",
     "output_type": "stream",
     "text": [
      "\n",
      "\n",
      "\u001b[1m> Entering new None chain...\u001b[0m\n",
      "\u001b[32;1m\u001b[1;3m죄송하지만, 당신의 이름을 알 수 있는 정보가 없습니다. 당신의 이름을 알려주시면 좋겠습니다!\u001b[0m\n",
      "\n",
      "\u001b[1m> Finished chain.\u001b[0m\n",
      "<<<<<<< 최종 답변 >>>>>>\n",
      "죄송하지만, 당신의 이름을 알 수 있는 정보가 없습니다. 당신의 이름을 알려주시면 좋겠습니다!\n",
      "<<<<<<< 최종 답변 >>>>>>\n"
     ]
    }
   ],
   "source": [
    "# 질의에 대한 답변을 스트리밍으로 출력 요청\n",
    "response = agent_with_chat_history.stream(\n",
    "    {\n",
    "        \"input\": \"내 이름이 뭐야?\"\n",
    "    },\n",
    "    # session_id 설정\n",
    "    config={\"configurable\": {\"session_id\": \"def456\"}},\n",
    ")\n",
    "\n",
    "# 출력 확인\n",
    "for step in response:\n",
    "    agent_stream_parser.process_agent_steps(step)"
   ]
  }
 ],
 "metadata": {
  "kernelspec": {
   "display_name": "edu-rag-h6vp0ZFq-py3.11",
   "language": "python",
   "name": "python3"
  },
  "language_info": {
   "codemirror_mode": {
    "name": "ipython",
    "version": 3
   },
   "file_extension": ".py",
   "mimetype": "text/x-python",
   "name": "python",
   "nbconvert_exporter": "python",
   "pygments_lexer": "ipython3",
   "version": "3.11.9"
  }
 },
 "nbformat": 4,
 "nbformat_minor": 2
}
