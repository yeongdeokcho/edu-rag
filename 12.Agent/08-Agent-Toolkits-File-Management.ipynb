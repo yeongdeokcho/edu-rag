{
 "cells": [
  {
   "cell_type": "markdown",
   "metadata": {},
   "source": [
    "# Toolkits 활용 Agent\n",
    "\n",
    "LangChain 프레임워크를 사용하는 가장 큰 이점은 3rd-party integration 되어 있는 다양한 기능들입니다.\n",
    "\n",
    "그 중 Toolkits 는 다양한 도구를 통합하여 제공합니다.\n",
    "\n",
    "아래 링크에서 다양한 Tools/Toolkits 를 확인할 수 있습니다.\n",
    "\n",
    "**참고**\n",
    "\n",
    "- [Agent Toolkits](https://api.python.langchain.com/en/latest/community/agent_toolkits.html)\n",
    "\n",
    "- [Tools](https://python.langchain.com/docs/integrations/tools/)"
   ]
  },
  {
   "cell_type": "code",
   "execution_count": 1,
   "metadata": {},
   "outputs": [
    {
     "data": {
      "text/plain": [
       "True"
      ]
     },
     "execution_count": 1,
     "metadata": {},
     "output_type": "execute_result"
    }
   ],
   "source": [
    "# API 키를 환경변수로 관리하기 위한 설정 파일\n",
    "from dotenv import load_dotenv\n",
    "\n",
    "# API 키 정보 로드\n",
    "load_dotenv()"
   ]
  },
  {
   "cell_type": "code",
   "execution_count": 2,
   "metadata": {},
   "outputs": [
    {
     "name": "stdout",
     "output_type": "stream",
     "text": [
      "LangSmith 추적을 시작합니다.\n",
      "[프로젝트명]\n",
      "CH15-Agent-Projects\n"
     ]
    }
   ],
   "source": [
    "# LangSmith 추적을 설정합니다. https://smith.langchain.com\n",
    "# !pip install -qU langchain-teddynote\n",
    "from langchain_teddynote import logging\n",
    "\n",
    "# 프로젝트 이름을 입력합니다.\n",
    "logging.langsmith(\"CH15-Agent-Projects\")"
   ]
  },
  {
   "cell_type": "markdown",
   "metadata": {},
   "source": [
    "먼저, 임시 폴더인 `tmp` 를 생성합니다."
   ]
  },
  {
   "cell_type": "code",
   "execution_count": 3,
   "metadata": {},
   "outputs": [],
   "source": [
    "import os\n",
    "\n",
    "if not os.path.exists(\"tmp\"):\n",
    "    os.mkdir(\"tmp\")"
   ]
  },
  {
   "cell_type": "markdown",
   "metadata": {},
   "source": [
    "## FileManagementToolkit\n",
    "\n",
    "`FileManagementToolkit` 는 로컬 파일 관리를 위한 도구 모음입니다. \n",
    "\n",
    "### 주요 구성 요소\n",
    "\n",
    "**파일 관리 도구들**\n",
    "\n",
    "- `CopyFileTool`: 파일 복사\n",
    "  \n",
    "- `DeleteFileTool`: 파일 삭제\n",
    "\n",
    "- `FileSearchTool`: 파일 검색\n",
    "\n",
    "- `MoveFileTool`: 파일 이동\n",
    "\n",
    "- `ReadFileTool`: 파일 읽기\n",
    "\n",
    "- `WriteFileTool`: 파일 쓰기\n",
    "\n",
    "- `ListDirectoryTool`: 디렉토리 목록 조회\n",
    "\n",
    "**설정**\n",
    "\n",
    "- `root_dir`: 파일 작업의 루트 디렉토리 설정 가능\n",
    "\n",
    "- `selected_tools`: 특정 도구만 선택적으로 사용 가능\n",
    "\n",
    "\n",
    "**동적 도구 생성**\n",
    "\n",
    "- `get_tools` 메서드로 선택된 도구들의 인스턴스 생성\n",
    "\n",
    "\n",
    "이 `FileManagementToolkit`은 로컬 파일 관리 작업을 자동화하거나 AI 에이전트에게 파일 조작 능력을 부여할 때 유용하게 사용할 수 있습니다. 단, 보안 측면에서 신중한 접근이 필요합니다."
   ]
  },
  {
   "cell_type": "code",
   "execution_count": 3,
   "metadata": {},
   "outputs": [
    {
     "name": "stdout",
     "output_type": "stream",
     "text": [
      "[사용 가능한 파일 관리 도구들]\n",
      "- copy_file: Create a copy of a file in a specified location\n",
      "- file_delete: Delete a file\n",
      "- file_search: Recursively search for files in a subdirectory that match the regex pattern\n",
      "- move_file: Move or rename a file from one location to another\n",
      "- read_file: Read file from disk\n",
      "- write_file: Write file to disk\n",
      "- list_directory: List files and directories in a specified folder\n"
     ]
    }
   ],
   "source": [
    "# FileManagementToolkit을 가져옵니다. 이 도구는 파일 관리 작업을 수행하는 데 사용됩니다.\n",
    "from langchain_community.agent_toolkits import FileManagementToolkit\n",
    "\n",
    "# 'tmp'라는 이름의 디렉토리를 작업 디렉토리로 설정합니다.\n",
    "working_directory = \"tmp\"\n",
    "\n",
    "# FileManagementToolkit 객체를 생성합니다.\n",
    "# root_dir 매개변수에 작업 디렉토리를 지정하여 모든 파일 작업이 이 디렉토리 내에서 이루어지도록 합니다.\n",
    "toolkit = FileManagementToolkit(root_dir=str(working_directory))\n",
    "\n",
    "# toolkit.get_tools() 메서드를 호출하여 사용 가능한 모든 파일 관리 도구를 가져옵니다.\n",
    "# 이 도구들은 파일 복사, 삭제, 검색, 이동, 읽기, 쓰기, 디렉토리 목록 조회 등의 기능을 제공합니다.\n",
    "available_tools = toolkit.get_tools()\n",
    "\n",
    "# 사용 가능한 도구들의 이름을 출력합니다.\n",
    "print(\"[사용 가능한 파일 관리 도구들]\")\n",
    "for tool in available_tools:\n",
    "    print(f\"- {tool.name}: {tool.description}\")"
   ]
  },
  {
   "cell_type": "code",
   "execution_count": 4,
   "metadata": {},
   "outputs": [
    {
     "data": {
      "text/plain": [
       "[ReadFileTool(root_dir='tmp'),\n",
       " DeleteFileTool(root_dir='tmp'),\n",
       " WriteFileTool(root_dir='tmp'),\n",
       " ListDirectoryTool(root_dir='tmp')]"
      ]
     },
     "execution_count": 4,
     "metadata": {},
     "output_type": "execute_result"
    }
   ],
   "source": [
    "# 도구 중 일부만 지정하여 선택하는 것도 가능합니다\n",
    "tools = FileManagementToolkit(\n",
    "    root_dir=str(working_directory),\n",
    "    selected_tools=[\"read_file\", \"file_delete\", \"write_file\", \"list_directory\"],\n",
    ").get_tools()\n",
    "tools"
   ]
  },
  {
   "cell_type": "code",
   "execution_count": 5,
   "metadata": {},
   "outputs": [
    {
     "data": {
      "text/plain": [
       "'File written successfully to example.txt.'"
      ]
     },
     "execution_count": 5,
     "metadata": {},
     "output_type": "execute_result"
    }
   ],
   "source": [
    "read_tool, delete_tool, write_tool, list_tool = tools\n",
    "\n",
    "# 파일 쓰기\n",
    "write_tool.invoke({\"file_path\": \"example.txt\", \"text\": \"Hello World!\"})"
   ]
  },
  {
   "cell_type": "code",
   "execution_count": 6,
   "metadata": {},
   "outputs": [
    {
     "name": "stdout",
     "output_type": "stream",
     "text": [
      "example.txt\n"
     ]
    }
   ],
   "source": [
    "# 파일 목록 조회\n",
    "print(list_tool.invoke({}))"
   ]
  },
  {
   "cell_type": "code",
   "execution_count": 7,
   "metadata": {},
   "outputs": [
    {
     "name": "stdout",
     "output_type": "stream",
     "text": [
      "File deleted successfully: example.txt.\n"
     ]
    }
   ],
   "source": [
    "# 파일 삭제\n",
    "print(delete_tool.invoke({\"file_path\": \"example.txt\"}))"
   ]
  },
  {
   "cell_type": "code",
   "execution_count": 9,
   "metadata": {},
   "outputs": [
    {
     "name": "stdout",
     "output_type": "stream",
     "text": [
      "No files found in directory .\n"
     ]
    }
   ],
   "source": [
    "# 파일 목록 조회\n",
    "print(list_tool.invoke({}))"
   ]
  },
  {
   "cell_type": "code",
   "execution_count": 8,
   "metadata": {},
   "outputs": [
    {
     "data": {
      "text/plain": [
       "[CopyFileTool(root_dir='tmp'),\n",
       " DeleteFileTool(root_dir='tmp'),\n",
       " FileSearchTool(root_dir='tmp'),\n",
       " MoveFileTool(root_dir='tmp'),\n",
       " ReadFileTool(root_dir='tmp'),\n",
       " WriteFileTool(root_dir='tmp'),\n",
       " ListDirectoryTool(root_dir='tmp'),\n",
       " StructuredTool(name='latest_news', description='Look up latest news', args_schema=<class 'langchain_core.utils.pydantic.latest_news'>, func=<function latest_news at 0x11cb137e0>)]"
      ]
     },
     "execution_count": 8,
     "metadata": {},
     "output_type": "execute_result"
    }
   ],
   "source": [
    "# 필요한 모듈과 클래스를 임포트합니다.\n",
    "from langchain.tools import tool\n",
    "from typing import List, Dict\n",
    "from langchain_teddynote.tools import GoogleNews\n",
    "\n",
    "\n",
    "# 최신 뉴스 검색 도구를 정의합니다.\n",
    "@tool\n",
    "def latest_news(k: int = 5) -> List[Dict[str, str]]:\n",
    "    \"\"\"Look up latest news\"\"\"\n",
    "    # GoogleNews 객체를 생성합니다.\n",
    "    news_tool = GoogleNews()\n",
    "    # 최신 뉴스를 검색하고 결과를 반환합니다. k는 반환할 뉴스 항목의 수입니다.\n",
    "    return news_tool.search_latest(k=k)\n",
    "\n",
    "\n",
    "# FileManagementToolkit을 사용하여 파일 관리 도구들을 가져옵니다.\n",
    "tools = FileManagementToolkit(\n",
    "    root_dir=str(working_directory),\n",
    ").get_tools()\n",
    "\n",
    "# 최신 뉴스 검색 도구를 tools 리스트에 추가합니다.\n",
    "tools.append(latest_news)\n",
    "\n",
    "# 모든 도구들이 포함된 tools 리스트를 출력합니다.\n",
    "tools"
   ]
  },
  {
   "cell_type": "code",
   "execution_count": 9,
   "metadata": {},
   "outputs": [],
   "source": [
    "from langchain_core.prompts import ChatPromptTemplate\n",
    "from langchain_openai import ChatOpenAI\n",
    "from langchain.agents import create_tool_calling_agent, AgentExecutor\n",
    "from langchain_community.chat_message_histories import ChatMessageHistory\n",
    "from langchain_core.runnables.history import RunnableWithMessageHistory\n",
    "from langchain_teddynote.messages import AgentStreamParser\n",
    "\n",
    "# session_id 를 저장할 딕셔너리 생성\n",
    "store = {}\n",
    "\n",
    "# 프롬프트 생성\n",
    "# 프롬프트는 에이전트에게 모델이 수행할 작업을 설명하는 텍스트를 제공합니다. (도구의 이름과 역할을 입력)\n",
    "prompt = ChatPromptTemplate.from_messages(\n",
    "    [\n",
    "        (\n",
    "            \"system\",\n",
    "            \"You are a helpful assistant. \"\n",
    "            \"Make sure to use the `latest_news` tool to find latest news. \"\n",
    "            \"Make sure to use the `file_management` tool to manage files. \",\n",
    "        ),\n",
    "        (\"placeholder\", \"{chat_history}\"),\n",
    "        (\"human\", \"{input}\"),\n",
    "        (\"placeholder\", \"{agent_scratchpad}\"),\n",
    "    ]\n",
    ")\n",
    "\n",
    "# LLM 생성\n",
    "llm = ChatOpenAI(model=\"gpt-4o-mini\")\n",
    "\n",
    "# Agent 생성\n",
    "agent = create_tool_calling_agent(llm, tools, prompt)\n",
    "\n",
    "# AgentExecutor 생성\n",
    "agent_executor = AgentExecutor(\n",
    "    agent=agent,\n",
    "    tools=tools,\n",
    "    verbose=False,\n",
    "    handle_parsing_errors=True,\n",
    ")\n",
    "\n",
    "\n",
    "# session_id 를 기반으로 세션 기록을 가져오는 함수\n",
    "def get_session_history(session_ids):\n",
    "    if session_ids not in store:  # session_id 가 store에 없는 경우\n",
    "        # 새로운 ChatMessageHistory 객체를 생성하여 store에 저장\n",
    "        store[session_ids] = ChatMessageHistory()\n",
    "    return store[session_ids]  # 해당 세션 ID에 대한 세션 기록 반환\n",
    "\n",
    "\n",
    "# 채팅 메시지 기록이 추가된 에이전트를 생성합니다.\n",
    "agent_with_chat_history = RunnableWithMessageHistory(\n",
    "    agent_executor,\n",
    "    # 대화 session_id\n",
    "    get_session_history,\n",
    "    # 프롬프트의 질문이 입력되는 key: \"input\"\n",
    "    input_messages_key=\"input\",\n",
    "    # 프롬프트의 메시지가 입력되는 key: \"chat_history\"\n",
    "    history_messages_key=\"chat_history\",\n",
    ")\n",
    "\n",
    "agent_stream_parser = AgentStreamParser()"
   ]
  },
  {
   "cell_type": "code",
   "execution_count": 10,
   "metadata": {},
   "outputs": [
    {
     "name": "stdout",
     "output_type": "stream",
     "text": [
      "Agent 실행 결과:\n",
      "[도구 호출]\n",
      "Tool: latest_news\n",
      "k: 5\n",
      "Log: \n",
      "Invoking: `latest_news` with `{'k': 5}`\n",
      "\n",
      "\n",
      "\n",
      "[관찰 내용]\n",
      "Observation: [{'url': 'https://news.google.com/rss/articles/CBMiXkFVX3lxTE9hZG16aWJqWXZXdW9FZmdCaTc0NUQ0cDJnRENNSGoxNmdBMHpxY2l1T0ZmNWYwd29lMlV2ME1wVjZpb2Y2ZDJaSHU1dGVDajFxQ3lRUGlqbEN4WU42MnfSAXZBVV95cUxPUF9rRXFhQjM5WVZEUnQ0blJ2SVU2Q2paUWFPWlBINlRpWWFtM1BQeGlUSVR0ZklqLWFYdmpKak9uOUhiR3VmUkhja2doWGNKSVNubFlGNGxoUXZhWmhZNEM1N1JTWVplSHc1Ymx6X1FQTGhwNm13?oc=5', 'content': '국민의힘 연금특위 위원들 총사퇴...\"연금개혁 항의\" - YTN'}, {'url': 'https://news.google.com/rss/articles/CBMikAFBVV95cUxPVTNXN0ticzVWMG9VVjR5SnhTcFhZVTEtT0dsT0FBbzR4MWVBZlVPTDJRRTFzTTBPbVFjSkx5TW5pQVJ5Nm00R1NGOXZzai1ONllYMjYwaXYtUy1FNjFhN3ZIazRubU05OWdweVJaSTVuUlNCUFdTeHFKeWMzQi02TF9PNU9ieTJyR1hJYVRscFrSAaQBQVVfeXFMTkF2WE54NTNtZnZhSUVKeUVaX3ZEWDMza21GZEJMSk1BZHFmUGhkSC0zLUN0eDlXeXdZU1RqeWJWYjFzWHZrU3o1OGxZb1pOUk9pUTBBc2d2VTFTQlpqVzNfZWRlQmdtTUVCdjZMN1JZSksxanFWVEpldXFvVnhsRXo4Y2ZiRnA0SkF5U2xEdFJ4ZVJKTFdUaXA4S0FrM1Y1bnFMT0g?oc=5', 'content': '야 5당, 최상목 탄핵안 발의...“마은혁 임명 미뤄” - 조선일보'}, {'url': 'https://news.google.com/rss/articles/CBMiW0FVX3lxTE9xZ094UGMwdnRkZWZPT200MVdpT0xhZks4ejRHeUVMc0NqX285MkVHNy1zWFdIVlhLNWk2S2lNc2c5WVprX01HcTZGZHFwbEpqdlRXbmlBT1lDbUXSAWBBVV95cUxPNi1kdzEtRjBoTnZhYklUZXZkUzhEaW9MM0psLV9IV2dwUjZ1OEtWcVgySG5scnFsMHExUEREMURiZ2ZkWTAxSDQ3Q1VnVDZYeHR3SVVSVDZpLXU5XzR2ajA?oc=5', 'content': '\\'尹체포 저지\\' 김성훈 경호차장 영장심사…\"법에 따라 임무수행\"(종합) - 연합뉴스'}, {'url': 'https://news.google.com/rss/articles/CBMiZkFVX3lxTE54VTdMcVZZSllXTDRaZ2ZBMUpMY3FMRWd6dmdkUGRJNUtoVktkZ2RKSmNqZHoweVdiLTNZU2dtaXJROTU5cFhObXkzdEJBMlZqbVR1bmR5ajF5NUxrS2tpZzN2WFdjUQ?oc=5', 'content': '‘한덕수 먼저’…헌재는 왜 자꾸 늦출까? [3월21일 뉴스뷰리핑] - 한겨레'}, {'url': 'https://news.google.com/rss/articles/CBMiU0FVX3lxTFBTV0Q5UjJoc193eWZ0d1hNQVYwbEx4NjFlVjY4bkZBOGlKbHl5a0p3VC1TRFdKVmxHckVZSFphOEo2dWpzMlNpWkFQRWFWODVHdE1B?oc=5', 'content': '헌재에 대한 신뢰 회복을 위해, 각 당은 무엇을 할 것인가 [타협점] - 네이트 뉴스'}]\n",
      "[도구 호출]\n",
      "Tool: write_file\n",
      "file_path: 국민의힘_연금특위_위원들_총사퇴.txt\n",
      "text: 국민의힘 연금특위 위원들 총사퇴...\\\"연금개혁 항의\\\"\\nURL: https://news.google.com/rss/articles/CBMiXkFVX3lxTE9hZG16aWJqWXZXdW9FZmdCaTc0NUQ0cDJnRENNSGoxNmdBMHpxY2l1T0ZmNWYwd29lMlV2ME1wVjZpb2Y2ZDJaSHU1dGVDajFxQ3lRUGlqbEN4WU42MnfSAXZBVV95cUxPUF9rRXFhQjM5WVZEUnQ0blJ2SVU2Q2paUWFPWlBINlRpWWFtM1BQeGlUSVR0ZklqLWFYdmpKak9uOUhiR3VmUkhja2doWGNKSVNubFlGNGxoUXZhWmhZNEM1N1JTWVplSHc1Ymx6X1FQTGhwNm13?oc=5\n",
      "Log: \n",
      "Invoking: `write_file` with `{'file_path': '국민의힘_연금특위_위원들_총사퇴.txt', 'text': '국민의힘 연금특위 위원들 총사퇴...\\\\\"연금개혁 항의\\\\\"\\\\nURL: https://news.google.com/rss/articles/CBMiXkFVX3lxTE9hZG16aWJqWXZXdW9FZmdCaTc0NUQ0cDJnRENNSGoxNmdBMHpxY2l1T0ZmNWYwd29lMlV2ME1wVjZpb2Y2ZDJaSHU1dGVDajFxQ3lRUGlqbEN4WU42MnfSAXZBVV95cUxPUF9rRXFhQjM5WVZEUnQ0blJ2SVU2Q2paUWFPWlBINlRpWWFtM1BQeGlUSVR0ZklqLWFYdmpKak9uOUhiR3VmUkhja2doWGNKSVNubFlGNGxoUXZhWmhZNEM1N1JTWVplSHc1Ymx6X1FQTGhwNm13?oc=5'}`\n",
      "\n",
      "\n",
      "\n",
      "[도구 호출]\n",
      "Tool: write_file\n",
      "file_path: 야_5당_최상목_탄핵안_발의.txt\n",
      "text: 야 5당, 최상목 탄핵안 발의...“마은혁 임명 미뤄”\\nURL: https://news.google.com/rss/articles/CBMikAFBVV95cUxPVTNXN0ticzVWMG9VVjR5SnhTcFhZVTEtT0dsT0FBbzR4MWVBZlVPTDJRRTFzTTBPbVFjSkx5TW5pQVJ5Nm00R1NGOXZzai1ONllYMjYwaXYtUy1FNjFhN3ZIazRubU05OWdweVJaSTVuUlNCUFdTeHFKeWMzQi02TF9PNU9ieTJyR1hJYVRscFrSAaQBQVVfeXFMTkF2WE54NTNtZnZhSUVKeUVaX3ZEWDMza21GZEJMSk1BZHFmUGhkSC0zLUN0eDlXeXdZU1RqeWJWYjFzWHZrU3o1OGxZb1pOUk9pUTBBc2d2VTFTQlpqVzNfZWRlQmdtTUVCdjZMN1JZSksxanFWVEpldXFvVnhsRXo4Y2ZiRnA0SkF5U2xEdFJ4ZVJKTFdUaXA4S0FrM1Y1bnFMT0g?oc=5\n",
      "Log: \n",
      "Invoking: `write_file` with `{'file_path': '야_5당_최상목_탄핵안_발의.txt', 'text': '야 5당, 최상목 탄핵안 발의...“마은혁 임명 미뤄”\\\\nURL: https://news.google.com/rss/articles/CBMikAFBVV95cUxPVTNXN0ticzVWMG9VVjR5SnhTcFhZVTEtT0dsT0FBbzR4MWVBZlVPTDJRRTFzTTBPbVFjSkx5TW5pQVJ5Nm00R1NGOXZzai1ONllYMjYwaXYtUy1FNjFhN3ZIazRubU05OWdweVJaSTVuUlNCUFdTeHFKeWMzQi02TF9PNU9ieTJyR1hJYVRscFrSAaQBQVVfeXFMTkF2WE54NTNtZnZhSUVKeUVaX3ZEWDMza21GZEJMSk1BZHFmUGhkSC0zLUN0eDlXeXdZU1RqeWJWYjFzWHZrU3o1OGxZb1pOUk9pUTBBc2d2VTFTQlpqVzNfZWRlQmdtTUVCdjZMN1JZSksxanFWVEpldXFvVnhsRXo4Y2ZiRnA0SkF5U2xEdFJ4ZVJKTFdUaXA4S0FrM1Y1bnFMT0g?oc=5'}`\n",
      "\n",
      "\n",
      "\n",
      "[도구 호출]\n",
      "Tool: write_file\n",
      "file_path: '尹체포_저지'_김성훈_경호차장_영장심사.txt\n",
      "text:: None\n",
      "Log: \n",
      "Invoking: `write_file` with `{'file_path': \"'尹체포_저지'_김성훈_경호차장_영장심사.txt\", 'text:': None}`\n",
      "\n",
      "\n",
      "\n",
      "[관찰 내용]\n",
      "Observation: File written successfully to 국민의힘_연금특위_위원들_총사퇴.txt.\n",
      "[관찰 내용]\n",
      "Observation: File written successfully to 야_5당_최상목_탄핵안_발의.txt.\n"
     ]
    },
    {
     "ename": "ValidationError",
     "evalue": "1 validation error for WriteFileInput\ntext\n  Field required [type=missing, input_value={'file_path': \"'尹체포...사.txt\", 'text:': None}, input_type=dict]\n    For further information visit https://errors.pydantic.dev/2.10/v/missing",
     "output_type": "error",
     "traceback": [
      "\u001b[31m---------------------------------------------------------------------------\u001b[39m",
      "\u001b[31mValidationError\u001b[39m                           Traceback (most recent call last)",
      "\u001b[36mCell\u001b[39m\u001b[36m \u001b[39m\u001b[32mIn[10]\u001b[39m\u001b[32m, line 10\u001b[39m\n\u001b[32m      1\u001b[39m result = agent_with_chat_history.stream(\n\u001b[32m      2\u001b[39m     {\n\u001b[32m      3\u001b[39m         \u001b[33m\"\u001b[39m\u001b[33minput\u001b[39m\u001b[33m\"\u001b[39m: \u001b[33m\"\u001b[39m\u001b[33m최신 뉴스 5개를 검색하고, 각 뉴스의 제목을 파일명으로 가지는 파일을 생성하고(.txt), \u001b[39m\u001b[33m\"\u001b[39m\n\u001b[32m   (...)\u001b[39m\u001b[32m      6\u001b[39m     config={\u001b[33m\"\u001b[39m\u001b[33mconfigurable\u001b[39m\u001b[33m\"\u001b[39m: {\u001b[33m\"\u001b[39m\u001b[33msession_id\u001b[39m\u001b[33m\"\u001b[39m: \u001b[33m\"\u001b[39m\u001b[33mabc123\u001b[39m\u001b[33m\"\u001b[39m}},\n\u001b[32m      7\u001b[39m )\n\u001b[32m      9\u001b[39m \u001b[38;5;28mprint\u001b[39m(\u001b[33m\"\u001b[39m\u001b[33mAgent 실행 결과:\u001b[39m\u001b[33m\"\u001b[39m)\n\u001b[32m---> \u001b[39m\u001b[32m10\u001b[39m \u001b[38;5;28;43;01mfor\u001b[39;49;00m\u001b[43m \u001b[49m\u001b[43mstep\u001b[49m\u001b[43m \u001b[49m\u001b[38;5;129;43;01min\u001b[39;49;00m\u001b[43m \u001b[49m\u001b[43mresult\u001b[49m\u001b[43m:\u001b[49m\n\u001b[32m     11\u001b[39m \u001b[43m    \u001b[49m\u001b[43magent_stream_parser\u001b[49m\u001b[43m.\u001b[49m\u001b[43mprocess_agent_steps\u001b[49m\u001b[43m(\u001b[49m\u001b[43mstep\u001b[49m\u001b[43m)\u001b[49m\n",
      "\u001b[36mFile \u001b[39m\u001b[32m~/Library/Caches/pypoetry/virtualenvs/edu-rag-h6vp0ZFq-py3.11/lib/python3.11/site-packages/langchain_core/runnables/base.py:5536\u001b[39m, in \u001b[36mRunnableBindingBase.stream\u001b[39m\u001b[34m(self, input, config, **kwargs)\u001b[39m\n\u001b[32m   5530\u001b[39m \u001b[38;5;28;01mdef\u001b[39;00m\u001b[38;5;250m \u001b[39m\u001b[34mstream\u001b[39m(\n\u001b[32m   5531\u001b[39m     \u001b[38;5;28mself\u001b[39m,\n\u001b[32m   5532\u001b[39m     \u001b[38;5;28minput\u001b[39m: Input,\n\u001b[32m   5533\u001b[39m     config: Optional[RunnableConfig] = \u001b[38;5;28;01mNone\u001b[39;00m,\n\u001b[32m   5534\u001b[39m     **kwargs: Optional[Any],\n\u001b[32m   5535\u001b[39m ) -> Iterator[Output]:\n\u001b[32m-> \u001b[39m\u001b[32m5536\u001b[39m     \u001b[38;5;28;01myield from\u001b[39;00m \u001b[38;5;28mself\u001b[39m.bound.stream(\n\u001b[32m   5537\u001b[39m         \u001b[38;5;28minput\u001b[39m,\n\u001b[32m   5538\u001b[39m         \u001b[38;5;28mself\u001b[39m._merge_configs(config),\n\u001b[32m   5539\u001b[39m         **{**\u001b[38;5;28mself\u001b[39m.kwargs, **kwargs},\n\u001b[32m   5540\u001b[39m     )\n",
      "\u001b[36mFile \u001b[39m\u001b[32m~/Library/Caches/pypoetry/virtualenvs/edu-rag-h6vp0ZFq-py3.11/lib/python3.11/site-packages/langchain_core/runnables/base.py:5536\u001b[39m, in \u001b[36mRunnableBindingBase.stream\u001b[39m\u001b[34m(self, input, config, **kwargs)\u001b[39m\n\u001b[32m   5530\u001b[39m \u001b[38;5;28;01mdef\u001b[39;00m\u001b[38;5;250m \u001b[39m\u001b[34mstream\u001b[39m(\n\u001b[32m   5531\u001b[39m     \u001b[38;5;28mself\u001b[39m,\n\u001b[32m   5532\u001b[39m     \u001b[38;5;28minput\u001b[39m: Input,\n\u001b[32m   5533\u001b[39m     config: Optional[RunnableConfig] = \u001b[38;5;28;01mNone\u001b[39;00m,\n\u001b[32m   5534\u001b[39m     **kwargs: Optional[Any],\n\u001b[32m   5535\u001b[39m ) -> Iterator[Output]:\n\u001b[32m-> \u001b[39m\u001b[32m5536\u001b[39m     \u001b[38;5;28;01myield from\u001b[39;00m \u001b[38;5;28mself\u001b[39m.bound.stream(\n\u001b[32m   5537\u001b[39m         \u001b[38;5;28minput\u001b[39m,\n\u001b[32m   5538\u001b[39m         \u001b[38;5;28mself\u001b[39m._merge_configs(config),\n\u001b[32m   5539\u001b[39m         **{**\u001b[38;5;28mself\u001b[39m.kwargs, **kwargs},\n\u001b[32m   5540\u001b[39m     )\n",
      "\u001b[36mFile \u001b[39m\u001b[32m~/Library/Caches/pypoetry/virtualenvs/edu-rag-h6vp0ZFq-py3.11/lib/python3.11/site-packages/langchain_core/runnables/base.py:3414\u001b[39m, in \u001b[36mRunnableSequence.stream\u001b[39m\u001b[34m(self, input, config, **kwargs)\u001b[39m\n\u001b[32m   3408\u001b[39m \u001b[38;5;28;01mdef\u001b[39;00m\u001b[38;5;250m \u001b[39m\u001b[34mstream\u001b[39m(\n\u001b[32m   3409\u001b[39m     \u001b[38;5;28mself\u001b[39m,\n\u001b[32m   3410\u001b[39m     \u001b[38;5;28minput\u001b[39m: Input,\n\u001b[32m   3411\u001b[39m     config: Optional[RunnableConfig] = \u001b[38;5;28;01mNone\u001b[39;00m,\n\u001b[32m   3412\u001b[39m     **kwargs: Optional[Any],\n\u001b[32m   3413\u001b[39m ) -> Iterator[Output]:\n\u001b[32m-> \u001b[39m\u001b[32m3414\u001b[39m     \u001b[38;5;28;01myield from\u001b[39;00m \u001b[38;5;28mself\u001b[39m.transform(\u001b[38;5;28miter\u001b[39m([\u001b[38;5;28minput\u001b[39m]), config, **kwargs)\n",
      "\u001b[36mFile \u001b[39m\u001b[32m~/Library/Caches/pypoetry/virtualenvs/edu-rag-h6vp0ZFq-py3.11/lib/python3.11/site-packages/langchain_core/runnables/base.py:3401\u001b[39m, in \u001b[36mRunnableSequence.transform\u001b[39m\u001b[34m(self, input, config, **kwargs)\u001b[39m\n\u001b[32m   3395\u001b[39m \u001b[38;5;28;01mdef\u001b[39;00m\u001b[38;5;250m \u001b[39m\u001b[34mtransform\u001b[39m(\n\u001b[32m   3396\u001b[39m     \u001b[38;5;28mself\u001b[39m,\n\u001b[32m   3397\u001b[39m     \u001b[38;5;28minput\u001b[39m: Iterator[Input],\n\u001b[32m   3398\u001b[39m     config: Optional[RunnableConfig] = \u001b[38;5;28;01mNone\u001b[39;00m,\n\u001b[32m   3399\u001b[39m     **kwargs: Optional[Any],\n\u001b[32m   3400\u001b[39m ) -> Iterator[Output]:\n\u001b[32m-> \u001b[39m\u001b[32m3401\u001b[39m     \u001b[38;5;28;01myield from\u001b[39;00m \u001b[38;5;28mself\u001b[39m._transform_stream_with_config(\n\u001b[32m   3402\u001b[39m         \u001b[38;5;28minput\u001b[39m,\n\u001b[32m   3403\u001b[39m         \u001b[38;5;28mself\u001b[39m._transform,\n\u001b[32m   3404\u001b[39m         patch_config(config, run_name=(config \u001b[38;5;129;01mor\u001b[39;00m {}).get(\u001b[33m\"\u001b[39m\u001b[33mrun_name\u001b[39m\u001b[33m\"\u001b[39m) \u001b[38;5;129;01mor\u001b[39;00m \u001b[38;5;28mself\u001b[39m.name),\n\u001b[32m   3405\u001b[39m         **kwargs,\n\u001b[32m   3406\u001b[39m     )\n",
      "\u001b[36mFile \u001b[39m\u001b[32m~/Library/Caches/pypoetry/virtualenvs/edu-rag-h6vp0ZFq-py3.11/lib/python3.11/site-packages/langchain_core/runnables/base.py:2201\u001b[39m, in \u001b[36mRunnable._transform_stream_with_config\u001b[39m\u001b[34m(self, input, transformer, config, run_type, **kwargs)\u001b[39m\n\u001b[32m   2199\u001b[39m \u001b[38;5;28;01mtry\u001b[39;00m:\n\u001b[32m   2200\u001b[39m     \u001b[38;5;28;01mwhile\u001b[39;00m \u001b[38;5;28;01mTrue\u001b[39;00m:\n\u001b[32m-> \u001b[39m\u001b[32m2201\u001b[39m         chunk: Output = context.run(\u001b[38;5;28mnext\u001b[39m, iterator)  \u001b[38;5;66;03m# type: ignore\u001b[39;00m\n\u001b[32m   2202\u001b[39m         \u001b[38;5;28;01myield\u001b[39;00m chunk\n\u001b[32m   2203\u001b[39m         \u001b[38;5;28;01mif\u001b[39;00m final_output_supported:\n",
      "\u001b[36mFile \u001b[39m\u001b[32m~/Library/Caches/pypoetry/virtualenvs/edu-rag-h6vp0ZFq-py3.11/lib/python3.11/site-packages/langchain_core/runnables/base.py:3364\u001b[39m, in \u001b[36mRunnableSequence._transform\u001b[39m\u001b[34m(self, input, run_manager, config, **kwargs)\u001b[39m\n\u001b[32m   3361\u001b[39m     \u001b[38;5;28;01melse\u001b[39;00m:\n\u001b[32m   3362\u001b[39m         final_pipeline = step.transform(final_pipeline, config)\n\u001b[32m-> \u001b[39m\u001b[32m3364\u001b[39m \u001b[38;5;28;01myield from\u001b[39;00m final_pipeline\n",
      "\u001b[36mFile \u001b[39m\u001b[32m~/Library/Caches/pypoetry/virtualenvs/edu-rag-h6vp0ZFq-py3.11/lib/python3.11/site-packages/langchain_core/runnables/base.py:5572\u001b[39m, in \u001b[36mRunnableBindingBase.transform\u001b[39m\u001b[34m(self, input, config, **kwargs)\u001b[39m\n\u001b[32m   5566\u001b[39m \u001b[38;5;28;01mdef\u001b[39;00m\u001b[38;5;250m \u001b[39m\u001b[34mtransform\u001b[39m(\n\u001b[32m   5567\u001b[39m     \u001b[38;5;28mself\u001b[39m,\n\u001b[32m   5568\u001b[39m     \u001b[38;5;28minput\u001b[39m: Iterator[Input],\n\u001b[32m   5569\u001b[39m     config: Optional[RunnableConfig] = \u001b[38;5;28;01mNone\u001b[39;00m,\n\u001b[32m   5570\u001b[39m     **kwargs: Any,\n\u001b[32m   5571\u001b[39m ) -> Iterator[Output]:\n\u001b[32m-> \u001b[39m\u001b[32m5572\u001b[39m     \u001b[38;5;28;01myield from\u001b[39;00m \u001b[38;5;28mself\u001b[39m.bound.transform(\n\u001b[32m   5573\u001b[39m         \u001b[38;5;28minput\u001b[39m,\n\u001b[32m   5574\u001b[39m         \u001b[38;5;28mself\u001b[39m._merge_configs(config),\n\u001b[32m   5575\u001b[39m         **{**\u001b[38;5;28mself\u001b[39m.kwargs, **kwargs},\n\u001b[32m   5576\u001b[39m     )\n",
      "\u001b[36mFile \u001b[39m\u001b[32m~/Library/Caches/pypoetry/virtualenvs/edu-rag-h6vp0ZFq-py3.11/lib/python3.11/site-packages/langchain_core/runnables/base.py:4832\u001b[39m, in \u001b[36mRunnableLambda.transform\u001b[39m\u001b[34m(self, input, config, **kwargs)\u001b[39m\n\u001b[32m   4825\u001b[39m \u001b[38;5;28;01mdef\u001b[39;00m\u001b[38;5;250m \u001b[39m\u001b[34mtransform\u001b[39m(\n\u001b[32m   4826\u001b[39m     \u001b[38;5;28mself\u001b[39m,\n\u001b[32m   4827\u001b[39m     \u001b[38;5;28minput\u001b[39m: Iterator[Input],\n\u001b[32m   4828\u001b[39m     config: Optional[RunnableConfig] = \u001b[38;5;28;01mNone\u001b[39;00m,\n\u001b[32m   4829\u001b[39m     **kwargs: Optional[Any],\n\u001b[32m   4830\u001b[39m ) -> Iterator[Output]:\n\u001b[32m   4831\u001b[39m     \u001b[38;5;28;01mif\u001b[39;00m \u001b[38;5;28mhasattr\u001b[39m(\u001b[38;5;28mself\u001b[39m, \u001b[33m\"\u001b[39m\u001b[33mfunc\u001b[39m\u001b[33m\"\u001b[39m):\n\u001b[32m-> \u001b[39m\u001b[32m4832\u001b[39m         \u001b[38;5;28;01myield from\u001b[39;00m \u001b[38;5;28mself\u001b[39m._transform_stream_with_config(\n\u001b[32m   4833\u001b[39m             \u001b[38;5;28minput\u001b[39m,\n\u001b[32m   4834\u001b[39m             \u001b[38;5;28mself\u001b[39m._transform,\n\u001b[32m   4835\u001b[39m             \u001b[38;5;28mself\u001b[39m._config(config, \u001b[38;5;28mself\u001b[39m.func),\n\u001b[32m   4836\u001b[39m             **kwargs,\n\u001b[32m   4837\u001b[39m         )\n\u001b[32m   4838\u001b[39m     \u001b[38;5;28;01melse\u001b[39;00m:\n\u001b[32m   4839\u001b[39m         msg = (\n\u001b[32m   4840\u001b[39m             \u001b[33m\"\u001b[39m\u001b[33mCannot stream a coroutine function synchronously.\u001b[39m\u001b[33m\"\u001b[39m\n\u001b[32m   4841\u001b[39m             \u001b[33m\"\u001b[39m\u001b[33mUse `astream` instead.\u001b[39m\u001b[33m\"\u001b[39m\n\u001b[32m   4842\u001b[39m         )\n",
      "\u001b[36mFile \u001b[39m\u001b[32m~/Library/Caches/pypoetry/virtualenvs/edu-rag-h6vp0ZFq-py3.11/lib/python3.11/site-packages/langchain_core/runnables/base.py:2201\u001b[39m, in \u001b[36mRunnable._transform_stream_with_config\u001b[39m\u001b[34m(self, input, transformer, config, run_type, **kwargs)\u001b[39m\n\u001b[32m   2199\u001b[39m \u001b[38;5;28;01mtry\u001b[39;00m:\n\u001b[32m   2200\u001b[39m     \u001b[38;5;28;01mwhile\u001b[39;00m \u001b[38;5;28;01mTrue\u001b[39;00m:\n\u001b[32m-> \u001b[39m\u001b[32m2201\u001b[39m         chunk: Output = context.run(\u001b[38;5;28mnext\u001b[39m, iterator)  \u001b[38;5;66;03m# type: ignore\u001b[39;00m\n\u001b[32m   2202\u001b[39m         \u001b[38;5;28;01myield\u001b[39;00m chunk\n\u001b[32m   2203\u001b[39m         \u001b[38;5;28;01mif\u001b[39;00m final_output_supported:\n",
      "\u001b[36mFile \u001b[39m\u001b[32m~/Library/Caches/pypoetry/virtualenvs/edu-rag-h6vp0ZFq-py3.11/lib/python3.11/site-packages/langchain_core/runnables/base.py:4812\u001b[39m, in \u001b[36mRunnableLambda._transform\u001b[39m\u001b[34m(self, input, run_manager, config, **kwargs)\u001b[39m\n\u001b[32m   4808\u001b[39m         msg = (\n\u001b[32m   4809\u001b[39m             \u001b[33mf\u001b[39m\u001b[33m\"\u001b[39m\u001b[33mRecursion limit reached when invoking \u001b[39m\u001b[38;5;132;01m{\u001b[39;00m\u001b[38;5;28mself\u001b[39m\u001b[38;5;132;01m}\u001b[39;00m\u001b[33m with input \u001b[39m\u001b[38;5;132;01m{\u001b[39;00mfinal\u001b[38;5;132;01m}\u001b[39;00m\u001b[33m.\u001b[39m\u001b[33m\"\u001b[39m\n\u001b[32m   4810\u001b[39m         )\n\u001b[32m   4811\u001b[39m         \u001b[38;5;28;01mraise\u001b[39;00m \u001b[38;5;167;01mRecursionError\u001b[39;00m(msg)\n\u001b[32m-> \u001b[39m\u001b[32m4812\u001b[39m \u001b[43m    \u001b[49m\u001b[38;5;28;43;01mfor\u001b[39;49;00m\u001b[43m \u001b[49m\u001b[43mchunk\u001b[49m\u001b[43m \u001b[49m\u001b[38;5;129;43;01min\u001b[39;49;00m\u001b[43m \u001b[49m\u001b[43moutput\u001b[49m\u001b[43m.\u001b[49m\u001b[43mstream\u001b[49m\u001b[43m(\u001b[49m\n\u001b[32m   4813\u001b[39m \u001b[43m        \u001b[49m\u001b[43mfinal\u001b[49m\u001b[43m,\u001b[49m\n\u001b[32m   4814\u001b[39m \u001b[43m        \u001b[49m\u001b[43mpatch_config\u001b[49m\u001b[43m(\u001b[49m\n\u001b[32m   4815\u001b[39m \u001b[43m            \u001b[49m\u001b[43mconfig\u001b[49m\u001b[43m,\u001b[49m\n\u001b[32m   4816\u001b[39m \u001b[43m            \u001b[49m\u001b[43mcallbacks\u001b[49m\u001b[43m=\u001b[49m\u001b[43mrun_manager\u001b[49m\u001b[43m.\u001b[49m\u001b[43mget_child\u001b[49m\u001b[43m(\u001b[49m\u001b[43m)\u001b[49m\u001b[43m,\u001b[49m\n\u001b[32m   4817\u001b[39m \u001b[43m            \u001b[49m\u001b[43mrecursion_limit\u001b[49m\u001b[43m=\u001b[49m\u001b[43mrecursion_limit\u001b[49m\u001b[43m \u001b[49m\u001b[43m-\u001b[49m\u001b[43m \u001b[49m\u001b[32;43m1\u001b[39;49m\u001b[43m,\u001b[49m\n\u001b[32m   4818\u001b[39m \u001b[43m        \u001b[49m\u001b[43m)\u001b[49m\u001b[43m,\u001b[49m\n\u001b[32m   4819\u001b[39m \u001b[43m    \u001b[49m\u001b[43m)\u001b[49m\u001b[43m:\u001b[49m\n\u001b[32m   4820\u001b[39m \u001b[43m        \u001b[49m\u001b[38;5;28;43;01myield\u001b[39;49;00m\u001b[43m \u001b[49m\u001b[43mchunk\u001b[49m\n\u001b[32m   4821\u001b[39m \u001b[38;5;28;01melif\u001b[39;00m \u001b[38;5;129;01mnot\u001b[39;00m inspect.isgeneratorfunction(\u001b[38;5;28mself\u001b[39m.func):\n\u001b[32m   4822\u001b[39m     \u001b[38;5;66;03m# Otherwise, just yield it\u001b[39;00m\n",
      "\u001b[36mFile \u001b[39m\u001b[32m~/Library/Caches/pypoetry/virtualenvs/edu-rag-h6vp0ZFq-py3.11/lib/python3.11/site-packages/langchain_core/runnables/base.py:5536\u001b[39m, in \u001b[36mRunnableBindingBase.stream\u001b[39m\u001b[34m(self, input, config, **kwargs)\u001b[39m\n\u001b[32m   5530\u001b[39m \u001b[38;5;28;01mdef\u001b[39;00m\u001b[38;5;250m \u001b[39m\u001b[34mstream\u001b[39m(\n\u001b[32m   5531\u001b[39m     \u001b[38;5;28mself\u001b[39m,\n\u001b[32m   5532\u001b[39m     \u001b[38;5;28minput\u001b[39m: Input,\n\u001b[32m   5533\u001b[39m     config: Optional[RunnableConfig] = \u001b[38;5;28;01mNone\u001b[39;00m,\n\u001b[32m   5534\u001b[39m     **kwargs: Optional[Any],\n\u001b[32m   5535\u001b[39m ) -> Iterator[Output]:\n\u001b[32m-> \u001b[39m\u001b[32m5536\u001b[39m     \u001b[38;5;28;01myield from\u001b[39;00m \u001b[38;5;28mself\u001b[39m.bound.stream(\n\u001b[32m   5537\u001b[39m         \u001b[38;5;28minput\u001b[39m,\n\u001b[32m   5538\u001b[39m         \u001b[38;5;28mself\u001b[39m._merge_configs(config),\n\u001b[32m   5539\u001b[39m         **{**\u001b[38;5;28mself\u001b[39m.kwargs, **kwargs},\n\u001b[32m   5540\u001b[39m     )\n",
      "\u001b[36mFile \u001b[39m\u001b[32m~/Library/Caches/pypoetry/virtualenvs/edu-rag-h6vp0ZFq-py3.11/lib/python3.11/site-packages/langchain/agents/agent.py:1773\u001b[39m, in \u001b[36mAgentExecutor.stream\u001b[39m\u001b[34m(self, input, config, **kwargs)\u001b[39m\n\u001b[32m   1761\u001b[39m config = ensure_config(config)\n\u001b[32m   1762\u001b[39m iterator = AgentExecutorIterator(\n\u001b[32m   1763\u001b[39m     \u001b[38;5;28mself\u001b[39m,\n\u001b[32m   1764\u001b[39m     \u001b[38;5;28minput\u001b[39m,\n\u001b[32m   (...)\u001b[39m\u001b[32m   1771\u001b[39m     **kwargs,\n\u001b[32m   1772\u001b[39m )\n\u001b[32m-> \u001b[39m\u001b[32m1773\u001b[39m \u001b[43m\u001b[49m\u001b[38;5;28;43;01mfor\u001b[39;49;00m\u001b[43m \u001b[49m\u001b[43mstep\u001b[49m\u001b[43m \u001b[49m\u001b[38;5;129;43;01min\u001b[39;49;00m\u001b[43m \u001b[49m\u001b[43miterator\u001b[49m\u001b[43m:\u001b[49m\n\u001b[32m   1774\u001b[39m \u001b[43m    \u001b[49m\u001b[38;5;28;43;01myield\u001b[39;49;00m\u001b[43m \u001b[49m\u001b[43mstep\u001b[49m\n",
      "\u001b[36mFile \u001b[39m\u001b[32m~/Library/Caches/pypoetry/virtualenvs/edu-rag-h6vp0ZFq-py3.11/lib/python3.11/site-packages/langchain/agents/agent_iterator.py:199\u001b[39m, in \u001b[36mAgentExecutorIterator.__iter__\u001b[39m\u001b[34m(self)\u001b[39m\n\u001b[32m    193\u001b[39m \u001b[38;5;28;01mwhile\u001b[39;00m \u001b[38;5;28mself\u001b[39m.agent_executor._should_continue(\n\u001b[32m    194\u001b[39m     \u001b[38;5;28mself\u001b[39m.iterations, \u001b[38;5;28mself\u001b[39m.time_elapsed\n\u001b[32m    195\u001b[39m ):\n\u001b[32m    196\u001b[39m     \u001b[38;5;66;03m# take the next step: this plans next action, executes it,\u001b[39;00m\n\u001b[32m    197\u001b[39m     \u001b[38;5;66;03m# yielding action and observation as they are generated\u001b[39;00m\n\u001b[32m    198\u001b[39m     next_step_seq: NextStepOutput = []\n\u001b[32m--> \u001b[39m\u001b[32m199\u001b[39m \u001b[43m    \u001b[49m\u001b[38;5;28;43;01mfor\u001b[39;49;00m\u001b[43m \u001b[49m\u001b[43mchunk\u001b[49m\u001b[43m \u001b[49m\u001b[38;5;129;43;01min\u001b[39;49;00m\u001b[43m \u001b[49m\u001b[38;5;28;43mself\u001b[39;49m\u001b[43m.\u001b[49m\u001b[43magent_executor\u001b[49m\u001b[43m.\u001b[49m\u001b[43m_iter_next_step\u001b[49m\u001b[43m(\u001b[49m\n\u001b[32m    200\u001b[39m \u001b[43m        \u001b[49m\u001b[38;5;28;43mself\u001b[39;49m\u001b[43m.\u001b[49m\u001b[43mname_to_tool_map\u001b[49m\u001b[43m,\u001b[49m\n\u001b[32m    201\u001b[39m \u001b[43m        \u001b[49m\u001b[38;5;28;43mself\u001b[39;49m\u001b[43m.\u001b[49m\u001b[43mcolor_mapping\u001b[49m\u001b[43m,\u001b[49m\n\u001b[32m    202\u001b[39m \u001b[43m        \u001b[49m\u001b[38;5;28;43mself\u001b[39;49m\u001b[43m.\u001b[49m\u001b[43minputs\u001b[49m\u001b[43m,\u001b[49m\n\u001b[32m    203\u001b[39m \u001b[43m        \u001b[49m\u001b[38;5;28;43mself\u001b[39;49m\u001b[43m.\u001b[49m\u001b[43mintermediate_steps\u001b[49m\u001b[43m,\u001b[49m\n\u001b[32m    204\u001b[39m \u001b[43m        \u001b[49m\u001b[43mrun_manager\u001b[49m\u001b[43m,\u001b[49m\n\u001b[32m    205\u001b[39m \u001b[43m    \u001b[49m\u001b[43m)\u001b[49m\u001b[43m:\u001b[49m\n\u001b[32m    206\u001b[39m \u001b[43m        \u001b[49m\u001b[43mnext_step_seq\u001b[49m\u001b[43m.\u001b[49m\u001b[43mappend\u001b[49m\u001b[43m(\u001b[49m\u001b[43mchunk\u001b[49m\u001b[43m)\u001b[49m\n\u001b[32m    207\u001b[39m \u001b[43m        \u001b[49m\u001b[38;5;66;43;03m# if we're yielding actions, yield them as they come\u001b[39;49;00m\n\u001b[32m    208\u001b[39m \u001b[43m        \u001b[49m\u001b[38;5;66;43;03m# do not yield AgentFinish, which will be handled below\u001b[39;49;00m\n",
      "\u001b[36mFile \u001b[39m\u001b[32m~/Library/Caches/pypoetry/virtualenvs/edu-rag-h6vp0ZFq-py3.11/lib/python3.11/site-packages/langchain/agents/agent.py:1415\u001b[39m, in \u001b[36mAgentExecutor._iter_next_step\u001b[39m\u001b[34m(self, name_to_tool_map, color_mapping, inputs, intermediate_steps, run_manager)\u001b[39m\n\u001b[32m   1413\u001b[39m     \u001b[38;5;28;01myield\u001b[39;00m agent_action\n\u001b[32m   1414\u001b[39m \u001b[38;5;28;01mfor\u001b[39;00m agent_action \u001b[38;5;129;01min\u001b[39;00m actions:\n\u001b[32m-> \u001b[39m\u001b[32m1415\u001b[39m     \u001b[38;5;28;01myield\u001b[39;00m \u001b[38;5;28;43mself\u001b[39;49m\u001b[43m.\u001b[49m\u001b[43m_perform_agent_action\u001b[49m\u001b[43m(\u001b[49m\n\u001b[32m   1416\u001b[39m \u001b[43m        \u001b[49m\u001b[43mname_to_tool_map\u001b[49m\u001b[43m,\u001b[49m\u001b[43m \u001b[49m\u001b[43mcolor_mapping\u001b[49m\u001b[43m,\u001b[49m\u001b[43m \u001b[49m\u001b[43magent_action\u001b[49m\u001b[43m,\u001b[49m\u001b[43m \u001b[49m\u001b[43mrun_manager\u001b[49m\n\u001b[32m   1417\u001b[39m \u001b[43m    \u001b[49m\u001b[43m)\u001b[49m\n",
      "\u001b[36mFile \u001b[39m\u001b[32m~/Library/Caches/pypoetry/virtualenvs/edu-rag-h6vp0ZFq-py3.11/lib/python3.11/site-packages/langchain/agents/agent.py:1437\u001b[39m, in \u001b[36mAgentExecutor._perform_agent_action\u001b[39m\u001b[34m(self, name_to_tool_map, color_mapping, agent_action, run_manager)\u001b[39m\n\u001b[32m   1435\u001b[39m         tool_run_kwargs[\u001b[33m\"\u001b[39m\u001b[33mllm_prefix\u001b[39m\u001b[33m\"\u001b[39m] = \u001b[33m\"\u001b[39m\u001b[33m\"\u001b[39m\n\u001b[32m   1436\u001b[39m     \u001b[38;5;66;03m# We then call the tool on the tool input to get an observation\u001b[39;00m\n\u001b[32m-> \u001b[39m\u001b[32m1437\u001b[39m     observation = \u001b[43mtool\u001b[49m\u001b[43m.\u001b[49m\u001b[43mrun\u001b[49m\u001b[43m(\u001b[49m\n\u001b[32m   1438\u001b[39m \u001b[43m        \u001b[49m\u001b[43magent_action\u001b[49m\u001b[43m.\u001b[49m\u001b[43mtool_input\u001b[49m\u001b[43m,\u001b[49m\n\u001b[32m   1439\u001b[39m \u001b[43m        \u001b[49m\u001b[43mverbose\u001b[49m\u001b[43m=\u001b[49m\u001b[38;5;28;43mself\u001b[39;49m\u001b[43m.\u001b[49m\u001b[43mverbose\u001b[49m\u001b[43m,\u001b[49m\n\u001b[32m   1440\u001b[39m \u001b[43m        \u001b[49m\u001b[43mcolor\u001b[49m\u001b[43m=\u001b[49m\u001b[43mcolor\u001b[49m\u001b[43m,\u001b[49m\n\u001b[32m   1441\u001b[39m \u001b[43m        \u001b[49m\u001b[43mcallbacks\u001b[49m\u001b[43m=\u001b[49m\u001b[43mrun_manager\u001b[49m\u001b[43m.\u001b[49m\u001b[43mget_child\u001b[49m\u001b[43m(\u001b[49m\u001b[43m)\u001b[49m\u001b[43m \u001b[49m\u001b[38;5;28;43;01mif\u001b[39;49;00m\u001b[43m \u001b[49m\u001b[43mrun_manager\u001b[49m\u001b[43m \u001b[49m\u001b[38;5;28;43;01melse\u001b[39;49;00m\u001b[43m \u001b[49m\u001b[38;5;28;43;01mNone\u001b[39;49;00m\u001b[43m,\u001b[49m\n\u001b[32m   1442\u001b[39m \u001b[43m        \u001b[49m\u001b[43m*\u001b[49m\u001b[43m*\u001b[49m\u001b[43mtool_run_kwargs\u001b[49m\u001b[43m,\u001b[49m\n\u001b[32m   1443\u001b[39m \u001b[43m    \u001b[49m\u001b[43m)\u001b[49m\n\u001b[32m   1444\u001b[39m \u001b[38;5;28;01melse\u001b[39;00m:\n\u001b[32m   1445\u001b[39m     tool_run_kwargs = \u001b[38;5;28mself\u001b[39m._action_agent.tool_run_logging_kwargs()\n",
      "\u001b[36mFile \u001b[39m\u001b[32m~/Library/Caches/pypoetry/virtualenvs/edu-rag-h6vp0ZFq-py3.11/lib/python3.11/site-packages/langchain_core/tools/base.py:763\u001b[39m, in \u001b[36mBaseTool.run\u001b[39m\u001b[34m(self, tool_input, verbose, start_color, color, callbacks, tags, metadata, run_name, run_id, config, tool_call_id, **kwargs)\u001b[39m\n\u001b[32m    761\u001b[39m \u001b[38;5;28;01mif\u001b[39;00m error_to_raise:\n\u001b[32m    762\u001b[39m     run_manager.on_tool_error(error_to_raise)\n\u001b[32m--> \u001b[39m\u001b[32m763\u001b[39m     \u001b[38;5;28;01mraise\u001b[39;00m error_to_raise\n\u001b[32m    764\u001b[39m output = _format_output(content, artifact, tool_call_id, \u001b[38;5;28mself\u001b[39m.name, status)\n\u001b[32m    765\u001b[39m run_manager.on_tool_end(output, color=color, name=\u001b[38;5;28mself\u001b[39m.name, **kwargs)\n",
      "\u001b[36mFile \u001b[39m\u001b[32m~/Library/Caches/pypoetry/virtualenvs/edu-rag-h6vp0ZFq-py3.11/lib/python3.11/site-packages/langchain_core/tools/base.py:727\u001b[39m, in \u001b[36mBaseTool.run\u001b[39m\u001b[34m(self, tool_input, verbose, start_color, color, callbacks, tags, metadata, run_name, run_id, config, tool_call_id, **kwargs)\u001b[39m\n\u001b[32m    725\u001b[39m context = copy_context()\n\u001b[32m    726\u001b[39m context.run(_set_config_context, child_config)\n\u001b[32m--> \u001b[39m\u001b[32m727\u001b[39m tool_args, tool_kwargs = \u001b[38;5;28;43mself\u001b[39;49m\u001b[43m.\u001b[49m\u001b[43m_to_args_and_kwargs\u001b[49m\u001b[43m(\u001b[49m\u001b[43mtool_input\u001b[49m\u001b[43m,\u001b[49m\u001b[43m \u001b[49m\u001b[43mtool_call_id\u001b[49m\u001b[43m)\u001b[49m\n\u001b[32m    728\u001b[39m \u001b[38;5;28;01mif\u001b[39;00m signature(\u001b[38;5;28mself\u001b[39m._run).parameters.get(\u001b[33m\"\u001b[39m\u001b[33mrun_manager\u001b[39m\u001b[33m\"\u001b[39m):\n\u001b[32m    729\u001b[39m     tool_kwargs = tool_kwargs | {\u001b[33m\"\u001b[39m\u001b[33mrun_manager\u001b[39m\u001b[33m\"\u001b[39m: run_manager}\n",
      "\u001b[36mFile \u001b[39m\u001b[32m~/Library/Caches/pypoetry/virtualenvs/edu-rag-h6vp0ZFq-py3.11/lib/python3.11/site-packages/langchain_core/tools/base.py:649\u001b[39m, in \u001b[36mBaseTool._to_args_and_kwargs\u001b[39m\u001b[34m(self, tool_input, tool_call_id)\u001b[39m\n\u001b[32m    641\u001b[39m \u001b[38;5;28;01mif\u001b[39;00m (\n\u001b[32m    642\u001b[39m     \u001b[38;5;28mself\u001b[39m.args_schema \u001b[38;5;129;01mis\u001b[39;00m \u001b[38;5;129;01mnot\u001b[39;00m \u001b[38;5;28;01mNone\u001b[39;00m\n\u001b[32m    643\u001b[39m     \u001b[38;5;129;01mand\u001b[39;00m \u001b[38;5;28misinstance\u001b[39m(\u001b[38;5;28mself\u001b[39m.args_schema, \u001b[38;5;28mtype\u001b[39m)\n\u001b[32m   (...)\u001b[39m\u001b[32m    646\u001b[39m ):\n\u001b[32m    647\u001b[39m     \u001b[38;5;66;03m# StructuredTool with no args\u001b[39;00m\n\u001b[32m    648\u001b[39m     \u001b[38;5;28;01mreturn\u001b[39;00m (), {}\n\u001b[32m--> \u001b[39m\u001b[32m649\u001b[39m tool_input = \u001b[38;5;28;43mself\u001b[39;49m\u001b[43m.\u001b[49m\u001b[43m_parse_input\u001b[49m\u001b[43m(\u001b[49m\u001b[43mtool_input\u001b[49m\u001b[43m,\u001b[49m\u001b[43m \u001b[49m\u001b[43mtool_call_id\u001b[49m\u001b[43m)\u001b[49m\n\u001b[32m    650\u001b[39m \u001b[38;5;66;03m# For backwards compatibility, if run_input is a string,\u001b[39;00m\n\u001b[32m    651\u001b[39m \u001b[38;5;66;03m# pass as a positional argument.\u001b[39;00m\n\u001b[32m    652\u001b[39m \u001b[38;5;28;01mif\u001b[39;00m \u001b[38;5;28misinstance\u001b[39m(tool_input, \u001b[38;5;28mstr\u001b[39m):\n",
      "\u001b[36mFile \u001b[39m\u001b[32m~/Library/Caches/pypoetry/virtualenvs/edu-rag-h6vp0ZFq-py3.11/lib/python3.11/site-packages/langchain_core/tools/base.py:565\u001b[39m, in \u001b[36mBaseTool._parse_input\u001b[39m\u001b[34m(self, tool_input, tool_call_id)\u001b[39m\n\u001b[32m    563\u001b[39m                 \u001b[38;5;28;01mraise\u001b[39;00m \u001b[38;5;167;01mValueError\u001b[39;00m(msg)\n\u001b[32m    564\u001b[39m             tool_input[k] = tool_call_id\n\u001b[32m--> \u001b[39m\u001b[32m565\u001b[39m     result = \u001b[43minput_args\u001b[49m\u001b[43m.\u001b[49m\u001b[43mmodel_validate\u001b[49m\u001b[43m(\u001b[49m\u001b[43mtool_input\u001b[49m\u001b[43m)\u001b[49m\n\u001b[32m    566\u001b[39m     result_dict = result.model_dump()\n\u001b[32m    567\u001b[39m \u001b[38;5;28;01melif\u001b[39;00m \u001b[38;5;28missubclass\u001b[39m(input_args, BaseModelV1):\n",
      "\u001b[36mFile \u001b[39m\u001b[32m~/Library/Caches/pypoetry/virtualenvs/edu-rag-h6vp0ZFq-py3.11/lib/python3.11/site-packages/pydantic/main.py:627\u001b[39m, in \u001b[36mBaseModel.model_validate\u001b[39m\u001b[34m(cls, obj, strict, from_attributes, context)\u001b[39m\n\u001b[32m    625\u001b[39m \u001b[38;5;66;03m# `__tracebackhide__` tells pytest and some other tools to omit this function from tracebacks\u001b[39;00m\n\u001b[32m    626\u001b[39m __tracebackhide__ = \u001b[38;5;28;01mTrue\u001b[39;00m\n\u001b[32m--> \u001b[39m\u001b[32m627\u001b[39m \u001b[38;5;28;01mreturn\u001b[39;00m \u001b[38;5;28;43mcls\u001b[39;49m\u001b[43m.\u001b[49m\u001b[43m__pydantic_validator__\u001b[49m\u001b[43m.\u001b[49m\u001b[43mvalidate_python\u001b[49m\u001b[43m(\u001b[49m\n\u001b[32m    628\u001b[39m \u001b[43m    \u001b[49m\u001b[43mobj\u001b[49m\u001b[43m,\u001b[49m\u001b[43m \u001b[49m\u001b[43mstrict\u001b[49m\u001b[43m=\u001b[49m\u001b[43mstrict\u001b[49m\u001b[43m,\u001b[49m\u001b[43m \u001b[49m\u001b[43mfrom_attributes\u001b[49m\u001b[43m=\u001b[49m\u001b[43mfrom_attributes\u001b[49m\u001b[43m,\u001b[49m\u001b[43m \u001b[49m\u001b[43mcontext\u001b[49m\u001b[43m=\u001b[49m\u001b[43mcontext\u001b[49m\n\u001b[32m    629\u001b[39m \u001b[43m\u001b[49m\u001b[43m)\u001b[49m\n",
      "\u001b[31mValidationError\u001b[39m: 1 validation error for WriteFileInput\ntext\n  Field required [type=missing, input_value={'file_path': \"'尹체포...사.txt\", 'text:': None}, input_type=dict]\n    For further information visit https://errors.pydantic.dev/2.10/v/missing"
     ]
    }
   ],
   "source": [
    "result = agent_with_chat_history.stream(\n",
    "    {\n",
    "        \"input\": \"최신 뉴스 5개를 검색하고, 각 뉴스의 제목을 파일명으로 가지는 파일을 생성하고(.txt), \"\n",
    "        \"파일의 내용은 뉴스의 내용과 url을 추가하세요. \"\n",
    "    },\n",
    "    config={\"configurable\": {\"session_id\": \"abc123\"}},\n",
    ")\n",
    "\n",
    "print(\"Agent 실행 결과:\")\n",
    "for step in result:\n",
    "    agent_stream_parser.process_agent_steps(step)"
   ]
  },
  {
   "cell_type": "markdown",
   "metadata": {},
   "source": [
    "`tmp` 폴더 내부를 확인해보면 아래와 같이 파일이 생성된 것을 확인할 수 있습니다."
   ]
  },
  {
   "cell_type": "markdown",
   "metadata": {},
   "source": [
    "![](./assets/toolkits-01.png)"
   ]
  },
  {
   "cell_type": "code",
   "execution_count": 13,
   "metadata": {},
   "outputs": [
    {
     "name": "stdout",
     "output_type": "stream",
     "text": [
      "Agent 실행 결과:\n",
      "[도구 호출]\n",
      "Tool: move_file\n",
      "source_path: 월급_309만원_신규.txt\n",
      "destination_path: 💰월급_신규.txt\n",
      "Log: \n",
      "Invoking: `move_file` with `{'source_path': '월급_309만원_신규.txt', 'destination_path': '💰월급_신규.txt'}`\n",
      "\n",
      "\n",
      "\n",
      "[도구 호출]\n",
      "Tool: move_file\n",
      "source_path: 탄핵_지연_윤_지지자들_위협_격화.txt\n",
      "destination_path: ⚖️탄핵_지연_위협_격화.txt\n",
      "Log: \n",
      "Invoking: `move_file` with `{'source_path': '탄핵_지연_윤_지지자들_위협_격화.txt', 'destination_path': '⚖️탄핵_지연_위협_격화.txt'}`\n",
      "\n",
      "\n",
      "\n",
      "[도구 호출]\n",
      "Tool: move_file\n",
      "source_path: 김건희_상설특검_본회의_통과.txt\n",
      "destination_path: 📜김건희_상설특검_통과.txt\n",
      "Log: \n",
      "Invoking: `move_file` with `{'source_path': '김건희_상설특검_본회의_통과.txt', 'destination_path': '📜김건희_상설특검_통과.txt'}`\n",
      "\n",
      "\n",
      "\n",
      "[도구 호출]\n",
      "Tool: move_file\n",
      "source_path: 페널티_없애자_결혼하면_이득.txt\n",
      "destination_path: 💍페널티_없애자_결혼_이득.txt\n",
      "Log: \n",
      "Invoking: `move_file` with `{'source_path': '페널티_없애자_결혼하면_이득.txt', 'destination_path': '💍페널티_없애자_결혼_이득.txt'}`\n",
      "\n",
      "\n",
      "\n",
      "[도구 호출]\n",
      "Tool: move_file\n",
      "source_path: 헌재_한덕수_먼저_선고.txt\n",
      "destination_path: 🏛️헌재_한덕수_선고.txt\n",
      "Log: \n",
      "Invoking: `move_file` with `{'source_path': '헌재_한덕수_먼저_선고.txt', 'destination_path': '🏛️헌재_한덕수_선고.txt'}`\n",
      "\n",
      "\n",
      "\n",
      "[관찰 내용]\n",
      "Observation: File moved successfully from 월급_309만원_신규.txt to 💰월급_신규.txt.\n",
      "[관찰 내용]\n",
      "Observation: File moved successfully from 탄핵_지연_윤_지지자들_위협_격화.txt to ⚖️탄핵_지연_위협_격화.txt.\n",
      "[관찰 내용]\n",
      "Observation: File moved successfully from 김건희_상설특검_본회의_통과.txt to 📜김건희_상설특검_통과.txt.\n",
      "[관찰 내용]\n",
      "Observation: File moved successfully from 페널티_없애자_결혼하면_이득.txt to 💍페널티_없애자_결혼_이득.txt.\n",
      "[관찰 내용]\n",
      "Observation: File moved successfully from 헌재_한덕수_먼저_선고.txt to 🏛️헌재_한덕수_선고.txt.\n",
      "[최종 답변]\n",
      "파일명이 성공적으로 변경되었습니다. 각 뉴스 제목에 어울리는 이모지를 추가하여 파일명을 깔끔하게 조정했습니다. 다음은 변경된 파일 목록입니다:\n",
      "\n",
      "1. **💰월급_신규.txt**\n",
      "2. **⚖️탄핵_지연_위협_격화.txt**\n",
      "3. **📜김건희_상설특검_통과.txt**\n",
      "4. **💍페널티_없애자_결혼_이득.txt**\n",
      "5. **🏛️헌재_한덕수_선고.txt**\n",
      "\n",
      "더 필요하신 사항이 있으시면 알려주세요!\n"
     ]
    }
   ],
   "source": [
    "result = agent_with_chat_history.stream(\n",
    "    {\n",
    "        \"input\": \"이전에 생성한 파일 제목 맨 앞에 제목에 어울리는 emoji를 추가하여 파일명을 변경하세요. \"\n",
    "        \"파일명도 깔끔하게 변경하세요. \"\n",
    "    },\n",
    "    config={\"configurable\": {\"session_id\": \"abc123\"}},\n",
    ")\n",
    "\n",
    "print(\"Agent 실행 결과:\")\n",
    "for step in result:\n",
    "    agent_stream_parser.process_agent_steps(step)"
   ]
  },
  {
   "cell_type": "markdown",
   "metadata": {},
   "source": [
    "`tmp` 폴더 내부를 확인해보면 아래와 같이 파일명이 변경된 것을 확인할 수 있습니다."
   ]
  },
  {
   "cell_type": "markdown",
   "metadata": {},
   "source": [
    "![](./assets/toolkits-02.png)"
   ]
  },
  {
   "cell_type": "code",
   "execution_count": 14,
   "metadata": {},
   "outputs": [
    {
     "name": "stdout",
     "output_type": "stream",
     "text": [
      "Agent 실행 결과:\n",
      "[도구 호출]\n",
      "Tool: list_directory\n",
      "Log: \n",
      "Invoking: `list_directory` with `{}`\n",
      "\n",
      "\n",
      "\n",
      "[관찰 내용]\n",
      "Observation: ⚖️탄핵_지연_위협_격화.txt\n",
      "💍페널티_없애자_결혼_이득.txt\n",
      "📜김건희_상설특검_통과.txt\n",
      "🏛️헌재_한덕수_선고.txt\n",
      "💰월급_신규.txt\n",
      "[도구 호출]\n",
      "Tool: copy_file\n",
      "source_path: 💰월급_신규.txt\n",
      "destination_path: news/💰월급_신규.txt\n",
      "Log: \n",
      "Invoking: `copy_file` with `{'source_path': '💰월급_신규.txt', 'destination_path': 'news/💰월급_신규.txt'}`\n",
      "\n",
      "\n",
      "\n",
      "[관찰 내용]\n",
      "Observation: Error: [Errno 2] No such file or directory: '/Users/doong2s/work/edu/rag/12.Agent/tmp/news/💰월급_신규.txt'\n",
      "[도구 호출]\n",
      "Tool: file_delete\n",
      "file_path: news/💰월급_신규.txt\n",
      "Log: \n",
      "Invoking: `file_delete` with `{'file_path': 'news/💰월급_신규.txt'}`\n",
      "\n",
      "\n",
      "\n",
      "[관찰 내용]\n",
      "Observation: Error: no such file or directory: news/💰월급_신규.txt\n",
      "[도구 호출]\n",
      "Tool: file_delete\n",
      "file_path: news/⚖️탄핵_지연_위협_격화.txt\n",
      "Log: \n",
      "Invoking: `file_delete` with `{'file_path': 'news/⚖️탄핵_지연_위협_격화.txt'}`\n",
      "\n",
      "\n",
      "\n",
      "[관찰 내용]\n",
      "Observation: Error: no such file or directory: news/⚖️탄핵_지연_위협_격화.txt\n",
      "[도구 호출]\n",
      "Tool: list_directory\n",
      "dir_path: news\n",
      "Log: \n",
      "Invoking: `list_directory` with `{'dir_path': 'news'}`\n",
      "\n",
      "\n",
      "\n",
      "[도구 호출]\n",
      "Tool: file_search\n",
      "pattern: *\n",
      "Log: \n",
      "Invoking: `file_search` with `{'pattern': '*'}`\n",
      "\n",
      "\n",
      "\n",
      "[관찰 내용]\n",
      "Observation: Error: [Errno 2] No such file or directory: '/Users/doong2s/work/edu/rag/12.Agent/tmp/news'\n",
      "[관찰 내용]\n",
      "Observation: ⚖️탄핵_지연_위협_격화.txt\n",
      "💍페널티_없애자_결혼_이득.txt\n",
      "📜김건희_상설특검_통과.txt\n",
      "🏛️헌재_한덕수_선고.txt\n",
      "💰월급_신규.txt\n",
      "[도구 호출]\n",
      "Tool: write_file\n",
      "file_path: news/\n",
      "text: \n",
      "append: False\n",
      "Log: \n",
      "Invoking: `write_file` with `{'file_path': 'news/', 'text': '', 'append': False}`\n",
      "\n",
      "\n",
      "\n",
      "[도구 호출]\n",
      "Tool: copy_file\n",
      "source_path: 💰월급_신규.txt\n",
      "destination_path: news/💰월급_신규.txt\n",
      "Log: \n",
      "Invoking: `copy_file` with `{'source_path': '💰월급_신규.txt', 'destination_path': 'news/💰월급_신규.txt'}`\n",
      "\n",
      "\n",
      "\n",
      "[도구 호출]\n",
      "Tool: copy_file\n",
      "source_path: ⚖️탄핵_지연_위협_격화.txt\n",
      "destination_path: news/⚖️탄핵_지연_위협_격화.txt\n",
      "Log: \n",
      "Invoking: `copy_file` with `{'source_path': '⚖️탄핵_지연_위협_격화.txt', 'destination_path': 'news/⚖️탄핵_지연_위협_격화.txt'}`\n",
      "\n",
      "\n",
      "\n",
      "[도구 호출]\n",
      "Tool: copy_file\n",
      "source_path: 📜김건희_상설특검_통과.txt\n",
      "destination_path: news/📜김건희_상설특검_통과.txt\n",
      "Log: \n",
      "Invoking: `copy_file` with `{'source_path': '📜김건희_상설특검_통과.txt', 'destination_path': 'news/📜김건희_상설특검_통과.txt'}`\n",
      "\n",
      "\n",
      "\n",
      "[도구 호출]\n",
      "Tool: copy_file\n",
      "source_path: 💍페널티_없애자_결혼_이득.txt\n",
      "destination_path: news/💍페널티_없애자_결혼_이득.txt\n",
      "Log: \n",
      "Invoking: `copy_file` with `{'source_path': '💍페널티_없애자_결혼_이득.txt', 'destination_path': 'news/💍페널티_없애자_결혼_이득.txt'}`\n",
      "\n",
      "\n",
      "\n",
      "[도구 호출]\n",
      "Tool: copy_file\n",
      "source_path: 🏛️헌재_한덕수_선고.txt\n",
      "destination_path: news/🏛️헌재_한덕수_선고.txt\n",
      "Log: \n",
      "Invoking: `copy_file` with `{'source_path': '🏛️헌재_한덕수_선고.txt', 'destination_path': 'news/🏛️헌재_한덕수_선고.txt'}`\n",
      "\n",
      "\n",
      "\n",
      "[관찰 내용]\n",
      "Observation: File written successfully to news/.\n",
      "[관찰 내용]\n",
      "Observation: Error: [Errno 20] Not a directory: '/Users/doong2s/work/edu/rag/12.Agent/tmp/news/💰월급_신규.txt'\n",
      "[관찰 내용]\n",
      "Observation: Error: [Errno 20] Not a directory: '/Users/doong2s/work/edu/rag/12.Agent/tmp/news/⚖️탄핵_지연_위협_격화.txt'\n",
      "[관찰 내용]\n",
      "Observation: Error: [Errno 20] Not a directory: '/Users/doong2s/work/edu/rag/12.Agent/tmp/news/📜김건희_상설특검_통과.txt'\n",
      "[관찰 내용]\n",
      "Observation: Error: [Errno 20] Not a directory: '/Users/doong2s/work/edu/rag/12.Agent/tmp/news/💍페널티_없애자_결혼_이득.txt'\n",
      "[관찰 내용]\n",
      "Observation: Error: [Errno 20] Not a directory: '/Users/doong2s/work/edu/rag/12.Agent/tmp/news/🏛️헌재_한덕수_선고.txt'\n",
      "[도구 호출]\n",
      "Tool: write_file\n",
      "file_path: news.txt\n",
      "text: \n",
      "append: False\n",
      "Log: \n",
      "Invoking: `write_file` with `{'file_path': 'news.txt', 'text': '', 'append': False}`\n",
      "\n",
      "\n",
      "\n",
      "[관찰 내용]\n",
      "Observation: File written successfully to news.txt.\n",
      "[도구 호출]\n",
      "Tool: list_directory\n",
      "dir_path: .\n",
      "Log: \n",
      "Invoking: `list_directory` with `{'dir_path': '.'}`\n",
      "\n",
      "\n",
      "\n",
      "[도구 호출]\n",
      "Tool: list_directory\n",
      "dir_path: news\n",
      "Log: \n",
      "Invoking: `list_directory` with `{'dir_path': 'news'}`\n",
      "\n",
      "\n",
      "\n",
      "[관찰 내용]\n",
      "Observation: ⚖️탄핵_지연_위협_격화.txt\n",
      "💍페널티_없애자_결혼_이득.txt\n",
      "📜김건희_상설특검_통과.txt\n",
      "news.txt\n",
      "news\n",
      "🏛️헌재_한덕수_선고.txt\n",
      "💰월급_신규.txt\n",
      "[관찰 내용]\n",
      "Observation: Error: [Errno 20] Not a directory: '/Users/doong2s/work/edu/rag/12.Agent/tmp/news'\n",
      "[도구 호출]\n",
      "Tool: file_delete\n",
      "file_path: news.txt\n",
      "Log: \n",
      "Invoking: `file_delete` with `{'file_path': 'news.txt'}`\n",
      "\n",
      "\n",
      "\n",
      "[관찰 내용]\n",
      "Observation: File deleted successfully: news.txt.\n",
      "[도구 호출]\n",
      "Tool: file_delete\n",
      "file_path: news\n",
      "Log: \n",
      "Invoking: `file_delete` with `{'file_path': 'news'}`\n",
      "\n",
      "\n",
      "\n",
      "[관찰 내용]\n",
      "Observation: File deleted successfully: news.\n",
      "[도구 호출]\n",
      "Tool: list_directory\n",
      "Log: \n",
      "Invoking: `list_directory` with `{}`\n",
      "\n",
      "\n",
      "\n",
      "[관찰 내용]\n",
      "Observation: ⚖️탄핵_지연_위협_격화.txt\n",
      "💍페널티_없애자_결혼_이득.txt\n",
      "📜김건희_상설특검_통과.txt\n",
      "🏛️헌재_한덕수_선고.txt\n",
      "💰월급_신규.txt\n",
      "[도구 호출]\n",
      "Tool: write_file\n",
      "file_path: news.txt\n",
      "text: \n",
      "append: False\n",
      "Log: \n",
      "Invoking: `write_file` with `{'file_path': 'news.txt', 'text': '', 'append': False}`\n",
      "\n",
      "\n",
      "\n",
      "[관찰 내용]\n",
      "Observation: File written successfully to news.txt.\n",
      "[도구 호출]\n",
      "Tool: file_delete\n",
      "file_path: news.txt\n",
      "Log: \n",
      "Invoking: `file_delete` with `{'file_path': 'news.txt'}`\n",
      "\n",
      "\n",
      "\n",
      "[관찰 내용]\n",
      "Observation: File deleted successfully: news.txt.\n",
      "[도구 호출]\n",
      "Tool: list_directory\n",
      "Log: \n",
      "Invoking: `list_directory` with `{}`\n",
      "\n",
      "\n",
      "\n",
      "[관찰 내용]\n",
      "Observation: ⚖️탄핵_지연_위협_격화.txt\n",
      "💍페널티_없애자_결혼_이득.txt\n",
      "📜김건희_상설특검_통과.txt\n",
      "🏛️헌재_한덕수_선고.txt\n",
      "💰월급_신규.txt\n"
     ]
    },
    {
     "name": "stderr",
     "output_type": "stream",
     "text": [
      "Stopping agent prematurely due to triggering stop condition\n"
     ]
    },
    {
     "name": "stdout",
     "output_type": "stream",
     "text": [
      "[도구 호출]\n",
      "Tool: file_delete\n",
      "file_path: news/💰월급_신규.txt\n",
      "Log: \n",
      "Invoking: `file_delete` with `{'file_path': 'news/💰월급_신규.txt'}`\n",
      "\n",
      "\n",
      "\n",
      "[관찰 내용]\n",
      "Observation: Error: no such file or directory: news/💰월급_신규.txt\n",
      "[최종 답변]\n",
      "Agent stopped due to max iterations.\n"
     ]
    }
   ],
   "source": [
    "result = agent_with_chat_history.stream(\n",
    "    {\n",
    "        \"input\": \"이전에 생성한 모든 파일을 `news` 폴더를 생성한 뒤 해당 폴더에 모든 파일을 복사하세요. \"\n",
    "        \"내용도 동일하게 복사하세요. \"\n",
    "    },\n",
    "    config={\"configurable\": {\"session_id\": \"abc123\"}},\n",
    ")\n",
    "\n",
    "print(\"Agent 실행 결과:\")\n",
    "for step in result:\n",
    "    agent_stream_parser.process_agent_steps(step)"
   ]
  },
  {
   "cell_type": "markdown",
   "metadata": {},
   "source": [
    "`tmp` 폴더 내부를 확인해보면 아래와 같이 `news` 폴더가 생성되고 파일이 복사된 것을 확인할 수 있습니다."
   ]
  },
  {
   "cell_type": "markdown",
   "metadata": {},
   "source": [
    "![](./assets/toolkits-03.png)"
   ]
  },
  {
   "cell_type": "code",
   "execution_count": null,
   "metadata": {},
   "outputs": [],
   "source": [
    "result = agent_with_chat_history.stream(\n",
    "    {\"input\": \"news 폴더를 제외한 모든 .txt 파일을 삭제하세요.\"},\n",
    "    config={\"configurable\": {\"session_id\": \"abc123\"}},\n",
    ")\n",
    "\n",
    "print(\"Agent 실행 결과:\")\n",
    "for step in result:\n",
    "    agent_stream_parser.process_agent_steps(step)"
   ]
  },
  {
   "cell_type": "markdown",
   "metadata": {},
   "source": [
    "`tmp` 폴더 내부를 확인해보면 아래와 같이 `news` 폴더를 제외한 모든 파일이 삭제된 것을 확인할 수 있습니다."
   ]
  },
  {
   "cell_type": "markdown",
   "metadata": {},
   "source": [
    "![](./assets/toolkits-04.png)"
   ]
  }
 ],
 "metadata": {
  "kernelspec": {
   "display_name": "edu-rag-h6vp0ZFq-py3.11",
   "language": "python",
   "name": "python3"
  },
  "language_info": {
   "codemirror_mode": {
    "name": "ipython",
    "version": 3
   },
   "file_extension": ".py",
   "mimetype": "text/x-python",
   "name": "python",
   "nbconvert_exporter": "python",
   "pygments_lexer": "ipython3",
   "version": "3.11.9"
  }
 },
 "nbformat": 4,
 "nbformat_minor": 2
}
