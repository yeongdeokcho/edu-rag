{
 "cells": [
  {
   "cell_type": "markdown",
   "id": "d156bac4",
   "metadata": {},
   "source": [
    "# Microsoft PowerPoint\n",
    "\n",
    ">[Microsoft PowerPoint](https://en.wikipedia.org/wiki/Microsoft_PowerPoint)는 Microsoft에서 개발한 프레젠테이션 프로그램입니다.\n",
    "\n",
    "이는 `Microsoft PowerPoint` 문서를 다운스트림에서 사용할 수 있는 문서 형식으로 로드하는 방법을 다룹니다.\n",
    "\n",
    "자세한 Unstructured 설정 방법은 [공식 도큐먼트](https://docs.unstructured.io/open-source/core-functionality/overview)를 참조하십시오."
   ]
  },
  {
   "cell_type": "code",
   "execution_count": 2,
   "id": "e6ebfb54",
   "metadata": {},
   "outputs": [],
   "source": [
    "# 패키지 설치\n",
    "!pip install -qU unstructured python-pptx"
   ]
  },
  {
   "cell_type": "code",
   "execution_count": null,
   "id": "c0ab6d40",
   "metadata": {},
   "outputs": [
    {
     "name": "stdout",
     "output_type": "stream",
     "text": [
      "1\n"
     ]
    }
   ],
   "source": [
    "from langchain_community.document_loaders import UnstructuredPowerPointLoader\n",
    "\n",
    "# UnstructuredPowerPointLoader 생성\n",
    "loader = UnstructuredPowerPointLoader(\"./data/sample-ppt.pptx\")\n",
    "\n",
    "# 데이터 로드\n",
    "docs = loader.load()\n",
    "\n",
    "# 로드한 문서의 개수 출력\n",
    "print(len(docs))"
   ]
  },
  {
   "cell_type": "code",
   "execution_count": 5,
   "id": "fec82de0",
   "metadata": {},
   "outputs": [
    {
     "data": {
      "text/plain": [
       "Document(metadata={'source': './data/sample-ppt.pptx'}, page_content='랭체인 한국어 튜토리얼\\n\\n- 테디노트 -\\n\\n\\n\\nSemantic Search\\n\\n정의: 의미론적 검색은 사용자의 질의를 단순한 키워드 매칭을 넘어서 그 의미를 파악하여 관련된 결과를 반환하는 검색 방식입니다.\\n\\n예시: 사용자가 \"태양계 행성\"이라고 검색하면, \"목성\", \"화성\" 등과 같이 관련된 행성에 대한 정보를 반환합니다.\\n\\n연관키워드: 자연어 처리, 검색 알고리즘, 데이터 마이닝\\n\\n\\n\\nEmbedding\\n\\n정의: 임베딩은 단어나 문장 같은 텍스트 데이터를 저차원의 연속적인 벡터로 변환하는 과정입니다. 이를 통해 컴퓨터가 텍스트를 이해하고 처리할 수 있게 합니다.\\n\\n예시: \"사과\"라는 단어를 [0.65, -0.23, 0.17]과 같은 벡터로 표현합니다.\\n\\n연관키워드: 자연어 처리, 벡터화, 딥러닝 \\n\\n\\n\\nToken\\n\\n정의: 토큰은 텍스트를 더 작은 단위로 분할하는 것을 의미합니다. 이는 일반적으로 단어, 문장, 또는 구절일 수 있습니다.\\n\\n예시: 문장 \"나는 학교에 간다\"를 \"나는\", \"학교에\", \"간다\"로 분할합니다.\\n\\n연관키워드: 토큰화, 자연어 처리, 구문 분석')"
      ]
     },
     "execution_count": 5,
     "metadata": {},
     "output_type": "execute_result"
    }
   ],
   "source": [
    "docs[0]"
   ]
  },
  {
   "cell_type": "markdown",
   "id": "993bf605",
   "metadata": {},
   "source": [
    "`Unstructured`는 텍스트의 다양한 **chunks**에 대해 다양한 \"elements\"를 생성합니다. \n",
    "\n",
    "기본적으로 결합되어 하나의 document 로 반환하지만, `mode=\"elements\"`를 지정함으로써 쉽게 요소들을 분리할 수 있습니다."
   ]
  },
  {
   "cell_type": "code",
   "execution_count": null,
   "id": "37db9965",
   "metadata": {},
   "outputs": [],
   "source": [
    "# UnstructuredPowerPointLoader 생성\n",
    "loader = UnstructuredPowerPointLoader(\"./data/sample-ppt.pptx\", mode=\"elements\")\n",
    "\n",
    "# 데이터 로드\n",
    "docs = loader.load()\n",
    "\n",
    "print(len(docs))"
   ]
  },
  {
   "cell_type": "code",
   "execution_count": null,
   "id": "e88d528b",
   "metadata": {},
   "outputs": [],
   "source": [
    "print(docs[0].page_content)"
   ]
  },
  {
   "cell_type": "code",
   "execution_count": null,
   "id": "1a14ebf5",
   "metadata": {},
   "outputs": [],
   "source": [
    "docs[0].metadata"
   ]
  }
 ],
 "metadata": {
  "kernelspec": {
   "display_name": "edu-rag-h6vp0ZFq-py3.11",
   "language": "python",
   "name": "python3"
  },
  "language_info": {
   "codemirror_mode": {
    "name": "ipython",
    "version": 3
   },
   "file_extension": ".py",
   "mimetype": "text/x-python",
   "name": "python",
   "nbconvert_exporter": "python",
   "pygments_lexer": "ipython3",
   "version": "3.11.9"
  }
 },
 "nbformat": 4,
 "nbformat_minor": 5
}
