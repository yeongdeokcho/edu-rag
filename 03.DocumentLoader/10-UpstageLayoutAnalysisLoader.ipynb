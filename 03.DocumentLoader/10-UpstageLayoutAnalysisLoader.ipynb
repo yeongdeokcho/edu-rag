{
 "cells": [
  {
   "cell_type": "markdown",
   "id": "498d7e55",
   "metadata": {},
   "source": [
    "# UpstageLayoutAnalysisLoader\n",
    "\n",
    "`UpstageLayoutAnalysisLoader` 는 Upstage AI에서 제공하는 문서 분석 도구로, LangChain 프레임워크와 통합되어 사용할 수 있는 문서 로더입니다.\n",
    "\n",
    "**주요 특징:**\n",
    "- PDF, 이미지 등 다양한 형식의 문서에서 레이아웃 분석 수행\n",
    "- 문서의 구조적 요소(제목, 단락, 표, 이미지 등)를 자동으로 인식 및 추출\n",
    "- OCR 기능 지원 (선택적)\n",
    "\n",
    "UpstageLayoutAnalysisLoader는 단순한 텍스트 추출을 넘어 문서의 구조를 이해하고 요소 간 관계를 파악하여 보다 정확한 문서 분석을 가능하게 합니다.\n",
    "\n",
    "**설치**\n",
    "\n",
    "`langchain-upstage` 패키지를 설치 후 사용합니다.\n",
    "\n",
    "```bash\n",
    "pip install -U langchain-upstage\n",
    "```"
   ]
  },
  {
   "cell_type": "markdown",
   "id": "e9546f6f",
   "metadata": {},
   "source": [
    "**API Key 설정**\n",
    "\n",
    "- Upstage API KEY 발급 링크: https://console.upstage.ai/\n",
    "\n",
    "`.env` 파일에 `UPSTAGE_API_KEY` 키를 설정합니다.\n",
    "\n",
    "**참고** \n",
    "- [Document parsing](https://console.upstage.ai/docs/capabilities/document-digitization/document-parsing)\n",
    "- [Upstage 개발자 문서](https://developers.upstage.ai/docs/getting-started/quick-start)를 참조하세요."
   ]
  },
  {
   "cell_type": "markdown",
   "id": "79b7b67e",
   "metadata": {},
   "source": [
    "## 환경 설정"
   ]
  },
  {
   "cell_type": "code",
   "execution_count": 1,
   "id": "69ca6180",
   "metadata": {},
   "outputs": [
    {
     "data": {
      "text/plain": [
       "True"
      ]
     },
     "execution_count": 1,
     "metadata": {},
     "output_type": "execute_result"
    }
   ],
   "source": [
    "# API KEY를 환경변수로 관리하기 위한 설정 파일\n",
    "from dotenv import load_dotenv\n",
    "\n",
    "# API KEY 정보로드\n",
    "load_dotenv()"
   ]
  },
  {
   "cell_type": "code",
   "execution_count": 2,
   "id": "2599bedd",
   "metadata": {},
   "outputs": [
    {
     "name": "stdout",
     "output_type": "stream",
     "text": [
      "LangSmith 추적을 시작합니다.\n",
      "[프로젝트명]\n",
      "CH03-DocumentLoader\n"
     ]
    }
   ],
   "source": [
    "# LangSmith 추적을 설정합니다. https://smith.langchain.com\n",
    "# !pip install langchain-teddynote\n",
    "from langchain_teddynote import logging\n",
    "\n",
    "# 프로젝트 이름을 입력합니다.\n",
    "logging.langsmith(\"CH03-DocumentLoader\")"
   ]
  },
  {
   "cell_type": "markdown",
   "id": "3cbc8666",
   "metadata": {},
   "source": [
    "## UpstageLayoutAnalysisLoader"
   ]
  },
  {
   "cell_type": "markdown",
   "id": "39a7d5bd",
   "metadata": {},
   "source": [
    "**주요 파라미터**\n",
    "- `file_path`: 분석할 문서 경로\n",
    "- `output_type`: 출력 형식 [(기본값)'html', 'text']\n",
    "- `split`: 문서 분할 방식 ['none', 'element', 'page']\n",
    "- `use_ocr=True`: OCR 사용\n",
    "- `exclude=[\"header\", \"footer\"]`: 헤더, 푸터 제외"
   ]
  },
  {
   "cell_type": "code",
   "execution_count": 3,
   "id": "b3bd492e",
   "metadata": {},
   "outputs": [
    {
     "name": "stderr",
     "output_type": "stream",
     "text": [
      "/Users/doong2s/Library/Caches/pypoetry/virtualenvs/edu-rag-h6vp0ZFq-py3.11/lib/python3.11/site-packages/pypdf/_crypt_providers/_cryptography.py:32: CryptographyDeprecationWarning: ARC4 has been moved to cryptography.hazmat.decrepit.ciphers.algorithms.ARC4 and will be removed from cryptography.hazmat.primitives.ciphers.algorithms in 48.0.0.\n",
      "  from cryptography.hazmat.primitives.ciphers.algorithms import AES, ARC4\n",
      "/Users/doong2s/Library/Caches/pypoetry/virtualenvs/edu-rag-h6vp0ZFq-py3.11/lib/python3.11/site-packages/langchain_upstage/layout_analysis.py:135: UserWarning: UpstageLayoutAnalysisLoader is deprecated.Please use langchain_upstage.document_parse.UpstageDocumentParseLoader instead.\n",
      "  warnings.warn(\n",
      "/Users/doong2s/Library/Caches/pypoetry/virtualenvs/edu-rag-h6vp0ZFq-py3.11/lib/python3.11/site-packages/langchain_upstage/layout_analysis_parsers.py:160: UserWarning: UpstageLayoutAnalysisParser is deprecated.Please use langchain_upstage.document_parse_parsers.UpstageDocumentParseParser instead.\n",
      "  warnings.warn(\n"
     ]
    },
    {
     "name": "stdout",
     "output_type": "stream",
     "text": [
      "page_content='<h1 id='0' style='font-size:20px'>SPRi AI Brief</h1> <h1 id='1' style='font-size:18px'>인공지능 산업의 최신 동향</h1> <h1 id='2' style='font-size:16px'>2023년 12월호</h1> <figure id='3'><img alt=\"\" data-coord=\"top-left:(20,750); bottom-right:(1385,1472)\" /></figure>' metadata={'page': 1}\n",
      "page_content='<p id='5' data-category='paragraph' style='font-size:16px'>2023년 12월호</p> <h1 id='6' style='font-size:22px'>CONTENTS</h1> <h1 id='7' style='font-size:20px'>I. 인공지능 산업 동향 브리프</h1> <p id='8' data-category='paragraph' style='font-size:16px'>1. 정책/법제</p> <p id='9' data-category='list' style='font-size:14px'>▷ 미국, 안전하고 신뢰할 수 있는 AI 개발과 사용에 관한 행정명령 발표 1<br>▷ G7, 히로시마 AI 프로세스를 통해 AI 기업 대상 국제 행동강령에 합의 2<br>▷ 영국 AI 안전성 정상회의에 참가한 28개국, AI 위험에 공동 대응 선언 3<br>▷ 미국 법원, 예술가들이 생성 AI 기업에 제기한 저작권 소송 기각 4<br>▷ 미국 연방거래위원회, 저작권청에 소비자 보호와 경쟁 측면의 AI 의견서 제출 · 5<br>▷ EU AI 법 3자 협상, 기반모델 규제 관련 견해차로 난항 6</p> <p id='10' data-category='paragraph' style='font-size:16px'>2. 기업/산업</p> <br><p id='11' data-category='list' style='font-size:14px'>▷ 미국 프런티어 모델 포럼, 1,000만 달러 규모의 AI 안전 기금 조성 7<br>▷ 코히어, 데이터 투명성 확보를 위한 데이터 출처 탐색기 공개 8<br>▷ 알리바바 클라우드, 최신 LLM '통이치엔원 2.0' 공개 9<br>▷ 삼성전자, 자체 개발 생성 AI '삼성 가우스' 공개 10<br>▷ 구글, 앤스로픽에 20억 달러 투자로 생성 AI 협력 강화 11<br>▷ IDC, 2027년 AI 소프트웨어 매출 2,500억 달러 돌파 전망 12<br>▷ 빌 게이츠, AI 에이전트로 인한 컴퓨터 사용의 패러다임 변화 전망 13<br>▷ 유튜브, 2024년부터 AI 생성 콘텐츠 표시 의무화 14</p> <p id='12' data-category='paragraph' style='font-size:18px'>3. 기술/연구</p> <p id='13' data-category='list' style='font-size:14px'>▷ 영국 과학혁신기술부, AI 안전 연구소 설립 발표 15<br>▷ 구글 딥마인드, 범용 AI 모델의 기능과 동작에 대한 분류 체계 발표 16<br>▷ 갈릴레오의 LLM 환각 지수 평가에서 GPT-4가 가장 우수 ・・・・・・ 17</p> <p id='14' data-category='paragraph' style='font-size:16px'>4. 인력/교육</p> <br><p id='15' data-category='paragraph' style='font-size:16px'>▷ 영국 옥스퍼드 인터넷 연구소, AI 기술자의 임금이 평균 21% 높아 18</p> <p id='16' data-category='paragraph' style='font-size:20px'>II. 주요 행사</p> <p id='17' data-category='list' style='font-size:14px'>▷ CES 2024 · 19<br>▷ AIMLA 2024 19<br>▷ AAAI Conference on Artificial Intelligence 19</p>' metadata={'page': 2}\n",
      "page_content='<h1 id='18' style='font-size:14px'>I . 인공지능 산업 동향 브리프</h1>' metadata={'page': 3}\n"
     ]
    }
   ],
   "source": [
    "from langchain_upstage import UpstageLayoutAnalysisLoader\n",
    "\n",
    "# 파일 경로\n",
    "file_path = \"./data/SPRI_AI_Brief_2023년12월호_F.pdf\"\n",
    "\n",
    "# 문서 로더 설정\n",
    "loader = UpstageLayoutAnalysisLoader(\n",
    "    file_path,\n",
    "    output_type=\"html\",\n",
    "    split=\"page\",\n",
    "    use_ocr=True,\n",
    "    exclude=[\"header\", \"footer\"],\n",
    ")\n",
    "\n",
    "# 문서 로드\n",
    "docs = loader.load()\n",
    "\n",
    "# 결과 출력\n",
    "for doc in docs[:3]:\n",
    "    print(doc)"
   ]
  },
  {
   "cell_type": "code",
   "execution_count": 4,
   "id": "3d71cdeb",
   "metadata": {},
   "outputs": [
    {
     "name": "stdout",
     "output_type": "stream",
     "text": [
      "page_content='<h1 id='0' style='font-size:20px'>SPRi AI Brief</h1>' metadata={'page': 1, 'id': 0, 'bounding_box': '[{\"x\": 174, \"y\": 303}, {\"x\": 1110, \"y\": 303}, {\"x\": 1110, \"y\": 427}, {\"x\": 174, \"y\": 427}]', 'category': 'heading1'}\n",
      "page_content='<h1 id='1' style='font-size:18px'>인공지능 산업의 최신 동향</h1>' metadata={'page': 1, 'id': 1, 'bounding_box': '[{\"x\": 412, \"y\": 498}, {\"x\": 862, \"y\": 498}, {\"x\": 862, \"y\": 552}, {\"x\": 412, \"y\": 552}]', 'category': 'heading1'}\n",
      "page_content='<h1 id='2' style='font-size:16px'>2023년 12월호</h1>' metadata={'page': 1, 'id': 2, 'bounding_box': '[{\"x\": 526, \"y\": 586}, {\"x\": 746, \"y\": 586}, {\"x\": 746, \"y\": 632}, {\"x\": 526, \"y\": 632}]', 'category': 'heading1'}\n"
     ]
    }
   ],
   "source": [
    "\n",
    "# 문서 로더 설정\n",
    "loader = UpstageLayoutAnalysisLoader(\n",
    "    file_path,\n",
    "    output_type=\"html\",\n",
    "    split=\"element\",\n",
    "    use_ocr=True,\n",
    "    exclude=[\"header\", \"footer\"],\n",
    ")\n",
    "\n",
    "# 문서 로드\n",
    "docs = loader.load()\n",
    "\n",
    "# 결과 출력\n",
    "for doc in docs[:3]:\n",
    "    print(doc)"
   ]
  },
  {
   "cell_type": "code",
   "execution_count": 5,
   "id": "4f883a1c",
   "metadata": {},
   "outputs": [
    {
     "data": {
      "text/plain": [
       "Document(metadata={'page': 2, 'id': 12, 'bounding_box': '[{\"x\": 334, \"y\": 1141}, {\"x\": 462, \"y\": 1141}, {\"x\": 462, \"y\": 1170}, {\"x\": 334, \"y\": 1170}]', 'category': 'paragraph'}, page_content=\"<p id='12' data-category='paragraph' style='font-size:18px'>3. 기술/연구</p>\")"
      ]
     },
     "execution_count": 5,
     "metadata": {},
     "output_type": "execute_result"
    }
   ],
   "source": [
    "docs[11]"
   ]
  }
 ],
 "metadata": {
  "kernelspec": {
   "display_name": "edu-rag-h6vp0ZFq-py3.11",
   "language": "python",
   "name": "python3"
  },
  "language_info": {
   "codemirror_mode": {
    "name": "ipython",
    "version": 3
   },
   "file_extension": ".py",
   "mimetype": "text/x-python",
   "name": "python",
   "nbconvert_exporter": "python",
   "pygments_lexer": "ipython3",
   "version": "3.11.9"
  }
 },
 "nbformat": 4,
 "nbformat_minor": 5
}
