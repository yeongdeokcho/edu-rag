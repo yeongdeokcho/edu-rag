{
 "cells": [
  {
   "cell_type": "markdown",
   "id": "9bdc99ef",
   "metadata": {},
   "source": [
    "# WebBaseLoader"
   ]
  },
  {
   "cell_type": "markdown",
   "id": "86a66f0f",
   "metadata": {},
   "source": [
    "`WebBaseLoader` 는 웹 기반 문서를 로드하는 로더입니다. \n",
    "\n",
    "`bs4` 라이브러리를 사용하여 웹 페이지를 파싱합니다. \n",
    "\n",
    "- `bs4.SoupStrainer` 를 사용하여 파싱할 요소를 지정합니다. \n",
    "- `bs_kwargs` 매개변수를 사용하여 `bs4.SoupStrainer` 의 추가적인 인수를 지정합니다. \n",
    "\n",
    "**참고**\n",
    "\n",
    "- [API 도큐먼트](https://api.python.langchain.com/en/latest/document_loaders/langchain_community.document_loaders.web_base.WebBaseLoader.html)"
   ]
  },
  {
   "cell_type": "code",
   "execution_count": 1,
   "id": "6c035b53",
   "metadata": {},
   "outputs": [
    {
     "name": "stderr",
     "output_type": "stream",
     "text": [
      "USER_AGENT environment variable not set, consider setting it to identify your requests.\n"
     ]
    },
    {
     "name": "stdout",
     "output_type": "stream",
     "text": [
      "문서의 수: 1\n"
     ]
    },
    {
     "data": {
      "text/plain": [
       "[Document(metadata={'source': 'https://n.news.naver.com/article/437/0000378416'}, page_content=\"\\n출산 직원에게 '1억원' 쏜다…회사의 파격적 저출생 정책\\n\\n\\n[앵커]올해 아이 낳을 계획이 있는 가족이라면 솔깃할 소식입니다. 정부가 저출생 대책으로 매달 주는 부모 급여, 0세 아이는 100만원으로 올렸습니다. 여기에 첫만남이용권, 아동수당까지 더하면 아이 돌까지 1년 동안 1520만원을 받습니다. 지자체도 경쟁하듯 지원에 나섰습니다. 인천시는 새로 태어난 아기, 18살될 때까지 1억원을 주겠다. 광주시도 17살될 때까지 7400만원 주겠다고 했습니다. 선거 때면 나타나서 아이 낳으면 현금 주겠다고 밝힌 사람이 있었죠. 과거에는 표만 노린 '황당 공약'이라는 비판이 따라다녔습니다. 그런데 지금은 출산율이 이보다 더 나쁠 수 없다보니, 이런 현금성 지원을 진지하게 정책화 하는 상황까지 온 겁니다. 게다가 기업들도 뛰어들고 있습니다. 이번에는 출산한 직원에게 단번에 1억원을 주겠다는 회사까지 나타났습니다.이상화 기자가 취재했습니다.[기자]한 그룹사가 오늘 파격적인 저출생 정책을 내놨습니다.2021년 이후 태어난 직원 자녀에 1억원씩, 총 70억원을 지원하고 앞으로도 이 정책을 이어가기로 했습니다.해당 기간에 연년생과 쌍둥이 자녀가 있으면 총 2억원을 받게 됩니다.[오현석/부영그룹 직원 : 아이 키우는 데 금전적으로 많이 힘든 세상이잖아요. 교육이나 생활하는 데 큰 도움이 될 거라 생각합니다.]만약 셋째까지 낳는 경우엔 국민주택을 제공하겠다는 뜻도 밝혔습니다.[이중근/부영그룹 회장 : 3년 이내에 세 아이를 갖는 분이 나올 것이고 따라서 주택을 제공할 수 있는 계기가 될 것으로 생각하고.][조용현/부영그룹 직원 : 와이프가 셋째도 갖고 싶어 했는데 경제적 부담 때문에 부정적이었거든요. (이제) 긍정적으로 생각할 수 있을 것 같습니다.]오늘 행사에서는, 회사가 제공하는 출산장려금은 받는 직원들의 세금 부담을 고려해 정부가 면세해달라는 제안도 나왔습니다.이같은 출산장려책은 점점 확산하는 분위기입니다.법정기간보다 육아휴직을 길게 주거나, 남성 직원의 육아휴직을 의무화한 곳도 있습니다.사내 어린이집을 밤 10시까지 운영하고 셋째를 낳으면 무조건 승진시켜 주기도 합니다.한 회사는 지난해 네쌍둥이를 낳은 직원에 의료비를 지원해 관심을 모았습니다.정부 대신 회사가 나서는 출산장려책이 사회적 분위기를 바꿀 거라는 기대가 커지는 가운데, 여력이 부족한 중소지원이 필요하다는 목소리도 나옵니다.[영상디자인 곽세미]\\n\\t\\t\\n\")]"
      ]
     },
     "execution_count": 1,
     "metadata": {},
     "output_type": "execute_result"
    }
   ],
   "source": [
    "import bs4\n",
    "from langchain_community.document_loaders import WebBaseLoader\n",
    "\n",
    "# 뉴스기사 내용을 로드합니다.\n",
    "loader = WebBaseLoader(\n",
    "    web_paths=(\"https://n.news.naver.com/article/437/0000378416\",),\n",
    "    bs_kwargs=dict(\n",
    "        parse_only=bs4.SoupStrainer(\n",
    "            \"div\",\n",
    "            attrs={\"class\": [\"newsct_article _article_body\", \"media_end_head_title\"]},\n",
    "        )\n",
    "    ),\n",
    "    header_template={\n",
    "        \"User_Agent\": \"Mozilla/5.0 (Windows NT 10.0; Win64; x64) AppleWebKit/537.36 (KHTML, like Gecko) Chrome/102.0.0.0 Safari/537.36\",\n",
    "    },\n",
    ")\n",
    "\n",
    "docs = loader.load()\n",
    "print(f\"문서의 수: {len(docs)}\")\n",
    "docs"
   ]
  },
  {
   "cell_type": "markdown",
   "id": "509f6456",
   "metadata": {},
   "source": [
    "SSL 인증 오류를 우회하기 위해, `\"verify\"` 옵션을 설정할 수 있습니다."
   ]
  },
  {
   "cell_type": "code",
   "execution_count": 2,
   "id": "86fe1cc5",
   "metadata": {},
   "outputs": [],
   "source": [
    "# ssl 인증 우회\n",
    "loader.requests_kwargs = {\"verify\": True}\n",
    "\n",
    "# 데이터 로드\n",
    "docs = loader.load()"
   ]
  },
  {
   "cell_type": "markdown",
   "id": "df1569c8",
   "metadata": {},
   "source": [
    "여러 웹페이지를 한 번에 로드할 수도 있습니다. 이를 위해 **urls**의 리스트를 로더에 전달하면, 전달된 **urls**의 순서대로 문서 리스트를 반환합니다."
   ]
  },
  {
   "cell_type": "code",
   "execution_count": 3,
   "id": "61817858",
   "metadata": {},
   "outputs": [
    {
     "name": "stdout",
     "output_type": "stream",
     "text": [
      "2\n"
     ]
    }
   ],
   "source": [
    "loader = WebBaseLoader(\n",
    "    web_paths=[\n",
    "        \"https://n.news.naver.com/article/437/0000378416\",\n",
    "        \"https://n.news.naver.com/mnews/hotissue/article/092/0002340014?type=series&cid=2000063\",\n",
    "    ],\n",
    "    bs_kwargs=dict(\n",
    "        parse_only=bs4.SoupStrainer(\n",
    "            \"div\",\n",
    "            attrs={\"class\": [\"newsct_article _article_body\", \"media_end_head_title\"]},\n",
    "        )\n",
    "    ),\n",
    "    header_template={\n",
    "        \"User-Agent\": \"Mozilla/5.0 (Windows NT 10.0; Win64; x64) AppleWebKit/537.36 (KHTML, like Gecko) Chrome/102.0.0.0 Safari/537.36\",\n",
    "    },\n",
    ")\n",
    "\n",
    "# 데이터 로드\n",
    "docs = loader.load()\n",
    "\n",
    "# 문서 수 확인\n",
    "print(len(docs))"
   ]
  },
  {
   "cell_type": "markdown",
   "id": "123d8302",
   "metadata": {},
   "source": [
    "웹에서 가져온 결과를 출력합니다."
   ]
  },
  {
   "cell_type": "code",
   "execution_count": 4,
   "id": "b3c00dc9",
   "metadata": {},
   "outputs": [
    {
     "name": "stdout",
     "output_type": "stream",
     "text": [
      "\n",
      "출산 직원에게 '1억원' 쏜다…회사의 파격적 저출생 정책\n",
      "\n",
      "\n",
      "[앵커]올해 아이 낳을 계획이 있는 가족이라면 솔깃할 소식입니다. 정부가 저출생 대책으로 매달 주는 부모 급여, 0세 아이는 100만원으로 올렸습니다. 여기에 첫만남이용권, 아동수당까지 더하면 아이 돌까지 1년 동안 1520만원을 받습니다. 지자체도 경쟁하듯 지원에 나섰습니다. 인천시는 새로 태어난 아기, 18살될 때까지 1억원을 주겠다. 광주시도 17살될 때까지 7400만원 주겠다고 했습니다. 선거 때면 나타나서 아이 낳으면 현금 주겠다고 밝힌 사람이 있었죠. 과거에는 표만 노린 '황당 공약'이라는 비판이 따라다녔습니다. 그런데 지금은 출산율이 이보다 더 나쁠 수 없다보니, 이런 현금성 지원을 진지하게 정책화 하는 상황까지 온 겁니다. 게다가 기업들도 뛰어들고 있습니다. 이번에는 출산한 직원에게 단번에 1억원을 주겠다는 회사까지 나타났습니다.이상화 기자가 취재했습니다.[기자]한 그룹사가 오늘 파격적인 저출생 정책을 내놨\n",
      "==============================\n",
      "\n",
      "고속 성장하는 스타트업엔 레드팀이 필요하다\n",
      "\n",
      "\n",
      "[이균성의 溫技] 초심, 본질을 잃을 때한 스타트업 창업자와 최근 점심을 같이 했다. 조언을 구할 게 있다고 했다. 당장 급한 현안이 있는 건 아니었다. 여러 번 창업한 경험이 있는데 지금 하고 있는 아이템은 대박 느낌이 든다고 헸다. 그런데 오히려 더 조심해야겠다는 생각이 들더란다. 조언을 구하고자 하는 바도 성장이 예상될 때 무엇을 경계해야 할지 알고 싶다는 거였다. 적잖은 스타트업 창업자를 만났지만 드문 사례였다.2년 가까이 스타트업 창업자를 릴레이 인터뷰 하면서 의미 있게 생각했던 것이 두 가지 있다. 첫째, 회사라는 단어보다 팀이라는 어휘를 주로 쓰고 있다는 점이었다. 그 표현의 유래나 의미 때문이라기보다는 팀이라는 말이 더 정겨워 뜻 깊게 생각된 듯하다. 이해관계보다 지향하는 뜻에 더 중점을 두고 하나의 마음으로 한 곳을 향해 달려가는 집단을 가리키는 표현이라는 생각에 더 정겨웠다.스타트업 대표들의 창업 동기는 대부분 ‘사회\n"
     ]
    }
   ],
   "source": [
    "print(docs[0].page_content[:500])\n",
    "print(\"===\" * 10)\n",
    "print(docs[1].page_content[:500])"
   ]
  },
  {
   "cell_type": "markdown",
   "id": "20c355fc",
   "metadata": {},
   "source": [
    "여러 URL을 동시에 스크래핑하면 스크래핑 과정을 가속화할 수 있습니다.\n",
    "\n",
    "동시 요청에는 합리적인 제한이 있으며, 기본값은 초당 2회입니다. 서버 부하에 대해 걱정하지 않거나, 스크래핑하는 서버를 제어하는 경우라면 `requests_per_second` 매개변수를 변경하여 최대 동시 요청 수를 늘릴 수 있습니다. 이 방법은 스크래핑 속도를 높일 수 있지만, 서버로부터 차단될 수 있으므로 주의해야 합니다."
   ]
  },
  {
   "cell_type": "code",
   "execution_count": 5,
   "id": "7b2e0824",
   "metadata": {},
   "outputs": [],
   "source": [
    "# jupyter notebook 에서만 실행(asyncio)\n",
    "import nest_asyncio\n",
    "\n",
    "nest_asyncio.apply()"
   ]
  },
  {
   "cell_type": "code",
   "execution_count": 6,
   "id": "61980942",
   "metadata": {},
   "outputs": [
    {
     "name": "stderr",
     "output_type": "stream",
     "text": [
      "/var/folders/j2/bwnqsb857td7fd4h1w481z5m0000gn/T/ipykernel_31829/2225555786.py:5: LangChainDeprecationWarning: See API reference for updated usage: https://python.langchain.com/api_reference/community/document_loaders/langchain_community.document_loaders.web_base.WebBaseLoader.html\n",
      "  docs = loader.aload()\n",
      "Fetching pages: 100%|##########| 2/2 [00:00<00:00,  7.86it/s]\n"
     ]
    }
   ],
   "source": [
    "# 초당 요청 수 설정\n",
    "loader.requests_per_second = 1\n",
    "\n",
    "# 비동기 로드\n",
    "docs = loader.aload()"
   ]
  },
  {
   "cell_type": "code",
   "execution_count": 7,
   "id": "a2b40dcf",
   "metadata": {},
   "outputs": [
    {
     "data": {
      "text/plain": [
       "[Document(metadata={'source': 'https://n.news.naver.com/article/437/0000378416'}, page_content=\"\\n출산 직원에게 '1억원' 쏜다…회사의 파격적 저출생 정책\\n\\n\\n[앵커]올해 아이 낳을 계획이 있는 가족이라면 솔깃할 소식입니다. 정부가 저출생 대책으로 매달 주는 부모 급여, 0세 아이는 100만원으로 올렸습니다. 여기에 첫만남이용권, 아동수당까지 더하면 아이 돌까지 1년 동안 1520만원을 받습니다. 지자체도 경쟁하듯 지원에 나섰습니다. 인천시는 새로 태어난 아기, 18살될 때까지 1억원을 주겠다. 광주시도 17살될 때까지 7400만원 주겠다고 했습니다. 선거 때면 나타나서 아이 낳으면 현금 주겠다고 밝힌 사람이 있었죠. 과거에는 표만 노린 '황당 공약'이라는 비판이 따라다녔습니다. 그런데 지금은 출산율이 이보다 더 나쁠 수 없다보니, 이런 현금성 지원을 진지하게 정책화 하는 상황까지 온 겁니다. 게다가 기업들도 뛰어들고 있습니다. 이번에는 출산한 직원에게 단번에 1억원을 주겠다는 회사까지 나타났습니다.이상화 기자가 취재했습니다.[기자]한 그룹사가 오늘 파격적인 저출생 정책을 내놨습니다.2021년 이후 태어난 직원 자녀에 1억원씩, 총 70억원을 지원하고 앞으로도 이 정책을 이어가기로 했습니다.해당 기간에 연년생과 쌍둥이 자녀가 있으면 총 2억원을 받게 됩니다.[오현석/부영그룹 직원 : 아이 키우는 데 금전적으로 많이 힘든 세상이잖아요. 교육이나 생활하는 데 큰 도움이 될 거라 생각합니다.]만약 셋째까지 낳는 경우엔 국민주택을 제공하겠다는 뜻도 밝혔습니다.[이중근/부영그룹 회장 : 3년 이내에 세 아이를 갖는 분이 나올 것이고 따라서 주택을 제공할 수 있는 계기가 될 것으로 생각하고.][조용현/부영그룹 직원 : 와이프가 셋째도 갖고 싶어 했는데 경제적 부담 때문에 부정적이었거든요. (이제) 긍정적으로 생각할 수 있을 것 같습니다.]오늘 행사에서는, 회사가 제공하는 출산장려금은 받는 직원들의 세금 부담을 고려해 정부가 면세해달라는 제안도 나왔습니다.이같은 출산장려책은 점점 확산하는 분위기입니다.법정기간보다 육아휴직을 길게 주거나, 남성 직원의 육아휴직을 의무화한 곳도 있습니다.사내 어린이집을 밤 10시까지 운영하고 셋째를 낳으면 무조건 승진시켜 주기도 합니다.한 회사는 지난해 네쌍둥이를 낳은 직원에 의료비를 지원해 관심을 모았습니다.정부 대신 회사가 나서는 출산장려책이 사회적 분위기를 바꿀 거라는 기대가 커지는 가운데, 여력이 부족한 중소지원이 필요하다는 목소리도 나옵니다.[영상디자인 곽세미]\\n\\t\\t\\n\"),\n",
       " Document(metadata={'source': 'https://n.news.naver.com/mnews/hotissue/article/092/0002340014?type=series&cid=2000063'}, page_content='\\n고속 성장하는 스타트업엔 레드팀이 필요하다\\n\\n\\n[이균성의 溫技] 초심, 본질을 잃을 때한 스타트업 창업자와 최근 점심을 같이 했다. 조언을 구할 게 있다고 했다. 당장 급한 현안이 있는 건 아니었다. 여러 번 창업한 경험이 있는데 지금 하고 있는 아이템은 대박 느낌이 든다고 헸다. 그런데 오히려 더 조심해야겠다는 생각이 들더란다. 조언을 구하고자 하는 바도 성장이 예상될 때 무엇을 경계해야 할지 알고 싶다는 거였다. 적잖은 스타트업 창업자를 만났지만 드문 사례였다.2년 가까이 스타트업 창업자를 릴레이 인터뷰 하면서 의미 있게 생각했던 것이 두 가지 있다. 첫째, 회사라는 단어보다 팀이라는 어휘를 주로 쓰고 있다는 점이었다. 그 표현의 유래나 의미 때문이라기보다는 팀이라는 말이 더 정겨워 뜻 깊게 생각된 듯하다. 이해관계보다 지향하는 뜻에 더 중점을 두고 하나의 마음으로 한 곳을 향해 달려가는 집단을 가리키는 표현이라는 생각에 더 정겨웠다.스타트업 대표들의 창업 동기는 대부분 ‘사회 문제를 기업 방식으로 푼다’는 거다. 인간 사회에는 풀어야 할 여러 문제가 있고 해결방법은 다양하다. 그런데 어떤 것은 기업의 방식으로 푸는 것이 가장 효율적일 수 있다. 이윤의 동기와 결합될 때 문제가 더 잘 풀릴 수 있는 사안도 많은 것이다. 그래서 ‘사회 문제를 기업 방식으로 푼다’는 창업 동기 또한 팀이라는 말 못잖게 마음에 들었다.\\n\\n\\n\\n스타트업 창업자 (출처=픽사베이)두 가지는 그러나 어떤 측면에서 보면 ‘정리된 지향’일 뿐 ‘내재적 실체’는 아닐 수도 있다. 지향은 관념과 구호만으로도 충분하지만, 실체는 쉬지 않고 끝없이 가꾸는 행동으로만 조금씩 구현되는 것일 텐데, 어떤 기업의 경우 전자만 요란하고 후자는 느슨해 보인다. 기업의 규모가 조금씩 커져갈수록 전자와 후자의 간극이 벌어지는 경향도 느껴진다. 이 경향이 기업 리스크의 본질로 생각된다.창업은 ‘사회 문제를 기업 방식으로 푼다’는 관념으로부터 출발한다. 어떤 문제의식을 느끼고 해결방안이 떠올랐을 때 팀을 꾸려 행동에 나서는 것이 창업이다. 그 행동이야 말로 ‘도전’이다. 그 행동을 통해 소비자가 느끼는 문제를 풀어낼 때 창업은 빛이 나고 기업의 존재 이유가 생기는 것이다. 안타까운 것은 첫 문제를 풀기도 어렵지만 문제를 풀고 나서는 더 큰 문제에 직면한다는 점이다.‘도전’은 그래서 대부분 ‘예고된 좌절’이기도 하다. 짧은 시간 안에 많은 창업가가 좌절하고 시간이 길어지면 좌절하지 않은 이가 드물다. 문제는 기하급수적으로 늘고 창업자 역량은 산술급수적으로 발전하기 때문이다. 문제는 달리는 호랑이와 같고 창업자는 그 위에 위태롭게 올라 탄 존재와 같다. 시간이 가면 갈수록 문제는 그의 통제 영역을 벗어난다. 그가 할 수 있는 일은 점점 줄어든다.스타트업으로 시작해 크게 성장한 여러 기업에서 최근 잡음이 끊이지 않는다. 창업자가 구속되거나, 파산 위기에 빠지거나, 협력사와 소비자의 거센 반발에 직면해 있다. 위기에 빠진 기업들에 대한 분석도 쏟아진다. 대부분 그 원인은 ‘무리(無理)’에서 찾아진다. 문어발식 확장, 인수합병을 위한 무리한 투자, 매출 부풀리기, 당장의 지표를 위해 미래의 이익을 당겨오는 방식 등이 그런 분석이다.무리는 사실 특별한 게 아니다. ‘정리된 지향’과 ‘내재적 실체’가 크게 벌어진 상태를 가리킨다. 지향과 실체가 벌어지면 팀이라는 초기 기업문화가 흔들리고, 소비자를 위한 사회문제 해결이라는 창업 동기도 사라져버린다. 오로지 앞뒤 가리지 않는 성장만이 유일한 가치가 된다. 맹목적 성장 추구야 말로 언젠가 반드시 떨어지고야 말 호랑이 등인데, 사달이 나기 전에는 그 사실을 알지 못 한다.기업은 달리는 자전거에 비유되곤 한다. 달리는 건 성장을 뜻하다. 성장하지 않으면 넘어진다는 의미다. 지속 성장은 그래서 꼭 필요하지만 그만큼 힘든 일이다. 하지만 성장 자체가 유일한 가치로 돌변하게 될 경우 기업은 사회 문제를 푸는 혁신 집단이 아니라 도리어 스스로 문제 덩어리로 전락해 사회에 부담이 될 수 있다. 찬사가 비난으로 바뀌는 건 순식간이다. 나락에 빠지는 것도 그렇다.문제를 풀기보다 키워 나락에 빠진 기업은 지향하는 모토와 실제 경영 사이의 간극이 되돌릴 수 없을 만큼 커져 있게 마련이다. 간극이 커가는 데도 승수 효과가 적용되는 것 같다. 처음엔 작았던 게 시간이 갈수록 감당할 수 없을 만큼 커진다. 그래서 고속 성장하는 스타트업에는 그 간극을 체크할 레드팀이 꼭 필요하다. 간극을 체크하지 않으면 본질을 잃게 되고 본질을 잃으면 지속성장도 없다.\\n\\n')]"
      ]
     },
     "execution_count": 7,
     "metadata": {},
     "output_type": "execute_result"
    }
   ],
   "source": [
    "# 결과 출력\n",
    "docs"
   ]
  },
  {
   "cell_type": "markdown",
   "id": "66c2831a",
   "metadata": {},
   "source": [
    "## 프록시 사용\n",
    "\n",
    "IP 차단을 우회하기 위해 때때로 프록시를 사용할 필요가 있을 수 있습니다. \n",
    "\n",
    "프록시를 사용하려면 로더(및 그 아래의 `requests`)에 프록시 딕셔너리를 전달할 수 있습니다."
   ]
  },
  {
   "cell_type": "code",
   "execution_count": null,
   "id": "efa9df6d",
   "metadata": {},
   "outputs": [],
   "source": [
    "loader = WebBaseLoader(\n",
    "    \"https://www.google.com/search?q=parrots\",\n",
    "    proxies={\n",
    "        \"http\": \"http://{username}:{password}:@proxy.service.com:6666/\",\n",
    "        \"https\": \"https://{username}:{password}:@proxy.service.com:6666/\",\n",
    "    },\n",
    "    # 웹 기반 로더 초기화\n",
    "    # 프록시 설정\n",
    ")\n",
    "\n",
    "# 문서 로드\n",
    "docs = loader.load()"
   ]
  },
  {
   "cell_type": "code",
   "execution_count": null,
   "id": "e2b06487",
   "metadata": {},
   "outputs": [],
   "source": []
  }
 ],
 "metadata": {
  "kernelspec": {
   "display_name": "edu-rag-h6vp0ZFq-py3.11",
   "language": "python",
   "name": "python3"
  },
  "language_info": {
   "codemirror_mode": {
    "name": "ipython",
    "version": 3
   },
   "file_extension": ".py",
   "mimetype": "text/x-python",
   "name": "python",
   "nbconvert_exporter": "python",
   "pygments_lexer": "ipython3",
   "version": "3.11.9"
  }
 },
 "nbformat": 4,
 "nbformat_minor": 5
}
